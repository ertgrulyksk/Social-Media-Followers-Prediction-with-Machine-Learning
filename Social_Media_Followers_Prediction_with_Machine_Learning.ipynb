{
  "nbformat": 4,
  "nbformat_minor": 0,
  "metadata": {
    "colab": {
      "provenance": [],
      "authorship_tag": "ABX9TyPCjOJspvQhIN8zxtlENdsL",
      "include_colab_link": true
    },
    "kernelspec": {
      "name": "python3",
      "display_name": "Python 3"
    },
    "language_info": {
      "name": "python"
    }
  },
  "cells": [
    {
      "cell_type": "markdown",
      "metadata": {
        "id": "view-in-github",
        "colab_type": "text"
      },
      "source": [
        "<a href=\"https://colab.research.google.com/github/ertgrulyksk/Social-Media-Followers-Prediction-with-Machine-Learning/blob/main/Social_Media_Followers_Prediction_with_Machine_Learning.ipynb\" target=\"_parent\"><img src=\"https://colab.research.google.com/assets/colab-badge.svg\" alt=\"Open In Colab\"/></a>"
      ]
    },
    {
      "cell_type": "code",
      "execution_count": 7,
      "metadata": {
        "id": "WEeb4FsNzuch",
        "colab": {
          "base_uri": "https://localhost:8080/",
          "height": 270
        },
        "outputId": "878b4340-bfaf-49ad-8f5c-997deb9bc1f6"
      },
      "outputs": [
        {
          "output_type": "execute_result",
          "data": {
            "text/plain": [
              "  period_start period_end  followers_gained  followers_lost  followers_net  \\\n",
              "0     5/1/2020  5/31/2020                 1               0              1   \n",
              "1     6/1/2020  6/30/2020                 8               0              8   \n",
              "2     7/1/2020  7/31/2020               103               0            103   \n",
              "3     8/1/2020  8/31/2020                46               0             46   \n",
              "4     9/1/2020  9/30/2020                35               1             34   \n",
              "\n",
              "   followers_total  subscribers_gained  subscribers_lost  subscribers_net  \\\n",
              "0                1                   0                 0                0   \n",
              "1                9                   0                 0                0   \n",
              "2              112                   0                 0                0   \n",
              "3              158                   0                 0                0   \n",
              "4              192                   0                 0                0   \n",
              "\n",
              "   subscribers_total    views  \n",
              "0                  0    128.0  \n",
              "1                  0  16130.0  \n",
              "2                  0  14616.0  \n",
              "3                  0   4053.0  \n",
              "4                  0   5153.0  "
            ],
            "text/html": [
              "\n",
              "  <div id=\"df-294ff8df-25ef-4ae7-a63a-e09d328028b4\">\n",
              "    <div class=\"colab-df-container\">\n",
              "      <div>\n",
              "<style scoped>\n",
              "    .dataframe tbody tr th:only-of-type {\n",
              "        vertical-align: middle;\n",
              "    }\n",
              "\n",
              "    .dataframe tbody tr th {\n",
              "        vertical-align: top;\n",
              "    }\n",
              "\n",
              "    .dataframe thead th {\n",
              "        text-align: right;\n",
              "    }\n",
              "</style>\n",
              "<table border=\"1\" class=\"dataframe\">\n",
              "  <thead>\n",
              "    <tr style=\"text-align: right;\">\n",
              "      <th></th>\n",
              "      <th>period_start</th>\n",
              "      <th>period_end</th>\n",
              "      <th>followers_gained</th>\n",
              "      <th>followers_lost</th>\n",
              "      <th>followers_net</th>\n",
              "      <th>followers_total</th>\n",
              "      <th>subscribers_gained</th>\n",
              "      <th>subscribers_lost</th>\n",
              "      <th>subscribers_net</th>\n",
              "      <th>subscribers_total</th>\n",
              "      <th>views</th>\n",
              "    </tr>\n",
              "  </thead>\n",
              "  <tbody>\n",
              "    <tr>\n",
              "      <th>0</th>\n",
              "      <td>5/1/2020</td>\n",
              "      <td>5/31/2020</td>\n",
              "      <td>1</td>\n",
              "      <td>0</td>\n",
              "      <td>1</td>\n",
              "      <td>1</td>\n",
              "      <td>0</td>\n",
              "      <td>0</td>\n",
              "      <td>0</td>\n",
              "      <td>0</td>\n",
              "      <td>128.0</td>\n",
              "    </tr>\n",
              "    <tr>\n",
              "      <th>1</th>\n",
              "      <td>6/1/2020</td>\n",
              "      <td>6/30/2020</td>\n",
              "      <td>8</td>\n",
              "      <td>0</td>\n",
              "      <td>8</td>\n",
              "      <td>9</td>\n",
              "      <td>0</td>\n",
              "      <td>0</td>\n",
              "      <td>0</td>\n",
              "      <td>0</td>\n",
              "      <td>16130.0</td>\n",
              "    </tr>\n",
              "    <tr>\n",
              "      <th>2</th>\n",
              "      <td>7/1/2020</td>\n",
              "      <td>7/31/2020</td>\n",
              "      <td>103</td>\n",
              "      <td>0</td>\n",
              "      <td>103</td>\n",
              "      <td>112</td>\n",
              "      <td>0</td>\n",
              "      <td>0</td>\n",
              "      <td>0</td>\n",
              "      <td>0</td>\n",
              "      <td>14616.0</td>\n",
              "    </tr>\n",
              "    <tr>\n",
              "      <th>3</th>\n",
              "      <td>8/1/2020</td>\n",
              "      <td>8/31/2020</td>\n",
              "      <td>46</td>\n",
              "      <td>0</td>\n",
              "      <td>46</td>\n",
              "      <td>158</td>\n",
              "      <td>0</td>\n",
              "      <td>0</td>\n",
              "      <td>0</td>\n",
              "      <td>0</td>\n",
              "      <td>4053.0</td>\n",
              "    </tr>\n",
              "    <tr>\n",
              "      <th>4</th>\n",
              "      <td>9/1/2020</td>\n",
              "      <td>9/30/2020</td>\n",
              "      <td>35</td>\n",
              "      <td>1</td>\n",
              "      <td>34</td>\n",
              "      <td>192</td>\n",
              "      <td>0</td>\n",
              "      <td>0</td>\n",
              "      <td>0</td>\n",
              "      <td>0</td>\n",
              "      <td>5153.0</td>\n",
              "    </tr>\n",
              "  </tbody>\n",
              "</table>\n",
              "</div>\n",
              "      <button class=\"colab-df-convert\" onclick=\"convertToInteractive('df-294ff8df-25ef-4ae7-a63a-e09d328028b4')\"\n",
              "              title=\"Convert this dataframe to an interactive table.\"\n",
              "              style=\"display:none;\">\n",
              "        \n",
              "  <svg xmlns=\"http://www.w3.org/2000/svg\" height=\"24px\"viewBox=\"0 0 24 24\"\n",
              "       width=\"24px\">\n",
              "    <path d=\"M0 0h24v24H0V0z\" fill=\"none\"/>\n",
              "    <path d=\"M18.56 5.44l.94 2.06.94-2.06 2.06-.94-2.06-.94-.94-2.06-.94 2.06-2.06.94zm-11 1L8.5 8.5l.94-2.06 2.06-.94-2.06-.94L8.5 2.5l-.94 2.06-2.06.94zm10 10l.94 2.06.94-2.06 2.06-.94-2.06-.94-.94-2.06-.94 2.06-2.06.94z\"/><path d=\"M17.41 7.96l-1.37-1.37c-.4-.4-.92-.59-1.43-.59-.52 0-1.04.2-1.43.59L10.3 9.45l-7.72 7.72c-.78.78-.78 2.05 0 2.83L4 21.41c.39.39.9.59 1.41.59.51 0 1.02-.2 1.41-.59l7.78-7.78 2.81-2.81c.8-.78.8-2.07 0-2.86zM5.41 20L4 18.59l7.72-7.72 1.47 1.35L5.41 20z\"/>\n",
              "  </svg>\n",
              "      </button>\n",
              "      \n",
              "  <style>\n",
              "    .colab-df-container {\n",
              "      display:flex;\n",
              "      flex-wrap:wrap;\n",
              "      gap: 12px;\n",
              "    }\n",
              "\n",
              "    .colab-df-convert {\n",
              "      background-color: #E8F0FE;\n",
              "      border: none;\n",
              "      border-radius: 50%;\n",
              "      cursor: pointer;\n",
              "      display: none;\n",
              "      fill: #1967D2;\n",
              "      height: 32px;\n",
              "      padding: 0 0 0 0;\n",
              "      width: 32px;\n",
              "    }\n",
              "\n",
              "    .colab-df-convert:hover {\n",
              "      background-color: #E2EBFA;\n",
              "      box-shadow: 0px 1px 2px rgba(60, 64, 67, 0.3), 0px 1px 3px 1px rgba(60, 64, 67, 0.15);\n",
              "      fill: #174EA6;\n",
              "    }\n",
              "\n",
              "    [theme=dark] .colab-df-convert {\n",
              "      background-color: #3B4455;\n",
              "      fill: #D2E3FC;\n",
              "    }\n",
              "\n",
              "    [theme=dark] .colab-df-convert:hover {\n",
              "      background-color: #434B5C;\n",
              "      box-shadow: 0px 1px 3px 1px rgba(0, 0, 0, 0.15);\n",
              "      filter: drop-shadow(0px 1px 2px rgba(0, 0, 0, 0.3));\n",
              "      fill: #FFFFFF;\n",
              "    }\n",
              "  </style>\n",
              "\n",
              "      <script>\n",
              "        const buttonEl =\n",
              "          document.querySelector('#df-294ff8df-25ef-4ae7-a63a-e09d328028b4 button.colab-df-convert');\n",
              "        buttonEl.style.display =\n",
              "          google.colab.kernel.accessAllowed ? 'block' : 'none';\n",
              "\n",
              "        async function convertToInteractive(key) {\n",
              "          const element = document.querySelector('#df-294ff8df-25ef-4ae7-a63a-e09d328028b4');\n",
              "          const dataTable =\n",
              "            await google.colab.kernel.invokeFunction('convertToInteractive',\n",
              "                                                     [key], {});\n",
              "          if (!dataTable) return;\n",
              "\n",
              "          const docLinkHtml = 'Like what you see? Visit the ' +\n",
              "            '<a target=\"_blank\" href=https://colab.research.google.com/notebooks/data_table.ipynb>data table notebook</a>'\n",
              "            + ' to learn more about interactive tables.';\n",
              "          element.innerHTML = '';\n",
              "          dataTable['output_type'] = 'display_data';\n",
              "          await google.colab.output.renderOutput(dataTable, element);\n",
              "          const docLink = document.createElement('div');\n",
              "          docLink.innerHTML = docLinkHtml;\n",
              "          element.appendChild(docLink);\n",
              "        }\n",
              "      </script>\n",
              "    </div>\n",
              "  </div>\n",
              "  "
            ]
          },
          "metadata": {},
          "execution_count": 7
        }
      ],
      "source": [
        "import pandas as pd\n",
        "import matplotlib.pyplot as plt\n",
        "import seaborn as sns\n",
        "import numpy as np\n",
        "\n",
        "data = pd.read_csv(\"stats.csv\")\n",
        "data.drop(data.tail(1).index, inplace=True)\n",
        "data.head()"
      ]
    },
    {
      "cell_type": "code",
      "source": [
        "plt.figure(figsize=(15, 10))\n",
        "sns.set_theme(style=\"whitegrid\")\n",
        "plt.title(\"Number of Followers I Gained Every Month\")\n",
        "sns.barplot(x=\"followers_gained\", y=\"period_end\", data=data)\n",
        "plt.show()"
      ],
      "metadata": {
        "colab": {
          "base_uri": "https://localhost:8080/",
          "height": 627
        },
        "id": "H-BC-YV9AsqS",
        "outputId": "f45137a9-39ea-4b4f-ed1f-c8d6fee1932e"
      },
      "execution_count": 8,
      "outputs": [
        {
          "output_type": "display_data",
          "data": {
            "text/plain": [
              "<Figure size 1080x720 with 1 Axes>"
            ],
            "image/png": "[encoded data removed]"
          },
          "metadata": {}
        }
      ]
    },
    {
      "cell_type": "code",
      "source": [
        "plt.figure(figsize=(15, 10))\n",
        "sns.set_theme(style=\"whitegrid\")\n",
        "plt.title(\"Total Followers At The End of Every Month\")\n",
        "sns.barplot(x=\"followers_total\", y=\"period_end\", data=data)\n",
        "plt.show()"
      ],
      "metadata": {
        "colab": {
          "base_uri": "https://localhost:8080/",
          "height": 627
        },
        "id": "0VYdANBHAxXz",
        "outputId": "597a70c9-5d2e-4aa0-e238-f47cde3b97c8"
      },
      "execution_count": 9,
      "outputs": [
        {
          "output_type": "display_data",
          "data": {
            "text/plain": [
              "<Figure size 1080x720 with 1 Axes>"
            ],
            "image/png": "[encoded data removed]"
          },
          "metadata": {}
        }
      ]
    },
    {
      "cell_type": "code",
      "source": [
        "plt.figure(figsize=(15, 10))\n",
        "sns.set_theme(style=\"whitegrid\")\n",
        "plt.title(\"Total Views Every Month\")\n",
        "sns.barplot(x=\"views\", y=\"period_end\", data=data)\n",
        "plt.show()"
      ],
      "metadata": {
        "colab": {
          "base_uri": "https://localhost:8080/",
          "height": 627
        },
        "id": "kYdu44DlAzpg",
        "outputId": "9bb03507-b3e3-465d-92c9-011c7e4fc681"
      },
      "execution_count": 10,
      "outputs": [
        {
          "output_type": "display_data",
          "data": {
            "text/plain": [
              "<Figure size 1080x720 with 1 Axes>"
            ],
            "image/png": "[encoded data removed]"
          },
          "metadata": {}
        }
      ]
    },
    {
      "cell_type": "code",
      "source": [
        "pip install autots"
      ],
      "metadata": {
        "colab": {
          "base_uri": "https://localhost:8080/"
        },
        "id": "9I5OJOOHA4Xf",
        "outputId": "b4bc9bff-71bd-4c08-c134-50d9b520ad6a"
      },
      "execution_count": 11,
      "outputs": [
        {
          "output_type": "stream",
          "name": "stdout",
          "text": [
            "Looking in indexes: https://pypi.org/simple, https://us-python.pkg.dev/colab-wheels/public/simple/\n",
            "Requirement already satisfied: autots in /usr/local/lib/python3.8/dist-packages (0.5.1)\n",
            "Requirement already satisfied: pandas>=0.25.* in /usr/local/lib/python3.8/dist-packages (from autots) (1.3.5)\n",
            "Requirement already satisfied: numpy>=1.14.6 in /usr/local/lib/python3.8/dist-packages (from autots) (1.21.6)\n",
            "Requirement already satisfied: statsmodels>=0.10.* in /usr/local/lib/python3.8/dist-packages (from autots) (0.12.2)\n",
            "Requirement already satisfied: scikit-learn>=0.20.* in /usr/local/lib/python3.8/dist-packages (from autots) (1.0.2)\n",
            "Requirement already satisfied: pytz>=2017.3 in /usr/local/lib/python3.8/dist-packages (from pandas>=0.25.*->autots) (2022.6)\n",
            "Requirement already satisfied: python-dateutil>=2.7.3 in /usr/local/lib/python3.8/dist-packages (from pandas>=0.25.*->autots) (2.8.2)\n",
            "Requirement already satisfied: six>=1.5 in /usr/local/lib/python3.8/dist-packages (from python-dateutil>=2.7.3->pandas>=0.25.*->autots) (1.15.0)\n",
            "Requirement already satisfied: scipy>=1.1.0 in /usr/local/lib/python3.8/dist-packages (from scikit-learn>=0.20.*->autots) (1.7.3)\n",
            "Requirement already satisfied: joblib>=0.11 in /usr/local/lib/python3.8/dist-packages (from scikit-learn>=0.20.*->autots) (1.2.0)\n",
            "Requirement already satisfied: threadpoolctl>=2.0.0 in /usr/local/lib/python3.8/dist-packages (from scikit-learn>=0.20.*->autots) (3.1.0)\n",
            "Requirement already satisfied: patsy>=0.5 in /usr/local/lib/python3.8/dist-packages (from statsmodels>=0.10.*->autots) (0.5.3)\n"
          ]
        }
      ]
    },
    {
      "cell_type": "code",
      "source": [
        "from autots import AutoTS\n",
        "model = AutoTS(forecast_length=4, frequency='infer', ensemble='simple')\n",
        "model = model.fit(data, date_col='period_end', value_col='followers_gained', id_col=None)\n",
        "prediction = model.predict()\n",
        "forecast = prediction.forecast\n",
        "print(forecast)"
      ],
      "metadata": {
        "colab": {
          "base_uri": "https://localhost:8080/"
        },
        "id": "-h6I1vwoA7z9",
        "outputId": "bdf7d05c-0c68-46b8-c48a-126297c61811"
      },
      "execution_count": null,
      "outputs": [
        {
          "output_type": "stream",
          "name": "stdout",
          "text": [
            "Inferred frequency is: M\n",
            "Model Number: 1 with model ARIMA in generation 0 of 10\n",
            "Model Number: 2 with model ARIMA in generation 0 of 10\n",
            "Model Number: 3 with model ARIMA in generation 0 of 10\n",
            "Model Number: 4 with model AverageValueNaive in generation 0 of 10\n",
            "Model Number: 5 with model AverageValueNaive in generation 0 of 10\n",
            "Model Number: 6 with model AverageValueNaive in generation 0 of 10\n",
            "Model Number: 7 with model DatepartRegression in generation 0 of 10\n",
            "Model Number: 8 with model DatepartRegression in generation 0 of 10\n",
            "Model Number: 9 with model DatepartRegression in generation 0 of 10\n"
          ]
        },
        {
          "output_type": "stream",
          "name": "stderr",
          "text": [
            "/usr/local/lib/python3.8/dist-packages/sklearn/svm/_base.py:1206: ConvergenceWarning: Liblinear failed to converge, increase the number of iterations.\n",
            "  warnings.warn(\n"
          ]
        },
        {
          "output_type": "stream",
          "name": "stdout",
          "text": [
            "Model Number: 10 with model DatepartRegression in generation 0 of 10\n",
            "Epoch 1/50\n",
            "1/1 [==============================] - 7s 7s/step - loss: 0.3608\n",
            "Epoch 2/50\n",
            "1/1 [==============================] - 0s 19ms/step - loss: 0.3594\n",
            "Epoch 3/50\n",
            "1/1 [==============================] - 0s 16ms/step - loss: 0.3586\n",
            "Epoch 4/50\n",
            "1/1 [==============================] - 0s 10ms/step - loss: 0.3541\n",
            "Epoch 5/50\n",
            "1/1 [==============================] - 0s 20ms/step - loss: 0.3635\n",
            "Epoch 6/50\n",
            "1/1 [==============================] - 0s 15ms/step - loss: 0.3644\n",
            "Epoch 7/50\n",
            "1/1 [==============================] - 0s 14ms/step - loss: 0.3532\n",
            "Epoch 8/50\n",
            "1/1 [==============================] - 0s 13ms/step - loss: 0.3535\n",
            "Epoch 9/50\n",
            "1/1 [==============================] - 0s 19ms/step - loss: 0.3575\n",
            "Epoch 10/50\n",
            "1/1 [==============================] - 0s 17ms/step - loss: 0.3571\n",
            "Epoch 11/50\n",
            "1/1 [==============================] - 0s 14ms/step - loss: 0.3625\n",
            "Epoch 12/50\n",
            "1/1 [==============================] - 0s 14ms/step - loss: 0.3508\n",
            "Epoch 13/50\n",
            "1/1 [==============================] - 0s 15ms/step - loss: 0.3530\n",
            "Epoch 14/50\n",
            "1/1 [==============================] - 0s 13ms/step - loss: 0.3550\n",
            "Epoch 15/50\n",
            "1/1 [==============================] - 0s 20ms/step - loss: 0.3601\n",
            "Epoch 16/50\n",
            "1/1 [==============================] - 0s 12ms/step - loss: 0.3601\n",
            "Epoch 17/50\n",
            "1/1 [==============================] - 0s 15ms/step - loss: 0.3555\n",
            "Epoch 18/50\n",
            "1/1 [==============================] - 0s 15ms/step - loss: 0.3507\n",
            "Epoch 19/50\n",
            "1/1 [==============================] - 0s 18ms/step - loss: 0.3507\n",
            "Epoch 20/50\n",
            "1/1 [==============================] - 0s 14ms/step - loss: 0.3465\n",
            "Epoch 21/50\n",
            "1/1 [==============================] - 0s 19ms/step - loss: 0.3429\n",
            "Epoch 22/50\n",
            "1/1 [==============================] - 0s 16ms/step - loss: 0.3446\n",
            "Epoch 23/50\n",
            "1/1 [==============================] - 0s 16ms/step - loss: 0.3488\n",
            "Epoch 24/50\n",
            "1/1 [==============================] - 0s 17ms/step - loss: 0.3456\n",
            "Epoch 25/50\n",
            "1/1 [==============================] - 0s 13ms/step - loss: 0.3424\n",
            "Epoch 26/50\n",
            "1/1 [==============================] - 0s 14ms/step - loss: 0.3584\n",
            "Epoch 27/50\n",
            "1/1 [==============================] - 0s 21ms/step - loss: 0.3361\n",
            "Epoch 28/50\n",
            "1/1 [==============================] - 0s 17ms/step - loss: 0.3531\n",
            "Epoch 29/50\n",
            "1/1 [==============================] - 0s 16ms/step - loss: 0.3434\n",
            "Epoch 30/50\n",
            "1/1 [==============================] - 0s 15ms/step - loss: 0.3433\n",
            "Epoch 31/50\n",
            "1/1 [==============================] - 0s 18ms/step - loss: 0.3594\n",
            "Epoch 32/50\n",
            "1/1 [==============================] - 0s 19ms/step - loss: 0.3385\n",
            "Epoch 33/50\n",
            "1/1 [==============================] - 0s 12ms/step - loss: 0.3360\n",
            "Epoch 34/50\n",
            "1/1 [==============================] - 0s 15ms/step - loss: 0.3455\n",
            "Epoch 35/50\n",
            "1/1 [==============================] - 0s 15ms/step - loss: 0.3318\n",
            "Epoch 36/50\n",
            "1/1 [==============================] - 0s 14ms/step - loss: 0.3381\n",
            "Epoch 37/50\n",
            "1/1 [==============================] - 0s 19ms/step - loss: 0.3382\n",
            "Epoch 38/50\n",
            "1/1 [==============================] - 0s 17ms/step - loss: 0.3282\n",
            "Epoch 39/50\n",
            "1/1 [==============================] - 0s 17ms/step - loss: 0.3345\n",
            "Epoch 40/50\n",
            "1/1 [==============================] - 0s 16ms/step - loss: 0.3245\n",
            "Epoch 41/50\n",
            "1/1 [==============================] - 0s 17ms/step - loss: 0.3123\n",
            "Epoch 42/50\n",
            "1/1 [==============================] - 0s 13ms/step - loss: 0.3179\n",
            "Epoch 43/50\n",
            "1/1 [==============================] - 0s 14ms/step - loss: 0.3170\n",
            "Epoch 44/50\n",
            "1/1 [==============================] - 0s 15ms/step - loss: 0.3211\n",
            "Epoch 45/50\n",
            "1/1 [==============================] - 0s 15ms/step - loss: 0.3158\n",
            "Epoch 46/50\n",
            "1/1 [==============================] - 0s 16ms/step - loss: 0.3148\n",
            "Epoch 47/50\n",
            "1/1 [==============================] - 0s 17ms/step - loss: 0.3083\n",
            "Epoch 48/50\n",
            "1/1 [==============================] - 0s 16ms/step - loss: 0.3179\n",
            "Epoch 49/50\n",
            "1/1 [==============================] - 0s 14ms/step - loss: 0.3042\n",
            "Epoch 50/50\n",
            "1/1 [==============================] - 0s 13ms/step - loss: 0.2969\n"
          ]
        },
        {
          "output_type": "stream",
          "name": "stderr",
          "text": [
            "WARNING:tensorflow:6 out of the last 6 calls to <function Model.make_predict_function.<locals>.predict_function at 0x7fe1861cef70> triggered tf.function retracing. Tracing is expensive and the excessive number of tracings could be due to (1) creating @tf.function repeatedly in a loop, (2) passing tensors with different shapes, (3) passing Python objects instead of tensors. For (1), please define your @tf.function outside of the loop. For (2), @tf.function has reduce_retracing=True option that can avoid unnecessary retracing. For (3), please refer to https://www.tensorflow.org/guide/function#controlling_retracing and https://www.tensorflow.org/api_docs/python/tf/function for  more details.\n"
          ]
        },
        {
          "output_type": "stream",
          "name": "stdout",
          "text": [
            "1/1 [==============================] - 1s 1s/step\n",
            "Model Number: 11 with model ETS in generation 0 of 10\n",
            "Model Number: 12 with model ETS in generation 0 of 10\n",
            "Model Number: 13 with model GLM in generation 0 of 10\n",
            "Template Eval Error: PerfectSeparationError('Perfect separation detected, results not available') in model 13: GLM\n",
            "Model Number: 14 with model GLM in generation 0 of 10\n",
            "Model Number: 15 with model GLS in generation 0 of 10\n",
            "Model Number: 16 with model GLS in generation 0 of 10\n",
            "Model Number: 17 with model GluonTS in generation 0 of 10\n",
            "Template Eval Error: ImportError('GluonTS installation not found or installed version is incompatible with AutoTS.') in model 17: GluonTS\n",
            "Model Number: 18 with model GluonTS in generation 0 of 10\n",
            "Template Eval Error: ImportError('GluonTS installation not found or installed version is incompatible with AutoTS.') in model 18: GluonTS\n",
            "Model Number: 19 with model GluonTS in generation 0 of 10\n",
            "Template Eval Error: ImportError('GluonTS installation not found or installed version is incompatible with AutoTS.') in model 19: GluonTS\n",
            "Model Number: 20 with model GluonTS in generation 0 of 10\n",
            "Template Eval Error: ImportError('GluonTS installation not found or installed version is incompatible with AutoTS.') in model 20: GluonTS\n",
            "Model Number: 21 with model GluonTS in generation 0 of 10\n",
            "Template Eval Error: ImportError('GluonTS installation not found or installed version is incompatible with AutoTS.') in model 21: GluonTS\n",
            "Model Number: 22 with model LastValueNaive in generation 0 of 10\n",
            "Model Number: 23 with model LastValueNaive in generation 0 of 10\n",
            "Model Number: 24 with model LastValueNaive in generation 0 of 10\n",
            "Model Number: 25 with model LastValueNaive in generation 0 of 10\n",
            "Model Number: 26 with model SeasonalNaive in generation 0 of 10\n",
            "Model Number: 27 with model SeasonalNaive in generation 0 of 10\n",
            "Model Number: 28 with model SeasonalNaive in generation 0 of 10\n",
            "Model Number: 29 with model UnobservedComponents in generation 0 of 10\n",
            "Model Number: 30 with model UnobservedComponents in generation 0 of 10\n"
          ]
        },
        {
          "output_type": "stream",
          "name": "stderr",
          "text": [
            "/usr/local/lib/python3.8/dist-packages/autots/tools/probabilistic.py:67: RuntimeWarning: invalid value encountered in true_divide\n",
            "  (prior_mu / prior_sigma**2) + ((n * data_mu) / prior_sigma**2)\n",
            "/usr/local/lib/python3.8/dist-packages/autots/tools/probabilistic.py:68: RuntimeWarning: divide by zero encountered in true_divide\n",
            "  ) / ((1 / prior_sigma**2) + (n / prior_sigma**2))\n"
          ]
        },
        {
          "output_type": "stream",
          "name": "stdout",
          "text": [
            "Model Number: 31 with model UnobservedComponents in generation 0 of 10\n",
            "Model Number: 32 with model VAR in generation 0 of 10\n",
            "Template Eval Error: ValueError('Only gave one variable to VAR') in model 32: VAR\n",
            "Model Number: 33 with model VAR in generation 0 of 10\n",
            "Template Eval Error: ValueError('Only gave one variable to VAR') in model 33: VAR\n",
            "Model Number: 34 with model VECM in generation 0 of 10\n",
            "Template Eval Error: ValueError('Only gave one variable to VECM') in model 34: VECM\n",
            "Model Number: 35 with model VECM in generation 0 of 10\n",
            "Template Eval Error: ValueError('Only gave one variable to VECM') in model 35: VECM\n",
            "Model Number: 36 with model WindowRegression in generation 0 of 10\n",
            "Template Eval Error: ValueError('Found array with 0 sample(s) (shape=(0, 0)) while a minimum of 1 is required.') in model 36: WindowRegression\n",
            "Model Number: 37 with model ConstantNaive in generation 0 of 10\n",
            "Model Number: 38 with model FBProphet in generation 0 of 10\n"
          ]
        },
        {
          "output_type": "stream",
          "name": "stderr",
          "text": [
            "INFO:prophet:Disabling yearly seasonality. Run prophet with yearly_seasonality=True to override this.\n",
            "INFO:prophet:Disabling weekly seasonality. Run prophet with weekly_seasonality=True to override this.\n",
            "INFO:prophet:Disabling daily seasonality. Run prophet with daily_seasonality=True to override this.\n",
            "INFO:prophet:n_changepoints greater than number of observations. Using 3.\n"
          ]
        },
        {
          "output_type": "stream",
          "name": "stdout",
          "text": [
            "Model Number: 39 with model GluonTS in generation 0 of 10\n",
            "Template Eval Error: ImportError('GluonTS installation not found or installed version is incompatible with AutoTS.') in model 39: GluonTS\n",
            "Model Number: 40 with model MultivariateRegression in generation 0 of 10\n"
          ]
        },
        {
          "output_type": "stream",
          "name": "stderr",
          "text": [
            "[Parallel(n_jobs=-2)]: Using backend SequentialBackend with 1 concurrent workers.\n",
            "[Parallel(n_jobs=-2)]: Done 200 out of 200 | elapsed:    0.1s finished\n",
            "[Parallel(n_jobs=1)]: Using backend SequentialBackend with 1 concurrent workers.\n",
            "[Parallel(n_jobs=1)]: Done 200 out of 200 | elapsed:    0.0s finished\n",
            "[Parallel(n_jobs=1)]: Using backend SequentialBackend with 1 concurrent workers.\n"
          ]
        },
        {
          "output_type": "stream",
          "name": "stdout",
          "text": [
            "Model Number: 41 with model MultivariateRegression in generation 0 of 10\n",
            "Template Eval Error: ValueError(\"regression_type='User' but not future_regressor supplied.\") in model 41: MultivariateRegression\n",
            "Model Number: 42 with model DatepartRegression in generation 0 of 10\n",
            "Template Eval Error: ValueError(\"regression_type='User' but no future_regressor passed\") in model 42: DatepartRegression\n",
            "Model Number: 43 with model SeasonalNaive in generation 0 of 10\n"
          ]
        },
        {
          "output_type": "stream",
          "name": "stderr",
          "text": [
            "[Parallel(n_jobs=1)]: Done 200 out of 200 | elapsed:    0.0s finished\n",
            "[Parallel(n_jobs=1)]: Using backend SequentialBackend with 1 concurrent workers.\n",
            "[Parallel(n_jobs=1)]: Done 200 out of 200 | elapsed:    0.0s finished\n",
            "[Parallel(n_jobs=1)]: Using backend SequentialBackend with 1 concurrent workers.\n",
            "[Parallel(n_jobs=1)]: Done 200 out of 200 | elapsed:    0.0s finished\n"
          ]
        },
        {
          "output_type": "stream",
          "name": "stdout",
          "text": [
            "Model Number: 44 with model DatepartRegression in generation 0 of 10\n",
            "Model Number: 45 with model UnobservedComponents in generation 0 of 10\n",
            "Model Number: 46 with model UnobservedComponents in generation 0 of 10\n",
            "Model Number: 47 with model ETS in generation 0 of 10\n",
            "ETS failed on followers_gained with ValueError('could not broadcast input array from shape (11,) into shape (28,)')\n",
            "Model Number: 48 with model VECM in generation 0 of 10\n",
            "Template Eval Error: ValueError('Only gave one variable to VECM') in model 48: VECM\n",
            "Model Number: 49 with model ARDL in generation 0 of 10\n",
            "Template Eval Error: ImportError(\"cannot import name 'ARDL' from 'statsmodels.tsa.api' (/usr/local/lib/python3.8/dist-packages/statsmodels/tsa/api.py)\") in model 49: ARDL\n",
            "Model Number: 50 with model MultivariateMotif in generation 0 of 10\n",
            "Template Eval Error: ValueError('window shape cannot be larger than input array shape') in model 50: MultivariateMotif\n",
            "Model Number: 51 with model MultivariateMotif in generation 0 of 10\n",
            "Template Eval Error: ValueError('window shape cannot be larger than input array shape') in model 51: MultivariateMotif\n",
            "Model Number: 52 with model UnivariateMotif in generation 0 of 10\n",
            "Template Eval Error: ValueError('window shape cannot be larger than input array shape') in model 52: UnivariateMotif\n",
            "Model Number: 53 with model UnivariateMotif in generation 0 of 10\n",
            "Template Eval Error: ValueError('window shape cannot be larger than input array shape') in model 53: UnivariateMotif\n",
            "Model Number: 54 with model SectionalMotif in generation 0 of 10\n",
            "Template Eval Error: ValueError('zero-size array to reduction operation fmax which has no identity') in model 54: SectionalMotif\n",
            "Model Number: 55 with model SectionalMotif in generation 0 of 10\n",
            "Template Eval Error: ValueError('kth(=10) out of bounds (3)') in model 55: SectionalMotif\n",
            "Model Number: 56 with model MultivariateRegression in generation 0 of 10\n"
          ]
        },
        {
          "output_type": "stream",
          "name": "stderr",
          "text": [
            "/usr/local/lib/python3.8/dist-packages/numpy/lib/function_base.py:380: RuntimeWarning: Mean of empty slice.\n",
            "  avg = a.mean(axis)\n",
            "/usr/local/lib/python3.8/dist-packages/numpy/core/_methods.py:181: RuntimeWarning: invalid value encountered in true_divide\n",
            "  ret = um.true_divide(\n",
            "INFO:prophet:Disabling yearly seasonality. Run prophet with yearly_seasonality=True to override this.\n",
            "INFO:prophet:Disabling weekly seasonality. Run prophet with weekly_seasonality=True to override this.\n",
            "INFO:prophet:Disabling daily seasonality. Run prophet with daily_seasonality=True to override this.\n"
          ]
        },
        {
          "output_type": "stream",
          "name": "stdout",
          "text": [
            "Model Number: 57 with model FBProphet in generation 0 of 10\n"
          ]
        },
        {
          "output_type": "stream",
          "name": "stderr",
          "text": [
            "INFO:prophet:n_changepoints greater than number of observations. Using 3.\n",
            "DEBUG:cmdstanpy:input tempfile: /tmp/tmpmodfer6_/se9guru5.json\n",
            "DEBUG:cmdstanpy:input tempfile: /tmp/tmpmodfer6_/f69gaogl.json\n",
            "DEBUG:cmdstanpy:idx 0\n",
            "DEBUG:cmdstanpy:running CmdStan, num_threads: None\n",
            "DEBUG:cmdstanpy:CmdStan args: ['/usr/local/lib/python3.8/dist-packages/prophet/stan_model/prophet_model.bin', 'random', 'seed=39484', 'data', 'file=/tmp/tmpmodfer6_/se9guru5.json', 'init=/tmp/tmpmodfer6_/f69gaogl.json', 'output', 'file=/tmp/tmpmodfer6_/prophet_modelox542vy7/prophet_model-20221205204746.csv', 'method=optimize', 'algorithm=newton', 'iter=10000']\n",
            "20:47:46 - cmdstanpy - INFO - Chain [1] start processing\n",
            "INFO:cmdstanpy:Chain [1] start processing\n",
            "20:47:46 - cmdstanpy - INFO - Chain [1] done processing\n",
            "INFO:cmdstanpy:Chain [1] done processing\n"
          ]
        },
        {
          "output_type": "stream",
          "name": "stdout",
          "text": [
            "Model Number: 58 with model SeasonalNaive in generation 0 of 10\n",
            "Model Number: 59 with model DatepartRegression in generation 0 of 10\n",
            "Model Number: 60 with model NVAR in generation 0 of 10\n"
          ]
        },
        {
          "output_type": "stream",
          "name": "stderr",
          "text": [
            "[Parallel(n_jobs=-2)]: Using backend SequentialBackend with 1 concurrent workers.\n",
            "[Parallel(n_jobs=-2)]: Done 100 out of 100 | elapsed:    0.1s finished\n",
            "[Parallel(n_jobs=1)]: Using backend SequentialBackend with 1 concurrent workers.\n",
            "[Parallel(n_jobs=1)]: Done 100 out of 100 | elapsed:    0.0s finished\n"
          ]
        },
        {
          "output_type": "stream",
          "name": "stdout",
          "text": [
            "Model Number: 61 with model Theta in generation 0 of 10\n",
            "Template Eval Error: ValueError('x must have 2 complete cycles requires 24 observations. x only has 11 observation(s)') in model 61: Theta\n",
            "Model Number: 62 with model UnivariateRegression in generation 0 of 10\n",
            "Template Eval Error: ValueError(\"Input contains NaN, infinity or a value too large for dtype('float32').\") in model 62: UnivariateRegression\n",
            "Model Number: 63 with model ARCH in generation 0 of 10\n",
            "Template Eval Error: ImportError('`arch` package must be installed from pip') in model 63: ARCH\n",
            "Model Number: 64 with model ConstantNaive in generation 0 of 10\n",
            "Model Number: 65 with model LastValueNaive in generation 0 of 10\n",
            "Model Number: 66 with model AverageValueNaive in generation 0 of 10\n",
            "Model Number: 67 with model GLS in generation 0 of 10\n",
            "Model Number: 68 with model SeasonalNaive in generation 0 of 10\n",
            "Model Number: 69 with model GLM in generation 0 of 10\n",
            "Template Eval Error: ValueError('The first guess on the deviance function returned a nan.  This could be a boundary  problem and should be reported.') in model 69: GLM\n",
            "Model Number: 70 with model ETS in generation 0 of 10\n"
          ]
        },
        {
          "output_type": "stream",
          "name": "stderr",
          "text": [
            "/usr/local/lib/python3.8/dist-packages/sklearn/preprocessing/_data.py:3253: RuntimeWarning: divide by zero encountered in log\n",
            "  loglike = -n_samples / 2 * np.log(x_trans.var())\n",
            "/usr/local/lib/python3.8/dist-packages/statsmodels/genmod/families/family.py:179: RuntimeWarning: invalid value encountered in true_divide\n",
            "  return np.sum(resid_dev * freq_weights * var_weights / scale)\n",
            "/usr/local/lib/python3.8/dist-packages/autots/tools/probabilistic.py:67: RuntimeWarning: invalid value encountered in true_divide\n",
            "  (prior_mu / prior_sigma**2) + ((n * data_mu) / prior_sigma**2)\n",
            "/usr/local/lib/python3.8/dist-packages/autots/tools/probabilistic.py:68: RuntimeWarning: divide by zero encountered in true_divide\n",
            "  ) / ((1 / prior_sigma**2) + (n / prior_sigma**2))\n",
            "INFO:prophet:Disabling yearly seasonality. Run prophet with yearly_seasonality=True to override this.\n",
            "INFO:prophet:Disabling weekly seasonality. Run prophet with weekly_seasonality=True to override this.\n",
            "INFO:prophet:Disabling daily seasonality. Run prophet with daily_seasonality=True to override this.\n"
          ]
        },
        {
          "output_type": "stream",
          "name": "stdout",
          "text": [
            "Model Number: 71 with model FBProphet in generation 0 of 10\n",
            "No anomalies detected.\n"
          ]
        },
        {
          "output_type": "stream",
          "name": "stderr",
          "text": [
            "INFO:prophet:n_changepoints greater than number of observations. Using 8.\n",
            "DEBUG:cmdstanpy:input tempfile: /tmp/tmpmodfer6_/x5kotomc.json\n",
            "DEBUG:cmdstanpy:input tempfile: /tmp/tmpmodfer6_/3x3zaydb.json\n",
            "DEBUG:cmdstanpy:idx 0\n",
            "DEBUG:cmdstanpy:running CmdStan, num_threads: None\n",
            "DEBUG:cmdstanpy:CmdStan args: ['/usr/local/lib/python3.8/dist-packages/prophet/stan_model/prophet_model.bin', 'random', 'seed=83543', 'data', 'file=/tmp/tmpmodfer6_/x5kotomc.json', 'init=/tmp/tmpmodfer6_/3x3zaydb.json', 'output', 'file=/tmp/tmpmodfer6_/prophet_modelknlcg4sw/prophet_model-20221205204748.csv', 'method=optimize', 'algorithm=newton', 'iter=10000']\n",
            "20:47:48 - cmdstanpy - INFO - Chain [1] start processing\n",
            "INFO:cmdstanpy:Chain [1] start processing\n",
            "20:47:48 - cmdstanpy - INFO - Chain [1] done processing\n",
            "INFO:cmdstanpy:Chain [1] done processing\n"
          ]
        },
        {
          "output_type": "stream",
          "name": "stdout",
          "text": [
            "Model Number: 72 with model GluonTS in generation 0 of 10\n",
            "Template Eval Error: ImportError('GluonTS installation not found or installed version is incompatible with AutoTS.') in model 72: GluonTS\n",
            "Model Number: 73 with model UnobservedComponents in generation 0 of 10\n",
            "Model Number: 74 with model VAR in generation 0 of 10\n",
            "Template Eval Error: ValueError('Only gave one variable to VAR') in model 74: VAR\n",
            "Model Number: 75 with model VECM in generation 0 of 10\n",
            "Template Eval Error: ValueError('Only gave one variable to VECM') in model 75: VECM\n",
            "Model Number: 76 with model ARIMA in generation 0 of 10\n",
            "Model Number: 77 with model WindowRegression in generation 0 of 10\n",
            "Model Number: 78 with model DatepartRegression in generation 0 of 10\n",
            "Model Number: 79 with model UnivariateRegression in generation 0 of 10\n",
            "Template Eval Error: ValueError(\"regression_type='User' but not future_regressor supplied.\") in model 79: UnivariateRegression\n",
            "Model Number: 80 with model MultivariateRegression in generation 0 of 10\n",
            "Model Number: 81 with model UnivariateMotif in generation 0 of 10\n",
            "Template Eval Error: ValueError('window shape cannot be larger than input array shape') in model 81: UnivariateMotif\n",
            "Model Number: 82 with model MultivariateMotif in generation 0 of 10\n",
            "Template Eval Error: ValueError('window shape cannot be larger than input array shape') in model 82: MultivariateMotif\n",
            "Model Number: 83 with model SectionalMotif in generation 0 of 10\n",
            "No anomalies detected.\n",
            "Template Eval Error: ValueError('XA and XB must have the same number of columns (i.e. feature dimension.)') in model 83: SectionalMotif\n",
            "Model Number: 84 with model NVAR in generation 0 of 10\n",
            "Template Eval Error: Exception('Transformer Detrend failed on fit') in model 84: NVAR\n",
            "Model Number: 85 with model Theta in generation 0 of 10\n",
            "Model Number: 86 with model ARDL in generation 0 of 10\n",
            "Template Eval Error: ValueError(\"regression_type='User' but future_regressor not supplied\") in model 86: ARDL\n",
            "Model Number: 87 with model ARCH in generation 0 of 10\n",
            "Template Eval Error: ImportError('`arch` package must be installed from pip') in model 87: ARCH\n",
            "Model Number: 88 with model MetricMotif in generation 0 of 10\n",
            "Template Eval Error: Exception('Transformer ScipyFilter failed on fit') in model 88: MetricMotif\n",
            "Model Number: 89 with model SeasonalityMotif in generation 0 of 10\n",
            "Template Eval Error: ValueError('window shape cannot be larger than input array shape') in model 89: SeasonalityMotif\n",
            "Model Number: 90 with model ARCH in generation 0 of 10\n",
            "Template Eval Error: ImportError('`arch` package must be installed from pip') in model 90: ARCH\n",
            "Model Number: 91 with model MetricMotif in generation 0 of 10\n",
            "Template Eval Error: ValueError('window shape cannot be larger than input array shape') in model 91: MetricMotif\n",
            "Model Number: 92 with model LastValueNaive in generation 0 of 10\n",
            "Model Number: 93 with model Theta in generation 0 of 10\n",
            "Template Eval Error: ValueError('x must have 2 complete cycles requires 24 observations. x only has 11 observation(s)') in model 93: Theta\n",
            "Model Number: 94 with model ARDL in generation 0 of 10\n",
            "Template Eval Error: ImportError(\"cannot import name 'ARDL' from 'statsmodels.tsa.api' (/usr/local/lib/python3.8/dist-packages/statsmodels/tsa/api.py)\") in model 94: ARDL\n",
            "Model Number: 95 with model SeasonalityMotif in generation 0 of 10\n",
            "Template Eval Error: ValueError('kth(=9) out of bounds (3)') in model 95: SeasonalityMotif\n",
            "Model Number: 96 with model DatepartRegression in generation 0 of 10\n",
            "Epoch 1/50\n",
            "1/1 [==============================] - 5s 5s/step - loss: 676.7096\n",
            "Epoch 2/50\n",
            "1/1 [==============================] - 0s 128ms/step - loss: 558.9900\n",
            "Epoch 3/50\n",
            "1/1 [==============================] - 0s 130ms/step - loss: 488.1363\n",
            "Epoch 4/50\n",
            "1/1 [==============================] - 0s 129ms/step - loss: 442.3556\n",
            "Epoch 5/50\n",
            "1/1 [==============================] - 0s 131ms/step - loss: 402.0147\n",
            "Epoch 6/50\n",
            "1/1 [==============================] - 0s 138ms/step - loss: 365.1356\n",
            "Epoch 7/50\n",
            "1/1 [==============================] - 0s 141ms/step - loss: 331.1890\n",
            "Epoch 8/50\n",
            "1/1 [==============================] - 0s 124ms/step - loss: 309.5153\n",
            "Epoch 9/50\n",
            "1/1 [==============================] - 0s 140ms/step - loss: 282.4059\n",
            "Epoch 10/50\n",
            "1/1 [==============================] - 0s 126ms/step - loss: 257.9402\n",
            "Epoch 11/50\n",
            "1/1 [==============================] - 0s 134ms/step - loss: 234.4451\n",
            "Epoch 12/50\n",
            "1/1 [==============================] - 0s 128ms/step - loss: 213.1279\n",
            "Epoch 13/50\n",
            "1/1 [==============================] - 0s 138ms/step - loss: 191.1769\n",
            "Epoch 14/50\n",
            "1/1 [==============================] - 0s 140ms/step - loss: 170.7522\n",
            "Epoch 15/50\n",
            "1/1 [==============================] - 0s 141ms/step - loss: 150.1164\n",
            "Epoch 16/50\n",
            "1/1 [==============================] - 0s 136ms/step - loss: 130.4190\n",
            "Epoch 17/50\n",
            "1/1 [==============================] - 0s 140ms/step - loss: 110.6551\n",
            "Epoch 18/50\n",
            "1/1 [==============================] - 0s 131ms/step - loss: 91.5625\n",
            "Epoch 19/50\n",
            "1/1 [==============================] - 0s 139ms/step - loss: 110.0458\n",
            "Epoch 20/50\n",
            "1/1 [==============================] - 0s 129ms/step - loss: 91.9852\n",
            "Epoch 21/50\n",
            "1/1 [==============================] - 0s 130ms/step - loss: 108.8910\n",
            "Epoch 22/50\n",
            "1/1 [==============================] - 0s 151ms/step - loss: 91.9289\n",
            "Epoch 23/50\n",
            "1/1 [==============================] - 0s 132ms/step - loss: 107.9076\n",
            "Epoch 24/50\n",
            "1/1 [==============================] - 0s 141ms/step - loss: 91.9210\n",
            "Epoch 25/50\n",
            "1/1 [==============================] - 0s 132ms/step - loss: 107.0478\n",
            "Epoch 26/50\n",
            "1/1 [==============================] - 0s 137ms/step - loss: 91.9371\n",
            "Epoch 27/50\n",
            "1/1 [==============================] - 0s 135ms/step - loss: 106.2907\n",
            "Epoch 28/50\n",
            "1/1 [==============================] - 0s 141ms/step - loss: 91.9769\n",
            "Epoch 29/50\n",
            "1/1 [==============================] - 0s 175ms/step - loss: 105.6046\n",
            "Epoch 30/50\n",
            "1/1 [==============================] - 0s 141ms/step - loss: 92.0345\n",
            "Epoch 31/50\n",
            "1/1 [==============================] - 0s 128ms/step - loss: 104.9761\n",
            "Epoch 32/50\n",
            "1/1 [==============================] - 0s 138ms/step - loss: 92.1057\n",
            "Epoch 33/50\n",
            "1/1 [==============================] - 0s 127ms/step - loss: 104.3948\n",
            "Epoch 34/50\n",
            "1/1 [==============================] - 0s 127ms/step - loss: 92.1874\n",
            "Epoch 35/50\n",
            "1/1 [==============================] - 0s 136ms/step - loss: 103.8534\n",
            "Epoch 36/50\n",
            "1/1 [==============================] - 0s 139ms/step - loss: 92.2773\n",
            "Epoch 37/50\n",
            "1/1 [==============================] - 0s 134ms/step - loss: 103.3459\n",
            "Epoch 38/50\n",
            "1/1 [==============================] - 0s 127ms/step - loss: 92.3739\n",
            "Epoch 39/50\n",
            "1/1 [==============================] - 0s 129ms/step - loss: 102.8681\n",
            "Epoch 40/50\n",
            "1/1 [==============================] - 0s 124ms/step - loss: 92.4755\n",
            "Epoch 41/50\n",
            "1/1 [==============================] - 0s 124ms/step - loss: 102.4157\n",
            "Epoch 42/50\n",
            "1/1 [==============================] - 0s 144ms/step - loss: 92.5814\n",
            "Epoch 43/50\n",
            "1/1 [==============================] - 0s 136ms/step - loss: 101.9861\n",
            "Epoch 44/50\n",
            "1/1 [==============================] - 0s 155ms/step - loss: 92.6905\n",
            "Epoch 45/50\n",
            "1/1 [==============================] - 0s 141ms/step - loss: 101.5766\n",
            "Epoch 46/50\n",
            "1/1 [==============================] - 0s 130ms/step - loss: 92.8023\n",
            "Epoch 47/50\n",
            "1/1 [==============================] - 0s 127ms/step - loss: 101.1851\n",
            "Epoch 48/50\n",
            "1/1 [==============================] - 0s 136ms/step - loss: 92.9163\n",
            "Epoch 49/50\n",
            "1/1 [==============================] - 0s 123ms/step - loss: 100.8099\n",
            "Epoch 50/50\n",
            "1/1 [==============================] - 0s 131ms/step - loss: 93.0321\n",
            "1/1 [==============================] - 1s 929ms/step\n",
            "Model Number: 97 with model ARCH in generation 0 of 10\n",
            "Template Eval Error: ImportError('`arch` package must be installed from pip') in model 97: ARCH\n",
            "Model Number: 98 with model UnivariateMotif in generation 0 of 10\n",
            "Template Eval Error: ValueError('window shape cannot be larger than input array shape') in model 98: UnivariateMotif\n",
            "Model Number: 99 with model MetricMotif in generation 0 of 10\n",
            "Model Number: 100 with model UnivariateRegression in generation 0 of 10\n",
            "Template Eval Error: ValueError(\"regression_type='User' but not future_regressor supplied.\") in model 100: UnivariateRegression\n",
            "Model Number: 101 with model ARDL in generation 0 of 10\n",
            "Template Eval Error: ImportError(\"cannot import name 'ARDL' from 'statsmodels.tsa.api' (/usr/local/lib/python3.8/dist-packages/statsmodels/tsa/api.py)\") in model 101: ARDL\n",
            "Model Number: 102 with model DatepartRegression in generation 0 of 10\n",
            "Model Number: 103 with model LastValueNaive in generation 0 of 10\n",
            "Model Number: 104 with model ARDL in generation 0 of 10\n",
            "Template Eval Error: ImportError(\"cannot import name 'ARDL' from 'statsmodels.tsa.api' (/usr/local/lib/python3.8/dist-packages/statsmodels/tsa/api.py)\") in model 104: ARDL\n",
            "Model Number: 105 with model DatepartRegression in generation 0 of 10\n"
          ]
        },
        {
          "output_type": "stream",
          "name": "stderr",
          "text": [
            "/usr/local/lib/python3.8/dist-packages/sklearn/svm/_base.py:1206: ConvergenceWarning: Liblinear failed to converge, increase the number of iterations.\n",
            "  warnings.warn(\n"
          ]
        },
        {
          "output_type": "stream",
          "name": "stdout",
          "text": [
            "Model Number: 106 with model MetricMotif in generation 0 of 10\n",
            "Template Eval Error: ValueError('window shape cannot be larger than input array shape') in model 106: MetricMotif\n",
            "Model Number: 107 with model SectionalMotif in generation 0 of 10\n",
            "Template Eval Error: ValueError('kth(=100) out of bounds (1)') in model 107: SectionalMotif\n",
            "Model Number: 108 with model SeasonalNaive in generation 0 of 10\n",
            "Model Number: 109 with model MetricMotif in generation 0 of 10\n",
            "Template Eval Error: ValueError('window shape cannot be larger than input array shape') in model 109: MetricMotif\n",
            "Model Number: 110 with model UnivariateMotif in generation 0 of 10\n",
            "Template Eval Error: ValueError('window shape cannot be larger than input array shape') in model 110: UnivariateMotif\n",
            "Model Number: 111 with model VAR in generation 0 of 10\n",
            "Template Eval Error: ValueError('Only gave one variable to VAR') in model 111: VAR\n",
            "Model Number: 112 with model UnivariateMotif in generation 0 of 10\n",
            "Template Eval Error: ValueError('window shape cannot be larger than input array shape') in model 112: UnivariateMotif\n",
            "Model Number: 113 with model ETS in generation 0 of 10\n",
            "ETS failed on followers_gained with ValueError('operands could not be broadcast together with shapes (0,) (11,) ')\n",
            "Model Number: 114 with model SectionalMotif in generation 0 of 10\n",
            "Template Eval Error: ValueError('zero-size array to reduction operation fmax which has no identity') in model 114: SectionalMotif\n",
            "Model Number: 115 with model LastValueNaive in generation 0 of 10\n",
            "Template Eval Error: Exception('Transformer STLFilter failed on fit') in model 115: LastValueNaive\n",
            "Model Number: 116 with model SeasonalNaive in generation 0 of 10\n",
            "Model Number: 117 with model UnivariateMotif in generation 0 of 10\n",
            "Template Eval Error: ValueError('window shape cannot be larger than input array shape') in model 117: UnivariateMotif\n",
            "Model Number: 118 with model UnivariateMotif in generation 0 of 10\n",
            "Template Eval Error: ValueError('window shape cannot be larger than input array shape') in model 118: UnivariateMotif\n",
            "Model Number: 119 with model NVAR in generation 0 of 10\n",
            "Template Eval Error: Exception('Transformer DifferencedTransformer failed on inverse') in model 119: NVAR\n",
            "Model Number: 120 with model GLM in generation 0 of 10\n",
            "Template Eval Error: ValueError('NaN, inf or invalid value detected in weights, estimation infeasible.') in model 120: GLM\n",
            "Model Number: 121 with model WindowRegression in generation 0 of 10\n",
            "Template Eval Error: ValueError('Found array with 0 sample(s) (shape=(0, 0)) while a minimum of 1 is required.') in model 121: WindowRegression\n",
            "Model Number: 122 with model ARCH in generation 0 of 10\n",
            "Template Eval Error: ImportError('`arch` package must be installed from pip') in model 122: ARCH\n",
            "Model Number: 123 with model UnivariateRegression in generation 0 of 10\n",
            "Template Eval Error: ValueError(\"Input contains NaN, infinity or a value too large for dtype('float64').\") in model 123: UnivariateRegression\n"
          ]
        },
        {
          "output_type": "stream",
          "name": "stderr",
          "text": [
            "/usr/local/lib/python3.8/dist-packages/autots/models/basics.py:1910: RuntimeWarning: Mean of empty slice\n",
            "  forecast = np.nanmean(results, axis=0)\n",
            "/usr/local/lib/python3.8/dist-packages/statsmodels/genmod/families/links.py:517: RuntimeWarning: overflow encountered in exp\n",
            "  return np.exp(z)\n",
            "/usr/local/lib/python3.8/dist-packages/statsmodels/genmod/families/family.py:1227: RuntimeWarning: divide by zero encountered in true_divide\n",
            "  endog_mu = self._clean(endog / mu)\n",
            "/usr/local/lib/python3.8/dist-packages/statsmodels/genmod/families/family.py:1231: RuntimeWarning: divide by zero encountered in log\n",
            "  resid_dev -= endog_alpha * np.log(endog_alpha / mu_alpha)\n",
            "/usr/local/lib/python3.8/dist-packages/statsmodels/genmod/families/family.py:1231: RuntimeWarning: invalid value encountered in log\n",
            "  resid_dev -= endog_alpha * np.log(endog_alpha / mu_alpha)\n",
            "/usr/local/lib/python3.8/dist-packages/numpy/core/fromnumeric.py:86: RuntimeWarning: invalid value encountered in reduce\n",
            "  return ufunc.reduce(obj, axis, dtype, out, **passkwargs)\n",
            "/usr/local/lib/python3.8/dist-packages/statsmodels/genmod/families/family.py:134: RuntimeWarning: invalid value encountered in multiply\n",
            "  return 1. / (self.link.deriv(mu)**2 * self.variance(mu))\n",
            "/usr/local/lib/python3.8/dist-packages/statsmodels/genmod/generalized_linear_model.py:1198: RuntimeWarning: invalid value encountered in multiply\n",
            "  wlsendog = (lin_pred + self.family.link.deriv(mu) * (self.endog-mu)\n"
          ]
        },
        {
          "output_type": "stream",
          "name": "stdout",
          "text": [
            "Model Number: 124 with model ConstantNaive in generation 0 of 10\n",
            "Model Number: 125 with model DatepartRegression in generation 0 of 10\n",
            "Model Number: 126 with model GLM in generation 0 of 10\n",
            "Template Eval Error: ValueError('regression_type=user and no future_regressor passed') in model 126: GLM\n",
            "Model Number: 127 with model ARDL in generation 0 of 10\n",
            "Template Eval Error: ValueError(\"regression_type='User' but future_regressor not supplied\") in model 127: ARDL\n",
            "Model Number: 128 with model SectionalMotif in generation 0 of 10\n",
            "Template Eval Error: ValueError(\"regression_type=='User' but no future_regressor supplied\") in model 128: SectionalMotif\n",
            "Model Number: 129 with model DatepartRegression in generation 0 of 10\n"
          ]
        },
        {
          "output_type": "stream",
          "name": "stderr",
          "text": [
            "/usr/local/lib/python3.8/dist-packages/sklearn/svm/_base.py:1206: ConvergenceWarning: Liblinear failed to converge, increase the number of iterations.\n",
            "  warnings.warn(\n",
            "/usr/local/lib/python3.8/dist-packages/sklearn/svm/_base.py:1206: ConvergenceWarning: Liblinear failed to converge, increase the number of iterations.\n",
            "  warnings.warn(\n"
          ]
        },
        {
          "output_type": "stream",
          "name": "stdout",
          "text": [
            "Model Number: 130 with model NVAR in generation 0 of 10\n",
            "Model Number: 131 with model SeasonalityMotif in generation 0 of 10\n",
            "Template Eval Error: ValueError('kth(=99) out of bounds (1)') in model 131: SeasonalityMotif\n",
            "Model Number: 132 with model SeasonalityMotif in generation 0 of 10\n",
            "Template Eval Error: ValueError('window shape cannot be larger than input array shape') in model 132: SeasonalityMotif\n",
            "Model Number: 133 with model LastValueNaive in generation 0 of 10\n",
            "Model Number: 134 with model WindowRegression in generation 0 of 10\n",
            "Template Eval Error: Exception('Transformer Detrend failed on fit') in model 134: WindowRegression\n",
            "Model Number: 135 with model Theta in generation 0 of 10\n",
            "Model Number: 136 with model SeasonalNaive in generation 0 of 10\n",
            "Model Number: 137 with model UnobservedComponents in generation 0 of 10\n",
            "Model Number: 138 with model SeasonalityMotif in generation 0 of 10\n",
            "Template Eval Error: ValueError('window shape cannot be larger than input array shape') in model 138: SeasonalityMotif\n",
            "Model Number: 139 with model GLM in generation 0 of 10\n",
            "Template Eval Error: ValueError('NaN, inf or invalid value detected in weights, estimation infeasible.') in model 139: GLM\n",
            "Model Number: 140 with model SectionalMotif in generation 0 of 10\n",
            "Template Eval Error: ValueError('zero-size array to reduction operation fmax which has no identity') in model 140: SectionalMotif\n",
            "Model Number: 141 with model MultivariateMotif in generation 0 of 10\n",
            "Template Eval Error: Exception('Transformer Detrend failed on fit') in model 141: MultivariateMotif\n",
            "Model Number: 142 with model UnivariateRegression in generation 0 of 10\n",
            "Model Number: 143 with model GLS in generation 0 of 10\n"
          ]
        },
        {
          "output_type": "stream",
          "name": "stderr",
          "text": [
            "/usr/local/lib/python3.8/dist-packages/statsmodels/genmod/families/family.py:1227: RuntimeWarning: divide by zero encountered in true_divide\n",
            "  endog_mu = self._clean(endog / mu)\n",
            "/usr/local/lib/python3.8/dist-packages/statsmodels/genmod/families/links.py:517: RuntimeWarning: overflow encountered in exp\n",
            "  return np.exp(z)\n",
            "/usr/local/lib/python3.8/dist-packages/statsmodels/genmod/families/family.py:1231: RuntimeWarning: divide by zero encountered in log\n",
            "  resid_dev -= endog_alpha * np.log(endog_alpha / mu_alpha)\n",
            "/usr/local/lib/python3.8/dist-packages/statsmodels/genmod/families/varfuncs.py:265: RuntimeWarning: overflow encountered in square\n",
            "  return p + self.alpha*p**2\n",
            "/usr/local/lib/python3.8/dist-packages/statsmodels/genmod/families/family.py:134: RuntimeWarning: invalid value encountered in multiply\n",
            "  return 1. / (self.link.deriv(mu)**2 * self.variance(mu))\n",
            "/usr/local/lib/python3.8/dist-packages/statsmodels/genmod/generalized_linear_model.py:1198: RuntimeWarning: invalid value encountered in multiply\n",
            "  wlsendog = (lin_pred + self.family.link.deriv(mu) * (self.endog-mu)\n",
            "/usr/local/lib/python3.8/dist-packages/numpy/lib/nanfunctions.py:1117: RuntimeWarning: Mean of empty slice\n",
            "  return np.nanmean(a, axis, out=out, keepdims=keepdims)\n"
          ]
        },
        {
          "output_type": "stream",
          "name": "stdout",
          "text": [
            "Model Number: 144 with model UnivariateRegression in generation 0 of 10\n",
            "Template Eval Error: Exception('Transformer Detrend failed on fit') in model 144: UnivariateRegression\n",
            "Model Number: 145 with model GluonTS in generation 0 of 10\n",
            "Template Eval Error: ImportError('GluonTS installation not found or installed version is incompatible with AutoTS.') in model 145: GluonTS\n",
            "Model Number: 146 with model GLM in generation 0 of 10\n",
            "Template Eval Error: ValueError('The first guess on the deviance function returned a nan.  This could be a boundary  problem and should be reported.') in model 146: GLM\n",
            "Model Number: 147 with model ARCH in generation 0 of 10\n",
            "Template Eval Error: ImportError('`arch` package must be installed from pip') in model 147: ARCH\n",
            "Model Number: 148 with model VAR in generation 0 of 10\n",
            "Template Eval Error: ValueError('Only gave one variable to VAR') in model 148: VAR\n",
            "Model Number: 149 with model UnivariateRegression in generation 0 of 10\n",
            "Template Eval Error: ValueError(\"regression_type='User' but not future_regressor supplied.\") in model 149: UnivariateRegression\n",
            "Model Number: 150 with model MetricMotif in generation 0 of 10\n",
            "Template Eval Error: ValueError('window shape cannot be larger than input array shape') in model 150: MetricMotif\n",
            "Model Number: 151 with model Theta in generation 0 of 10\n"
          ]
        },
        {
          "output_type": "stream",
          "name": "stderr",
          "text": [
            "/usr/local/lib/python3.8/dist-packages/statsmodels/genmod/families/family.py:1231: RuntimeWarning: invalid value encountered in log\n",
            "  resid_dev -= endog_alpha * np.log(endog_alpha / mu_alpha)\n"
          ]
        },
        {
          "output_type": "stream",
          "name": "stdout",
          "text": [
            "Model Number: 152 with model LastValueNaive in generation 0 of 10\n",
            "Model Number: 153 with model SeasonalityMotif in generation 0 of 10\n",
            "Template Eval Error: ValueError('window shape cannot be larger than input array shape') in model 153: SeasonalityMotif\n",
            "Model Number: 154 with model Theta in generation 0 of 10\n",
            "Model Number: 155 with model MultivariateMotif in generation 0 of 10\n",
            "Template Eval Error: ValueError('window shape cannot be larger than input array shape') in model 155: MultivariateMotif\n",
            "Model Number: 156 with model FBProphet in generation 0 of 10\n",
            "Template Eval Error: ValueError(\"regression_type='User' but no future_regressor passed\") in model 156: FBProphet\n",
            "Model Number: 157 with model MetricMotif in generation 0 of 10\n",
            "Template Eval Error: Exception('Transformer Detrend failed on fit') in model 157: MetricMotif\n",
            "Model Number: 158 with model UnobservedComponents in generation 0 of 10\n",
            "Model Number: 159 with model GLS in generation 0 of 10\n",
            "Template Eval Error: Exception('Transformer ScipyFilter failed on fit') in model 159: GLS\n",
            "Model Number: 160 with model SectionalMotif in generation 0 of 10\n",
            "Template Eval Error: ValueError('kth(=10) out of bounds (3)') in model 160: SectionalMotif\n",
            "Model Number: 161 with model GLS in generation 0 of 10\n",
            "Model Number: 162 with model VECM in generation 0 of 10\n",
            "Template Eval Error: ValueError('Only gave one variable to VECM') in model 162: VECM\n",
            "Model Number: 163 with model UnivariateMotif in generation 0 of 10\n",
            "Template Eval Error: ValueError('kth(=5) out of bounds (5)') in model 163: UnivariateMotif\n",
            "Model Number: 164 with model GluonTS in generation 0 of 10\n",
            "Template Eval Error: Exception('Transformer Detrend failed on fit') in model 164: GluonTS\n",
            "Model Number: 165 with model SeasonalNaive in generation 0 of 10\n",
            "Model Number: 166 with model ARCH in generation 0 of 10\n",
            "Template Eval Error: ImportError('`arch` package must be installed from pip') in model 166: ARCH\n",
            "Model Number: 167 with model DatepartRegression in generation 0 of 10\n"
          ]
        },
        {
          "output_type": "stream",
          "name": "stderr",
          "text": [
            "/usr/local/lib/python3.8/dist-packages/autots/tools/window_functions.py:478: RuntimeWarning: invalid value encountered in true_divide\n",
            "  slope = (sxy - sx * sy) / (sx2 - sx**2)\n"
          ]
        },
        {
          "output_type": "stream",
          "name": "stdout",
          "text": [
            "Model Number: 168 with model SectionalMotif in generation 0 of 10\n",
            "Template Eval Error: Exception('Transformer STLFilter failed on fit') in model 168: SectionalMotif\n",
            "Model Number: 169 with model Theta in generation 0 of 10\n",
            "Template Eval Error: ValueError('x must have 2 complete cycles requires 24 observations. x only has 11 observation(s)') in model 169: Theta\n",
            "Model Number: 170 with model LastValueNaive in generation 0 of 10\n",
            "Template Eval Error: ValueError(\"Model returned NaN due to a preprocessing transformer {'fillna': 'rolling_mean_24', 'transformations': {'0': 'KalmanSmoothing', '1': 'SeasonalDifference', '2': 'AlignLastValue', '3': 'AlignLastValue', '4': 'ClipOutliers', '5': 'DifferencedTransformer'}, 'transformation_params': {'0': {'state_transition': [[1]], 'process_noise': [[0.048]], 'observation_model': [[1]], 'observation_noise': 1.0}, '1': {'lag_1': 12, 'method': 'Mean'}, '2': {'rows': 1, 'lag': 1, 'method': 'multiplicative', 'strength': 1.0, 'first_value_only': False}, '3': {'rows': 1, 'lag': 1, 'method': 'additive', 'strength': 0.7, 'first_value_only': False}, '4': {'method': 'clip', 'std_threshold': 1, 'fillna': None}, '5': {}}}. fail_on_forecast_nan=True\") in model 170: LastValueNaive\n",
            "Model Number: 171 with model SectionalMotif in generation 0 of 10\n",
            "Template Eval Error: ValueError('Found array with 0 sample(s) (shape=(0, 15)) while a minimum of 1 is required by check_pairwise_arrays.') in model 171: SectionalMotif\n",
            "Model Number: 172 with model SeasonalityMotif in generation 0 of 10\n",
            "Template Eval Error: ValueError('window shape cannot be larger than input array shape') in model 172: SeasonalityMotif\n",
            "Model Number: 173 with model GLS in generation 0 of 10\n",
            "Model Number: 174 with model DatepartRegression in generation 0 of 10\n",
            "Model Number: 175 with model ETS in generation 0 of 10\n",
            "ETS error ValueError('endog must be strictly positive when usingmultiplicative trend or seasonal components.')\n",
            "ETS failed on followers_gained with ValueError('endog must be strictly positive when usingmultiplicative trend or seasonal components.')\n",
            "Model Number: 176 with model NVAR in generation 0 of 10\n"
          ]
        },
        {
          "output_type": "stream",
          "name": "stderr",
          "text": [
            "/usr/local/lib/python3.8/dist-packages/autots/tools/probabilistic.py:67: RuntimeWarning: invalid value encountered in true_divide\n",
            "  (prior_mu / prior_sigma**2) + ((n * data_mu) / prior_sigma**2)\n",
            "/usr/local/lib/python3.8/dist-packages/autots/tools/probabilistic.py:68: RuntimeWarning: divide by zero encountered in true_divide\n",
            "  ) / ((1 / prior_sigma**2) + (n / prior_sigma**2))\n"
          ]
        },
        {
          "output_type": "stream",
          "name": "stdout",
          "text": [
            "Model Number: 177 with model Theta in generation 0 of 10\n",
            "Template Eval Error: ValueError('x must have 2 complete cycles requires 24 observations. x only has 11 observation(s)') in model 177: Theta\n",
            "Model Number: 178 with model NVAR in generation 0 of 10\n",
            "Template Eval Error: Exception('Transformer MaxAbsScaler failed on inverse') in model 178: NVAR\n",
            "Model Number: 179 with model UnivariateMotif in generation 0 of 10\n",
            "Template Eval Error: Exception('Transformer AlignLastValue failed on fit') in model 179: UnivariateMotif\n",
            "Model Number: 180 with model VAR in generation 0 of 10\n",
            "Template Eval Error: Exception('Transformer Detrend failed on fit') in model 180: VAR\n",
            "Model Number: 181 with model GLS in generation 0 of 10\n",
            "Model Number: 182 with model DatepartRegression in generation 0 of 10\n",
            "Template Eval Error: ValueError(\"regression_type='User' but no future_regressor passed\") in model 182: DatepartRegression\n",
            "Model Number: 183 with model GluonTS in generation 0 of 10\n",
            "Template Eval Error: ImportError('GluonTS installation not found or installed version is incompatible with AutoTS.') in model 183: GluonTS\n",
            "Model Number: 184 with model ConstantNaive in generation 0 of 10\n",
            "Model Number: 185 with model ARCH in generation 0 of 10\n",
            "Template Eval Error: ImportError('`arch` package must be installed from pip') in model 185: ARCH\n",
            "Model Number: 186 with model DatepartRegression in generation 0 of 10\n",
            "Epoch 1/50\n",
            "1/1 [==============================] - 6s 6s/step - loss: 0.0048\n",
            "Epoch 2/50\n",
            "1/1 [==============================] - 0s 20ms/step - loss: 0.0069\n",
            "Epoch 3/50\n",
            "1/1 [==============================] - 0s 17ms/step - loss: 0.0040\n",
            "Epoch 4/50\n",
            "1/1 [==============================] - 0s 16ms/step - loss: 0.0061\n",
            "Epoch 5/50\n",
            "1/1 [==============================] - 0s 23ms/step - loss: 0.0054\n",
            "Epoch 6/50\n",
            "1/1 [==============================] - 0s 16ms/step - loss: 0.0057\n",
            "Epoch 7/50\n",
            "1/1 [==============================] - 0s 17ms/step - loss: 0.0050\n",
            "Epoch 8/50\n",
            "1/1 [==============================] - 0s 17ms/step - loss: 0.0048\n",
            "Epoch 9/50\n",
            "1/1 [==============================] - 0s 20ms/step - loss: 0.0045\n",
            "Epoch 10/50\n",
            "1/1 [==============================] - 0s 20ms/step - loss: 0.0050\n",
            "Epoch 11/50\n",
            "1/1 [==============================] - 0s 20ms/step - loss: 0.0059\n",
            "Epoch 12/50\n",
            "1/1 [==============================] - 0s 20ms/step - loss: 0.0052\n",
            "Epoch 13/50\n",
            "1/1 [==============================] - 0s 22ms/step - loss: 0.0047\n",
            "Epoch 14/50\n",
            "1/1 [==============================] - 0s 20ms/step - loss: 0.0046\n",
            "Epoch 15/50\n",
            "1/1 [==============================] - 0s 22ms/step - loss: 0.0046\n",
            "Epoch 16/50\n",
            "1/1 [==============================] - 0s 21ms/step - loss: 0.0047\n",
            "Epoch 17/50\n",
            "1/1 [==============================] - 0s 28ms/step - loss: 0.0052\n",
            "Epoch 18/50\n",
            "1/1 [==============================] - 0s 22ms/step - loss: 0.0059\n",
            "Epoch 19/50\n",
            "1/1 [==============================] - 0s 21ms/step - loss: 0.0038\n",
            "Epoch 20/50\n",
            "1/1 [==============================] - 0s 19ms/step - loss: 0.0048\n",
            "Epoch 21/50\n",
            "1/1 [==============================] - 0s 21ms/step - loss: 0.0051\n",
            "Epoch 22/50\n",
            "1/1 [==============================] - 0s 22ms/step - loss: 0.0045\n",
            "Epoch 23/50\n",
            "1/1 [==============================] - 0s 31ms/step - loss: 0.0046\n",
            "Epoch 24/50\n",
            "1/1 [==============================] - 0s 18ms/step - loss: 0.0046\n",
            "Epoch 25/50\n",
            "1/1 [==============================] - 0s 20ms/step - loss: 0.0043\n",
            "Epoch 26/50\n",
            "1/1 [==============================] - 0s 23ms/step - loss: 0.0056\n",
            "Epoch 27/50\n",
            "1/1 [==============================] - 0s 20ms/step - loss: 0.0052\n",
            "Epoch 28/50\n",
            "1/1 [==============================] - 0s 21ms/step - loss: 0.0048\n",
            "Epoch 29/50\n",
            "1/1 [==============================] - 0s 19ms/step - loss: 0.0055\n",
            "Epoch 30/50\n",
            "1/1 [==============================] - 0s 16ms/step - loss: 0.0045\n",
            "Epoch 31/50\n",
            "1/1 [==============================] - 0s 29ms/step - loss: 0.0044\n",
            "Epoch 32/50\n",
            "1/1 [==============================] - 0s 21ms/step - loss: 0.0043\n",
            "Epoch 33/50\n",
            "1/1 [==============================] - 0s 23ms/step - loss: 0.0043\n",
            "Epoch 34/50\n",
            "1/1 [==============================] - 0s 20ms/step - loss: 0.0046\n",
            "Epoch 35/50\n",
            "1/1 [==============================] - 0s 27ms/step - loss: 0.0039\n",
            "Epoch 36/50\n",
            "1/1 [==============================] - 0s 20ms/step - loss: 0.0053\n",
            "Epoch 37/50\n",
            "1/1 [==============================] - 0s 20ms/step - loss: 0.0045\n",
            "Epoch 38/50\n",
            "1/1 [==============================] - 0s 23ms/step - loss: 0.0047\n",
            "Epoch 39/50\n",
            "1/1 [==============================] - 0s 20ms/step - loss: 0.0047\n",
            "Epoch 40/50\n",
            "1/1 [==============================] - 0s 20ms/step - loss: 0.0048\n",
            "Epoch 41/50\n",
            "1/1 [==============================] - 0s 21ms/step - loss: 0.0044\n",
            "Epoch 42/50\n",
            "1/1 [==============================] - 0s 19ms/step - loss: 0.0044\n",
            "Epoch 43/50\n",
            "1/1 [==============================] - 0s 20ms/step - loss: 0.0047\n",
            "Epoch 44/50\n",
            "1/1 [==============================] - 0s 20ms/step - loss: 0.0044\n",
            "Epoch 45/50\n",
            "1/1 [==============================] - 0s 20ms/step - loss: 0.0043\n",
            "Epoch 46/50\n",
            "1/1 [==============================] - 0s 22ms/step - loss: 0.0048\n",
            "Epoch 47/50\n",
            "1/1 [==============================] - 0s 27ms/step - loss: 0.0055\n",
            "Epoch 48/50\n",
            "1/1 [==============================] - 0s 22ms/step - loss: 0.0051\n",
            "Epoch 49/50\n",
            "1/1 [==============================] - 0s 18ms/step - loss: 0.0041\n",
            "Epoch 50/50\n",
            "1/1 [==============================] - 0s 19ms/step - loss: 0.0044\n",
            "1/1 [==============================] - 1s 1s/step\n",
            "Model Number: 187 with model Theta in generation 0 of 10\n",
            "Model Number: 188 with model SeasonalNaive in generation 0 of 10\n",
            "Model Number: 189 with model SectionalMotif in generation 0 of 10\n",
            "Template Eval Error: ValueError('zero-size array to reduction operation fmax which has no identity') in model 189: SectionalMotif\n",
            "Model Number: 190 with model SeasonalNaive in generation 0 of 10\n",
            "Model Number: 191 with model SeasonalityMotif in generation 0 of 10\n",
            "Template Eval Error: ValueError('kth(=2) out of bounds (1)') in model 191: SeasonalityMotif\n",
            "Model Number: 192 with model GLM in generation 0 of 10\n",
            "Template Eval Error: ValueError('NaN, inf or invalid value detected in weights, estimation infeasible.') in model 192: GLM\n",
            "Model Number: 193 with model UnobservedComponents in generation 0 of 10\n"
          ]
        },
        {
          "output_type": "stream",
          "name": "stderr",
          "text": [
            "/usr/local/lib/python3.8/dist-packages/numpy/lib/function_base.py:380: RuntimeWarning: Mean of empty slice.\n",
            "  avg = a.mean(axis)\n",
            "/usr/local/lib/python3.8/dist-packages/numpy/core/_methods.py:181: RuntimeWarning: invalid value encountered in true_divide\n",
            "  ret = um.true_divide(\n",
            "/usr/local/lib/python3.8/dist-packages/statsmodels/genmod/families/family.py:428: RuntimeWarning: divide by zero encountered in true_divide\n",
            "  endog_mu = self._clean(endog / mu)\n",
            "/usr/local/lib/python3.8/dist-packages/statsmodels/genmod/families/family.py:134: RuntimeWarning: divide by zero encountered in true_divide\n",
            "  return 1. / (self.link.deriv(mu)**2 * self.variance(mu))\n"
          ]
        },
        {
          "output_type": "stream",
          "name": "stdout",
          "text": [
            "New Generation: 1 of 10\n",
            "Model Number: 194 with model LastValueNaive in generation 1 of 10\n",
            "Model Number: 195 with model LastValueNaive in generation 1 of 10\n",
            "Model Number: 196 with model LastValueNaive in generation 1 of 10\n",
            "Model Number: 197 with model UnobservedComponents in generation 1 of 10\n",
            "Template Eval Error: ValueError(\"regression_type='User' but no future_regressor supplied\") in model 197: UnobservedComponents\n",
            "Model Number: 198 with model UnobservedComponents in generation 1 of 10\n",
            "Model Number: 199 with model UnobservedComponents in generation 1 of 10\n",
            "Model Number: 200 with model MultivariateRegression in generation 1 of 10\n"
          ]
        },
        {
          "output_type": "stream",
          "name": "stderr",
          "text": [
            "/usr/local/lib/python3.8/dist-packages/sklearn/svm/_base.py:1206: ConvergenceWarning: Liblinear failed to converge, increase the number of iterations.\n",
            "  warnings.warn(\n",
            "/usr/local/lib/python3.8/dist-packages/sklearn/svm/_base.py:1206: ConvergenceWarning: Liblinear failed to converge, increase the number of iterations.\n",
            "  warnings.warn(\n"
          ]
        },
        {
          "output_type": "stream",
          "name": "stdout",
          "text": [
            "Model Number: 201 with model MultivariateRegression in generation 1 of 10\n",
            "Template Eval Error: Exception('Transformer Cointegration failed on fit') in model 201: MultivariateRegression\n",
            "Model Number: 202 with model MultivariateRegression in generation 1 of 10\n",
            "Model Number: 203 with model NVAR in generation 1 of 10\n",
            "Model Number: 204 with model NVAR in generation 1 of 10\n",
            "Model Number: 205 with model NVAR in generation 1 of 10\n",
            "Model Number: 206 with model DatepartRegression in generation 1 of 10\n",
            "Template Eval Error: Exception('Transformer DatepartRegression failed on fit') in model 206: DatepartRegression\n",
            "Model Number: 207 with model DatepartRegression in generation 1 of 10\n",
            "Model Number: 208 with model DatepartRegression in generation 1 of 10\n",
            "Template Eval Error: Exception('Transformer DatepartRegression failed on fit') in model 208: DatepartRegression\n",
            "Model Number: 209 with model DatepartRegression in generation 1 of 10\n",
            "Template Eval Error: ValueError(\"regression_type='User' but no future_regressor passed\") in model 209: DatepartRegression\n",
            "Model Number: 210 with model DatepartRegression in generation 1 of 10\n",
            "Model Number: 211 with model DatepartRegression in generation 1 of 10\n"
          ]
        },
        {
          "output_type": "stream",
          "name": "stderr",
          "text": [
            "/usr/local/lib/python3.8/dist-packages/sklearn/neural_network/_multilayer_perceptron.py:549: ConvergenceWarning: lbfgs failed to converge (status=1):\n",
            "STOP: TOTAL NO. of ITERATIONS REACHED LIMIT.\n",
            "\n",
            "Increase the number of iterations (max_iter) or scale the data as shown in:\n",
            "    https://scikit-learn.org/stable/modules/preprocessing.html\n",
            "  self.n_iter_ = _check_optimize_result(\"lbfgs\", opt_res, self.max_iter)\n"
          ]
        },
        {
          "output_type": "stream",
          "name": "stdout",
          "text": [
            "Model Number: 212 with model NVAR in generation 1 of 10\n",
            "Template Eval Error: IndexError('index -6 is out of bounds for axis 1 with size 5') in model 212: NVAR\n",
            "Model Number: 213 with model NVAR in generation 1 of 10\n",
            "Model Number: 214 with model NVAR in generation 1 of 10\n",
            "Model Number: 215 with model DatepartRegression in generation 1 of 10\n",
            "Model Number: 216 with model DatepartRegression in generation 1 of 10\n",
            "Model Number: 217 with model DatepartRegression in generation 1 of 10\n"
          ]
        },
        {
          "output_type": "stream",
          "name": "stderr",
          "text": [
            "[Parallel(n_jobs=-2)]: Using backend SequentialBackend with 1 concurrent workers.\n",
            "[Parallel(n_jobs=-2)]: Done 1000 out of 1000 | elapsed:    0.8s finished\n",
            "[Parallel(n_jobs=1)]: Using backend SequentialBackend with 1 concurrent workers.\n",
            "[Parallel(n_jobs=1)]: Done 1000 out of 1000 | elapsed:    0.1s finished\n"
          ]
        },
        {
          "output_type": "stream",
          "name": "stdout",
          "text": [
            "Model Number: 218 with model Theta in generation 1 of 10\n",
            "Model Number: 219 with model Theta in generation 1 of 10\n",
            "Model Number: 220 with model Theta in generation 1 of 10\n",
            "Model Number: 221 with model DatepartRegression in generation 1 of 10\n",
            "Template Eval Error: ValueError(\"regression_type='User' but no future_regressor passed\") in model 221: DatepartRegression\n",
            "Model Number: 222 with model DatepartRegression in generation 1 of 10\n",
            "Template Eval Error: Exception('Transformer Detrend failed on fit') in model 222: DatepartRegression\n",
            "Model Number: 223 with model DatepartRegression in generation 1 of 10\n",
            "Template Eval Error: Exception('Transformer Detrend failed on fit') in model 223: DatepartRegression\n",
            "Model Number: 224 with model UnobservedComponents in generation 1 of 10\n",
            "Template Eval Error: ValueError(\"regression_type='User' but no future_regressor supplied\") in model 224: UnobservedComponents\n",
            "Model Number: 225 with model UnobservedComponents in generation 1 of 10\n",
            "Model Number: 226 with model UnobservedComponents in generation 1 of 10\n",
            "Model Number: 227 with model UnobservedComponents in generation 1 of 10\n",
            "Model Number: 228 with model UnobservedComponents in generation 1 of 10\n",
            "Model Number: 229 with model UnobservedComponents in generation 1 of 10\n",
            "Model Number: 230 with model DatepartRegression in generation 1 of 10\n",
            "Template Eval Error: ValueError(\"regression_type='User' but no future_regressor passed\") in model 230: DatepartRegression\n",
            "Model Number: 231 with model DatepartRegression in generation 1 of 10\n",
            "Model Number: 232 with model DatepartRegression in generation 1 of 10\n",
            "Model Number: 233 with model AverageValueNaive in generation 1 of 10\n",
            "Model Number: 234 with model AverageValueNaive in generation 1 of 10\n",
            "Model Number: 235 with model SeasonalNaive in generation 1 of 10\n",
            "Model Number: 236 with model SeasonalNaive in generation 1 of 10\n"
          ]
        },
        {
          "output_type": "stream",
          "name": "stderr",
          "text": [
            "/usr/local/lib/python3.8/dist-packages/sklearn/svm/_base.py:1206: ConvergenceWarning: Liblinear failed to converge, increase the number of iterations.\n",
            "  warnings.warn(\n"
          ]
        },
        {
          "output_type": "stream",
          "name": "stdout",
          "text": [
            "Model Number: 237 with model SeasonalNaive in generation 1 of 10\n",
            "Model Number: 238 with model FBProphet in generation 1 of 10\n"
          ]
        },
        {
          "output_type": "stream",
          "name": "stderr",
          "text": [
            "INFO:prophet:Disabling yearly seasonality. Run prophet with yearly_seasonality=True to override this.\n",
            "INFO:prophet:Disabling weekly seasonality. Run prophet with weekly_seasonality=True to override this.\n",
            "INFO:prophet:Disabling daily seasonality. Run prophet with daily_seasonality=True to override this.\n",
            "INFO:prophet:n_changepoints greater than number of observations. Using 8.\n",
            "DEBUG:cmdstanpy:input tempfile: /tmp/tmpmodfer6_/6g2is7fy.json\n",
            "DEBUG:cmdstanpy:input tempfile: /tmp/tmpmodfer6_/9usmtmkj.json\n",
            "DEBUG:cmdstanpy:idx 0\n",
            "DEBUG:cmdstanpy:running CmdStan, num_threads: None\n",
            "DEBUG:cmdstanpy:CmdStan args: ['/usr/local/lib/python3.8/dist-packages/prophet/stan_model/prophet_model.bin', 'random', 'seed=82731', 'data', 'file=/tmp/tmpmodfer6_/6g2is7fy.json', 'init=/tmp/tmpmodfer6_/9usmtmkj.json', 'output', 'file=/tmp/tmpmodfer6_/prophet_modelv8_d3sd7/prophet_model-20221205204821.csv', 'method=optimize', 'algorithm=newton', 'iter=10000']\n",
            "20:48:21 - cmdstanpy - INFO - Chain [1] start processing\n",
            "INFO:cmdstanpy:Chain [1] start processing\n",
            "20:48:21 - cmdstanpy - INFO - Chain [1] done processing\n",
            "INFO:cmdstanpy:Chain [1] done processing\n",
            "INFO:prophet:Disabling yearly seasonality. Run prophet with yearly_seasonality=True to override this.\n",
            "INFO:prophet:Disabling weekly seasonality. Run prophet with weekly_seasonality=True to override this.\n",
            "INFO:prophet:Disabling daily seasonality. Run prophet with daily_seasonality=True to override this.\n",
            "INFO:prophet:n_changepoints greater than number of observations. Using 8.\n",
            "DEBUG:cmdstanpy:input tempfile: /tmp/tmpmodfer6_/vg2c5eoq.json\n",
            "DEBUG:cmdstanpy:input tempfile: /tmp/tmpmodfer6_/d68sxbep.json\n",
            "DEBUG:cmdstanpy:idx 0\n",
            "DEBUG:cmdstanpy:running CmdStan, num_threads: None\n",
            "DEBUG:cmdstanpy:CmdStan args: ['/usr/local/lib/python3.8/dist-packages/prophet/stan_model/prophet_model.bin', 'random', 'seed=60141', 'data', 'file=/tmp/tmpmodfer6_/vg2c5eoq.json', 'init=/tmp/tmpmodfer6_/d68sxbep.json', 'output', 'file=/tmp/tmpmodfer6_/prophet_modelvfi08sbw/prophet_model-20221205204822.csv', 'method=optimize', 'algorithm=newton', 'iter=10000']\n",
            "20:48:22 - cmdstanpy - INFO - Chain [1] start processing\n",
            "INFO:cmdstanpy:Chain [1] start processing\n",
            "20:48:22 - cmdstanpy - INFO - Chain [1] done processing\n",
            "INFO:cmdstanpy:Chain [1] done processing\n"
          ]
        },
        {
          "output_type": "stream",
          "name": "stdout",
          "text": [
            "Model Number: 239 with model FBProphet in generation 1 of 10\n",
            "No anomalies detected.\n"
          ]
        },
        {
          "output_type": "stream",
          "name": "stderr",
          "text": [
            "INFO:prophet:Disabling yearly seasonality. Run prophet with yearly_seasonality=True to override this.\n",
            "INFO:prophet:Disabling weekly seasonality. Run prophet with weekly_seasonality=True to override this.\n",
            "INFO:prophet:Disabling daily seasonality. Run prophet with daily_seasonality=True to override this.\n",
            "INFO:prophet:n_changepoints greater than number of observations. Using 8.\n",
            "DEBUG:cmdstanpy:input tempfile: /tmp/tmpmodfer6_/71ft63e7.json\n",
            "DEBUG:cmdstanpy:input tempfile: /tmp/tmpmodfer6_/r2o_1g66.json\n",
            "DEBUG:cmdstanpy:idx 0\n",
            "DEBUG:cmdstanpy:running CmdStan, num_threads: None\n",
            "DEBUG:cmdstanpy:CmdStan args: ['/usr/local/lib/python3.8/dist-packages/prophet/stan_model/prophet_model.bin', 'random', 'seed=63798', 'data', 'file=/tmp/tmpmodfer6_/71ft63e7.json', 'init=/tmp/tmpmodfer6_/r2o_1g66.json', 'output', 'file=/tmp/tmpmodfer6_/prophet_modelrk7kdql8/prophet_model-20221205204823.csv', 'method=optimize', 'algorithm=newton', 'iter=10000']\n",
            "20:48:23 - cmdstanpy - INFO - Chain [1] start processing\n",
            "INFO:cmdstanpy:Chain [1] start processing\n",
            "20:48:23 - cmdstanpy - INFO - Chain [1] done processing\n",
            "INFO:cmdstanpy:Chain [1] done processing\n"
          ]
        },
        {
          "output_type": "stream",
          "name": "stdout",
          "text": [
            "Model Number: 240 with model FBProphet in generation 1 of 10\n",
            "Model Number: 241 with model ConstantNaive in generation 1 of 10\n",
            "Model Number: 242 with model ConstantNaive in generation 1 of 10\n",
            "Model Number: 243 with model ConstantNaive in generation 1 of 10\n",
            "Model Number: 244 with model NVAR in generation 1 of 10\n",
            "Model Number: 245 with model NVAR in generation 1 of 10\n",
            "Template Eval Error: Exception('Transformer MinMaxScaler failed on inverse') in model 245: NVAR\n",
            "Model Number: 246 with model NVAR in generation 1 of 10\n",
            "Model Number: 247 with model ConstantNaive in generation 1 of 10\n",
            "Model Number: 248 with model ConstantNaive in generation 1 of 10\n",
            "Model Number: 249 with model ConstantNaive in generation 1 of 10\n",
            "Template Eval Error: Exception('Transformer ScipyFilter failed on fit') in model 249: ConstantNaive\n",
            "Model Number: 250 with model AverageValueNaive in generation 1 of 10\n",
            "Model Number: 251 with model AverageValueNaive in generation 1 of 10\n",
            "Model Number: 252 with model LastValueNaive in generation 1 of 10\n",
            "Model Number: 253 with model LastValueNaive in generation 1 of 10\n",
            "Model Number: 254 with model LastValueNaive in generation 1 of 10\n",
            "Model Number: 255 with model GLS in generation 1 of 10\n",
            "Model Number: 256 with model GLS in generation 1 of 10\n",
            "Model Number: 257 with model ETS in generation 1 of 10\n",
            "Model Number: 258 with model ETS in generation 1 of 10\n",
            "ETS failed on followers_gained with ValueError('operands could not be broadcast together with shapes (0,) (11,) ')\n",
            "Model Number: 259 with model UnobservedComponents in generation 1 of 10\n",
            "Model Number: 260 with model UnobservedComponents in generation 1 of 10\n",
            "Model Number: 261 with model LastValueNaive in generation 1 of 10\n",
            "Model Number: 262 with model FBProphet in generation 1 of 10\n"
          ]
        },
        {
          "output_type": "stream",
          "name": "stderr",
          "text": [
            "INFO:prophet:Disabling yearly seasonality. Run prophet with yearly_seasonality=True to override this.\n",
            "INFO:prophet:Disabling weekly seasonality. Run prophet with weekly_seasonality=True to override this.\n",
            "INFO:prophet:Disabling daily seasonality. Run prophet with daily_seasonality=True to override this.\n",
            "INFO:prophet:n_changepoints greater than number of observations. Using 7.\n",
            "DEBUG:cmdstanpy:input tempfile: /tmp/tmpmodfer6_/8gqp8lx9.json\n",
            "DEBUG:cmdstanpy:input tempfile: /tmp/tmpmodfer6_/yfrzb9d7.json\n",
            "DEBUG:cmdstanpy:idx 0\n",
            "DEBUG:cmdstanpy:running CmdStan, num_threads: None\n",
            "DEBUG:cmdstanpy:CmdStan args: ['/usr/local/lib/python3.8/dist-packages/prophet/stan_model/prophet_model.bin', 'random', 'seed=75078', 'data', 'file=/tmp/tmpmodfer6_/8gqp8lx9.json', 'init=/tmp/tmpmodfer6_/yfrzb9d7.json', 'output', 'file=/tmp/tmpmodfer6_/prophet_modelsyicin5r/prophet_model-20221205204824.csv', 'method=optimize', 'algorithm=newton', 'iter=10000']\n",
            "20:48:24 - cmdstanpy - INFO - Chain [1] start processing\n",
            "INFO:cmdstanpy:Chain [1] start processing\n",
            "20:48:24 - cmdstanpy - INFO - Chain [1] done processing\n",
            "INFO:cmdstanpy:Chain [1] done processing\n",
            "INFO:prophet:Disabling yearly seasonality. Run prophet with yearly_seasonality=True to override this.\n",
            "INFO:prophet:Disabling weekly seasonality. Run prophet with weekly_seasonality=True to override this.\n",
            "INFO:prophet:Disabling daily seasonality. Run prophet with daily_seasonality=True to override this.\n",
            "INFO:prophet:n_changepoints greater than number of observations. Using 8.\n",
            "DEBUG:cmdstanpy:input tempfile: /tmp/tmpmodfer6_/inb4cotv.json\n",
            "DEBUG:cmdstanpy:input tempfile: /tmp/tmpmodfer6_/dxwaxvzm.json\n",
            "DEBUG:cmdstanpy:idx 0\n",
            "DEBUG:cmdstanpy:running CmdStan, num_threads: None\n",
            "DEBUG:cmdstanpy:CmdStan args: ['/usr/local/lib/python3.8/dist-packages/prophet/stan_model/prophet_model.bin', 'random', 'seed=2791', 'data', 'file=/tmp/tmpmodfer6_/inb4cotv.json', 'init=/tmp/tmpmodfer6_/dxwaxvzm.json', 'output', 'file=/tmp/tmpmodfer6_/prophet_modelcshlepoj/prophet_model-20221205204825.csv', 'method=optimize', 'algorithm=newton', 'iter=10000']\n",
            "20:48:25 - cmdstanpy - INFO - Chain [1] start processing\n",
            "INFO:cmdstanpy:Chain [1] start processing\n",
            "20:48:25 - cmdstanpy - INFO - Chain [1] done processing\n",
            "INFO:cmdstanpy:Chain [1] done processing\n"
          ]
        },
        {
          "output_type": "stream",
          "name": "stdout",
          "text": [
            "Model Number: 263 with model FBProphet in generation 1 of 10\n",
            "Model Number: 264 with model UnobservedComponents in generation 1 of 10\n",
            "Model Number: 265 with model UnobservedComponents in generation 1 of 10\n",
            "Model Number: 266 with model ETS in generation 1 of 10\n",
            "Model Number: 267 with model ETS in generation 1 of 10\n",
            "Template Eval Error: Exception('Transformer Cointegration failed on fit') in model 267: ETS\n",
            "Model Number: 268 with model Theta in generation 1 of 10\n",
            "Model Number: 269 with model Theta in generation 1 of 10\n",
            "Model Number: 270 with model SeasonalNaive in generation 1 of 10\n",
            "Model Number: 271 with model SeasonalNaive in generation 1 of 10\n",
            "Model Number: 272 with model ETS in generation 1 of 10\n",
            "Model Number: 273 with model ETS in generation 1 of 10\n",
            "Model Number: 274 with model AverageValueNaive in generation 1 of 10\n",
            "Template Eval Error: Exception('Transformer ScipyFilter failed on fit') in model 274: AverageValueNaive\n",
            "Model Number: 275 with model AverageValueNaive in generation 1 of 10\n"
          ]
        },
        {
          "output_type": "stream",
          "name": "stderr",
          "text": [
            "/usr/local/lib/python3.8/dist-packages/autots/tools/probabilistic.py:67: RuntimeWarning: invalid value encountered in true_divide\n",
            "  (prior_mu / prior_sigma**2) + ((n * data_mu) / prior_sigma**2)\n",
            "/usr/local/lib/python3.8/dist-packages/autots/tools/probabilistic.py:68: RuntimeWarning: divide by zero encountered in true_divide\n",
            "  ) / ((1 / prior_sigma**2) + (n / prior_sigma**2))\n"
          ]
        },
        {
          "output_type": "stream",
          "name": "stdout",
          "text": [
            "Model Number: 276 with model ETS in generation 1 of 10\n",
            "Model Number: 277 with model ETS in generation 1 of 10\n",
            "Model Number: 278 with model LastValueNaive in generation 1 of 10\n",
            "Model Number: 279 with model LastValueNaive in generation 1 of 10\n",
            "Model Number: 280 with model FBProphet in generation 1 of 10\n"
          ]
        },
        {
          "output_type": "stream",
          "name": "stderr",
          "text": [
            "/usr/local/lib/python3.8/dist-packages/autots/tools/probabilistic.py:67: RuntimeWarning: invalid value encountered in true_divide\n",
            "  (prior_mu / prior_sigma**2) + ((n * data_mu) / prior_sigma**2)\n",
            "/usr/local/lib/python3.8/dist-packages/autots/tools/probabilistic.py:68: RuntimeWarning: divide by zero encountered in true_divide\n",
            "  ) / ((1 / prior_sigma**2) + (n / prior_sigma**2))\n",
            "INFO:prophet:Disabling yearly seasonality. Run prophet with yearly_seasonality=True to override this.\n",
            "INFO:prophet:Disabling weekly seasonality. Run prophet with weekly_seasonality=True to override this.\n",
            "INFO:prophet:Disabling daily seasonality. Run prophet with daily_seasonality=True to override this.\n",
            "INFO:prophet:n_changepoints greater than number of observations. Using 9.\n",
            "DEBUG:cmdstanpy:input tempfile: /tmp/tmpmodfer6_/26i60e72.json\n",
            "DEBUG:cmdstanpy:input tempfile: /tmp/tmpmodfer6_/gsmeua_z.json\n",
            "DEBUG:cmdstanpy:idx 0\n",
            "DEBUG:cmdstanpy:running CmdStan, num_threads: None\n",
            "DEBUG:cmdstanpy:CmdStan args: ['/usr/local/lib/python3.8/dist-packages/prophet/stan_model/prophet_model.bin', 'random', 'seed=57561', 'data', 'file=/tmp/tmpmodfer6_/26i60e72.json', 'init=/tmp/tmpmodfer6_/gsmeua_z.json', 'output', 'file=/tmp/tmpmodfer6_/prophet_modelfmt8dh9u/prophet_model-20221205204827.csv', 'method=optimize', 'algorithm=newton', 'iter=10000']\n",
            "20:48:27 - cmdstanpy - INFO - Chain [1] start processing\n",
            "INFO:cmdstanpy:Chain [1] start processing\n",
            "20:48:27 - cmdstanpy - INFO - Chain [1] done processing\n",
            "INFO:cmdstanpy:Chain [1] done processing\n",
            "INFO:prophet:Disabling yearly seasonality. Run prophet with yearly_seasonality=True to override this.\n",
            "INFO:prophet:Disabling weekly seasonality. Run prophet with weekly_seasonality=True to override this.\n",
            "INFO:prophet:Disabling daily seasonality. Run prophet with daily_seasonality=True to override this.\n",
            "INFO:prophet:n_changepoints greater than number of observations. Using 3.\n",
            "DEBUG:cmdstanpy:input tempfile: /tmp/tmpmodfer6_/5t2cnc04.json\n",
            "DEBUG:cmdstanpy:input tempfile: /tmp/tmpmodfer6_/o81y7ab_.json\n",
            "DEBUG:cmdstanpy:idx 0\n",
            "DEBUG:cmdstanpy:running CmdStan, num_threads: None\n",
            "DEBUG:cmdstanpy:CmdStan args: ['/usr/local/lib/python3.8/dist-packages/prophet/stan_model/prophet_model.bin', 'random', 'seed=18573', 'data', 'file=/tmp/tmpmodfer6_/5t2cnc04.json', 'init=/tmp/tmpmodfer6_/o81y7ab_.json', 'output', 'file=/tmp/tmpmodfer6_/prophet_modelzknrd5tb/prophet_model-20221205204828.csv', 'method=optimize', 'algorithm=newton', 'iter=10000']\n",
            "20:48:28 - cmdstanpy - INFO - Chain [1] start processing\n",
            "INFO:cmdstanpy:Chain [1] start processing\n",
            "20:48:28 - cmdstanpy - INFO - Chain [1] done processing\n",
            "INFO:cmdstanpy:Chain [1] done processing\n"
          ]
        },
        {
          "output_type": "stream",
          "name": "stdout",
          "text": [
            "Model Number: 281 with model FBProphet in generation 1 of 10\n",
            "Model Number: 282 with model MultivariateRegression in generation 1 of 10\n",
            "Template Eval Error: Exception('Transformer Cointegration failed on fit') in model 282: MultivariateRegression\n",
            "Model Number: 283 with model MultivariateRegression in generation 1 of 10\n",
            "Model Number: 284 with model GLS in generation 1 of 10\n",
            "Model Number: 285 with model GLS in generation 1 of 10\n",
            "Model Number: 286 with model GLS in generation 1 of 10\n",
            "Model Number: 287 with model GLS in generation 1 of 10\n",
            "Model Number: 288 with model GLS in generation 1 of 10\n",
            "Model Number: 289 with model GLS in generation 1 of 10\n",
            "Model Number: 290 with model MultivariateRegression in generation 1 of 10\n"
          ]
        },
        {
          "output_type": "stream",
          "name": "stderr",
          "text": [
            "/usr/local/lib/python3.8/dist-packages/autots/tools/probabilistic.py:67: RuntimeWarning: invalid value encountered in true_divide\n",
            "  (prior_mu / prior_sigma**2) + ((n * data_mu) / prior_sigma**2)\n",
            "/usr/local/lib/python3.8/dist-packages/autots/tools/probabilistic.py:68: RuntimeWarning: divide by zero encountered in true_divide\n",
            "  ) / ((1 / prior_sigma**2) + (n / prior_sigma**2))\n",
            "/usr/local/lib/python3.8/dist-packages/autots/tools/probabilistic.py:67: RuntimeWarning: invalid value encountered in true_divide\n",
            "  (prior_mu / prior_sigma**2) + ((n * data_mu) / prior_sigma**2)\n",
            "/usr/local/lib/python3.8/dist-packages/autots/tools/probabilistic.py:68: RuntimeWarning: divide by zero encountered in true_divide\n",
            "  ) / ((1 / prior_sigma**2) + (n / prior_sigma**2))\n"
          ]
        },
        {
          "output_type": "stream",
          "name": "stdout",
          "text": [
            "Template Eval Error: ValueError(\"Input contains NaN, infinity or a value too large for dtype('float32').\") in model 290: MultivariateRegression\n",
            "Model Number: 291 with model MultivariateRegression in generation 1 of 10\n",
            "Model Number: 292 with model SeasonalNaive in generation 1 of 10\n",
            "Model Number: 293 with model SeasonalNaive in generation 1 of 10\n",
            "Model Number: 294 with model LastValueNaive in generation 1 of 10\n",
            "Model Number: 295 with model LastValueNaive in generation 1 of 10\n",
            "Model Number: 296 with model ConstantNaive in generation 1 of 10\n",
            "Model Number: 297 with model WindowRegression in generation 1 of 10\n",
            "Model Number: 298 with model SeasonalNaive in generation 1 of 10\n",
            "Model Number: 299 with model GLM in generation 1 of 10\n",
            "Template Eval Error: PerfectSeparationError('Perfect separation detected, results not available') in model 299: GLM\n",
            "Model Number: 300 with model GLS in generation 1 of 10\n",
            "Model Number: 301 with model SeasonalNaive in generation 1 of 10\n",
            "Model Number: 302 with model ETS in generation 1 of 10\n"
          ]
        },
        {
          "output_type": "stream",
          "name": "stderr",
          "text": [
            "/usr/local/lib/python3.8/dist-packages/sklearn/preprocessing/_data.py:3253: RuntimeWarning: divide by zero encountered in log\n",
            "  loglike = -n_samples / 2 * np.log(x_trans.var())\n",
            "/usr/local/lib/python3.8/dist-packages/autots/tools/probabilistic.py:67: RuntimeWarning: invalid value encountered in true_divide\n",
            "  (prior_mu / prior_sigma**2) + ((n * data_mu) / prior_sigma**2)\n",
            "/usr/local/lib/python3.8/dist-packages/autots/tools/probabilistic.py:68: RuntimeWarning: divide by zero encountered in true_divide\n",
            "  ) / ((1 / prior_sigma**2) + (n / prior_sigma**2))\n",
            "/usr/local/lib/python3.8/dist-packages/autots/tools/probabilistic.py:67: RuntimeWarning: invalid value encountered in true_divide\n",
            "  (prior_mu / prior_sigma**2) + ((n * data_mu) / prior_sigma**2)\n",
            "/usr/local/lib/python3.8/dist-packages/autots/tools/probabilistic.py:68: RuntimeWarning: divide by zero encountered in true_divide\n",
            "  ) / ((1 / prior_sigma**2) + (n / prior_sigma**2))\n"
          ]
        },
        {
          "output_type": "stream",
          "name": "stdout",
          "text": [
            "Model Number: 303 with model AverageValueNaive in generation 1 of 10\n",
            "Model Number: 304 with model ConstantNaive in generation 1 of 10\n",
            "Model Number: 305 with model Theta in generation 1 of 10\n",
            "Model Number: 306 with model MetricMotif in generation 1 of 10\n",
            "Template Eval Error: ValueError('window shape cannot be larger than input array shape') in model 306: MetricMotif\n"
          ]
        },
        {
          "output_type": "stream",
          "name": "stderr",
          "text": [
            "/usr/local/lib/python3.8/dist-packages/sklearn/svm/_base.py:1206: ConvergenceWarning: Liblinear failed to converge, increase the number of iterations.\n",
            "  warnings.warn(\n"
          ]
        },
        {
          "output_type": "stream",
          "name": "stdout",
          "text": [
            "Model Number: 307 with model Theta in generation 1 of 10\n",
            "Model Number: 308 with model ARIMA in generation 1 of 10\n",
            "Model Number: 309 with model ARIMA in generation 1 of 10\n",
            "Model Number: 310 with model ARIMA in generation 1 of 10\n",
            "Model Number: 311 with model Theta in generation 1 of 10\n",
            "Model Number: 312 with model ARIMA in generation 1 of 10\n",
            "Model Number: 313 with model UnivariateRegression in generation 1 of 10\n",
            "New Generation: 2 of 10\n",
            "Model Number: 314 with model ETS in generation 2 of 10\n",
            "Template Eval Error: Exception('Transformer LocalLinearTrend failed on fit') in model 314: ETS\n",
            "Model Number: 315 with model NVAR in generation 2 of 10\n",
            "Model Number: 316 with model WindowRegression in generation 2 of 10\n",
            "Model Number: 317 with model GLS in generation 2 of 10\n",
            "Template Eval Error: Exception('Transformer STLFilter failed on fit') in model 317: GLS\n",
            "Model Number: 318 with model Theta in generation 2 of 10\n",
            "Model Number: 319 with model LastValueNaive in generation 2 of 10\n",
            "Model Number: 320 with model GLS in generation 2 of 10\n",
            "Model Number: 321 with model ARIMA in generation 2 of 10\n",
            "Model Number: 322 with model SeasonalNaive in generation 2 of 10\n",
            "Model Number: 323 with model SeasonalNaive in generation 2 of 10\n",
            "Model Number: 324 with model Theta in generation 2 of 10\n",
            "Model Number: 325 with model UnobservedComponents in generation 2 of 10\n",
            "Model Number: 326 with model ETS in generation 2 of 10\n",
            "Model Number: 327 with model FBProphet in generation 2 of 10\n",
            "Template Eval Error: ValueError(\"regression_type='User' but no future_regressor passed\") in model 327: FBProphet\n",
            "Model Number: 328 with model MetricMotif in generation 2 of 10\n",
            "Template Eval Error: Exception('Transformer ScipyFilter failed on fit') in model 328: MetricMotif\n",
            "Model Number: 329 with model ConstantNaive in generation 2 of 10\n"
          ]
        },
        {
          "output_type": "stream",
          "name": "stderr",
          "text": [
            "INFO:prophet:Disabling yearly seasonality. Run prophet with yearly_seasonality=True to override this.\n",
            "INFO:prophet:Disabling weekly seasonality. Run prophet with weekly_seasonality=True to override this.\n",
            "INFO:prophet:Disabling daily seasonality. Run prophet with daily_seasonality=True to override this.\n"
          ]
        },
        {
          "output_type": "stream",
          "name": "stdout",
          "text": [
            "Model Number: 330 with model FBProphet in generation 2 of 10\n",
            "No anomalies detected.\n"
          ]
        },
        {
          "output_type": "stream",
          "name": "stderr",
          "text": [
            "INFO:prophet:n_changepoints greater than number of observations. Using 7.\n",
            "DEBUG:cmdstanpy:input tempfile: /tmp/tmpmodfer6_/zwszbnbn.json\n",
            "DEBUG:cmdstanpy:input tempfile: /tmp/tmpmodfer6_/ud81bi41.json\n",
            "DEBUG:cmdstanpy:idx 0\n",
            "DEBUG:cmdstanpy:running CmdStan, num_threads: None\n",
            "DEBUG:cmdstanpy:CmdStan args: ['/usr/local/lib/python3.8/dist-packages/prophet/stan_model/prophet_model.bin', 'random', 'seed=24400', 'data', 'file=/tmp/tmpmodfer6_/zwszbnbn.json', 'init=/tmp/tmpmodfer6_/ud81bi41.json', 'output', 'file=/tmp/tmpmodfer6_/prophet_modelxxmdrf8r/prophet_model-20221205204840.csv', 'method=optimize', 'algorithm=newton', 'iter=10000']\n",
            "20:48:40 - cmdstanpy - INFO - Chain [1] start processing\n",
            "INFO:cmdstanpy:Chain [1] start processing\n",
            "20:48:40 - cmdstanpy - INFO - Chain [1] done processing\n",
            "INFO:cmdstanpy:Chain [1] done processing\n"
          ]
        },
        {
          "output_type": "stream",
          "name": "stdout",
          "text": [
            "Model Number: 331 with model NVAR in generation 2 of 10\n",
            "Template Eval Error: Exception('Transformer Cointegration failed on fit') in model 331: NVAR\n",
            "Model Number: 332 with model UnobservedComponents in generation 2 of 10\n",
            "Template Eval Error: ValueError(\"regression_type='User' but no future_regressor supplied\") in model 332: UnobservedComponents\n",
            "Model Number: 333 with model ETS in generation 2 of 10\n",
            "ETS failed on followers_gained with ValueError('operands could not be broadcast together with shapes (0,) (11,) ')\n",
            "Model Number: 334 with model MultivariateRegression in generation 2 of 10\n",
            "Model Number: 335 with model AverageValueNaive in generation 2 of 10\n",
            "Model Number: 336 with model UnobservedComponents in generation 2 of 10\n"
          ]
        },
        {
          "output_type": "stream",
          "name": "stderr",
          "text": [
            "/usr/local/lib/python3.8/dist-packages/sklearn/svm/_base.py:1206: ConvergenceWarning: Liblinear failed to converge, increase the number of iterations.\n",
            "  warnings.warn(\n"
          ]
        },
        {
          "output_type": "stream",
          "name": "stdout",
          "text": [
            "Model Number: 337 with model NVAR in generation 2 of 10\n",
            "Model Number: 338 with model LastValueNaive in generation 2 of 10\n",
            "Model Number: 339 with model ETS in generation 2 of 10\n",
            "Model Number: 340 with model ConstantNaive in generation 2 of 10\n",
            "Model Number: 341 with model LastValueNaive in generation 2 of 10\n",
            "Model Number: 342 with model ETS in generation 2 of 10\n",
            "Template Eval Error: Exception('Transformer LocalLinearTrend failed on fit') in model 342: ETS\n",
            "Model Number: 343 with model UnobservedComponents in generation 2 of 10\n",
            "Template Eval Error: LinAlgError('Singular matrix') in model 343: UnobservedComponents\n",
            "Model Number: 344 with model ETS in generation 2 of 10\n",
            "Model Number: 345 with model SeasonalNaive in generation 2 of 10\n",
            "Model Number: 346 with model UnobservedComponents in generation 2 of 10\n",
            "Template Eval Error: ValueError(\"regression_type='User' but no future_regressor supplied\") in model 346: UnobservedComponents\n",
            "Model Number: 347 with model DatepartRegression in generation 2 of 10\n",
            "Template Eval Error: ValueError(\"regression_type='User' but no future_regressor passed\") in model 347: DatepartRegression\n",
            "Model Number: 348 with model UnobservedComponents in generation 2 of 10\n",
            "Model Number: 349 with model SeasonalNaive in generation 2 of 10\n",
            "Model Number: 350 with model UnivariateRegression in generation 2 of 10\n",
            "Template Eval Error: ValueError(\"regression_type='User' but not future_regressor supplied.\") in model 350: UnivariateRegression\n",
            "Model Number: 351 with model LastValueNaive in generation 2 of 10\n",
            "Model Number: 352 with model DatepartRegression in generation 2 of 10\n",
            "Model Number: 353 with model FBProphet in generation 2 of 10\n",
            "No anomalies detected.\n"
          ]
        },
        {
          "output_type": "stream",
          "name": "stderr",
          "text": [
            "INFO:prophet:Disabling yearly seasonality. Run prophet with yearly_seasonality=True to override this.\n",
            "INFO:prophet:Disabling weekly seasonality. Run prophet with weekly_seasonality=True to override this.\n",
            "INFO:prophet:Disabling daily seasonality. Run prophet with daily_seasonality=True to override this.\n",
            "INFO:prophet:n_changepoints greater than number of observations. Using 8.\n",
            "DEBUG:cmdstanpy:input tempfile: /tmp/tmpmodfer6_/89qkffjc.json\n",
            "DEBUG:cmdstanpy:input tempfile: /tmp/tmpmodfer6_/zwedfxw9.json\n",
            "DEBUG:cmdstanpy:idx 0\n",
            "DEBUG:cmdstanpy:running CmdStan, num_threads: None\n",
            "DEBUG:cmdstanpy:CmdStan args: ['/usr/local/lib/python3.8/dist-packages/prophet/stan_model/prophet_model.bin', 'random', 'seed=9317', 'data', 'file=/tmp/tmpmodfer6_/89qkffjc.json', 'init=/tmp/tmpmodfer6_/zwedfxw9.json', 'output', 'file=/tmp/tmpmodfer6_/prophet_modelzugww16b/prophet_model-20221205204842.csv', 'method=optimize', 'algorithm=newton', 'iter=10000']\n",
            "20:48:42 - cmdstanpy - INFO - Chain [1] start processing\n",
            "INFO:cmdstanpy:Chain [1] start processing\n",
            "20:48:42 - cmdstanpy - INFO - Chain [1] done processing\n",
            "INFO:cmdstanpy:Chain [1] done processing\n"
          ]
        },
        {
          "output_type": "stream",
          "name": "stdout",
          "text": [
            "Model Number: 354 with model DatepartRegression in generation 2 of 10\n"
          ]
        },
        {
          "output_type": "stream",
          "name": "stderr",
          "text": [
            "[Parallel(n_jobs=-2)]: Using backend SequentialBackend with 1 concurrent workers.\n"
          ]
        },
        {
          "output_type": "stream",
          "name": "stdout",
          "text": [
            "Model Number: 355 with model DatepartRegression in generation 2 of 10\n",
            "Model Number: 356 with model NVAR in generation 2 of 10\n"
          ]
        },
        {
          "output_type": "stream",
          "name": "stderr",
          "text": [
            "[Parallel(n_jobs=-2)]: Done 300 out of 300 | elapsed:    0.2s finished\n",
            "[Parallel(n_jobs=1)]: Using backend SequentialBackend with 1 concurrent workers.\n",
            "[Parallel(n_jobs=1)]: Done 300 out of 300 | elapsed:    0.0s finished\n",
            "/usr/local/lib/python3.8/dist-packages/sklearn/linear_model/_coordinate_descent.py:647: ConvergenceWarning: Objective did not converge. You might want to increase the number of iterations, check the scale of the features or consider increasing regularisation. Duality gap: 0.000e+00, tolerance: 0.000e+00\n",
            "  model = cd_fast.enet_coordinate_descent(\n",
            "/usr/local/lib/python3.8/dist-packages/sklearn/linear_model/_coordinate_descent.py:647: ConvergenceWarning: Objective did not converge. You might want to increase the number of iterations, check the scale of the features or consider increasing regularisation. Duality gap: 0.000e+00, tolerance: 0.000e+00\n",
            "  model = cd_fast.enet_coordinate_descent(\n",
            "/usr/local/lib/python3.8/dist-packages/autots/tools/probabilistic.py:67: RuntimeWarning: invalid value encountered in true_divide\n",
            "  (prior_mu / prior_sigma**2) + ((n * data_mu) / prior_sigma**2)\n",
            "/usr/local/lib/python3.8/dist-packages/autots/tools/probabilistic.py:68: RuntimeWarning: divide by zero encountered in true_divide\n",
            "  ) / ((1 / prior_sigma**2) + (n / prior_sigma**2))\n"
          ]
        },
        {
          "output_type": "stream",
          "name": "stdout",
          "text": [
            "Model Number: 357 with model DatepartRegression in generation 2 of 10\n",
            "Epoch 1/50\n",
            "1/1 [==============================] - 7s 7s/step - loss: 0.2437\n",
            "Epoch 2/50\n",
            "1/1 [==============================] - 0s 15ms/step - loss: 0.2346\n",
            "Epoch 3/50\n",
            "1/1 [==============================] - 0s 13ms/step - loss: 0.2438\n",
            "Epoch 4/50\n",
            "1/1 [==============================] - 0s 14ms/step - loss: 0.2394\n",
            "Epoch 5/50\n",
            "1/1 [==============================] - 0s 12ms/step - loss: 0.2323\n",
            "Epoch 6/50\n",
            "1/1 [==============================] - 0s 10ms/step - loss: 0.2403\n",
            "Epoch 7/50\n",
            "1/1 [==============================] - 0s 11ms/step - loss: 0.2450\n",
            "Epoch 8/50\n",
            "1/1 [==============================] - 0s 11ms/step - loss: 0.2051\n",
            "Epoch 9/50\n",
            "1/1 [==============================] - 0s 14ms/step - loss: 0.2182\n",
            "Epoch 10/50\n",
            "1/1 [==============================] - 0s 18ms/step - loss: 0.2061\n",
            "Epoch 11/50\n",
            "1/1 [==============================] - 0s 11ms/step - loss: 0.2399\n",
            "Epoch 12/50\n",
            "1/1 [==============================] - 0s 18ms/step - loss: 0.2496\n",
            "Epoch 13/50\n",
            "1/1 [==============================] - 0s 12ms/step - loss: 0.2264\n",
            "Epoch 14/50\n",
            "1/1 [==============================] - 0s 21ms/step - loss: 0.2536\n",
            "Epoch 15/50\n",
            "1/1 [==============================] - 0s 19ms/step - loss: 0.2364\n",
            "Epoch 16/50\n",
            "1/1 [==============================] - 0s 26ms/step - loss: 0.2223\n",
            "Epoch 17/50\n",
            "1/1 [==============================] - 0s 12ms/step - loss: 0.2290\n",
            "Epoch 18/50\n",
            "1/1 [==============================] - 0s 10ms/step - loss: 0.2536\n",
            "Epoch 19/50\n",
            "1/1 [==============================] - 0s 14ms/step - loss: 0.2222\n",
            "Epoch 20/50\n",
            "1/1 [==============================] - 0s 11ms/step - loss: 0.2339\n",
            "Epoch 21/50\n",
            "1/1 [==============================] - 0s 15ms/step - loss: 0.2307\n",
            "Epoch 22/50\n",
            "1/1 [==============================] - 0s 35ms/step - loss: 0.2398\n",
            "Epoch 23/50\n",
            "1/1 [==============================] - 0s 14ms/step - loss: 0.2197\n",
            "Epoch 24/50\n",
            "1/1 [==============================] - 0s 15ms/step - loss: 0.1984\n",
            "Epoch 25/50\n",
            "1/1 [==============================] - 0s 19ms/step - loss: 0.2209\n",
            "Epoch 26/50\n",
            "1/1 [==============================] - 0s 14ms/step - loss: 0.2166\n",
            "Epoch 27/50\n",
            "1/1 [==============================] - 0s 18ms/step - loss: 0.2353\n",
            "Epoch 28/50\n",
            "1/1 [==============================] - 0s 12ms/step - loss: 0.2031\n",
            "Epoch 29/50\n",
            "1/1 [==============================] - 0s 14ms/step - loss: 0.2096\n",
            "Epoch 30/50\n",
            "1/1 [==============================] - 0s 12ms/step - loss: 0.2197\n",
            "Epoch 31/50\n",
            "1/1 [==============================] - 0s 13ms/step - loss: 0.2399\n",
            "Epoch 32/50\n",
            "1/1 [==============================] - 0s 18ms/step - loss: 0.2033\n",
            "Epoch 33/50\n",
            "1/1 [==============================] - 0s 18ms/step - loss: 0.2205\n",
            "Epoch 34/50\n",
            "1/1 [==============================] - 0s 15ms/step - loss: 0.2096\n",
            "Epoch 35/50\n",
            "1/1 [==============================] - 0s 18ms/step - loss: 0.2340\n",
            "Epoch 36/50\n",
            "1/1 [==============================] - 0s 14ms/step - loss: 0.2104\n",
            "Epoch 37/50\n",
            "1/1 [==============================] - 0s 14ms/step - loss: 0.2122\n",
            "Epoch 38/50\n",
            "1/1 [==============================] - 0s 12ms/step - loss: 0.2206\n",
            "Epoch 39/50\n",
            "1/1 [==============================] - 0s 16ms/step - loss: 0.1883\n",
            "Epoch 40/50\n",
            "1/1 [==============================] - 0s 11ms/step - loss: 0.2293\n",
            "Epoch 41/50\n",
            "1/1 [==============================] - 0s 12ms/step - loss: 0.2149\n",
            "Epoch 42/50\n",
            "1/1 [==============================] - 0s 12ms/step - loss: 0.2230\n",
            "Epoch 43/50\n",
            "1/1 [==============================] - 0s 12ms/step - loss: 0.2128\n",
            "Epoch 44/50\n",
            "1/1 [==============================] - 0s 12ms/step - loss: 0.2338\n",
            "Epoch 45/50\n",
            "1/1 [==============================] - 0s 12ms/step - loss: 0.2280\n",
            "Epoch 46/50\n",
            "1/1 [==============================] - 0s 16ms/step - loss: 0.2496\n",
            "Epoch 47/50\n",
            "1/1 [==============================] - 0s 12ms/step - loss: 0.2229\n",
            "Epoch 48/50\n",
            "1/1 [==============================] - 0s 12ms/step - loss: 0.2099\n",
            "Epoch 49/50\n",
            "1/1 [==============================] - 0s 12ms/step - loss: 0.2276\n",
            "Epoch 50/50\n",
            "1/1 [==============================] - 0s 12ms/step - loss: 0.2042\n",
            "1/1 [==============================] - 1s 1s/step\n",
            "Model Number: 358 with model LastValueNaive in generation 2 of 10\n"
          ]
        },
        {
          "output_type": "stream",
          "name": "stderr",
          "text": [
            "INFO:prophet:Disabling yearly seasonality. Run prophet with yearly_seasonality=True to override this.\n",
            "INFO:prophet:Disabling weekly seasonality. Run prophet with weekly_seasonality=True to override this.\n",
            "INFO:prophet:Disabling daily seasonality. Run prophet with daily_seasonality=True to override this.\n",
            "INFO:prophet:n_changepoints greater than number of observations. Using 7.\n",
            "DEBUG:cmdstanpy:input tempfile: /tmp/tmpmodfer6_/18g6xjvq.json\n",
            "DEBUG:cmdstanpy:input tempfile: /tmp/tmpmodfer6_/g4vwglok.json\n",
            "DEBUG:cmdstanpy:idx 0\n",
            "DEBUG:cmdstanpy:running CmdStan, num_threads: None\n",
            "DEBUG:cmdstanpy:CmdStan args: ['/usr/local/lib/python3.8/dist-packages/prophet/stan_model/prophet_model.bin', 'random', 'seed=648', 'data', 'file=/tmp/tmpmodfer6_/18g6xjvq.json', 'init=/tmp/tmpmodfer6_/g4vwglok.json', 'output', 'file=/tmp/tmpmodfer6_/prophet_modelgeu9resw/prophet_model-20221205204854.csv', 'method=optimize', 'algorithm=newton', 'iter=10000']\n",
            "20:48:54 - cmdstanpy - INFO - Chain [1] start processing\n",
            "INFO:cmdstanpy:Chain [1] start processing\n"
          ]
        },
        {
          "output_type": "stream",
          "name": "stdout",
          "text": [
            "Model Number: 359 with model FBProphet in generation 2 of 10\n"
          ]
        },
        {
          "output_type": "stream",
          "name": "stderr",
          "text": [
            "20:48:54 - cmdstanpy - INFO - Chain [1] done processing\n",
            "INFO:cmdstanpy:Chain [1] done processing\n"
          ]
        },
        {
          "output_type": "stream",
          "name": "stdout",
          "text": [
            "Model Number: 360 with model NVAR in generation 2 of 10\n",
            "Model Number: 361 with model ETS in generation 2 of 10\n"
          ]
        },
        {
          "output_type": "stream",
          "name": "stderr",
          "text": [
            "INFO:prophet:Disabling yearly seasonality. Run prophet with yearly_seasonality=True to override this.\n",
            "INFO:prophet:Disabling weekly seasonality. Run prophet with weekly_seasonality=True to override this.\n",
            "INFO:prophet:Disabling daily seasonality. Run prophet with daily_seasonality=True to override this.\n"
          ]
        },
        {
          "output_type": "stream",
          "name": "stdout",
          "text": [
            "Model Number: 362 with model FBProphet in generation 2 of 10\n",
            "No anomalies detected.\n"
          ]
        },
        {
          "output_type": "stream",
          "name": "stderr",
          "text": [
            "INFO:prophet:n_changepoints greater than number of observations. Using 7.\n",
            "DEBUG:cmdstanpy:input tempfile: /tmp/tmpmodfer6_/k8bkwyi8.json\n",
            "DEBUG:cmdstanpy:input tempfile: /tmp/tmpmodfer6_/s7eb641f.json\n",
            "DEBUG:cmdstanpy:idx 0\n",
            "DEBUG:cmdstanpy:running CmdStan, num_threads: None\n",
            "DEBUG:cmdstanpy:CmdStan args: ['/usr/local/lib/python3.8/dist-packages/prophet/stan_model/prophet_model.bin', 'random', 'seed=89177', 'data', 'file=/tmp/tmpmodfer6_/k8bkwyi8.json', 'init=/tmp/tmpmodfer6_/s7eb641f.json', 'output', 'file=/tmp/tmpmodfer6_/prophet_model6ru7uy2r/prophet_model-20221205204855.csv', 'method=optimize', 'algorithm=newton', 'iter=10000']\n",
            "20:48:55 - cmdstanpy - INFO - Chain [1] start processing\n",
            "INFO:cmdstanpy:Chain [1] start processing\n",
            "20:48:55 - cmdstanpy - INFO - Chain [1] done processing\n",
            "INFO:cmdstanpy:Chain [1] done processing\n"
          ]
        },
        {
          "output_type": "stream",
          "name": "stdout",
          "text": [
            "Model Number: 363 with model DatepartRegression in generation 2 of 10\n",
            "Model Number: 364 with model ETS in generation 2 of 10\n",
            "Model Number: 365 with model LastValueNaive in generation 2 of 10\n",
            "Model Number: 366 with model AverageValueNaive in generation 2 of 10\n",
            "Model Number: 367 with model LastValueNaive in generation 2 of 10\n",
            "Model Number: 368 with model GLS in generation 2 of 10\n"
          ]
        },
        {
          "output_type": "stream",
          "name": "stderr",
          "text": [
            "/usr/local/lib/python3.8/dist-packages/autots/tools/probabilistic.py:67: RuntimeWarning: invalid value encountered in true_divide\n",
            "  (prior_mu / prior_sigma**2) + ((n * data_mu) / prior_sigma**2)\n",
            "/usr/local/lib/python3.8/dist-packages/autots/tools/probabilistic.py:68: RuntimeWarning: divide by zero encountered in true_divide\n",
            "  ) / ((1 / prior_sigma**2) + (n / prior_sigma**2))\n",
            "/usr/local/lib/python3.8/dist-packages/autots/tools/probabilistic.py:67: RuntimeWarning: invalid value encountered in true_divide\n",
            "  (prior_mu / prior_sigma**2) + ((n * data_mu) / prior_sigma**2)\n",
            "/usr/local/lib/python3.8/dist-packages/autots/tools/probabilistic.py:68: RuntimeWarning: divide by zero encountered in true_divide\n",
            "  ) / ((1 / prior_sigma**2) + (n / prior_sigma**2))\n"
          ]
        },
        {
          "output_type": "stream",
          "name": "stdout",
          "text": [
            "Model Number: 369 with model SeasonalNaive in generation 2 of 10\n",
            "Model Number: 370 with model DatepartRegression in generation 2 of 10\n",
            "Template Eval Error: ValueError(\"regression_type='User' but no future_regressor passed\") in model 370: DatepartRegression\n",
            "Model Number: 371 with model NVAR in generation 2 of 10\n",
            "Template Eval Error: Exception('Transformer BTCD failed on fit') in model 371: NVAR\n",
            "Model Number: 372 with model ConstantNaive in generation 2 of 10\n",
            "Model Number: 373 with model SeasonalNaive in generation 2 of 10\n",
            "Model Number: 374 with model AverageValueNaive in generation 2 of 10\n",
            "Model Number: 375 with model Theta in generation 2 of 10\n",
            "Model Number: 376 with model DatepartRegression in generation 2 of 10\n",
            "Model Number: 377 with model LastValueNaive in generation 2 of 10\n",
            "Model Number: 378 with model Theta in generation 2 of 10\n",
            "Model Number: 379 with model DatepartRegression in generation 2 of 10\n",
            "Model Number: 380 with model NVAR in generation 2 of 10\n",
            "Model Number: 381 with model FBProphet in generation 2 of 10\n"
          ]
        },
        {
          "output_type": "stream",
          "name": "stderr",
          "text": [
            "INFO:prophet:Disabling yearly seasonality. Run prophet with yearly_seasonality=True to override this.\n",
            "INFO:prophet:Disabling weekly seasonality. Run prophet with weekly_seasonality=True to override this.\n",
            "INFO:prophet:Disabling daily seasonality. Run prophet with daily_seasonality=True to override this.\n",
            "INFO:prophet:n_changepoints greater than number of observations. Using 7.\n",
            "DEBUG:cmdstanpy:input tempfile: /tmp/tmpmodfer6_/_ko_6_b5.json\n",
            "DEBUG:cmdstanpy:input tempfile: /tmp/tmpmodfer6_/6vb7hlu9.json\n",
            "DEBUG:cmdstanpy:idx 0\n",
            "DEBUG:cmdstanpy:running CmdStan, num_threads: None\n",
            "DEBUG:cmdstanpy:CmdStan args: ['/usr/local/lib/python3.8/dist-packages/prophet/stan_model/prophet_model.bin', 'random', 'seed=93126', 'data', 'file=/tmp/tmpmodfer6_/_ko_6_b5.json', 'init=/tmp/tmpmodfer6_/6vb7hlu9.json', 'output', 'file=/tmp/tmpmodfer6_/prophet_modelzvyz_oxq/prophet_model-20221205204857.csv', 'method=optimize', 'algorithm=newton', 'iter=10000']\n",
            "20:48:57 - cmdstanpy - INFO - Chain [1] start processing\n",
            "INFO:cmdstanpy:Chain [1] start processing\n",
            "20:48:57 - cmdstanpy - INFO - Chain [1] done processing\n",
            "INFO:cmdstanpy:Chain [1] done processing\n"
          ]
        },
        {
          "output_type": "stream",
          "name": "stdout",
          "text": [
            "Model Number: 382 with model DatepartRegression in generation 2 of 10\n",
            "Model Number: 383 with model Theta in generation 2 of 10\n",
            "Model Number: 384 with model ETS in generation 2 of 10\n",
            "Model Number: 385 with model UnobservedComponents in generation 2 of 10\n",
            "Model Number: 386 with model UnobservedComponents in generation 2 of 10\n",
            "Model Number: 387 with model WindowRegression in generation 2 of 10\n",
            "Model Number: 388 with model ConstantNaive in generation 2 of 10\n",
            "Model Number: 389 with model SeasonalNaive in generation 2 of 10\n",
            "Model Number: 390 with model NVAR in generation 2 of 10\n",
            "Model Number: 391 with model FBProphet in generation 2 of 10\n"
          ]
        },
        {
          "output_type": "stream",
          "name": "stderr",
          "text": [
            "INFO:prophet:Disabling yearly seasonality. Run prophet with yearly_seasonality=True to override this.\n",
            "INFO:prophet:Disabling weekly seasonality. Run prophet with weekly_seasonality=True to override this.\n",
            "INFO:prophet:Disabling daily seasonality. Run prophet with daily_seasonality=True to override this.\n",
            "INFO:prophet:n_changepoints greater than number of observations. Using 8.\n",
            "DEBUG:cmdstanpy:input tempfile: /tmp/tmpmodfer6_/2zl834lr.json\n",
            "DEBUG:cmdstanpy:input tempfile: /tmp/tmpmodfer6_/_ge04hez.json\n",
            "DEBUG:cmdstanpy:idx 0\n",
            "DEBUG:cmdstanpy:running CmdStan, num_threads: None\n",
            "DEBUG:cmdstanpy:CmdStan args: ['/usr/local/lib/python3.8/dist-packages/prophet/stan_model/prophet_model.bin', 'random', 'seed=59564', 'data', 'file=/tmp/tmpmodfer6_/2zl834lr.json', 'init=/tmp/tmpmodfer6_/_ge04hez.json', 'output', 'file=/tmp/tmpmodfer6_/prophet_model3axcrz8_/prophet_model-20221205204900.csv', 'method=optimize', 'algorithm=newton', 'iter=10000']\n",
            "20:49:00 - cmdstanpy - INFO - Chain [1] start processing\n",
            "INFO:cmdstanpy:Chain [1] start processing\n",
            "20:49:00 - cmdstanpy - INFO - Chain [1] done processing\n",
            "INFO:cmdstanpy:Chain [1] done processing\n"
          ]
        },
        {
          "output_type": "stream",
          "name": "stdout",
          "text": [
            "Model Number: 392 with model SeasonalNaive in generation 2 of 10\n",
            "Model Number: 393 with model GLS in generation 2 of 10\n",
            "Model Number: 394 with model DatepartRegression in generation 2 of 10\n",
            "Model Number: 395 with model ConstantNaive in generation 2 of 10\n"
          ]
        },
        {
          "output_type": "stream",
          "name": "stderr",
          "text": [
            "INFO:prophet:Disabling yearly seasonality. Run prophet with yearly_seasonality=True to override this.\n",
            "INFO:prophet:Disabling weekly seasonality. Run prophet with weekly_seasonality=True to override this.\n",
            "INFO:prophet:Disabling daily seasonality. Run prophet with daily_seasonality=True to override this.\n",
            "INFO:prophet:n_changepoints greater than number of observations. Using 7.\n",
            "DEBUG:cmdstanpy:input tempfile: /tmp/tmpmodfer6_/tihlpiju.json\n",
            "DEBUG:cmdstanpy:input tempfile: /tmp/tmpmodfer6_/w8t4ozf7.json\n",
            "DEBUG:cmdstanpy:idx 0\n"
          ]
        },
        {
          "output_type": "stream",
          "name": "stdout",
          "text": [
            "Model Number: 396 with model FBProphet in generation 2 of 10\n"
          ]
        },
        {
          "output_type": "stream",
          "name": "stderr",
          "text": [
            "DEBUG:cmdstanpy:running CmdStan, num_threads: None\n",
            "DEBUG:cmdstanpy:CmdStan args: ['/usr/local/lib/python3.8/dist-packages/prophet/stan_model/prophet_model.bin', 'random', 'seed=82741', 'data', 'file=/tmp/tmpmodfer6_/tihlpiju.json', 'init=/tmp/tmpmodfer6_/w8t4ozf7.json', 'output', 'file=/tmp/tmpmodfer6_/prophet_model8wzz_qoo/prophet_model-20221205204903.csv', 'method=optimize', 'algorithm=newton', 'iter=10000']\n",
            "20:49:03 - cmdstanpy - INFO - Chain [1] start processing\n",
            "INFO:cmdstanpy:Chain [1] start processing\n",
            "20:49:03 - cmdstanpy - INFO - Chain [1] done processing\n",
            "INFO:cmdstanpy:Chain [1] done processing\n"
          ]
        },
        {
          "output_type": "stream",
          "name": "stdout",
          "text": [
            "Model Number: 397 with model UnivariateRegression in generation 2 of 10\n",
            "Template Eval Error: Exception('Transformer FastICA failed on fit') in model 397: UnivariateRegression\n",
            "Model Number: 398 with model NVAR in generation 2 of 10\n",
            "Model Number: 399 with model NVAR in generation 2 of 10\n"
          ]
        },
        {
          "output_type": "stream",
          "name": "stderr",
          "text": [
            "/usr/local/lib/python3.8/dist-packages/sklearn/decomposition/_fastica.py:532: RuntimeWarning: divide by zero encountered in true_divide\n",
            "  K = (u / d).T[:n_components]  # see (6.33) p.140\n"
          ]
        },
        {
          "output_type": "stream",
          "name": "stdout",
          "text": [
            "Model Number: 400 with model NVAR in generation 2 of 10\n",
            "Model Number: 401 with model MultivariateRegression in generation 2 of 10\n"
          ]
        },
        {
          "output_type": "stream",
          "name": "stderr",
          "text": [
            "/usr/local/lib/python3.8/dist-packages/sklearn/svm/_base.py:1206: ConvergenceWarning: Liblinear failed to converge, increase the number of iterations.\n",
            "  warnings.warn(\n"
          ]
        },
        {
          "output_type": "stream",
          "name": "stdout",
          "text": [
            "Model Number: 402 with model UnobservedComponents in generation 2 of 10\n",
            "Template Eval Error: Exception('Transformer Cointegration failed on fit') in model 402: UnobservedComponents\n",
            "Model Number: 403 with model NVAR in generation 2 of 10\n",
            "Model Number: 404 with model LastValueNaive in generation 2 of 10\n",
            "Model Number: 405 with model NVAR in generation 2 of 10\n",
            "Model Number: 406 with model DatepartRegression in generation 2 of 10\n",
            "Model Number: 407 with model ConstantNaive in generation 2 of 10\n"
          ]
        },
        {
          "output_type": "stream",
          "name": "stderr",
          "text": [
            "/usr/local/lib/python3.8/dist-packages/sklearn/svm/_base.py:1206: ConvergenceWarning: Liblinear failed to converge, increase the number of iterations.\n",
            "  warnings.warn(\n"
          ]
        },
        {
          "output_type": "stream",
          "name": "stdout",
          "text": [
            "Model Number: 408 with model Theta in generation 2 of 10\n",
            "Model Number: 409 with model UnobservedComponents in generation 2 of 10\n",
            "Model Number: 410 with model AverageValueNaive in generation 2 of 10\n",
            "Model Number: 411 with model AverageValueNaive in generation 2 of 10\n",
            "Model Number: 412 with model MultivariateRegression in generation 2 of 10\n",
            "Template Eval Error: ValueError('`min_samples` may not be larger than number of samples: n_samples = 10.') in model 412: MultivariateRegression\n",
            "Model Number: 413 with model DatepartRegression in generation 2 of 10\n",
            "Model Number: 414 with model UnobservedComponents in generation 2 of 10\n"
          ]
        },
        {
          "output_type": "stream",
          "name": "stderr",
          "text": [
            "/usr/local/lib/python3.8/dist-packages/autots/tools/probabilistic.py:67: RuntimeWarning: invalid value encountered in true_divide\n",
            "  (prior_mu / prior_sigma**2) + ((n * data_mu) / prior_sigma**2)\n",
            "/usr/local/lib/python3.8/dist-packages/autots/tools/probabilistic.py:67: RuntimeWarning: divide by zero encountered in true_divide\n",
            "  (prior_mu / prior_sigma**2) + ((n * data_mu) / prior_sigma**2)\n",
            "/usr/local/lib/python3.8/dist-packages/autots/tools/probabilistic.py:68: RuntimeWarning: divide by zero encountered in true_divide\n",
            "  ) / ((1 / prior_sigma**2) + (n / prior_sigma**2))\n"
          ]
        },
        {
          "output_type": "stream",
          "name": "stdout",
          "text": [
            "Model Number: 415 with model Theta in generation 2 of 10\n",
            "Model Number: 416 with model LastValueNaive in generation 2 of 10\n",
            "Model Number: 417 with model GLS in generation 2 of 10\n",
            "Model Number: 418 with model AverageValueNaive in generation 2 of 10\n",
            "Model Number: 419 with model ETS in generation 2 of 10\n",
            "Model Number: 420 with model ARIMA in generation 2 of 10\n",
            "No anomalies detected.\n",
            "Model Number: 421 with model UnobservedComponents in generation 2 of 10\n",
            "Template Eval Error: Exception('Transformer Detrend failed on fit') in model 421: UnobservedComponents\n",
            "Model Number: 422 with model WindowRegression in generation 2 of 10\n",
            "Template Eval Error: ValueError(\"regression_type='User' but no future_regressor passed\") in model 422: WindowRegression\n",
            "Model Number: 423 with model DatepartRegression in generation 2 of 10\n",
            "Template Eval Error: ValueError(\"regression_type='User' but no future_regressor passed\") in model 423: DatepartRegression\n",
            "Model Number: 424 with model SeasonalNaive in generation 2 of 10\n",
            "Model Number: 425 with model Theta in generation 2 of 10\n",
            "Model Number: 426 with model DatepartRegression in generation 2 of 10\n",
            "Model Number: 427 with model AverageValueNaive in generation 2 of 10\n",
            "Model Number: 428 with model FBProphet in generation 2 of 10\n"
          ]
        },
        {
          "output_type": "stream",
          "name": "stderr",
          "text": [
            "/usr/local/lib/python3.8/dist-packages/sklearn/svm/_base.py:1206: ConvergenceWarning: Liblinear failed to converge, increase the number of iterations.\n",
            "  warnings.warn(\n",
            "INFO:prophet:Disabling yearly seasonality. Run prophet with yearly_seasonality=True to override this.\n",
            "INFO:prophet:Disabling weekly seasonality. Run prophet with weekly_seasonality=True to override this.\n",
            "INFO:prophet:Disabling daily seasonality. Run prophet with daily_seasonality=True to override this.\n",
            "INFO:prophet:n_changepoints greater than number of observations. Using 7.\n",
            "DEBUG:cmdstanpy:input tempfile: /tmp/tmpmodfer6_/ssz_q8_q.json\n",
            "DEBUG:cmdstanpy:input tempfile: /tmp/tmpmodfer6_/nyukg3wy.json\n",
            "DEBUG:cmdstanpy:idx 0\n",
            "DEBUG:cmdstanpy:running CmdStan, num_threads: None\n",
            "DEBUG:cmdstanpy:CmdStan args: ['/usr/local/lib/python3.8/dist-packages/prophet/stan_model/prophet_model.bin', 'random', 'seed=92776', 'data', 'file=/tmp/tmpmodfer6_/ssz_q8_q.json', 'init=/tmp/tmpmodfer6_/nyukg3wy.json', 'output', 'file=/tmp/tmpmodfer6_/prophet_model1g9vxs3v/prophet_model-20221205204911.csv', 'method=optimize', 'algorithm=newton', 'iter=10000']\n",
            "20:49:11 - cmdstanpy - INFO - Chain [1] start processing\n",
            "INFO:cmdstanpy:Chain [1] start processing\n",
            "20:49:11 - cmdstanpy - INFO - Chain [1] done processing\n",
            "INFO:cmdstanpy:Chain [1] done processing\n"
          ]
        },
        {
          "output_type": "stream",
          "name": "stdout",
          "text": [
            "Model Number: 429 with model ARIMA in generation 2 of 10\n",
            "Model Number: 430 with model LastValueNaive in generation 2 of 10\n",
            "Model Number: 431 with model LastValueNaive in generation 2 of 10\n",
            "Model Number: 432 with model ARIMA in generation 2 of 10\n",
            "Model Number: 433 with model LastValueNaive in generation 2 of 10\n",
            "Model Number: 434 with model UnivariateRegression in generation 2 of 10\n",
            "Model Number: 435 with model FBProphet in generation 2 of 10\n"
          ]
        },
        {
          "output_type": "stream",
          "name": "stderr",
          "text": [
            "INFO:prophet:Disabling yearly seasonality. Run prophet with yearly_seasonality=True to override this.\n",
            "INFO:prophet:Disabling weekly seasonality. Run prophet with weekly_seasonality=True to override this.\n",
            "INFO:prophet:Disabling daily seasonality. Run prophet with daily_seasonality=True to override this.\n",
            "INFO:prophet:n_changepoints greater than number of observations. Using 7.\n",
            "DEBUG:cmdstanpy:input tempfile: /tmp/tmpmodfer6_/rdx4obwa.json\n",
            "DEBUG:cmdstanpy:input tempfile: /tmp/tmpmodfer6_/o88xri_9.json\n",
            "DEBUG:cmdstanpy:idx 0\n",
            "DEBUG:cmdstanpy:running CmdStan, num_threads: None\n",
            "DEBUG:cmdstanpy:CmdStan args: ['/usr/local/lib/python3.8/dist-packages/prophet/stan_model/prophet_model.bin', 'random', 'seed=99994', 'data', 'file=/tmp/tmpmodfer6_/rdx4obwa.json', 'init=/tmp/tmpmodfer6_/o88xri_9.json', 'output', 'file=/tmp/tmpmodfer6_/prophet_modelupu6su5w/prophet_model-20221205204918.csv', 'method=optimize', 'algorithm=newton', 'iter=10000']\n",
            "20:49:18 - cmdstanpy - INFO - Chain [1] start processing\n",
            "INFO:cmdstanpy:Chain [1] start processing\n",
            "20:49:18 - cmdstanpy - INFO - Chain [1] done processing\n",
            "INFO:cmdstanpy:Chain [1] done processing\n"
          ]
        },
        {
          "output_type": "stream",
          "name": "stdout",
          "text": [
            "Model Number: 436 with model MultivariateRegression in generation 2 of 10\n"
          ]
        },
        {
          "output_type": "stream",
          "name": "stderr",
          "text": [
            "/usr/local/lib/python3.8/dist-packages/sklearn/svm/_base.py:1206: ConvergenceWarning: Liblinear failed to converge, increase the number of iterations.\n",
            "  warnings.warn(\n"
          ]
        },
        {
          "output_type": "stream",
          "name": "stdout",
          "text": [
            "Model Number: 437 with model ConstantNaive in generation 2 of 10\n",
            "Model Number: 438 with model GLS in generation 2 of 10\n",
            "Model Number: 439 with model UnobservedComponents in generation 2 of 10\n",
            "Model Number: 440 with model NVAR in generation 2 of 10\n",
            "Model Number: 441 with model MultivariateRegression in generation 2 of 10\n",
            "Template Eval Error: ValueError(\"regression_type='User' but not future_regressor supplied.\") in model 441: MultivariateRegression\n",
            "Model Number: 442 with model UnobservedComponents in generation 2 of 10\n",
            "Model Number: 443 with model FBProphet in generation 2 of 10\n",
            "No anomalies detected."
          ]
        },
        {
          "output_type": "stream",
          "name": "stderr",
          "text": [
            "INFO:prophet:Disabling yearly seasonality. Run prophet with yearly_seasonality=True to override this.\n",
            "INFO:prophet:Disabling weekly seasonality. Run prophet with weekly_seasonality=True to override this.\n",
            "INFO:prophet:Disabling daily seasonality. Run prophet with daily_seasonality=True to override this.\n",
            "INFO:prophet:n_changepoints greater than number of observations. Using 8.\n",
            "DEBUG:cmdstanpy:input tempfile: /tmp/tmpmodfer6_/lcra96ww.json\n",
            "DEBUG:cmdstanpy:input tempfile: /tmp/tmpmodfer6_/pma9lsi2.json\n",
            "DEBUG:cmdstanpy:idx 0\n",
            "DEBUG:cmdstanpy:running CmdStan, num_threads: None\n",
            "DEBUG:cmdstanpy:CmdStan args: ['/usr/local/lib/python3.8/dist-packages/prophet/stan_model/prophet_model.bin', 'random', 'seed=9000', 'data', 'file=/tmp/tmpmodfer6_/lcra96ww.json', 'init=/tmp/tmpmodfer6_/pma9lsi2.json', 'output', 'file=/tmp/tmpmodfer6_/prophet_modelf_7cvyge/prophet_model-20221205204920.csv', 'method=optimize', 'algorithm=newton', 'iter=10000']\n",
            "20:49:20 - cmdstanpy - INFO - Chain [1] start processing\n",
            "INFO:cmdstanpy:Chain [1] start processing\n"
          ]
        },
        {
          "output_type": "stream",
          "name": "stdout",
          "text": [
            "\n"
          ]
        },
        {
          "output_type": "stream",
          "name": "stderr",
          "text": [
            "20:49:20 - cmdstanpy - INFO - Chain [1] done processing\n",
            "INFO:cmdstanpy:Chain [1] done processing\n"
          ]
        },
        {
          "output_type": "stream",
          "name": "stdout",
          "text": [
            "New Generation: 3 of 10\n",
            "Model Number: 444 with model DatepartRegression in generation 3 of 10\n",
            "Template Eval Error: ValueError(\"regression_type='User' but no future_regressor passed\") in model 444: DatepartRegression\n",
            "Model Number: 445 with model SeasonalNaive in generation 3 of 10\n",
            "Model Number: 446 with model MultivariateRegression in generation 3 of 10\n",
            "Model Number: 447 with model DatepartRegression in generation 3 of 10\n"
          ]
        },
        {
          "output_type": "stream",
          "name": "stderr",
          "text": [
            "/usr/local/lib/python3.8/dist-packages/sklearn/svm/_base.py:1206: ConvergenceWarning: Liblinear failed to converge, increase the number of iterations.\n",
            "  warnings.warn(\n",
            "[Parallel(n_jobs=-2)]: Using backend SequentialBackend with 1 concurrent workers.\n"
          ]
        },
        {
          "output_type": "stream",
          "name": "stdout",
          "text": [
            "Model Number: 448 with model GLS in generation 3 of 10\n",
            "Model Number: 449 with model GLS in generation 3 of 10\n"
          ]
        },
        {
          "output_type": "stream",
          "name": "stderr",
          "text": [
            "[Parallel(n_jobs=-2)]: Done 300 out of 300 | elapsed:    0.2s finished\n",
            "[Parallel(n_jobs=1)]: Using backend SequentialBackend with 1 concurrent workers.\n",
            "[Parallel(n_jobs=1)]: Done 300 out of 300 | elapsed:    0.0s finished\n"
          ]
        },
        {
          "output_type": "stream",
          "name": "stdout",
          "text": [
            "Model Number: 450 with model MultivariateRegression in generation 3 of 10\n",
            "Template Eval Error: ValueError(\"Input contains NaN, infinity or a value too large for dtype('float64').\") in model 450: MultivariateRegression\n",
            "Model Number: 451 with model DatepartRegression in generation 3 of 10\n",
            "Model Number: 452 with model DatepartRegression in generation 3 of 10\n",
            "Template Eval Error: ValueError(\"regression_type='User' but no future_regressor passed\") in model 452: DatepartRegression\n"
          ]
        },
        {
          "output_type": "stream",
          "name": "stderr",
          "text": [
            "/usr/local/lib/python3.8/dist-packages/sklearn/neighbors/_regression.py:470: UserWarning: One or more samples have no neighbors within specified radius; predicting NaN.\n",
            "  warnings.warn(empty_warning_msg)\n",
            "/usr/local/lib/python3.8/dist-packages/sklearn/neighbors/_regression.py:470: UserWarning: One or more samples have no neighbors within specified radius; predicting NaN.\n",
            "  warnings.warn(empty_warning_msg)\n"
          ]
        },
        {
          "output_type": "stream",
          "name": "stdout",
          "text": [
            "Model Number: 453 with model DatepartRegression in generation 3 of 10\n",
            "Template Eval Error: ValueError('Model DatepartRegression returned NaN for one or more series. fail_on_forecast_nan=True') in model 453: DatepartRegression\n",
            "Model Number: 454 with model DatepartRegression in generation 3 of 10\n",
            "Model Number: 455 with model MultivariateRegression in generation 3 of 10\n",
            "Template Eval Error: ValueError(\"Input contains NaN, infinity or a value too large for dtype('float64').\") in model 455: MultivariateRegression\n",
            "Model Number: 456 with model Theta in generation 3 of 10\n",
            "Model Number: 457 with model UnobservedComponents in generation 3 of 10\n",
            "Template Eval Error: ValueError(\"regression_type='User' but no future_regressor supplied\") in model 457: UnobservedComponents"
          ]
        },
        {
          "output_type": "stream",
          "name": "stderr",
          "text": [
            "/usr/local/lib/python3.8/dist-packages/sklearn/neighbors/_regression.py:470: UserWarning: One or more samples have no neighbors within specified radius; predicting NaN.\n",
            "  warnings.warn(empty_warning_msg)\n"
          ]
        },
        {
          "output_type": "stream",
          "name": "stdout",
          "text": [
            "\n",
            "Model Number: 458 with model UnobservedComponents in generation 3 of 10\n",
            "Template Eval Error: LinAlgError('Singular matrix') in model 458: UnobservedComponents\n",
            "Model Number: 459 with model UnobservedComponents in generation 3 of 10\n",
            "Model Number: 460 with model AverageValueNaive in generation 3 of 10\n",
            "Model Number: 461 with model UnobservedComponents in generation 3 of 10\n",
            "Model Number: 462 with model Theta in generation 3 of 10\n",
            "Model Number: 463 with model NVAR in generation 3 of 10\n",
            "Model Number: 464 with model LastValueNaive in generation 3 of 10\n",
            "Model Number: 465 with model AverageValueNaive in generation 3 of 10\n",
            "Model Number: 466 with model MultivariateRegression in generation 3 of 10\n",
            "Template Eval Error: ValueError(\"Model returned NaN due to a preprocessing transformer {'fillna': 'ffill', 'transformations': {'0': 'ClipOutliers', '1': 'Detrend', '2': 'StandardScaler', '3': 'AlignLastValue'}, 'transformation_params': {'0': {'method': 'clip', 'std_threshold': 3, 'fillna': None}, '1': {'model': 'Linear', 'phi': 1, 'window': None, 'transform_dict': {'fillna': None, 'transformations': {'0': 'EWMAFilter'}, 'transformation_params': {'0': {'span': 2}}}}, '2': {}, '3': {'rows': 1, 'lag': 1, 'method': 'multiplicative', 'strength': 1.0, 'first_value_only': False}}}. fail_on_forecast_nan=True\") in model 466: MultivariateRegression\n",
            "Model Number: 467 with model LastValueNaive in generation 3 of 10\n",
            "Model Number: 468 with model LastValueNaive in generation 3 of 10\n",
            "Model Number: 469 with model SeasonalNaive in generation 3 of 10\n"
          ]
        },
        {
          "output_type": "stream",
          "name": "stderr",
          "text": [
            "/usr/local/lib/python3.8/dist-packages/sklearn/svm/_base.py:1206: ConvergenceWarning: Liblinear failed to converge, increase the number of iterations.\n",
            "  warnings.warn(\n"
          ]
        },
        {
          "output_type": "stream",
          "name": "stdout",
          "text": [
            "Model Number: 470 with model ConstantNaive in generation 3 of 10\n",
            "No anomalies detected.\n",
            "Template Eval Error: Exception('Transformer Detrend failed on fit') in model 470: ConstantNaive\n",
            "Model Number: 471 with model Theta in generation 3 of 10\n",
            "Model Number: 472 with model AverageValueNaive in generation 3 of 10\n",
            "Model Number: 473 with model DatepartRegression in generation 3 of 10\n",
            "Epoch 1/50\n",
            "1/1 [==============================] - 6s 6s/step - loss: 100.0000\n",
            "Epoch 2/50\n",
            "1/1 [==============================] - 0s 41ms/step - loss: 99.1197\n",
            "Epoch 3/50\n",
            "1/1 [==============================] - 0s 51ms/step - loss: 97.7409\n",
            "Epoch 4/50\n",
            "1/1 [==============================] - 0s 41ms/step - loss: 96.9060\n",
            "Epoch 5/50\n",
            "1/1 [==============================] - 0s 45ms/step - loss: 95.5124\n",
            "Epoch 6/50\n",
            "1/1 [==============================] - 0s 44ms/step - loss: 93.2789\n",
            "Epoch 7/50\n",
            "1/1 [==============================] - 0s 48ms/step - loss: 91.1655\n",
            "Epoch 8/50\n",
            "1/1 [==============================] - 0s 52ms/step - loss: 88.6746\n",
            "Epoch 9/50\n",
            "1/1 [==============================] - 0s 42ms/step - loss: 85.5674\n",
            "Epoch 10/50\n",
            "1/1 [==============================] - 0s 39ms/step - loss: 95.8554\n",
            "Epoch 11/50\n",
            "1/1 [==============================] - 0s 39ms/step - loss: 88.4705\n",
            "Epoch 12/50\n",
            "1/1 [==============================] - 0s 41ms/step - loss: 85.0070\n",
            "Epoch 13/50\n",
            "1/1 [==============================] - 0s 49ms/step - loss: 86.3316\n",
            "Epoch 14/50\n",
            "1/1 [==============================] - 0s 40ms/step - loss: 86.7636\n",
            "Epoch 15/50\n",
            "1/1 [==============================] - 0s 42ms/step - loss: 87.8973\n",
            "Epoch 16/50\n",
            "1/1 [==============================] - 0s 40ms/step - loss: 88.0806\n",
            "Epoch 17/50\n",
            "1/1 [==============================] - 0s 42ms/step - loss: 88.6633\n",
            "Epoch 18/50\n",
            "1/1 [==============================] - 0s 47ms/step - loss: 87.2530\n",
            "Epoch 19/50\n",
            "1/1 [==============================] - 0s 38ms/step - loss: 89.7575\n",
            "Epoch 20/50\n",
            "1/1 [==============================] - 0s 47ms/step - loss: 87.6634\n",
            "Epoch 21/50\n",
            "1/1 [==============================] - 0s 46ms/step - loss: 87.2889\n",
            "Epoch 22/50\n",
            "1/1 [==============================] - 0s 39ms/step - loss: 87.9102\n",
            "Epoch 23/50\n",
            "1/1 [==============================] - 0s 45ms/step - loss: 86.5710\n",
            "Epoch 24/50\n",
            "1/1 [==============================] - 0s 40ms/step - loss: 85.1418\n",
            "Epoch 25/50\n",
            "1/1 [==============================] - 0s 54ms/step - loss: 86.1600\n",
            "Epoch 26/50\n",
            "1/1 [==============================] - 0s 43ms/step - loss: 83.4225\n",
            "Epoch 27/50\n",
            "1/1 [==============================] - 0s 35ms/step - loss: 85.0472\n",
            "Epoch 28/50\n",
            "1/1 [==============================] - 0s 51ms/step - loss: 86.7241\n",
            "Epoch 29/50\n",
            "1/1 [==============================] - 0s 46ms/step - loss: 84.3254\n",
            "Epoch 30/50\n",
            "1/1 [==============================] - 0s 49ms/step - loss: 83.4940\n",
            "Epoch 31/50\n",
            "1/1 [==============================] - 0s 37ms/step - loss: 83.5602\n",
            "Epoch 32/50\n",
            "1/1 [==============================] - 0s 44ms/step - loss: 84.5637\n",
            "Epoch 33/50\n",
            "1/1 [==============================] - 0s 42ms/step - loss: 83.1717\n",
            "Epoch 34/50\n",
            "1/1 [==============================] - 0s 42ms/step - loss: 84.3437\n",
            "Epoch 35/50\n",
            "1/1 [==============================] - 0s 42ms/step - loss: 83.7315\n",
            "Epoch 36/50\n",
            "1/1 [==============================] - 0s 38ms/step - loss: 83.8709\n",
            "Epoch 37/50\n",
            "1/1 [==============================] - 0s 44ms/step - loss: 84.1130\n",
            "Epoch 38/50\n",
            "1/1 [==============================] - 0s 41ms/step - loss: 83.1172\n",
            "Epoch 39/50\n",
            "1/1 [==============================] - 0s 41ms/step - loss: 84.2648\n",
            "Epoch 40/50\n",
            "1/1 [==============================] - 0s 38ms/step - loss: 84.2678\n",
            "Epoch 41/50\n",
            "1/1 [==============================] - 0s 39ms/step - loss: 83.8423\n",
            "Epoch 42/50\n",
            "1/1 [==============================] - 0s 46ms/step - loss: 84.3179\n",
            "Epoch 43/50\n",
            "1/1 [==============================] - 0s 50ms/step - loss: 84.4565\n",
            "Epoch 44/50\n",
            "1/1 [==============================] - 0s 40ms/step - loss: 83.1727\n",
            "Epoch 45/50\n",
            "1/1 [==============================] - 0s 40ms/step - loss: 84.0305\n",
            "Epoch 46/50\n",
            "1/1 [==============================] - 0s 43ms/step - loss: 84.6502\n",
            "Epoch 47/50\n",
            "1/1 [==============================] - 0s 41ms/step - loss: 82.9611\n",
            "Epoch 48/50\n",
            "1/1 [==============================] - 0s 38ms/step - loss: 84.1200\n",
            "Epoch 49/50\n",
            "1/1 [==============================] - 0s 39ms/step - loss: 84.4109\n",
            "Epoch 50/50\n",
            "1/1 [==============================] - 0s 46ms/step - loss: 83.7520\n",
            "1/1 [==============================] - 1s 1s/step\n",
            "Model Number: 474 with model ETS in generation 3 of 10\n",
            "Template Eval Error: Exception('Transformer Detrend failed on fit') in model 474: ETS\n",
            "Model Number: 475 with model NVAR in generation 3 of 10\n",
            "Model Number: 476 with model UnobservedComponents in generation 3 of 10\n",
            "Model Number: 477 with model ETS in generation 3 of 10\n",
            "ETS error ValueError('Can only dampen the trend component')\n",
            "ETS failed on followers_gained with ValueError('Can only dampen the trend component')\n",
            "Model Number: 478 with model GLS in generation 3 of 10\n",
            "Model Number: 479 with model SeasonalNaive in generation 3 of 10\n",
            "Model Number: 480 with model Theta in generation 3 of 10\n",
            "Model Number: 481 with model NVAR in generation 3 of 10\n",
            "Model Number: 482 with model UnobservedComponents in generation 3 of 10\n",
            "Model Number: 483 with model AverageValueNaive in generation 3 of 10\n",
            "Model Number: 484 with model ETS in generation 3 of 10\n",
            "Model Number: 485 with model ConstantNaive in generation 3 of 10\n",
            "Model Number: 486 with model UnobservedComponents in generation 3 of 10\n",
            "Model Number: 487 with model NVAR in generation 3 of 10\n",
            "No anomalies detected.\n",
            "Model Number: 488 with model SeasonalNaive in generation 3 of 10\n",
            "Model Number: 489 with model AverageValueNaive in generation 3 of 10\n",
            "Model Number: 490 with model MultivariateRegression in generation 3 of 10\n",
            "Model Number: 491 with model AverageValueNaive in generation 3 of 10\n",
            "Model Number: 492 with model NVAR in generation 3 of 10\n"
          ]
        },
        {
          "output_type": "stream",
          "name": "stderr",
          "text": [
            "/usr/local/lib/python3.8/dist-packages/sklearn/svm/_base.py:1206: ConvergenceWarning: Liblinear failed to converge, increase the number of iterations.\n",
            "  warnings.warn(\n"
          ]
        },
        {
          "output_type": "stream",
          "name": "stdout",
          "text": [
            "Model Number: 493 with model NVAR in generation 3 of 10\n",
            "Template Eval Error: Exception('Transformer RobustScaler failed on inverse') in model 493: NVAR\n",
            "Model Number: 494 with model GLS in generation 3 of 10\n",
            "Model Number: 495 with model LastValueNaive in generation 3 of 10\n",
            "Model Number: 496 with model GLS in generation 3 of 10\n",
            "Model Number: 497 with model AverageValueNaive in generation 3 of 10\n",
            "Model Number: 498 with model ETS in generation 3 of 10\n",
            "Model Number: 499 with model LastValueNaive in generation 3 of 10\n",
            "Model Number: 500 with model FBProphet in generation 3 of 10\n"
          ]
        },
        {
          "output_type": "stream",
          "name": "stderr",
          "text": [
            "/usr/local/lib/python3.8/dist-packages/autots/tools/probabilistic.py:67: RuntimeWarning: invalid value encountered in true_divide\n",
            "  (prior_mu / prior_sigma**2) + ((n * data_mu) / prior_sigma**2)\n",
            "/usr/local/lib/python3.8/dist-packages/autots/tools/probabilistic.py:68: RuntimeWarning: divide by zero encountered in true_divide\n",
            "  ) / ((1 / prior_sigma**2) + (n / prior_sigma**2))\n",
            "INFO:prophet:Disabling yearly seasonality. Run prophet with yearly_seasonality=True to override this.\n",
            "INFO:prophet:Disabling weekly seasonality. Run prophet with weekly_seasonality=True to override this.\n",
            "INFO:prophet:Disabling daily seasonality. Run prophet with daily_seasonality=True to override this.\n",
            "INFO:prophet:n_changepoints greater than number of observations. Using 7.\n",
            "DEBUG:cmdstanpy:input tempfile: /tmp/tmpmodfer6_/92h4o0fx.json\n",
            "DEBUG:cmdstanpy:input tempfile: /tmp/tmpmodfer6_/5aqu6lxy.json\n",
            "DEBUG:cmdstanpy:idx 0\n",
            "DEBUG:cmdstanpy:running CmdStan, num_threads: None\n",
            "DEBUG:cmdstanpy:CmdStan args: ['/usr/local/lib/python3.8/dist-packages/prophet/stan_model/prophet_model.bin', 'random', 'seed=83981', 'data', 'file=/tmp/tmpmodfer6_/92h4o0fx.json', 'init=/tmp/tmpmodfer6_/5aqu6lxy.json', 'output', 'file=/tmp/tmpmodfer6_/prophet_modelivuonfxu/prophet_model-20221205204938.csv', 'method=optimize', 'algorithm=newton', 'iter=10000']\n",
            "20:49:38 - cmdstanpy - INFO - Chain [1] start processing\n",
            "INFO:cmdstanpy:Chain [1] start processing\n",
            "20:49:38 - cmdstanpy - INFO - Chain [1] done processing\n",
            "INFO:cmdstanpy:Chain [1] done processing\n",
            "INFO:prophet:Disabling yearly seasonality. Run prophet with yearly_seasonality=True to override this.\n",
            "INFO:prophet:Disabling weekly seasonality. Run prophet with weekly_seasonality=True to override this.\n",
            "INFO:prophet:Disabling daily seasonality. Run prophet with daily_seasonality=True to override this.\n",
            "INFO:prophet:n_changepoints greater than number of observations. Using 7.\n",
            "DEBUG:cmdstanpy:input tempfile: /tmp/tmpmodfer6_/ngqtfudq.json\n",
            "DEBUG:cmdstanpy:input tempfile: /tmp/tmpmodfer6_/chilcwxz.json\n",
            "DEBUG:cmdstanpy:idx 0\n",
            "DEBUG:cmdstanpy:running CmdStan, num_threads: None\n",
            "DEBUG:cmdstanpy:CmdStan args: ['/usr/local/lib/python3.8/dist-packages/prophet/stan_model/prophet_model.bin', 'random', 'seed=47004', 'data', 'file=/tmp/tmpmodfer6_/ngqtfudq.json', 'init=/tmp/tmpmodfer6_/chilcwxz.json', 'output', 'file=/tmp/tmpmodfer6_/prophet_modell1ugj820/prophet_model-20221205204939.csv', 'method=optimize', 'algorithm=newton', 'iter=10000']\n",
            "20:49:39 - cmdstanpy - INFO - Chain [1] start processing\n",
            "INFO:cmdstanpy:Chain [1] start processing\n",
            "20:49:39 - cmdstanpy - INFO - Chain [1] done processing\n",
            "INFO:cmdstanpy:Chain [1] done processing\n"
          ]
        },
        {
          "output_type": "stream",
          "name": "stdout",
          "text": [
            "Model Number: 501 with model UnobservedComponents in generation 3 of 10\n",
            "Template Eval Error: LinAlgError('Singular matrix') in model 501: UnobservedComponents\n",
            "Model Number: 502 with model FBProphet in generation 3 of 10\n",
            "Model Number: 503 with model MultivariateRegression in generation 3 of 10\n",
            "Model Number: 504 with model DatepartRegression in generation 3 of 10\n",
            "Model Number: 505 with model MultivariateRegression in generation 3 of 10\n",
            "Template Eval Error: Exception('Transformer AlignLastValue failed on fit') in model 505: MultivariateRegression\n",
            "Model Number: 506 with model LastValueNaive in generation 3 of 10\n"
          ]
        },
        {
          "output_type": "stream",
          "name": "stderr",
          "text": [
            "/usr/local/lib/python3.8/dist-packages/sklearn/svm/_base.py:1206: ConvergenceWarning: Liblinear failed to converge, increase the number of iterations.\n",
            "  warnings.warn(\n"
          ]
        },
        {
          "output_type": "stream",
          "name": "stdout",
          "text": [
            "Model Number: 507 with model GLS in generation 3 of 10\n",
            "Model Number: 508 with model DatepartRegression in generation 3 of 10\n"
          ]
        },
        {
          "output_type": "stream",
          "name": "stderr",
          "text": [
            "[Parallel(n_jobs=-2)]: Using backend SequentialBackend with 1 concurrent workers.\n"
          ]
        },
        {
          "output_type": "stream",
          "name": "stdout",
          "text": [
            "Model Number: 509 with model ETS in generation 3 of 10\n",
            "Model Number: 510 with model NVAR in generation 3 of 10\n"
          ]
        },
        {
          "output_type": "stream",
          "name": "stderr",
          "text": [
            "[Parallel(n_jobs=-2)]: Done 300 out of 300 | elapsed:    0.3s finished\n",
            "[Parallel(n_jobs=1)]: Using backend SequentialBackend with 1 concurrent workers.\n",
            "[Parallel(n_jobs=1)]: Done 300 out of 300 | elapsed:    0.0s finished\n"
          ]
        },
        {
          "output_type": "stream",
          "name": "stdout",
          "text": [
            "Model Number: 511 with model DatepartRegression in generation 3 of 10\n",
            "Model Number: 512 with model ETS in generation 3 of 10\n"
          ]
        },
        {
          "output_type": "stream",
          "name": "stderr",
          "text": [
            "/usr/local/lib/python3.8/dist-packages/sklearn/svm/_base.py:1206: ConvergenceWarning: Liblinear failed to converge, increase the number of iterations.\n",
            "  warnings.warn(\n",
            "INFO:prophet:Disabling yearly seasonality. Run prophet with yearly_seasonality=True to override this.\n",
            "INFO:prophet:Disabling weekly seasonality. Run prophet with weekly_seasonality=True to override this.\n",
            "INFO:prophet:Disabling daily seasonality. Run prophet with daily_seasonality=True to override this.\n"
          ]
        },
        {
          "output_type": "stream",
          "name": "stdout",
          "text": [
            "Model Number: 513 with model FBProphet in generation 3 of 10\n"
          ]
        },
        {
          "output_type": "stream",
          "name": "stderr",
          "text": [
            "INFO:prophet:n_changepoints greater than number of observations. Using 7.\n",
            "DEBUG:cmdstanpy:input tempfile: /tmp/tmpmodfer6_/5mwhfmpi.json\n",
            "DEBUG:cmdstanpy:input tempfile: /tmp/tmpmodfer6_/_kjaprc6.json\n",
            "DEBUG:cmdstanpy:idx 0\n",
            "DEBUG:cmdstanpy:running CmdStan, num_threads: None\n",
            "DEBUG:cmdstanpy:CmdStan args: ['/usr/local/lib/python3.8/dist-packages/prophet/stan_model/prophet_model.bin', 'random', 'seed=78912', 'data', 'file=/tmp/tmpmodfer6_/5mwhfmpi.json', 'init=/tmp/tmpmodfer6_/_kjaprc6.json', 'output', 'file=/tmp/tmpmodfer6_/prophet_model5m7ahpbg/prophet_model-20221205204941.csv', 'method=optimize', 'algorithm=newton', 'iter=10000']\n",
            "20:49:41 - cmdstanpy - INFO - Chain [1] start processing\n",
            "INFO:cmdstanpy:Chain [1] start processing\n",
            "20:49:41 - cmdstanpy - INFO - Chain [1] done processing\n",
            "INFO:cmdstanpy:Chain [1] done processing\n"
          ]
        },
        {
          "output_type": "stream",
          "name": "stdout",
          "text": [
            "Model Number: 514 with model UnobservedComponents in generation 3 of 10\n",
            "Model Number: 515 with model DatepartRegression in generation 3 of 10\n",
            "Model Number: 516 with model NVAR in generation 3 of 10\n",
            "Model Number: 517 with model SeasonalNaive in generation 3 of 10\n",
            "Model Number: 518 with model ConstantNaive in generation 3 of 10\n",
            "Model Number: 519 with model UnobservedComponents in generation 3 of 10\n",
            "Model Number: 520 with model Theta in generation 3 of 10\n",
            "Model Number: 521 with model LastValueNaive in generation 3 of 10\n",
            "Model Number: 522 with model LastValueNaive in generation 3 of 10\n",
            "Model Number: 523 with model WindowRegression in generation 3 of 10\n",
            "Model Number: 524 with model SeasonalNaive in generation 3 of 10\n",
            "Model Number: 525 with model ARIMA in generation 3 of 10\n",
            "Model Number: 526 with model NVAR in generation 3 of 10\n",
            "Model Number: 527 with model AverageValueNaive in generation 3 of 10\n"
          ]
        },
        {
          "output_type": "stream",
          "name": "stderr",
          "text": [
            "INFO:prophet:Disabling yearly seasonality. Run prophet with yearly_seasonality=True to override this.\n",
            "INFO:prophet:Disabling weekly seasonality. Run prophet with weekly_seasonality=True to override this.\n",
            "INFO:prophet:Disabling daily seasonality. Run prophet with daily_seasonality=True to override this.\n"
          ]
        },
        {
          "output_type": "stream",
          "name": "stdout",
          "text": [
            "Model Number: 528 with model WindowRegression in generation 3 of 10\n",
            "Template Eval Error: ValueError('Found array with 0 sample(s) (shape=(0, 0)) while a minimum of 1 is required.') in model 528: WindowRegression\n",
            "Model Number: 529 with model FBProphet in generation 3 of 10\n"
          ]
        },
        {
          "output_type": "stream",
          "name": "stderr",
          "text": [
            "INFO:prophet:n_changepoints greater than number of observations. Using 7.\n",
            "DEBUG:cmdstanpy:input tempfile: /tmp/tmpmodfer6_/_an14xlf.json\n",
            "DEBUG:cmdstanpy:input tempfile: /tmp/tmpmodfer6_/9ai_juum.json\n",
            "DEBUG:cmdstanpy:idx 0\n",
            "DEBUG:cmdstanpy:running CmdStan, num_threads: None\n",
            "DEBUG:cmdstanpy:CmdStan args: ['/usr/local/lib/python3.8/dist-packages/prophet/stan_model/prophet_model.bin', 'random', 'seed=70906', 'data', 'file=/tmp/tmpmodfer6_/_an14xlf.json', 'init=/tmp/tmpmodfer6_/9ai_juum.json', 'output', 'file=/tmp/tmpmodfer6_/prophet_modeltq61myij/prophet_model-20221205204944.csv', 'method=optimize', 'algorithm=newton', 'iter=10000']\n",
            "20:49:44 - cmdstanpy - INFO - Chain [1] start processing\n",
            "INFO:cmdstanpy:Chain [1] start processing\n",
            "20:49:44 - cmdstanpy - INFO - Chain [1] done processing\n",
            "INFO:cmdstanpy:Chain [1] done processing\n"
          ]
        },
        {
          "output_type": "stream",
          "name": "stdout",
          "text": [
            "Model Number: 530 with model LastValueNaive in generation 3 of 10\n",
            "Model Number: 531 with model UnivariateRegression in generation 3 of 10\n",
            "Template Eval Error: Exception('Transformer Detrend failed on fit') in model 531: UnivariateRegression\n",
            "Model Number: 532 with model LastValueNaive in generation 3 of 10\n",
            "Model Number: 533 with model SeasonalNaive in generation 3 of 10\n",
            "Model Number: 534 with model Theta in generation 3 of 10\n"
          ]
        },
        {
          "output_type": "stream",
          "name": "stderr",
          "text": [
            "INFO:prophet:Disabling yearly seasonality. Run prophet with yearly_seasonality=True to override this.\n",
            "INFO:prophet:Disabling weekly seasonality. Run prophet with weekly_seasonality=True to override this.\n",
            "INFO:prophet:Disabling daily seasonality. Run prophet with daily_seasonality=True to override this.\n",
            "INFO:prophet:n_changepoints greater than number of observations. Using 8.\n",
            "DEBUG:cmdstanpy:input tempfile: /tmp/tmpmodfer6_/qi4uh9xs.json\n",
            "DEBUG:cmdstanpy:input tempfile: /tmp/tmpmodfer6_/1yr967kw.json\n",
            "DEBUG:cmdstanpy:idx 0\n",
            "DEBUG:cmdstanpy:running CmdStan, num_threads: None\n",
            "DEBUG:cmdstanpy:CmdStan args: ['/usr/local/lib/python3.8/dist-packages/prophet/stan_model/prophet_model.bin', 'random', 'seed=59418', 'data', 'file=/tmp/tmpmodfer6_/qi4uh9xs.json', 'init=/tmp/tmpmodfer6_/1yr967kw.json', 'output', 'file=/tmp/tmpmodfer6_/prophet_modelur6q988o/prophet_model-20221205204945.csv', 'method=optimize', 'algorithm=newton', 'iter=10000']\n",
            "20:49:45 - cmdstanpy - INFO - Chain [1] start processing\n",
            "INFO:cmdstanpy:Chain [1] start processing\n",
            "20:49:45 - cmdstanpy - INFO - Chain [1] done processing\n",
            "INFO:cmdstanpy:Chain [1] done processing\n"
          ]
        },
        {
          "output_type": "stream",
          "name": "stdout",
          "text": [
            "Model Number: 535 with model FBProphet in generation 3 of 10\n",
            "Model Number: 536 with model LastValueNaive in generation 3 of 10\n",
            "Model Number: 537 with model ETS in generation 3 of 10\n",
            "ETS error ValueError('endog must be strictly positive when usingmultiplicative trend or seasonal components.')\n",
            "ETS failed on followers_gained with ValueError('endog must be strictly positive when usingmultiplicative trend or seasonal components.')\n",
            "Model Number: 538 with model ETS in generation 3 of 10\n",
            "Model Number: 539 with model NVAR in generation 3 of 10\n",
            "No anomalies detected.\n",
            "Model Number: 540 with model WindowRegression in generation 3 of 10\n",
            "Template Eval Error: ValueError('Found array with 0 sample(s) (shape=(0, 0)) while a minimum of 1 is required.') in model 540: WindowRegression\n",
            "Model Number: 541 with model LastValueNaive in generation 3 of 10\n",
            "Model Number: 542 with model MultivariateRegression in generation 3 of 10\n",
            "Model Number: 543 with model UnivariateRegression in generation 3 of 10\n",
            "Template Eval Error: ValueError(\"Input contains NaN, infinity or a value too large for dtype('float32').\") in model 543: UnivariateRegression\n",
            "Model Number: 544 with model Theta in generation 3 of 10\n",
            "Model Number: 545 with model ConstantNaive in generation 3 of 10\n",
            "Model Number: 546 with model MultivariateRegression in generation 3 of 10\n",
            "Model Number: 547 with model UnivariateRegression in generation 3 of 10\n",
            "Template Eval Error: ValueError(\"Input contains NaN, infinity or a value too large for dtype('float64').\") in model 547: UnivariateRegression\n",
            "Model Number: 548 with model DatepartRegression in generation 3 of 10\n"
          ]
        },
        {
          "output_type": "stream",
          "name": "stderr",
          "text": [
            "/usr/local/lib/python3.8/dist-packages/sklearn/svm/_base.py:1206: ConvergenceWarning: Liblinear failed to converge, increase the number of iterations.\n",
            "  warnings.warn(\n"
          ]
        },
        {
          "output_type": "stream",
          "name": "stdout",
          "text": [
            "Model Number: 549 with model SeasonalNaive in generation 3 of 10\n",
            "Model Number: 550 with model FBProphet in generation 3 of 10\n"
          ]
        },
        {
          "output_type": "stream",
          "name": "stderr",
          "text": [
            "INFO:prophet:Disabling yearly seasonality. Run prophet with yearly_seasonality=True to override this.\n",
            "INFO:prophet:Disabling weekly seasonality. Run prophet with weekly_seasonality=True to override this.\n",
            "INFO:prophet:Disabling daily seasonality. Run prophet with daily_seasonality=True to override this.\n",
            "INFO:prophet:n_changepoints greater than number of observations. Using 7.\n",
            "DEBUG:cmdstanpy:input tempfile: /tmp/tmpmodfer6_/e_kwepih.json\n",
            "DEBUG:cmdstanpy:input tempfile: /tmp/tmpmodfer6_/k6pjpmx3.json\n",
            "DEBUG:cmdstanpy:idx 0\n",
            "DEBUG:cmdstanpy:running CmdStan, num_threads: None\n",
            "DEBUG:cmdstanpy:CmdStan args: ['/usr/local/lib/python3.8/dist-packages/prophet/stan_model/prophet_model.bin', 'random', 'seed=3498', 'data', 'file=/tmp/tmpmodfer6_/e_kwepih.json', 'init=/tmp/tmpmodfer6_/k6pjpmx3.json', 'output', 'file=/tmp/tmpmodfer6_/prophet_model9r7xpzi8/prophet_model-20221205204948.csv', 'method=optimize', 'algorithm=newton', 'iter=10000']\n",
            "20:49:48 - cmdstanpy - INFO - Chain [1] start processing\n",
            "INFO:cmdstanpy:Chain [1] start processing\n",
            "20:49:48 - cmdstanpy - INFO - Chain [1] done processing\n",
            "INFO:cmdstanpy:Chain [1] done processing\n"
          ]
        },
        {
          "output_type": "stream",
          "name": "stdout",
          "text": [
            "Model Number: 551 with model WindowRegression in generation 3 of 10\n",
            "Model Number: 552 with model GLS in generation 3 of 10\n",
            "Template Eval Error: Exception('Transformer BTCD failed on fit') in model 552: GLS\n",
            "Model Number: 553 with model SeasonalNaive in generation 3 of 10\n"
          ]
        },
        {
          "output_type": "stream",
          "name": "stderr",
          "text": [
            "INFO:prophet:Disabling yearly seasonality. Run prophet with yearly_seasonality=True to override this.\n",
            "INFO:prophet:Disabling weekly seasonality. Run prophet with weekly_seasonality=True to override this.\n",
            "INFO:prophet:Disabling daily seasonality. Run prophet with daily_seasonality=True to override this.\n",
            "INFO:prophet:n_changepoints greater than number of observations. Using 7.\n",
            "DEBUG:cmdstanpy:input tempfile: /tmp/tmpmodfer6_/dkl4fkhx.json\n"
          ]
        },
        {
          "output_type": "stream",
          "name": "stdout",
          "text": [
            "Model Number: 554 with model FBProphet in generation 3 of 10\n"
          ]
        },
        {
          "output_type": "stream",
          "name": "stderr",
          "text": [
            "DEBUG:cmdstanpy:input tempfile: /tmp/tmpmodfer6_/tjbfhoa0.json\n",
            "DEBUG:cmdstanpy:idx 0\n",
            "DEBUG:cmdstanpy:running CmdStan, num_threads: None\n",
            "DEBUG:cmdstanpy:CmdStan args: ['/usr/local/lib/python3.8/dist-packages/prophet/stan_model/prophet_model.bin', 'random', 'seed=97997', 'data', 'file=/tmp/tmpmodfer6_/dkl4fkhx.json', 'init=/tmp/tmpmodfer6_/tjbfhoa0.json', 'output', 'file=/tmp/tmpmodfer6_/prophet_model436az1ev/prophet_model-20221205204948.csv', 'method=optimize', 'algorithm=newton', 'iter=10000']\n",
            "20:49:48 - cmdstanpy - INFO - Chain [1] start processing\n",
            "INFO:cmdstanpy:Chain [1] start processing\n",
            "20:49:48 - cmdstanpy - INFO - Chain [1] done processing\n",
            "INFO:cmdstanpy:Chain [1] done processing\n",
            "INFO:prophet:Disabling yearly seasonality. Run prophet with yearly_seasonality=True to override this.\n",
            "INFO:prophet:Disabling weekly seasonality. Run prophet with weekly_seasonality=True to override this.\n",
            "INFO:prophet:Disabling daily seasonality. Run prophet with daily_seasonality=True to override this.\n",
            "INFO:prophet:n_changepoints greater than number of observations. Using 7.\n"
          ]
        },
        {
          "output_type": "stream",
          "name": "stdout",
          "text": [
            "Model Number: 555 with model FBProphet in generation 3 of 10\n",
            "Model Number: 556 with model LastValueNaive in generation 3 of 10\n",
            "Model Number: 557 with model WindowRegression in generation 3 of 10\n",
            "Model Number: 558 with model MetricMotif in generation 3 of 10\n",
            "Template Eval Error: Exception('Transformer Detrend failed on fit') in model 558: MetricMotif\n",
            "Model Number: 559 with model SeasonalNaive in generation 3 of 10\n",
            "Model Number: 560 with model DatepartRegression in generation 3 of 10\n",
            "Model Number: 561 with model UnobservedComponents in generation 3 of 10\n",
            "Model Number: 562 with model UnobservedComponents in generation 3 of 10\n",
            "Model Number: 563 with model GLS in generation 3 of 10\n",
            "Model Number: 564 with model AverageValueNaive in generation 3 of 10\n"
          ]
        },
        {
          "output_type": "stream",
          "name": "stderr",
          "text": [
            "INFO:prophet:Disabling yearly seasonality. Run prophet with yearly_seasonality=True to override this.\n",
            "INFO:prophet:Disabling weekly seasonality. Run prophet with weekly_seasonality=True to override this.\n",
            "INFO:prophet:Disabling daily seasonality. Run prophet with daily_seasonality=True to override this.\n",
            "INFO:prophet:n_changepoints greater than number of observations. Using 7.\n",
            "DEBUG:cmdstanpy:input tempfile: /tmp/tmpmodfer6_/ze425hvd.json\n",
            "DEBUG:cmdstanpy:input tempfile: /tmp/tmpmodfer6_/854f9jza.json\n",
            "DEBUG:cmdstanpy:idx 0\n",
            "DEBUG:cmdstanpy:running CmdStan, num_threads: None\n",
            "DEBUG:cmdstanpy:CmdStan args: ['/usr/local/lib/python3.8/dist-packages/prophet/stan_model/prophet_model.bin', 'random', 'seed=28194', 'data', 'file=/tmp/tmpmodfer6_/ze425hvd.json', 'init=/tmp/tmpmodfer6_/854f9jza.json', 'output', 'file=/tmp/tmpmodfer6_/prophet_modelohtup7o2/prophet_model-20221205204950.csv', 'method=optimize', 'algorithm=newton', 'iter=10000']\n"
          ]
        },
        {
          "output_type": "stream",
          "name": "stdout",
          "text": [
            "Model Number: 565 with model FBProphet in generation 3 of 10\n"
          ]
        },
        {
          "output_type": "stream",
          "name": "stderr",
          "text": [
            "20:49:50 - cmdstanpy - INFO - Chain [1] start processing\n",
            "INFO:cmdstanpy:Chain [1] start processing\n",
            "20:49:51 - cmdstanpy - INFO - Chain [1] done processing\n",
            "INFO:cmdstanpy:Chain [1] done processing\n"
          ]
        },
        {
          "output_type": "stream",
          "name": "stdout",
          "text": [
            "Model Number: 566 with model ARIMA in generation 3 of 10\n",
            "Model Number: 567 with model WindowRegression in generation 3 of 10\n",
            "Model Number: 568 with model NVAR in generation 3 of 10\n"
          ]
        },
        {
          "output_type": "stream",
          "name": "stderr",
          "text": [
            "INFO:prophet:Disabling yearly seasonality. Run prophet with yearly_seasonality=True to override this.\n",
            "INFO:prophet:Disabling weekly seasonality. Run prophet with weekly_seasonality=True to override this.\n",
            "INFO:prophet:Disabling daily seasonality. Run prophet with daily_seasonality=True to override this.\n",
            "INFO:prophet:n_changepoints greater than number of observations. Using 7.\n",
            "DEBUG:cmdstanpy:input tempfile: /tmp/tmpmodfer6_/1msney7c.json\n",
            "DEBUG:cmdstanpy:input tempfile: /tmp/tmpmodfer6_/i8cz2k6j.json\n",
            "DEBUG:cmdstanpy:idx 0\n",
            "DEBUG:cmdstanpy:running CmdStan, num_threads: None\n",
            "DEBUG:cmdstanpy:CmdStan args: ['/usr/local/lib/python3.8/dist-packages/prophet/stan_model/prophet_model.bin', 'random', 'seed=12843', 'data', 'file=/tmp/tmpmodfer6_/1msney7c.json', 'init=/tmp/tmpmodfer6_/i8cz2k6j.json', 'output', 'file=/tmp/tmpmodfer6_/prophet_modelpmoxwuru/prophet_model-20221205204952.csv', 'method=optimize', 'algorithm=newton', 'iter=10000']\n",
            "20:49:52 - cmdstanpy - INFO - Chain [1] start processing\n",
            "INFO:cmdstanpy:Chain [1] start processing\n",
            "20:49:52 - cmdstanpy - INFO - Chain [1] done processing\n",
            "INFO:cmdstanpy:Chain [1] done processing\n"
          ]
        },
        {
          "output_type": "stream",
          "name": "stdout",
          "text": [
            "Model Number: 569 with model FBProphet in generation 3 of 10\n",
            "Model Number: 570 with model SeasonalNaive in generation 3 of 10\n",
            "Model Number: 571 with model ConstantNaive in generation 3 of 10\n",
            "Model Number: 572 with model Theta in generation 3 of 10\n"
          ]
        },
        {
          "output_type": "stream",
          "name": "stderr",
          "text": [
            "/usr/local/lib/python3.8/dist-packages/sklearn/svm/_base.py:1206: ConvergenceWarning: Liblinear failed to converge, increase the number of iterations.\n",
            "  warnings.warn(\n"
          ]
        },
        {
          "output_type": "stream",
          "name": "stdout",
          "text": [
            "Model Number: 573 with model DatepartRegression in generation 3 of 10\n",
            "New Generation: 4 of 10\n",
            "Model Number: 574 with model UnobservedComponents in generation 4 of 10\n",
            "Model Number: 575 with model UnivariateRegression in generation 4 of 10\n",
            "Model Number: 576 with model MultivariateRegression in generation 4 of 10\n",
            "Template Eval Error: ValueError(\"Input contains NaN, infinity or a value too large for dtype('float32').\") in model 576: MultivariateRegression\n",
            "Model Number: 577 with model ETS in generation 4 of 10\n",
            "ETS error ValueError('Can only dampen the trend component')\n",
            "ETS failed on followers_gained with ValueError('Can only dampen the trend component')\n",
            "Model Number: 578 with model UnobservedComponents in generation 4 of 10\n",
            "Model Number: 579 with model DatepartRegression in generation 4 of 10\n",
            "Template Eval Error: ValueError('Model DatepartRegression returned NaN for one or more series. fail_on_forecast_nan=True') in model 579: DatepartRegression\n",
            "Model Number: 580 with model GLS in generation 4 of 10\n"
          ]
        },
        {
          "output_type": "stream",
          "name": "stderr",
          "text": [
            "/usr/local/lib/python3.8/dist-packages/sklearn/svm/_base.py:1206: ConvergenceWarning: Liblinear failed to converge, increase the number of iterations.\n",
            "  warnings.warn(\n",
            "/usr/local/lib/python3.8/dist-packages/sklearn/neighbors/_regression.py:470: UserWarning: One or more samples have no neighbors within specified radius; predicting NaN.\n",
            "  warnings.warn(empty_warning_msg)\n"
          ]
        },
        {
          "output_type": "stream",
          "name": "stdout",
          "text": [
            "Model Number: 581 with model NVAR in generation 4 of 10\n",
            "Model Number: 582 with model LastValueNaive in generation 4 of 10\n",
            "Model Number: 583 with model Theta in generation 4 of 10\n",
            "No anomalies detected.\n",
            "Model Number: 584 with model Theta in generation 4 of 10\n",
            "Model Number: 585 with model SeasonalNaive in generation 4 of 10\n",
            "Model Number: 586 with model MultivariateRegression in generation 4 of 10\n",
            "Model Number: 587 with model ConstantNaive in generation 4 of 10\n",
            "Model Number: 588 with model UnobservedComponents in generation 4 of 10\n",
            "Model Number: 589 with model Theta in generation 4 of 10\n",
            "Template Eval Error: Exception('Transformer Cointegration failed on fit') in model 589: Theta\n",
            "Model Number: 590 with model SeasonalNaive in generation 4 of 10\n",
            "Model Number: 591 with model UnobservedComponents in generation 4 of 10\n",
            "Model Number: 592 with model UnobservedComponents in generation 4 of 10\n",
            "Model Number: 593 with model WindowRegression in generation 4 of 10\n",
            "Model Number: 594 with model ETS in generation 4 of 10\n",
            "Model Number: 595 with model LastValueNaive in generation 4 of 10\n"
          ]
        },
        {
          "output_type": "stream",
          "name": "stderr",
          "text": [
            "/usr/local/lib/python3.8/dist-packages/sklearn/neural_network/_multilayer_perceptron.py:549: ConvergenceWarning: lbfgs failed to converge (status=1):\n",
            "STOP: TOTAL NO. of ITERATIONS REACHED LIMIT.\n",
            "\n",
            "Increase the number of iterations (max_iter) or scale the data as shown in:\n",
            "    https://scikit-learn.org/stable/modules/preprocessing.html\n",
            "  self.n_iter_ = _check_optimize_result(\"lbfgs\", opt_res, self.max_iter)\n"
          ]
        },
        {
          "output_type": "stream",
          "name": "stdout",
          "text": [
            "Model Number: 596 with model MultivariateRegression in generation 4 of 10\n",
            "Model Number: 597 with model ETS in generation 4 of 10\n",
            "Model Number: 598 with model LastValueNaive in generation 4 of 10\n",
            "Model Number: 599 with model DatepartRegression in generation 4 of 10\n",
            "Model Number: 600 with model Theta in generation 4 of 10\n",
            "Model Number: 601 with model NVAR in generation 4 of 10\n",
            "Model Number: 602 with model MetricMotif in generation 4 of 10\n",
            "Template Eval Error: ValueError('window shape cannot be larger than input array shape') in model 602: MetricMotif\n",
            "Model Number: 603 with model NVAR in generation 4 of 10\n",
            "Model Number: 604 with model MultivariateRegression in generation 4 of 10\n",
            "Template Eval Error: ValueError(\"Input contains NaN, infinity or a value too large for dtype('float64').\") in model 604: MultivariateRegression\n",
            "Model Number: 605 with model Theta in generation 4 of 10\n",
            "Model Number: 606 with model FBProphet in generation 4 of 10\n"
          ]
        },
        {
          "output_type": "stream",
          "name": "stderr",
          "text": [
            "INFO:prophet:Disabling yearly seasonality. Run prophet with yearly_seasonality=True to override this.\n",
            "INFO:prophet:Disabling weekly seasonality. Run prophet with weekly_seasonality=True to override this.\n",
            "INFO:prophet:Disabling daily seasonality. Run prophet with daily_seasonality=True to override this.\n",
            "INFO:prophet:n_changepoints greater than number of observations. Using 7.\n",
            "DEBUG:cmdstanpy:input tempfile: /tmp/tmpmodfer6_/qttu4nkw.json\n",
            "DEBUG:cmdstanpy:input tempfile: /tmp/tmpmodfer6_/znmiktm6.json\n",
            "DEBUG:cmdstanpy:idx 0\n",
            "DEBUG:cmdstanpy:running CmdStan, num_threads: None\n",
            "DEBUG:cmdstanpy:CmdStan args: ['/usr/local/lib/python3.8/dist-packages/prophet/stan_model/prophet_model.bin', 'random', 'seed=39925', 'data', 'file=/tmp/tmpmodfer6_/qttu4nkw.json', 'init=/tmp/tmpmodfer6_/znmiktm6.json', 'output', 'file=/tmp/tmpmodfer6_/prophet_modelkt5bxn9m/prophet_model-20221205205000.csv', 'method=optimize', 'algorithm=newton', 'iter=10000']\n",
            "20:50:00 - cmdstanpy - INFO - Chain [1] start processing\n",
            "INFO:cmdstanpy:Chain [1] start processing\n",
            "20:50:00 - cmdstanpy - INFO - Chain [1] done processing\n",
            "INFO:cmdstanpy:Chain [1] done processing\n"
          ]
        },
        {
          "output_type": "stream",
          "name": "stdout",
          "text": [
            "Model Number: 607 with model SeasonalNaive in generation 4 of 10\n",
            "Model Number: 608 with model MultivariateRegression in generation 4 of 10\n",
            "Model Number: 609 with model AverageValueNaive in generation 4 of 10\n",
            "Model Number: 610 with model DatepartRegression in generation 4 of 10\n",
            "Model Number: 611 with model NVAR in generation 4 of 10\n",
            "Model Number: 612 with model SeasonalNaive in generation 4 of 10\n"
          ]
        },
        {
          "output_type": "stream",
          "name": "stderr",
          "text": [
            "/usr/local/lib/python3.8/dist-packages/autots/tools/probabilistic.py:67: RuntimeWarning: invalid value encountered in true_divide\n",
            "  (prior_mu / prior_sigma**2) + ((n * data_mu) / prior_sigma**2)\n",
            "/usr/local/lib/python3.8/dist-packages/autots/tools/probabilistic.py:68: RuntimeWarning: divide by zero encountered in true_divide\n",
            "  ) / ((1 / prior_sigma**2) + (n / prior_sigma**2))\n"
          ]
        },
        {
          "output_type": "stream",
          "name": "stdout",
          "text": [
            "Model Number: 613 with model Theta in generation 4 of 10\n",
            "Model Number: 614 with model NVAR in generation 4 of 10\n",
            "Model Number: 615 with model AverageValueNaive in generation 4 of 10\n",
            "Model Number: 616 with model SeasonalNaive in generation 4 of 10\n",
            "Model Number: 617 with model LastValueNaive in generation 4 of 10\n",
            "Model Number: 618 with model ConstantNaive in generation 4 of 10\n",
            "Model Number: 619 with model DatepartRegression in generation 4 of 10\n"
          ]
        },
        {
          "output_type": "stream",
          "name": "stderr",
          "text": [
            "[Parallel(n_jobs=-2)]: Using backend SequentialBackend with 1 concurrent workers.\n"
          ]
        },
        {
          "output_type": "stream",
          "name": "stdout",
          "text": [
            "Model Number: 620 with model MultivariateRegression in generation 4 of 10\n",
            "Template Eval Error: Exception('Transformer ScipyFilter failed on fit') in model 620: MultivariateRegression\n",
            "Model Number: 621 with model AverageValueNaive in generation 4 of 10\n",
            "Model Number: 622 with model LastValueNaive in generation 4 of 10\n"
          ]
        },
        {
          "output_type": "stream",
          "name": "stderr",
          "text": [
            "[Parallel(n_jobs=-2)]: Done 300 out of 300 | elapsed:    0.3s finished\n",
            "[Parallel(n_jobs=1)]: Using backend SequentialBackend with 1 concurrent workers.\n",
            "[Parallel(n_jobs=1)]: Done 300 out of 300 | elapsed:    0.0s finished\n"
          ]
        },
        {
          "output_type": "stream",
          "name": "stdout",
          "text": [
            "Model Number: 623 with model ConstantNaive in generation 4 of 10\n",
            "Model Number: 624 with model LastValueNaive in generation 4 of 10\n",
            "Model Number: 625 with model MultivariateRegression in generation 4 of 10\n"
          ]
        },
        {
          "output_type": "stream",
          "name": "stderr",
          "text": [
            "INFO:prophet:Disabling yearly seasonality. Run prophet with yearly_seasonality=True to override this.\n",
            "INFO:prophet:Disabling weekly seasonality. Run prophet with weekly_seasonality=True to override this.\n",
            "INFO:prophet:Disabling daily seasonality. Run prophet with daily_seasonality=True to override this.\n",
            "INFO:prophet:n_changepoints greater than number of observations. Using 1.\n",
            "DEBUG:cmdstanpy:input tempfile: /tmp/tmpmodfer6_/9td2a7te.json\n",
            "DEBUG:cmdstanpy:input tempfile: /tmp/tmpmodfer6_/pi9wg8lj.json\n",
            "DEBUG:cmdstanpy:idx 0\n",
            "DEBUG:cmdstanpy:running CmdStan, num_threads: None\n",
            "DEBUG:cmdstanpy:CmdStan args: ['/usr/local/lib/python3.8/dist-packages/prophet/stan_model/prophet_model.bin', 'random', 'seed=33060', 'data', 'file=/tmp/tmpmodfer6_/9td2a7te.json', 'init=/tmp/tmpmodfer6_/pi9wg8lj.json', 'output', 'file=/tmp/tmpmodfer6_/prophet_modelilisppmt/prophet_model-20221205205003.csv', 'method=optimize', 'algorithm=newton', 'iter=10000']\n",
            "20:50:03 - cmdstanpy - INFO - Chain [1] start processing\n",
            "INFO:cmdstanpy:Chain [1] start processing\n",
            "20:50:03 - cmdstanpy - INFO - Chain [1] done processing\n",
            "INFO:cmdstanpy:Chain [1] done processing\n"
          ]
        },
        {
          "output_type": "stream",
          "name": "stdout",
          "text": [
            "Model Number: 626 with model FBProphet in generation 4 of 10\n",
            "Model Number: 627 with model WindowRegression in generation 4 of 10\n",
            "Model Number: 628 with model LastValueNaive in generation 4 of 10\n",
            "Model Number: 629 with model ETS in generation 4 of 10\n",
            "Model Number: 630 with model UnobservedComponents in generation 4 of 10\n",
            "Model Number: 631 with model ETS in generation 4 of 10\n",
            "ETS error ValueError('Can only dampen the trend component')\n",
            "ETS failed on followers_gained with ValueError('Can only dampen the trend component')\n",
            "Model Number: 632 with model DatepartRegression in generation 4 of 10\n"
          ]
        },
        {
          "output_type": "stream",
          "name": "stderr",
          "text": [
            "/usr/local/lib/python3.8/dist-packages/autots/tools/probabilistic.py:67: RuntimeWarning: invalid value encountered in true_divide\n",
            "  (prior_mu / prior_sigma**2) + ((n * data_mu) / prior_sigma**2)\n",
            "/usr/local/lib/python3.8/dist-packages/autots/tools/probabilistic.py:68: RuntimeWarning: divide by zero encountered in true_divide\n",
            "  ) / ((1 / prior_sigma**2) + (n / prior_sigma**2))\n",
            "/usr/local/lib/python3.8/dist-packages/sklearn/base.py:450: UserWarning: X does not have valid feature names, but MLPRegressor was fitted with feature names\n",
            "  warnings.warn(\n",
            "/usr/local/lib/python3.8/dist-packages/sklearn/base.py:450: UserWarning: X does not have valid feature names, but MLPRegressor was fitted with feature names\n",
            "  warnings.warn(\n",
            "/usr/local/lib/python3.8/dist-packages/sklearn/base.py:450: UserWarning: X does not have valid feature names, but MLPRegressor was fitted with feature names\n",
            "  warnings.warn(\n",
            "/usr/local/lib/python3.8/dist-packages/sklearn/base.py:450: UserWarning: X does not have valid feature names, but MLPRegressor was fitted with feature names\n",
            "  warnings.warn(\n",
            "/usr/local/lib/python3.8/dist-packages/sklearn/base.py:450: UserWarning: X does not have valid feature names, but MLPRegressor was fitted with feature names\n",
            "  warnings.warn(\n",
            "/usr/local/lib/python3.8/dist-packages/sklearn/base.py:450: UserWarning: X does not have valid feature names, but MLPRegressor was fitted with feature names\n",
            "  warnings.warn(\n",
            "/usr/local/lib/python3.8/dist-packages/sklearn/base.py:450: UserWarning: X does not have valid feature names, but MLPRegressor was fitted with feature names\n",
            "  warnings.warn(\n",
            "/usr/local/lib/python3.8/dist-packages/sklearn/base.py:450: UserWarning: X does not have valid feature names, but MLPRegressor was fitted with feature names\n",
            "  warnings.warn(\n",
            "/usr/local/lib/python3.8/dist-packages/sklearn/base.py:450: UserWarning: X does not have valid feature names, but MLPRegressor was fitted with feature names\n",
            "  warnings.warn(\n",
            "/usr/local/lib/python3.8/dist-packages/sklearn/base.py:450: UserWarning: X does not have valid feature names, but MLPRegressor was fitted with feature names\n",
            "  warnings.warn(\n",
            "/usr/local/lib/python3.8/dist-packages/sklearn/base.py:450: UserWarning: X does not have valid feature names, but MLPRegressor was fitted with feature names\n",
            "  warnings.warn(\n",
            "/usr/local/lib/python3.8/dist-packages/sklearn/base.py:450: UserWarning: X does not have valid feature names, but MLPRegressor was fitted with feature names\n",
            "  warnings.warn(\n",
            "/usr/local/lib/python3.8/dist-packages/sklearn/base.py:450: UserWarning: X does not have valid feature names, but MLPRegressor was fitted with feature names\n",
            "  warnings.warn(\n",
            "/usr/local/lib/python3.8/dist-packages/sklearn/base.py:450: UserWarning: X does not have valid feature names, but MLPRegressor was fitted with feature names\n",
            "  warnings.warn(\n",
            "/usr/local/lib/python3.8/dist-packages/sklearn/base.py:450: UserWarning: X does not have valid feature names, but MLPRegressor was fitted with feature names\n",
            "  warnings.warn(\n",
            "/usr/local/lib/python3.8/dist-packages/sklearn/base.py:450: UserWarning: X does not have valid feature names, but MLPRegressor was fitted with feature names\n",
            "  warnings.warn(\n",
            "/usr/local/lib/python3.8/dist-packages/sklearn/base.py:450: UserWarning: X does not have valid feature names, but MLPRegressor was fitted with feature names\n",
            "  warnings.warn(\n",
            "/usr/local/lib/python3.8/dist-packages/sklearn/base.py:450: UserWarning: X does not have valid feature names, but MLPRegressor was fitted with feature names\n",
            "  warnings.warn(\n",
            "/usr/local/lib/python3.8/dist-packages/sklearn/base.py:450: UserWarning: X does not have valid feature names, but MLPRegressor was fitted with feature names\n",
            "  warnings.warn(\n",
            "/usr/local/lib/python3.8/dist-packages/sklearn/base.py:450: UserWarning: X does not have valid feature names, but MLPRegressor was fitted with feature names\n",
            "  warnings.warn(\n",
            "/usr/local/lib/python3.8/dist-packages/sklearn/base.py:450: UserWarning: X does not have valid feature names, but MLPRegressor was fitted with feature names\n",
            "  warnings.warn(\n",
            "/usr/local/lib/python3.8/dist-packages/sklearn/base.py:450: UserWarning: X does not have valid feature names, but MLPRegressor was fitted with feature names\n",
            "  warnings.warn(\n",
            "/usr/local/lib/python3.8/dist-packages/sklearn/base.py:450: UserWarning: X does not have valid feature names, but MLPRegressor was fitted with feature names\n",
            "  warnings.warn(\n",
            "/usr/local/lib/python3.8/dist-packages/sklearn/base.py:450: UserWarning: X does not have valid feature names, but MLPRegressor was fitted with feature names\n",
            "  warnings.warn(\n",
            "/usr/local/lib/python3.8/dist-packages/sklearn/base.py:450: UserWarning: X does not have valid feature names, but MLPRegressor was fitted with feature names\n",
            "  warnings.warn(\n",
            "/usr/local/lib/python3.8/dist-packages/sklearn/base.py:450: UserWarning: X does not have valid feature names, but MLPRegressor was fitted with feature names\n",
            "  warnings.warn(\n",
            "/usr/local/lib/python3.8/dist-packages/sklearn/base.py:450: UserWarning: X does not have valid feature names, but MLPRegressor was fitted with feature names\n",
            "  warnings.warn(\n",
            "/usr/local/lib/python3.8/dist-packages/sklearn/base.py:450: UserWarning: X does not have valid feature names, but MLPRegressor was fitted with feature names\n",
            "  warnings.warn(\n",
            "/usr/local/lib/python3.8/dist-packages/sklearn/base.py:450: UserWarning: X does not have valid feature names, but MLPRegressor was fitted with feature names\n",
            "  warnings.warn(\n",
            "/usr/local/lib/python3.8/dist-packages/sklearn/base.py:450: UserWarning: X does not have valid feature names, but MLPRegressor was fitted with feature names\n",
            "  warnings.warn(\n",
            "/usr/local/lib/python3.8/dist-packages/sklearn/base.py:450: UserWarning: X does not have valid feature names, but MLPRegressor was fitted with feature names\n",
            "  warnings.warn(\n",
            "/usr/local/lib/python3.8/dist-packages/sklearn/base.py:450: UserWarning: X does not have valid feature names, but MLPRegressor was fitted with feature names\n",
            "  warnings.warn(\n",
            "/usr/local/lib/python3.8/dist-packages/sklearn/base.py:450: UserWarning: X does not have valid feature names, but MLPRegressor was fitted with feature names\n",
            "  warnings.warn(\n",
            "/usr/local/lib/python3.8/dist-packages/sklearn/base.py:450: UserWarning: X does not have valid feature names, but MLPRegressor was fitted with feature names\n",
            "  warnings.warn(\n",
            "/usr/local/lib/python3.8/dist-packages/sklearn/base.py:450: UserWarning: X does not have valid feature names, but MLPRegressor was fitted with feature names\n",
            "  warnings.warn(\n",
            "/usr/local/lib/python3.8/dist-packages/sklearn/base.py:450: UserWarning: X does not have valid feature names, but MLPRegressor was fitted with feature names\n",
            "  warnings.warn(\n",
            "/usr/local/lib/python3.8/dist-packages/sklearn/base.py:450: UserWarning: X does not have valid feature names, but MLPRegressor was fitted with feature names\n",
            "  warnings.warn(\n",
            "/usr/local/lib/python3.8/dist-packages/sklearn/base.py:450: UserWarning: X does not have valid feature names, but MLPRegressor was fitted with feature names\n",
            "  warnings.warn(\n",
            "/usr/local/lib/python3.8/dist-packages/sklearn/base.py:450: UserWarning: X does not have valid feature names, but MLPRegressor was fitted with feature names\n",
            "  warnings.warn(\n",
            "/usr/local/lib/python3.8/dist-packages/sklearn/base.py:450: UserWarning: X does not have valid feature names, but MLPRegressor was fitted with feature names\n",
            "  warnings.warn(\n",
            "/usr/local/lib/python3.8/dist-packages/sklearn/base.py:450: UserWarning: X does not have valid feature names, but MLPRegressor was fitted with feature names\n",
            "  warnings.warn(\n",
            "/usr/local/lib/python3.8/dist-packages/sklearn/base.py:450: UserWarning: X does not have valid feature names, but MLPRegressor was fitted with feature names\n",
            "  warnings.warn(\n",
            "/usr/local/lib/python3.8/dist-packages/sklearn/base.py:450: UserWarning: X does not have valid feature names, but MLPRegressor was fitted with feature names\n",
            "  warnings.warn(\n",
            "/usr/local/lib/python3.8/dist-packages/sklearn/base.py:450: UserWarning: X does not have valid feature names, but MLPRegressor was fitted with feature names\n",
            "  warnings.warn(\n",
            "/usr/local/lib/python3.8/dist-packages/sklearn/base.py:450: UserWarning: X does not have valid feature names, but MLPRegressor was fitted with feature names\n",
            "  warnings.warn(\n",
            "/usr/local/lib/python3.8/dist-packages/sklearn/base.py:450: UserWarning: X does not have valid feature names, but MLPRegressor was fitted with feature names\n",
            "  warnings.warn(\n",
            "/usr/local/lib/python3.8/dist-packages/sklearn/base.py:450: UserWarning: X does not have valid feature names, but MLPRegressor was fitted with feature names\n",
            "  warnings.warn(\n",
            "/usr/local/lib/python3.8/dist-packages/sklearn/base.py:450: UserWarning: X does not have valid feature names, but MLPRegressor was fitted with feature names\n",
            "  warnings.warn(\n",
            "/usr/local/lib/python3.8/dist-packages/sklearn/base.py:450: UserWarning: X does not have valid feature names, but MLPRegressor was fitted with feature names\n",
            "  warnings.warn(\n",
            "/usr/local/lib/python3.8/dist-packages/sklearn/base.py:450: UserWarning: X does not have valid feature names, but MLPRegressor was fitted with feature names\n",
            "  warnings.warn(\n",
            "/usr/local/lib/python3.8/dist-packages/sklearn/base.py:450: UserWarning: X does not have valid feature names, but MLPRegressor was fitted with feature names\n",
            "  warnings.warn(\n",
            "/usr/local/lib/python3.8/dist-packages/sklearn/base.py:450: UserWarning: X does not have valid feature names, but MLPRegressor was fitted with feature names\n",
            "  warnings.warn(\n",
            "/usr/local/lib/python3.8/dist-packages/sklearn/base.py:450: UserWarning: X does not have valid feature names, but MLPRegressor was fitted with feature names\n",
            "  warnings.warn(\n",
            "/usr/local/lib/python3.8/dist-packages/sklearn/base.py:450: UserWarning: X does not have valid feature names, but MLPRegressor was fitted with feature names\n",
            "  warnings.warn(\n",
            "/usr/local/lib/python3.8/dist-packages/sklearn/base.py:450: UserWarning: X does not have valid feature names, but MLPRegressor was fitted with feature names\n",
            "  warnings.warn(\n",
            "/usr/local/lib/python3.8/dist-packages/sklearn/base.py:450: UserWarning: X does not have valid feature names, but MLPRegressor was fitted with feature names\n",
            "  warnings.warn(\n",
            "/usr/local/lib/python3.8/dist-packages/sklearn/base.py:450: UserWarning: X does not have valid feature names, but MLPRegressor was fitted with feature names\n",
            "  warnings.warn(\n",
            "/usr/local/lib/python3.8/dist-packages/sklearn/base.py:450: UserWarning: X does not have valid feature names, but MLPRegressor was fitted with feature names\n",
            "  warnings.warn(\n",
            "/usr/local/lib/python3.8/dist-packages/sklearn/base.py:450: UserWarning: X does not have valid feature names, but MLPRegressor was fitted with feature names\n",
            "  warnings.warn(\n",
            "/usr/local/lib/python3.8/dist-packages/sklearn/base.py:450: UserWarning: X does not have valid feature names, but MLPRegressor was fitted with feature names\n",
            "  warnings.warn(\n",
            "/usr/local/lib/python3.8/dist-packages/sklearn/base.py:450: UserWarning: X does not have valid feature names, but MLPRegressor was fitted with feature names\n",
            "  warnings.warn(\n",
            "/usr/local/lib/python3.8/dist-packages/sklearn/base.py:450: UserWarning: X does not have valid feature names, but MLPRegressor was fitted with feature names\n",
            "  warnings.warn(\n",
            "/usr/local/lib/python3.8/dist-packages/sklearn/base.py:450: UserWarning: X does not have valid feature names, but MLPRegressor was fitted with feature names\n",
            "  warnings.warn(\n",
            "/usr/local/lib/python3.8/dist-packages/sklearn/base.py:450: UserWarning: X does not have valid feature names, but MLPRegressor was fitted with feature names\n",
            "  warnings.warn(\n",
            "/usr/local/lib/python3.8/dist-packages/sklearn/base.py:450: UserWarning: X does not have valid feature names, but MLPRegressor was fitted with feature names\n",
            "  warnings.warn(\n",
            "/usr/local/lib/python3.8/dist-packages/sklearn/base.py:450: UserWarning: X does not have valid feature names, but MLPRegressor was fitted with feature names\n",
            "  warnings.warn(\n",
            "/usr/local/lib/python3.8/dist-packages/sklearn/base.py:450: UserWarning: X does not have valid feature names, but MLPRegressor was fitted with feature names\n",
            "  warnings.warn(\n",
            "/usr/local/lib/python3.8/dist-packages/sklearn/base.py:450: UserWarning: X does not have valid feature names, but MLPRegressor was fitted with feature names\n",
            "  warnings.warn(\n",
            "/usr/local/lib/python3.8/dist-packages/sklearn/base.py:450: UserWarning: X does not have valid feature names, but MLPRegressor was fitted with feature names\n",
            "  warnings.warn(\n",
            "/usr/local/lib/python3.8/dist-packages/sklearn/base.py:450: UserWarning: X does not have valid feature names, but MLPRegressor was fitted with feature names\n",
            "  warnings.warn(\n",
            "/usr/local/lib/python3.8/dist-packages/sklearn/base.py:450: UserWarning: X does not have valid feature names, but MLPRegressor was fitted with feature names\n",
            "  warnings.warn(\n",
            "/usr/local/lib/python3.8/dist-packages/sklearn/base.py:450: UserWarning: X does not have valid feature names, but MLPRegressor was fitted with feature names\n",
            "  warnings.warn(\n",
            "/usr/local/lib/python3.8/dist-packages/sklearn/base.py:450: UserWarning: X does not have valid feature names, but MLPRegressor was fitted with feature names\n",
            "  warnings.warn(\n",
            "/usr/local/lib/python3.8/dist-packages/sklearn/base.py:450: UserWarning: X does not have valid feature names, but MLPRegressor was fitted with feature names\n",
            "  warnings.warn(\n",
            "/usr/local/lib/python3.8/dist-packages/sklearn/base.py:450: UserWarning: X does not have valid feature names, but MLPRegressor was fitted with feature names\n",
            "  warnings.warn(\n",
            "/usr/local/lib/python3.8/dist-packages/sklearn/base.py:450: UserWarning: X does not have valid feature names, but MLPRegressor was fitted with feature names\n",
            "  warnings.warn(\n",
            "/usr/local/lib/python3.8/dist-packages/sklearn/base.py:450: UserWarning: X does not have valid feature names, but MLPRegressor was fitted with feature names\n",
            "  warnings.warn(\n",
            "/usr/local/lib/python3.8/dist-packages/sklearn/base.py:450: UserWarning: X does not have valid feature names, but MLPRegressor was fitted with feature names\n",
            "  warnings.warn(\n",
            "/usr/local/lib/python3.8/dist-packages/sklearn/base.py:450: UserWarning: X does not have valid feature names, but MLPRegressor was fitted with feature names\n",
            "  warnings.warn(\n",
            "/usr/local/lib/python3.8/dist-packages/sklearn/base.py:450: UserWarning: X does not have valid feature names, but MLPRegressor was fitted with feature names\n",
            "  warnings.warn(\n",
            "/usr/local/lib/python3.8/dist-packages/sklearn/base.py:450: UserWarning: X does not have valid feature names, but MLPRegressor was fitted with feature names\n",
            "  warnings.warn(\n",
            "/usr/local/lib/python3.8/dist-packages/sklearn/base.py:450: UserWarning: X does not have valid feature names, but MLPRegressor was fitted with feature names\n",
            "  warnings.warn(\n",
            "/usr/local/lib/python3.8/dist-packages/sklearn/base.py:450: UserWarning: X does not have valid feature names, but MLPRegressor was fitted with feature names\n",
            "  warnings.warn(\n",
            "/usr/local/lib/python3.8/dist-packages/sklearn/base.py:450: UserWarning: X does not have valid feature names, but MLPRegressor was fitted with feature names\n",
            "  warnings.warn(\n",
            "/usr/local/lib/python3.8/dist-packages/sklearn/base.py:450: UserWarning: X does not have valid feature names, but MLPRegressor was fitted with feature names\n",
            "  warnings.warn(\n",
            "/usr/local/lib/python3.8/dist-packages/sklearn/base.py:450: UserWarning: X does not have valid feature names, but MLPRegressor was fitted with feature names\n",
            "  warnings.warn(\n",
            "/usr/local/lib/python3.8/dist-packages/sklearn/base.py:450: UserWarning: X does not have valid feature names, but MLPRegressor was fitted with feature names\n",
            "  warnings.warn(\n",
            "/usr/local/lib/python3.8/dist-packages/sklearn/base.py:450: UserWarning: X does not have valid feature names, but MLPRegressor was fitted with feature names\n",
            "  warnings.warn(\n",
            "/usr/local/lib/python3.8/dist-packages/sklearn/base.py:450: UserWarning: X does not have valid feature names, but MLPRegressor was fitted with feature names\n",
            "  warnings.warn(\n",
            "/usr/local/lib/python3.8/dist-packages/sklearn/base.py:450: UserWarning: X does not have valid feature names, but MLPRegressor was fitted with feature names\n",
            "  warnings.warn(\n",
            "/usr/local/lib/python3.8/dist-packages/sklearn/base.py:450: UserWarning: X does not have valid feature names, but MLPRegressor was fitted with feature names\n",
            "  warnings.warn(\n",
            "/usr/local/lib/python3.8/dist-packages/sklearn/base.py:450: UserWarning: X does not have valid feature names, but MLPRegressor was fitted with feature names\n",
            "  warnings.warn(\n",
            "/usr/local/lib/python3.8/dist-packages/sklearn/base.py:450: UserWarning: X does not have valid feature names, but MLPRegressor was fitted with feature names\n",
            "  warnings.warn(\n",
            "/usr/local/lib/python3.8/dist-packages/sklearn/base.py:450: UserWarning: X does not have valid feature names, but MLPRegressor was fitted with feature names\n",
            "  warnings.warn(\n",
            "/usr/local/lib/python3.8/dist-packages/sklearn/base.py:450: UserWarning: X does not have valid feature names, but MLPRegressor was fitted with feature names\n",
            "  warnings.warn(\n",
            "/usr/local/lib/python3.8/dist-packages/sklearn/base.py:450: UserWarning: X does not have valid feature names, but MLPRegressor was fitted with feature names\n",
            "  warnings.warn(\n",
            "/usr/local/lib/python3.8/dist-packages/sklearn/base.py:450: UserWarning: X does not have valid feature names, but MLPRegressor was fitted with feature names\n",
            "  warnings.warn(\n",
            "/usr/local/lib/python3.8/dist-packages/sklearn/base.py:450: UserWarning: X does not have valid feature names, but MLPRegressor was fitted with feature names\n",
            "  warnings.warn(\n",
            "/usr/local/lib/python3.8/dist-packages/sklearn/base.py:450: UserWarning: X does not have valid feature names, but MLPRegressor was fitted with feature names\n",
            "  warnings.warn(\n",
            "/usr/local/lib/python3.8/dist-packages/sklearn/base.py:450: UserWarning: X does not have valid feature names, but MLPRegressor was fitted with feature names\n",
            "  warnings.warn(\n",
            "/usr/local/lib/python3.8/dist-packages/sklearn/base.py:450: UserWarning: X does not have valid feature names, but MLPRegressor was fitted with feature names\n",
            "  warnings.warn(\n",
            "/usr/local/lib/python3.8/dist-packages/sklearn/base.py:450: UserWarning: X does not have valid feature names, but MLPRegressor was fitted with feature names\n",
            "  warnings.warn(\n",
            "/usr/local/lib/python3.8/dist-packages/sklearn/base.py:450: UserWarning: X does not have valid feature names, but MLPRegressor was fitted with feature names\n",
            "  warnings.warn(\n",
            "/usr/local/lib/python3.8/dist-packages/sklearn/base.py:450: UserWarning: X does not have valid feature names, but MLPRegressor was fitted with feature names\n",
            "  warnings.warn(\n",
            "/usr/local/lib/python3.8/dist-packages/sklearn/base.py:450: UserWarning: X does not have valid feature names, but MLPRegressor was fitted with feature names\n",
            "  warnings.warn(\n",
            "/usr/local/lib/python3.8/dist-packages/sklearn/base.py:450: UserWarning: X does not have valid feature names, but MLPRegressor was fitted with feature names\n",
            "  warnings.warn(\n",
            "/usr/local/lib/python3.8/dist-packages/sklearn/base.py:450: UserWarning: X does not have valid feature names, but MLPRegressor was fitted with feature names\n",
            "  warnings.warn(\n",
            "/usr/local/lib/python3.8/dist-packages/sklearn/base.py:450: UserWarning: X does not have valid feature names, but MLPRegressor was fitted with feature names\n",
            "  warnings.warn(\n",
            "/usr/local/lib/python3.8/dist-packages/sklearn/base.py:450: UserWarning: X does not have valid feature names, but MLPRegressor was fitted with feature names\n",
            "  warnings.warn(\n",
            "/usr/local/lib/python3.8/dist-packages/sklearn/base.py:450: UserWarning: X does not have valid feature names, but MLPRegressor was fitted with feature names\n",
            "  warnings.warn(\n",
            "/usr/local/lib/python3.8/dist-packages/sklearn/base.py:450: UserWarning: X does not have valid feature names, but MLPRegressor was fitted with feature names\n",
            "  warnings.warn(\n",
            "/usr/local/lib/python3.8/dist-packages/sklearn/base.py:450: UserWarning: X does not have valid feature names, but MLPRegressor was fitted with feature names\n",
            "  warnings.warn(\n",
            "/usr/local/lib/python3.8/dist-packages/sklearn/base.py:450: UserWarning: X does not have valid feature names, but MLPRegressor was fitted with feature names\n",
            "  warnings.warn(\n",
            "/usr/local/lib/python3.8/dist-packages/sklearn/base.py:450: UserWarning: X does not have valid feature names, but MLPRegressor was fitted with feature names\n",
            "  warnings.warn(\n",
            "/usr/local/lib/python3.8/dist-packages/sklearn/base.py:450: UserWarning: X does not have valid feature names, but MLPRegressor was fitted with feature names\n",
            "  warnings.warn(\n",
            "/usr/local/lib/python3.8/dist-packages/sklearn/base.py:450: UserWarning: X does not have valid feature names, but MLPRegressor was fitted with feature names\n",
            "  warnings.warn(\n",
            "/usr/local/lib/python3.8/dist-packages/sklearn/base.py:450: UserWarning: X does not have valid feature names, but MLPRegressor was fitted with feature names\n",
            "  warnings.warn(\n",
            "/usr/local/lib/python3.8/dist-packages/sklearn/base.py:450: UserWarning: X does not have valid feature names, but MLPRegressor was fitted with feature names\n",
            "  warnings.warn(\n",
            "/usr/local/lib/python3.8/dist-packages/sklearn/base.py:450: UserWarning: X does not have valid feature names, but MLPRegressor was fitted with feature names\n",
            "  warnings.warn(\n",
            "/usr/local/lib/python3.8/dist-packages/sklearn/base.py:450: UserWarning: X does not have valid feature names, but MLPRegressor was fitted with feature names\n",
            "  warnings.warn(\n",
            "/usr/local/lib/python3.8/dist-packages/sklearn/base.py:450: UserWarning: X does not have valid feature names, but MLPRegressor was fitted with feature names\n",
            "  warnings.warn(\n",
            "/usr/local/lib/python3.8/dist-packages/sklearn/base.py:450: UserWarning: X does not have valid feature names, but MLPRegressor was fitted with feature names\n",
            "  warnings.warn(\n",
            "/usr/local/lib/python3.8/dist-packages/sklearn/base.py:450: UserWarning: X does not have valid feature names, but MLPRegressor was fitted with feature names\n",
            "  warnings.warn(\n",
            "/usr/local/lib/python3.8/dist-packages/sklearn/base.py:450: UserWarning: X does not have valid feature names, but MLPRegressor was fitted with feature names\n",
            "  warnings.warn(\n",
            "/usr/local/lib/python3.8/dist-packages/sklearn/base.py:450: UserWarning: X does not have valid feature names, but MLPRegressor was fitted with feature names\n",
            "  warnings.warn(\n",
            "/usr/local/lib/python3.8/dist-packages/sklearn/base.py:450: UserWarning: X does not have valid feature names, but MLPRegressor was fitted with feature names\n",
            "  warnings.warn(\n",
            "/usr/local/lib/python3.8/dist-packages/sklearn/base.py:450: UserWarning: X does not have valid feature names, but MLPRegressor was fitted with feature names\n",
            "  warnings.warn(\n",
            "/usr/local/lib/python3.8/dist-packages/sklearn/base.py:450: UserWarning: X does not have valid feature names, but MLPRegressor was fitted with feature names\n",
            "  warnings.warn(\n",
            "/usr/local/lib/python3.8/dist-packages/sklearn/base.py:450: UserWarning: X does not have valid feature names, but MLPRegressor was fitted with feature names\n",
            "  warnings.warn(\n",
            "/usr/local/lib/python3.8/dist-packages/sklearn/base.py:450: UserWarning: X does not have valid feature names, but MLPRegressor was fitted with feature names\n",
            "  warnings.warn(\n",
            "/usr/local/lib/python3.8/dist-packages/sklearn/base.py:450: UserWarning: X does not have valid feature names, but MLPRegressor was fitted with feature names\n",
            "  warnings.warn(\n",
            "/usr/local/lib/python3.8/dist-packages/sklearn/base.py:450: UserWarning: X does not have valid feature names, but MLPRegressor was fitted with feature names\n",
            "  warnings.warn(\n",
            "/usr/local/lib/python3.8/dist-packages/sklearn/base.py:450: UserWarning: X does not have valid feature names, but MLPRegressor was fitted with feature names\n",
            "  warnings.warn(\n",
            "/usr/local/lib/python3.8/dist-packages/sklearn/base.py:450: UserWarning: X does not have valid feature names, but MLPRegressor was fitted with feature names\n",
            "  warnings.warn(\n",
            "/usr/local/lib/python3.8/dist-packages/sklearn/base.py:450: UserWarning: X does not have valid feature names, but MLPRegressor was fitted with feature names\n",
            "  warnings.warn(\n",
            "/usr/local/lib/python3.8/dist-packages/sklearn/base.py:450: UserWarning: X does not have valid feature names, but MLPRegressor was fitted with feature names\n",
            "  warnings.warn(\n",
            "/usr/local/lib/python3.8/dist-packages/sklearn/base.py:450: UserWarning: X does not have valid feature names, but MLPRegressor was fitted with feature names\n",
            "  warnings.warn(\n",
            "/usr/local/lib/python3.8/dist-packages/sklearn/base.py:450: UserWarning: X does not have valid feature names, but MLPRegressor was fitted with feature names\n",
            "  warnings.warn(\n",
            "/usr/local/lib/python3.8/dist-packages/sklearn/base.py:450: UserWarning: X does not have valid feature names, but MLPRegressor was fitted with feature names\n",
            "  warnings.warn(\n",
            "/usr/local/lib/python3.8/dist-packages/sklearn/base.py:450: UserWarning: X does not have valid feature names, but MLPRegressor was fitted with feature names\n",
            "  warnings.warn(\n",
            "/usr/local/lib/python3.8/dist-packages/sklearn/base.py:450: UserWarning: X does not have valid feature names, but MLPRegressor was fitted with feature names\n",
            "  warnings.warn(\n",
            "/usr/local/lib/python3.8/dist-packages/sklearn/base.py:450: UserWarning: X does not have valid feature names, but MLPRegressor was fitted with feature names\n",
            "  warnings.warn(\n",
            "/usr/local/lib/python3.8/dist-packages/sklearn/base.py:450: UserWarning: X does not have valid feature names, but MLPRegressor was fitted with feature names\n",
            "  warnings.warn(\n",
            "/usr/local/lib/python3.8/dist-packages/sklearn/base.py:450: UserWarning: X does not have valid feature names, but MLPRegressor was fitted with feature names\n",
            "  warnings.warn(\n",
            "/usr/local/lib/python3.8/dist-packages/sklearn/base.py:450: UserWarning: X does not have valid feature names, but MLPRegressor was fitted with feature names\n",
            "  warnings.warn(\n",
            "/usr/local/lib/python3.8/dist-packages/sklearn/base.py:450: UserWarning: X does not have valid feature names, but MLPRegressor was fitted with feature names\n",
            "  warnings.warn(\n",
            "/usr/local/lib/python3.8/dist-packages/sklearn/base.py:450: UserWarning: X does not have valid feature names, but MLPRegressor was fitted with feature names\n",
            "  warnings.warn(\n",
            "/usr/local/lib/python3.8/dist-packages/sklearn/base.py:450: UserWarning: X does not have valid feature names, but MLPRegressor was fitted with feature names\n",
            "  warnings.warn(\n",
            "/usr/local/lib/python3.8/dist-packages/sklearn/base.py:450: UserWarning: X does not have valid feature names, but MLPRegressor was fitted with feature names\n",
            "  warnings.warn(\n",
            "/usr/local/lib/python3.8/dist-packages/sklearn/base.py:450: UserWarning: X does not have valid feature names, but MLPRegressor was fitted with feature names\n",
            "  warnings.warn(\n",
            "/usr/local/lib/python3.8/dist-packages/sklearn/base.py:450: UserWarning: X does not have valid feature names, but MLPRegressor was fitted with feature names\n",
            "  warnings.warn(\n",
            "/usr/local/lib/python3.8/dist-packages/sklearn/base.py:450: UserWarning: X does not have valid feature names, but MLPRegressor was fitted with feature names\n",
            "  warnings.warn(\n",
            "/usr/local/lib/python3.8/dist-packages/sklearn/base.py:450: UserWarning: X does not have valid feature names, but MLPRegressor was fitted with feature names\n",
            "  warnings.warn(\n",
            "/usr/local/lib/python3.8/dist-packages/sklearn/base.py:450: UserWarning: X does not have valid feature names, but MLPRegressor was fitted with feature names\n",
            "  warnings.warn(\n",
            "/usr/local/lib/python3.8/dist-packages/sklearn/base.py:450: UserWarning: X does not have valid feature names, but MLPRegressor was fitted with feature names\n",
            "  warnings.warn(\n",
            "/usr/local/lib/python3.8/dist-packages/sklearn/base.py:450: UserWarning: X does not have valid feature names, but MLPRegressor was fitted with feature names\n",
            "  warnings.warn(\n",
            "/usr/local/lib/python3.8/dist-packages/sklearn/base.py:450: UserWarning: X does not have valid feature names, but MLPRegressor was fitted with feature names\n",
            "  warnings.warn(\n",
            "/usr/local/lib/python3.8/dist-packages/sklearn/base.py:450: UserWarning: X does not have valid feature names, but MLPRegressor was fitted with feature names\n",
            "  warnings.warn(\n",
            "/usr/local/lib/python3.8/dist-packages/sklearn/base.py:450: UserWarning: X does not have valid feature names, but MLPRegressor was fitted with feature names\n",
            "  warnings.warn(\n",
            "/usr/local/lib/python3.8/dist-packages/sklearn/base.py:450: UserWarning: X does not have valid feature names, but MLPRegressor was fitted with feature names\n",
            "  warnings.warn(\n",
            "/usr/local/lib/python3.8/dist-packages/sklearn/base.py:450: UserWarning: X does not have valid feature names, but MLPRegressor was fitted with feature names\n",
            "  warnings.warn(\n",
            "/usr/local/lib/python3.8/dist-packages/sklearn/base.py:450: UserWarning: X does not have valid feature names, but MLPRegressor was fitted with feature names\n",
            "  warnings.warn(\n",
            "/usr/local/lib/python3.8/dist-packages/sklearn/base.py:450: UserWarning: X does not have valid feature names, but MLPRegressor was fitted with feature names\n",
            "  warnings.warn(\n",
            "/usr/local/lib/python3.8/dist-packages/sklearn/base.py:450: UserWarning: X does not have valid feature names, but MLPRegressor was fitted with feature names\n",
            "  warnings.warn(\n",
            "/usr/local/lib/python3.8/dist-packages/sklearn/base.py:450: UserWarning: X does not have valid feature names, but MLPRegressor was fitted with feature names\n",
            "  warnings.warn(\n",
            "/usr/local/lib/python3.8/dist-packages/sklearn/base.py:450: UserWarning: X does not have valid feature names, but MLPRegressor was fitted with feature names\n",
            "  warnings.warn(\n",
            "/usr/local/lib/python3.8/dist-packages/sklearn/base.py:450: UserWarning: X does not have valid feature names, but MLPRegressor was fitted with feature names\n",
            "  warnings.warn(\n",
            "/usr/local/lib/python3.8/dist-packages/sklearn/base.py:450: UserWarning: X does not have valid feature names, but MLPRegressor was fitted with feature names\n",
            "  warnings.warn(\n",
            "/usr/local/lib/python3.8/dist-packages/sklearn/base.py:450: UserWarning: X does not have valid feature names, but MLPRegressor was fitted with feature names\n",
            "  warnings.warn(\n",
            "/usr/local/lib/python3.8/dist-packages/sklearn/base.py:450: UserWarning: X does not have valid feature names, but MLPRegressor was fitted with feature names\n",
            "  warnings.warn(\n",
            "/usr/local/lib/python3.8/dist-packages/sklearn/base.py:450: UserWarning: X does not have valid feature names, but MLPRegressor was fitted with feature names\n",
            "  warnings.warn(\n",
            "/usr/local/lib/python3.8/dist-packages/sklearn/base.py:450: UserWarning: X does not have valid feature names, but MLPRegressor was fitted with feature names\n",
            "  warnings.warn(\n",
            "/usr/local/lib/python3.8/dist-packages/sklearn/base.py:450: UserWarning: X does not have valid feature names, but MLPRegressor was fitted with feature names\n",
            "  warnings.warn(\n",
            "/usr/local/lib/python3.8/dist-packages/sklearn/base.py:450: UserWarning: X does not have valid feature names, but MLPRegressor was fitted with feature names\n",
            "  warnings.warn(\n",
            "/usr/local/lib/python3.8/dist-packages/sklearn/base.py:450: UserWarning: X does not have valid feature names, but MLPRegressor was fitted with feature names\n",
            "  warnings.warn(\n",
            "/usr/local/lib/python3.8/dist-packages/sklearn/base.py:450: UserWarning: X does not have valid feature names, but MLPRegressor was fitted with feature names\n",
            "  warnings.warn(\n",
            "/usr/local/lib/python3.8/dist-packages/sklearn/base.py:450: UserWarning: X does not have valid feature names, but MLPRegressor was fitted with feature names\n",
            "  warnings.warn(\n",
            "/usr/local/lib/python3.8/dist-packages/sklearn/base.py:450: UserWarning: X does not have valid feature names, but MLPRegressor was fitted with feature names\n",
            "  warnings.warn(\n",
            "/usr/local/lib/python3.8/dist-packages/sklearn/base.py:450: UserWarning: X does not have valid feature names, but MLPRegressor was fitted with feature names\n",
            "  warnings.warn(\n",
            "/usr/local/lib/python3.8/dist-packages/sklearn/base.py:450: UserWarning: X does not have valid feature names, but MLPRegressor was fitted with feature names\n",
            "  warnings.warn(\n",
            "/usr/local/lib/python3.8/dist-packages/sklearn/base.py:450: UserWarning: X does not have valid feature names, but MLPRegressor was fitted with feature names\n",
            "  warnings.warn(\n",
            "/usr/local/lib/python3.8/dist-packages/sklearn/base.py:450: UserWarning: X does not have valid feature names, but MLPRegressor was fitted with feature names\n",
            "  warnings.warn(\n",
            "/usr/local/lib/python3.8/dist-packages/sklearn/base.py:450: UserWarning: X does not have valid feature names, but MLPRegressor was fitted with feature names\n",
            "  warnings.warn(\n",
            "/usr/local/lib/python3.8/dist-packages/sklearn/base.py:450: UserWarning: X does not have valid feature names, but MLPRegressor was fitted with feature names\n",
            "  warnings.warn(\n",
            "/usr/local/lib/python3.8/dist-packages/sklearn/base.py:450: UserWarning: X does not have valid feature names, but MLPRegressor was fitted with feature names\n",
            "  warnings.warn(\n",
            "/usr/local/lib/python3.8/dist-packages/sklearn/base.py:450: UserWarning: X does not have valid feature names, but MLPRegressor was fitted with feature names\n",
            "  warnings.warn(\n",
            "/usr/local/lib/python3.8/dist-packages/sklearn/base.py:450: UserWarning: X does not have valid feature names, but MLPRegressor was fitted with feature names\n",
            "  warnings.warn(\n",
            "/usr/local/lib/python3.8/dist-packages/sklearn/base.py:450: UserWarning: X does not have valid feature names, but MLPRegressor was fitted with feature names\n",
            "  warnings.warn(\n",
            "/usr/local/lib/python3.8/dist-packages/sklearn/base.py:450: UserWarning: X does not have valid feature names, but MLPRegressor was fitted with feature names\n",
            "  warnings.warn(\n",
            "/usr/local/lib/python3.8/dist-packages/sklearn/base.py:450: UserWarning: X does not have valid feature names, but MLPRegressor was fitted with feature names\n",
            "  warnings.warn(\n",
            "/usr/local/lib/python3.8/dist-packages/sklearn/base.py:450: UserWarning: X does not have valid feature names, but MLPRegressor was fitted with feature names\n",
            "  warnings.warn(\n",
            "/usr/local/lib/python3.8/dist-packages/sklearn/base.py:450: UserWarning: X does not have valid feature names, but MLPRegressor was fitted with feature names\n",
            "  warnings.warn(\n",
            "/usr/local/lib/python3.8/dist-packages/sklearn/base.py:450: UserWarning: X does not have valid feature names, but MLPRegressor was fitted with feature names\n",
            "  warnings.warn(\n",
            "/usr/local/lib/python3.8/dist-packages/sklearn/base.py:450: UserWarning: X does not have valid feature names, but MLPRegressor was fitted with feature names\n",
            "  warnings.warn(\n",
            "/usr/local/lib/python3.8/dist-packages/sklearn/base.py:450: UserWarning: X does not have valid feature names, but MLPRegressor was fitted with feature names\n",
            "  warnings.warn(\n",
            "/usr/local/lib/python3.8/dist-packages/sklearn/base.py:450: UserWarning: X does not have valid feature names, but MLPRegressor was fitted with feature names\n",
            "  warnings.warn(\n",
            "/usr/local/lib/python3.8/dist-packages/sklearn/base.py:450: UserWarning: X does not have valid feature names, but MLPRegressor was fitted with feature names\n",
            "  warnings.warn(\n",
            "/usr/local/lib/python3.8/dist-packages/sklearn/base.py:450: UserWarning: X does not have valid feature names, but MLPRegressor was fitted with feature names\n",
            "  warnings.warn(\n",
            "/usr/local/lib/python3.8/dist-packages/sklearn/base.py:450: UserWarning: X does not have valid feature names, but MLPRegressor was fitted with feature names\n",
            "  warnings.warn(\n",
            "/usr/local/lib/python3.8/dist-packages/sklearn/base.py:450: UserWarning: X does not have valid feature names, but MLPRegressor was fitted with feature names\n",
            "  warnings.warn(\n",
            "/usr/local/lib/python3.8/dist-packages/sklearn/base.py:450: UserWarning: X does not have valid feature names, but MLPRegressor was fitted with feature names\n",
            "  warnings.warn(\n",
            "/usr/local/lib/python3.8/dist-packages/sklearn/base.py:450: UserWarning: X does not have valid feature names, but MLPRegressor was fitted with feature names\n",
            "  warnings.warn(\n",
            "/usr/local/lib/python3.8/dist-packages/sklearn/base.py:450: UserWarning: X does not have valid feature names, but MLPRegressor was fitted with feature names\n",
            "  warnings.warn(\n",
            "/usr/local/lib/python3.8/dist-packages/sklearn/base.py:450: UserWarning: X does not have valid feature names, but MLPRegressor was fitted with feature names\n",
            "  warnings.warn(\n",
            "/usr/local/lib/python3.8/dist-packages/sklearn/base.py:450: UserWarning: X does not have valid feature names, but MLPRegressor was fitted with feature names\n",
            "  warnings.warn(\n",
            "/usr/local/lib/python3.8/dist-packages/sklearn/base.py:450: UserWarning: X does not have valid feature names, but MLPRegressor was fitted with feature names\n",
            "  warnings.warn(\n",
            "/usr/local/lib/python3.8/dist-packages/sklearn/base.py:450: UserWarning: X does not have valid feature names, but MLPRegressor was fitted with feature names\n",
            "  warnings.warn(\n",
            "/usr/local/lib/python3.8/dist-packages/sklearn/base.py:450: UserWarning: X does not have valid feature names, but MLPRegressor was fitted with feature names\n",
            "  warnings.warn(\n",
            "/usr/local/lib/python3.8/dist-packages/sklearn/base.py:450: UserWarning: X does not have valid feature names, but MLPRegressor was fitted with feature names\n",
            "  warnings.warn(\n",
            "/usr/local/lib/python3.8/dist-packages/sklearn/base.py:450: UserWarning: X does not have valid feature names, but MLPRegressor was fitted with feature names\n",
            "  warnings.warn(\n",
            "/usr/local/lib/python3.8/dist-packages/sklearn/base.py:450: UserWarning: X does not have valid feature names, but MLPRegressor was fitted with feature names\n",
            "  warnings.warn(\n",
            "/usr/local/lib/python3.8/dist-packages/sklearn/base.py:450: UserWarning: X does not have valid feature names, but MLPRegressor was fitted with feature names\n",
            "  warnings.warn(\n",
            "/usr/local/lib/python3.8/dist-packages/sklearn/base.py:450: UserWarning: X does not have valid feature names, but MLPRegressor was fitted with feature names\n",
            "  warnings.warn(\n",
            "/usr/local/lib/python3.8/dist-packages/sklearn/base.py:450: UserWarning: X does not have valid feature names, but MLPRegressor was fitted with feature names\n",
            "  warnings.warn(\n",
            "/usr/local/lib/python3.8/dist-packages/sklearn/base.py:450: UserWarning: X does not have valid feature names, but MLPRegressor was fitted with feature names\n",
            "  warnings.warn(\n",
            "/usr/local/lib/python3.8/dist-packages/sklearn/base.py:450: UserWarning: X does not have valid feature names, but MLPRegressor was fitted with feature names\n",
            "  warnings.warn(\n",
            "/usr/local/lib/python3.8/dist-packages/sklearn/base.py:450: UserWarning: X does not have valid feature names, but MLPRegressor was fitted with feature names\n",
            "  warnings.warn(\n",
            "/usr/local/lib/python3.8/dist-packages/sklearn/base.py:450: UserWarning: X does not have valid feature names, but MLPRegressor was fitted with feature names\n",
            "  warnings.warn(\n",
            "/usr/local/lib/python3.8/dist-packages/sklearn/base.py:450: UserWarning: X does not have valid feature names, but MLPRegressor was fitted with feature names\n",
            "  warnings.warn(\n",
            "/usr/local/lib/python3.8/dist-packages/sklearn/base.py:450: UserWarning: X does not have valid feature names, but MLPRegressor was fitted with feature names\n",
            "  warnings.warn(\n",
            "/usr/local/lib/python3.8/dist-packages/sklearn/base.py:450: UserWarning: X does not have valid feature names, but MLPRegressor was fitted with feature names\n",
            "  warnings.warn(\n",
            "/usr/local/lib/python3.8/dist-packages/sklearn/base.py:450: UserWarning: X does not have valid feature names, but MLPRegressor was fitted with feature names\n",
            "  warnings.warn(\n",
            "/usr/local/lib/python3.8/dist-packages/sklearn/base.py:450: UserWarning: X does not have valid feature names, but MLPRegressor was fitted with feature names\n",
            "  warnings.warn(\n",
            "/usr/local/lib/python3.8/dist-packages/sklearn/base.py:450: UserWarning: X does not have valid feature names, but MLPRegressor was fitted with feature names\n",
            "  warnings.warn(\n",
            "/usr/local/lib/python3.8/dist-packages/sklearn/base.py:450: UserWarning: X does not have valid feature names, but MLPRegressor was fitted with feature names\n",
            "  warnings.warn(\n",
            "/usr/local/lib/python3.8/dist-packages/sklearn/base.py:450: UserWarning: X does not have valid feature names, but MLPRegressor was fitted with feature names\n",
            "  warnings.warn(\n",
            "/usr/local/lib/python3.8/dist-packages/sklearn/base.py:450: UserWarning: X does not have valid feature names, but MLPRegressor was fitted with feature names\n",
            "  warnings.warn(\n",
            "/usr/local/lib/python3.8/dist-packages/sklearn/base.py:450: UserWarning: X does not have valid feature names, but MLPRegressor was fitted with feature names\n",
            "  warnings.warn(\n",
            "/usr/local/lib/python3.8/dist-packages/sklearn/base.py:450: UserWarning: X does not have valid feature names, but MLPRegressor was fitted with feature names\n",
            "  warnings.warn(\n",
            "/usr/local/lib/python3.8/dist-packages/sklearn/base.py:450: UserWarning: X does not have valid feature names, but MLPRegressor was fitted with feature names\n",
            "  warnings.warn(\n",
            "/usr/local/lib/python3.8/dist-packages/sklearn/base.py:450: UserWarning: X does not have valid feature names, but MLPRegressor was fitted with feature names\n",
            "  warnings.warn(\n",
            "/usr/local/lib/python3.8/dist-packages/sklearn/base.py:450: UserWarning: X does not have valid feature names, but MLPRegressor was fitted with feature names\n",
            "  warnings.warn(\n",
            "/usr/local/lib/python3.8/dist-packages/sklearn/base.py:450: UserWarning: X does not have valid feature names, but MLPRegressor was fitted with feature names\n",
            "  warnings.warn(\n",
            "/usr/local/lib/python3.8/dist-packages/sklearn/base.py:450: UserWarning: X does not have valid feature names, but MLPRegressor was fitted with feature names\n",
            "  warnings.warn(\n",
            "/usr/local/lib/python3.8/dist-packages/sklearn/base.py:450: UserWarning: X does not have valid feature names, but MLPRegressor was fitted with feature names\n",
            "  warnings.warn(\n",
            "/usr/local/lib/python3.8/dist-packages/sklearn/base.py:450: UserWarning: X does not have valid feature names, but MLPRegressor was fitted with feature names\n",
            "  warnings.warn(\n",
            "/usr/local/lib/python3.8/dist-packages/sklearn/base.py:450: UserWarning: X does not have valid feature names, but MLPRegressor was fitted with feature names\n",
            "  warnings.warn(\n",
            "/usr/local/lib/python3.8/dist-packages/sklearn/base.py:450: UserWarning: X does not have valid feature names, but MLPRegressor was fitted with feature names\n",
            "  warnings.warn(\n",
            "/usr/local/lib/python3.8/dist-packages/sklearn/base.py:450: UserWarning: X does not have valid feature names, but MLPRegressor was fitted with feature names\n",
            "  warnings.warn(\n",
            "/usr/local/lib/python3.8/dist-packages/sklearn/base.py:450: UserWarning: X does not have valid feature names, but MLPRegressor was fitted with feature names\n",
            "  warnings.warn(\n",
            "/usr/local/lib/python3.8/dist-packages/sklearn/base.py:450: UserWarning: X does not have valid feature names, but MLPRegressor was fitted with feature names\n",
            "  warnings.warn(\n",
            "/usr/local/lib/python3.8/dist-packages/sklearn/base.py:450: UserWarning: X does not have valid feature names, but MLPRegressor was fitted with feature names\n",
            "  warnings.warn(\n",
            "/usr/local/lib/python3.8/dist-packages/sklearn/base.py:450: UserWarning: X does not have valid feature names, but MLPRegressor was fitted with feature names\n",
            "  warnings.warn(\n",
            "/usr/local/lib/python3.8/dist-packages/sklearn/base.py:450: UserWarning: X does not have valid feature names, but MLPRegressor was fitted with feature names\n",
            "  warnings.warn(\n",
            "/usr/local/lib/python3.8/dist-packages/sklearn/base.py:450: UserWarning: X does not have valid feature names, but MLPRegressor was fitted with feature names\n",
            "  warnings.warn(\n",
            "/usr/local/lib/python3.8/dist-packages/sklearn/base.py:450: UserWarning: X does not have valid feature names, but MLPRegressor was fitted with feature names\n",
            "  warnings.warn(\n",
            "/usr/local/lib/python3.8/dist-packages/sklearn/base.py:450: UserWarning: X does not have valid feature names, but MLPRegressor was fitted with feature names\n",
            "  warnings.warn(\n",
            "/usr/local/lib/python3.8/dist-packages/sklearn/base.py:450: UserWarning: X does not have valid feature names, but MLPRegressor was fitted with feature names\n",
            "  warnings.warn(\n",
            "/usr/local/lib/python3.8/dist-packages/sklearn/base.py:450: UserWarning: X does not have valid feature names, but MLPRegressor was fitted with feature names\n",
            "  warnings.warn(\n",
            "/usr/local/lib/python3.8/dist-packages/sklearn/base.py:450: UserWarning: X does not have valid feature names, but MLPRegressor was fitted with feature names\n",
            "  warnings.warn(\n",
            "/usr/local/lib/python3.8/dist-packages/sklearn/neural_network/_multilayer_perceptron.py:692: ConvergenceWarning: Stochastic Optimizer: Maximum iterations (250) reached and the optimization hasn't converged yet.\n",
            "  warnings.warn(\n"
          ]
        },
        {
          "output_type": "stream",
          "name": "stdout",
          "text": [
            "Model Number: 633 with model AverageValueNaive in generation 4 of 10\n",
            "Template Eval Error: Exception('Transformer Cointegration failed on fit') in model 633: AverageValueNaive\n",
            "Model Number: 634 with model GLS in generation 4 of 10\n"
          ]
        },
        {
          "output_type": "stream",
          "name": "stderr",
          "text": [
            "INFO:prophet:Disabling yearly seasonality. Run prophet with yearly_seasonality=True to override this.\n",
            "INFO:prophet:Disabling weekly seasonality. Run prophet with weekly_seasonality=True to override this.\n",
            "INFO:prophet:Disabling daily seasonality. Run prophet with daily_seasonality=True to override this.\n",
            "INFO:prophet:n_changepoints greater than number of observations. Using 7.\n",
            "DEBUG:cmdstanpy:input tempfile: /tmp/tmpmodfer6_/q3enqcei.json\n",
            "DEBUG:cmdstanpy:input tempfile: /tmp/tmpmodfer6_/abrjxrb5.json\n",
            "DEBUG:cmdstanpy:idx 0\n",
            "DEBUG:cmdstanpy:running CmdStan, num_threads: None\n",
            "DEBUG:cmdstanpy:CmdStan args: ['/usr/local/lib/python3.8/dist-packages/prophet/stan_model/prophet_model.bin', 'random', 'seed=92512', 'data', 'file=/tmp/tmpmodfer6_/q3enqcei.json', 'init=/tmp/tmpmodfer6_/abrjxrb5.json', 'output', 'file=/tmp/tmpmodfer6_/prophet_modeln94fnsm1/prophet_model-20221205205005.csv', 'method=optimize', 'algorithm=newton', 'iter=10000']\n",
            "20:50:05 - cmdstanpy - INFO - Chain [1] start processing\n",
            "INFO:cmdstanpy:Chain [1] start processing\n"
          ]
        },
        {
          "output_type": "stream",
          "name": "stdout",
          "text": [
            "Model Number: 635 with model FBProphet in generation 4 of 10\n"
          ]
        },
        {
          "output_type": "stream",
          "name": "stderr",
          "text": [
            "20:50:05 - cmdstanpy - INFO - Chain [1] done processing\n",
            "INFO:cmdstanpy:Chain [1] done processing\n"
          ]
        },
        {
          "output_type": "stream",
          "name": "stdout",
          "text": [
            "Model Number: 636 with model DatepartRegression in generation 4 of 10\n",
            "Model Number: 637 with model NVAR in generation 4 of 10\n",
            "Model Number: 638 with model SeasonalNaive in generation 4 of 10\n",
            "Model Number: 639 with model DatepartRegression in generation 4 of 10\n",
            "Model Number: 640 with model ETS in generation 4 of 10\n",
            "Model Number: 641 with model SeasonalNaive in generation 4 of 10\n",
            "Model Number: 642 with model GLS in generation 4 of 10\n",
            "Model Number: 643 with model DatepartRegression in generation 4 of 10\n",
            "Template Eval Error: ValueError('Model DatepartRegression returned NaN for one or more series. fail_on_forecast_nan=True') in model 643: DatepartRegression\n",
            "Model Number: 644 with model Theta in generation 4 of 10\n",
            "Model Number: 645 with model GLS in generation 4 of 10\n"
          ]
        },
        {
          "output_type": "stream",
          "name": "stderr",
          "text": [
            "/usr/local/lib/python3.8/dist-packages/sklearn/neighbors/_regression.py:470: UserWarning: One or more samples have no neighbors within specified radius; predicting NaN.\n",
            "  warnings.warn(empty_warning_msg)\n"
          ]
        },
        {
          "output_type": "stream",
          "name": "stdout",
          "text": [
            "Model Number: 646 with model UnivariateRegression in generation 4 of 10\n",
            "Template Eval Error: ValueError(\"regression_type='User' but not future_regressor supplied.\") in model 646: UnivariateRegression\n",
            "Model Number: 647 with model AverageValueNaive in generation 4 of 10\n",
            "Model Number: 648 with model ETS in generation 4 of 10\n",
            "ETS error ValueError('endog must be strictly positive when usingmultiplicative trend or seasonal components.')\n",
            "ETS failed on followers_gained with ValueError('endog must be strictly positive when usingmultiplicative trend or seasonal components.')\n",
            "Model Number: 649 with model WindowRegression in generation 4 of 10\n",
            "Template Eval Error: ValueError(\"regression_type='User' but no future_regressor passed\") in model 649: WindowRegression\n",
            "Model Number: 650 with model FBProphet in generation 4 of 10\n",
            "No anomalies detected.\n"
          ]
        },
        {
          "output_type": "stream",
          "name": "stderr",
          "text": [
            "/usr/local/lib/python3.8/dist-packages/autots/tools/probabilistic.py:67: RuntimeWarning: invalid value encountered in true_divide\n",
            "  (prior_mu / prior_sigma**2) + ((n * data_mu) / prior_sigma**2)\n",
            "/usr/local/lib/python3.8/dist-packages/autots/tools/probabilistic.py:68: RuntimeWarning: divide by zero encountered in true_divide\n",
            "  ) / ((1 / prior_sigma**2) + (n / prior_sigma**2))\n",
            "INFO:prophet:Disabling yearly seasonality. Run prophet with yearly_seasonality=True to override this.\n",
            "INFO:prophet:Disabling weekly seasonality. Run prophet with weekly_seasonality=True to override this.\n",
            "INFO:prophet:Disabling daily seasonality. Run prophet with daily_seasonality=True to override this.\n",
            "INFO:prophet:n_changepoints greater than number of observations. Using 7.\n"
          ]
        },
        {
          "output_type": "stream",
          "name": "stdout",
          "text": [
            "Model Number: 651 with model MultivariateRegression in generation 4 of 10\n",
            "Epoch 1/50\n",
            "2/2 [==============================] - 6s 13ms/step - loss: 0.8317\n",
            "Epoch 2/50\n",
            "2/2 [==============================] - 0s 11ms/step - loss: 0.8308\n",
            "Epoch 3/50\n",
            "2/2 [==============================] - 0s 10ms/step - loss: 0.8299\n",
            "Epoch 4/50\n",
            "2/2 [==============================] - 0s 16ms/step - loss: 0.8287\n",
            "Epoch 5/50\n",
            "2/2 [==============================] - 0s 15ms/step - loss: 0.8279\n",
            "Epoch 6/50\n",
            "2/2 [==============================] - 0s 14ms/step - loss: 0.8274\n",
            "Epoch 7/50\n",
            "2/2 [==============================] - 0s 10ms/step - loss: 0.8265\n",
            "Epoch 8/50\n",
            "2/2 [==============================] - 0s 8ms/step - loss: 0.8252\n",
            "Epoch 9/50\n",
            "2/2 [==============================] - 0s 11ms/step - loss: 0.8248\n",
            "Epoch 10/50\n",
            "2/2 [==============================] - 0s 14ms/step - loss: 0.8235\n",
            "Epoch 11/50\n",
            "2/2 [==============================] - 0s 12ms/step - loss: 0.8228\n",
            "Epoch 12/50\n",
            "2/2 [==============================] - 0s 10ms/step - loss: 0.8225\n",
            "Epoch 13/50\n",
            "2/2 [==============================] - 0s 10ms/step - loss: 0.8200\n",
            "Epoch 14/50\n",
            "2/2 [==============================] - 0s 11ms/step - loss: 0.8204\n",
            "Epoch 15/50\n",
            "2/2 [==============================] - 0s 11ms/step - loss: 0.8179\n",
            "Epoch 16/50\n",
            "2/2 [==============================] - 0s 10ms/step - loss: 0.8175\n",
            "Epoch 17/50\n",
            "2/2 [==============================] - 0s 11ms/step - loss: 0.8172\n",
            "Epoch 18/50\n",
            "2/2 [==============================] - 0s 15ms/step - loss: 0.8157\n",
            "Epoch 19/50\n",
            "2/2 [==============================] - 0s 16ms/step - loss: 0.8135\n",
            "Epoch 20/50\n",
            "2/2 [==============================] - 0s 18ms/step - loss: 0.8136\n",
            "Epoch 21/50\n",
            "2/2 [==============================] - 0s 11ms/step - loss: 0.8133\n",
            "Epoch 22/50\n",
            "2/2 [==============================] - 0s 10ms/step - loss: 0.8126\n",
            "Epoch 23/50\n",
            "2/2 [==============================] - 0s 16ms/step - loss: 0.8096\n",
            "Epoch 24/50\n",
            "2/2 [==============================] - 0s 11ms/step - loss: 0.8075\n",
            "Epoch 25/50\n",
            "2/2 [==============================] - 0s 15ms/step - loss: 0.8087\n",
            "Epoch 26/50\n",
            "2/2 [==============================] - 0s 11ms/step - loss: 0.8070\n",
            "Epoch 27/50\n",
            "2/2 [==============================] - 0s 10ms/step - loss: 0.8026\n",
            "Epoch 28/50\n",
            "2/2 [==============================] - 0s 12ms/step - loss: 0.8038\n",
            "Epoch 29/50\n",
            "2/2 [==============================] - 0s 10ms/step - loss: 0.8028\n",
            "Epoch 30/50\n",
            "2/2 [==============================] - 0s 10ms/step - loss: 0.7986\n",
            "Epoch 31/50\n",
            "2/2 [==============================] - 0s 10ms/step - loss: 0.7982\n",
            "Epoch 32/50\n",
            "2/2 [==============================] - 0s 23ms/step - loss: 0.7908\n",
            "Epoch 33/50\n",
            "2/2 [==============================] - 0s 10ms/step - loss: 0.7888\n",
            "Epoch 34/50\n",
            "2/2 [==============================] - 0s 10ms/step - loss: 0.7886\n",
            "Epoch 35/50\n",
            "2/2 [==============================] - 0s 10ms/step - loss: 0.7835\n",
            "Epoch 36/50\n",
            "2/2 [==============================] - 0s 15ms/step - loss: 0.7764\n",
            "Epoch 37/50\n",
            "2/2 [==============================] - 0s 11ms/step - loss: 0.7694\n",
            "Epoch 38/50\n",
            "2/2 [==============================] - 0s 15ms/step - loss: 0.7700\n",
            "Epoch 39/50\n",
            "2/2 [==============================] - 0s 11ms/step - loss: 0.7661\n",
            "Epoch 40/50\n",
            "2/2 [==============================] - 0s 11ms/step - loss: 0.7601\n",
            "Epoch 41/50\n",
            "2/2 [==============================] - 0s 12ms/step - loss: 0.7434\n",
            "Epoch 42/50\n",
            "2/2 [==============================] - 0s 10ms/step - loss: 0.7435\n",
            "Epoch 43/50\n",
            "2/2 [==============================] - 0s 10ms/step - loss: 0.7413\n",
            "Epoch 44/50\n",
            "2/2 [==============================] - 0s 11ms/step - loss: 0.7332\n",
            "Epoch 45/50\n",
            "2/2 [==============================] - 0s 13ms/step - loss: 0.7318\n",
            "Epoch 46/50\n",
            "2/2 [==============================] - 0s 13ms/step - loss: 0.7223\n",
            "Epoch 47/50\n",
            "2/2 [==============================] - 0s 14ms/step - loss: 0.7139\n",
            "Epoch 48/50\n",
            "2/2 [==============================] - 0s 15ms/step - loss: 0.7238\n",
            "Epoch 49/50\n",
            "2/2 [==============================] - 0s 12ms/step - loss: 0.7336\n",
            "Epoch 50/50\n",
            "2/2 [==============================] - 0s 15ms/step - loss: 0.7171\n",
            "1/1 [==============================] - 1s 1s/step\n",
            "1/1 [==============================] - 0s 19ms/step\n",
            "1/1 [==============================] - 0s 19ms/step\n",
            "1/1 [==============================] - 0s 19ms/step\n",
            "Model Number: 652 with model SeasonalNaive in generation 4 of 10\n",
            "Model Number: 653 with model DatepartRegression in generation 4 of 10\n",
            "Template Eval Error: ValueError('Model DatepartRegression returned NaN for one or more series. fail_on_forecast_nan=True') in model 653: DatepartRegression\n",
            "Model Number: 654 with model FBProphet in generation 4 of 10\n"
          ]
        },
        {
          "output_type": "stream",
          "name": "stderr",
          "text": [
            "/usr/local/lib/python3.8/dist-packages/sklearn/neighbors/_regression.py:470: UserWarning: One or more samples have no neighbors within specified radius; predicting NaN.\n",
            "  warnings.warn(empty_warning_msg)\n",
            "INFO:prophet:Disabling yearly seasonality. Run prophet with yearly_seasonality=True to override this.\n",
            "INFO:prophet:Disabling weekly seasonality. Run prophet with weekly_seasonality=True to override this.\n",
            "INFO:prophet:Disabling daily seasonality. Run prophet with daily_seasonality=True to override this.\n",
            "INFO:prophet:n_changepoints greater than number of observations. Using 7.\n",
            "DEBUG:cmdstanpy:input tempfile: /tmp/tmpmodfer6_/mavg35xi.json\n",
            "DEBUG:cmdstanpy:input tempfile: /tmp/tmpmodfer6_/19dfqbe3.json\n",
            "DEBUG:cmdstanpy:idx 0\n",
            "DEBUG:cmdstanpy:running CmdStan, num_threads: None\n",
            "DEBUG:cmdstanpy:CmdStan args: ['/usr/local/lib/python3.8/dist-packages/prophet/stan_model/prophet_model.bin', 'random', 'seed=15918', 'data', 'file=/tmp/tmpmodfer6_/mavg35xi.json', 'init=/tmp/tmpmodfer6_/19dfqbe3.json', 'output', 'file=/tmp/tmpmodfer6_/prophet_model_jbglbqu/prophet_model-20221205205018.csv', 'method=optimize', 'algorithm=newton', 'iter=10000']\n",
            "20:50:18 - cmdstanpy - INFO - Chain [1] start processing\n",
            "INFO:cmdstanpy:Chain [1] start processing\n",
            "20:50:18 - cmdstanpy - INFO - Chain [1] done processing\n",
            "INFO:cmdstanpy:Chain [1] done processing\n"
          ]
        },
        {
          "output_type": "stream",
          "name": "stdout",
          "text": [
            "Model Number: 655 with model MultivariateRegression in generation 4 of 10\n",
            "Template Eval Error: Exception('Transformer BTCD failed on fit') in model 655: MultivariateRegression\n",
            "Model Number: 656 with model NVAR in generation 4 of 10\n"
          ]
        },
        {
          "output_type": "stream",
          "name": "stderr",
          "text": [
            "INFO:prophet:Disabling yearly seasonality. Run prophet with yearly_seasonality=True to override this.\n",
            "INFO:prophet:Disabling weekly seasonality. Run prophet with weekly_seasonality=True to override this.\n",
            "INFO:prophet:Disabling daily seasonality. Run prophet with daily_seasonality=True to override this.\n",
            "INFO:prophet:n_changepoints greater than number of observations. Using 7.\n",
            "DEBUG:cmdstanpy:input tempfile: /tmp/tmpmodfer6_/03i_ygci.json\n",
            "DEBUG:cmdstanpy:input tempfile: /tmp/tmpmodfer6_/vxq_ep2k.json\n",
            "DEBUG:cmdstanpy:idx 0\n",
            "DEBUG:cmdstanpy:running CmdStan, num_threads: None\n",
            "DEBUG:cmdstanpy:CmdStan args: ['/usr/local/lib/python3.8/dist-packages/prophet/stan_model/prophet_model.bin', 'random', 'seed=29653', 'data', 'file=/tmp/tmpmodfer6_/03i_ygci.json', 'init=/tmp/tmpmodfer6_/vxq_ep2k.json', 'output', 'file=/tmp/tmpmodfer6_/prophet_model3g1smp5z/prophet_model-20221205205019.csv', 'method=optimize', 'algorithm=newton', 'iter=10000']\n",
            "20:50:19 - cmdstanpy - INFO - Chain [1] start processing\n",
            "INFO:cmdstanpy:Chain [1] start processing\n"
          ]
        },
        {
          "output_type": "stream",
          "name": "stdout",
          "text": [
            "Model Number: 657 with model FBProphet in generation 4 of 10\n"
          ]
        },
        {
          "output_type": "stream",
          "name": "stderr",
          "text": [
            "20:50:19 - cmdstanpy - INFO - Chain [1] done processing\n",
            "INFO:cmdstanpy:Chain [1] done processing\n"
          ]
        },
        {
          "output_type": "stream",
          "name": "stdout",
          "text": [
            "Model Number: 658 with model FBProphet in generation 4 of 10\n",
            "Template Eval Error: AttributeError(\"'Index' object has no attribute 'year'\") in model 658: FBProphet\n",
            "Model Number: 659 with model UnobservedComponents in generation 4 of 10\n",
            "Model Number: 660 with model SeasonalNaive in generation 4 of 10\n",
            "Model Number: 661 with model DatepartRegression in generation 4 of 10\n",
            "Template Eval Error: ValueError(\"regression_type='User' but no future_regressor passed\") in model 661: DatepartRegression\n",
            "Model Number: 662 with model MultivariateRegression in generation 4 of 10\n"
          ]
        },
        {
          "output_type": "stream",
          "name": "stderr",
          "text": [
            "INFO:prophet:Disabling yearly seasonality. Run prophet with yearly_seasonality=True to override this.\n",
            "INFO:prophet:Disabling weekly seasonality. Run prophet with weekly_seasonality=True to override this.\n",
            "INFO:prophet:Disabling daily seasonality. Run prophet with daily_seasonality=True to override this.\n",
            "INFO:prophet:n_changepoints greater than number of observations. Using 7.\n",
            "DEBUG:cmdstanpy:input tempfile: /tmp/tmpmodfer6_/_2oc1ikj.json\n",
            "DEBUG:cmdstanpy:input tempfile: /tmp/tmpmodfer6_/qvdvuvse.json\n",
            "DEBUG:cmdstanpy:idx 0\n",
            "DEBUG:cmdstanpy:running CmdStan, num_threads: None\n",
            "DEBUG:cmdstanpy:CmdStan args: ['/usr/local/lib/python3.8/dist-packages/prophet/stan_model/prophet_model.bin', 'random', 'seed=108', 'data', 'file=/tmp/tmpmodfer6_/_2oc1ikj.json', 'init=/tmp/tmpmodfer6_/qvdvuvse.json', 'output', 'file=/tmp/tmpmodfer6_/prophet_modelc65o367e/prophet_model-20221205205020.csv', 'method=optimize', 'algorithm=newton', 'iter=10000']\n",
            "20:50:20 - cmdstanpy - INFO - Chain [1] start processing\n",
            "INFO:cmdstanpy:Chain [1] start processing\n"
          ]
        },
        {
          "output_type": "stream",
          "name": "stdout",
          "text": [
            "Model Number: 663 with model ARIMA in generation 4 of 10\n",
            "Template Eval Error: Exception('Transformer BTCD failed on fit') in model 663: ARIMA\n",
            "Model Number: 664 with model FBProphet in generation 4 of 10\n"
          ]
        },
        {
          "output_type": "stream",
          "name": "stderr",
          "text": [
            "20:50:24 - cmdstanpy - INFO - Chain [1] done processing\n",
            "INFO:cmdstanpy:Chain [1] done processing\n"
          ]
        },
        {
          "output_type": "stream",
          "name": "stdout",
          "text": [
            "Model Number: 665 with model MultivariateRegression in generation 4 of 10\n",
            "Model Number: 666 with model UnobservedComponents in generation 4 of 10\n",
            "Model Number: 667 with model ETS in generation 4 of 10\n"
          ]
        },
        {
          "output_type": "stream",
          "name": "stderr",
          "text": [
            "/usr/local/lib/python3.8/dist-packages/sklearn/svm/_base.py:1206: ConvergenceWarning: Liblinear failed to converge, increase the number of iterations.\n",
            "  warnings.warn(\n",
            "INFO:prophet:Disabling yearly seasonality. Run prophet with yearly_seasonality=True to override this.\n",
            "INFO:prophet:Disabling weekly seasonality. Run prophet with weekly_seasonality=True to override this.\n",
            "INFO:prophet:Disabling daily seasonality. Run prophet with daily_seasonality=True to override this.\n"
          ]
        },
        {
          "output_type": "stream",
          "name": "stdout",
          "text": [
            "Model Number: 668 with model FBProphet in generation 4 of 10\n"
          ]
        },
        {
          "output_type": "stream",
          "name": "stderr",
          "text": [
            "INFO:prophet:n_changepoints greater than number of observations. Using 7.\n",
            "DEBUG:cmdstanpy:input tempfile: /tmp/tmpmodfer6_/ws_ucgw_.json\n",
            "DEBUG:cmdstanpy:input tempfile: /tmp/tmpmodfer6_/71l2xurn.json\n",
            "DEBUG:cmdstanpy:idx 0\n",
            "DEBUG:cmdstanpy:running CmdStan, num_threads: None\n",
            "DEBUG:cmdstanpy:CmdStan args: ['/usr/local/lib/python3.8/dist-packages/prophet/stan_model/prophet_model.bin', 'random', 'seed=53251', 'data', 'file=/tmp/tmpmodfer6_/ws_ucgw_.json', 'init=/tmp/tmpmodfer6_/71l2xurn.json', 'output', 'file=/tmp/tmpmodfer6_/prophet_model323hxq7m/prophet_model-20221205205024.csv', 'method=optimize', 'algorithm=newton', 'iter=10000']\n",
            "20:50:24 - cmdstanpy - INFO - Chain [1] start processing\n",
            "INFO:cmdstanpy:Chain [1] start processing\n",
            "20:50:25 - cmdstanpy - INFO - Chain [1] done processing\n",
            "INFO:cmdstanpy:Chain [1] done processing\n"
          ]
        },
        {
          "output_type": "stream",
          "name": "stdout",
          "text": [
            "Model Number: 669 with model ARIMA in generation 4 of 10\n",
            "Model Number: 670 with model LastValueNaive in generation 4 of 10\n"
          ]
        },
        {
          "output_type": "stream",
          "name": "stderr",
          "text": [
            "INFO:prophet:Disabling yearly seasonality. Run prophet with yearly_seasonality=True to override this.\n",
            "INFO:prophet:Disabling weekly seasonality. Run prophet with weekly_seasonality=True to override this.\n",
            "INFO:prophet:Disabling daily seasonality. Run prophet with daily_seasonality=True to override this.\n",
            "INFO:prophet:n_changepoints greater than number of observations. Using 8.\n"
          ]
        },
        {
          "output_type": "stream",
          "name": "stdout",
          "text": [
            "Model Number: 671 with model ARIMA in generation 4 of 10\n",
            "Template Eval Error: ValueError(\"regression_type='User' but future_regressor not supplied\") in model 671: ARIMA\n",
            "Model Number: 672 with model FBProphet in generation 4 of 10\n",
            "Model Number: 673 with model AverageValueNaive in generation 4 of 10\n",
            "Model Number: 674 with model NVAR in generation 4 of 10\n",
            "Model Number: 675 with model UnobservedComponents in generation 4 of 10\n",
            "Model Number: 676 with model ConstantNaive in generation 4 of 10\n",
            "Model Number: 677 with model MultivariateRegression in generation 4 of 10\n",
            "Model Number: 678 with model LastValueNaive in generation 4 of 10\n",
            "Model Number: 679 with model AverageValueNaive in generation 4 of 10\n",
            "Template Eval Error: Exception('Transformer STLFilter failed on fit') in model 679: AverageValueNaive\n",
            "Model Number: 680 with model LastValueNaive in generation 4 of 10\n",
            "Model Number: 681 with model ETS in generation 4 of 10\n",
            "Model Number: 682 with model SeasonalNaive in generation 4 of 10\n",
            "Model Number: 683 with model Theta in generation 4 of 10\n",
            "Model Number: 684 with model MultivariateRegression in generation 4 of 10\n",
            "Model Number: 685 with model LastValueNaive in generation 4 of 10\n",
            "Model Number: 686 with model LastValueNaive in generation 4 of 10\n",
            "Model Number: 687 with model NVAR in generation 4 of 10\n",
            "Model Number: 688 with model GLS in generation 4 of 10\n",
            "Model Number: 689 with model ConstantNaive in generation 4 of 10\n",
            "Model Number: 690 with model UnobservedComponents in generation 4 of 10\n",
            "Template Eval Error: ValueError(\"regression_type='User' but no future_regressor supplied\") in model 690: UnobservedComponents\n",
            "Model Number: 691 with model NVAR in generation 4 of 10\n",
            "Model Number: 692 with model ARIMA in generation 4 of 10\n",
            "Model Number: 693 with model ARIMA in generation 4 of 10\n"
          ]
        },
        {
          "output_type": "stream",
          "name": "stderr",
          "text": [
            "INFO:prophet:Disabling yearly seasonality. Run prophet with yearly_seasonality=True to override this.\n",
            "INFO:prophet:Disabling weekly seasonality. Run prophet with weekly_seasonality=True to override this.\n",
            "INFO:prophet:Disabling daily seasonality. Run prophet with daily_seasonality=True to override this.\n",
            "INFO:prophet:n_changepoints greater than number of observations. Using 7.\n",
            "DEBUG:cmdstanpy:input tempfile: /tmp/tmpmodfer6_/37o5tk25.json\n",
            "DEBUG:cmdstanpy:input tempfile: /tmp/tmpmodfer6_/cuqwlq95.json\n",
            "DEBUG:cmdstanpy:idx 0\n",
            "DEBUG:cmdstanpy:running CmdStan, num_threads: None\n",
            "DEBUG:cmdstanpy:CmdStan args: ['/usr/local/lib/python3.8/dist-packages/prophet/stan_model/prophet_model.bin', 'random', 'seed=86558', 'data', 'file=/tmp/tmpmodfer6_/37o5tk25.json', 'init=/tmp/tmpmodfer6_/cuqwlq95.json', 'output', 'file=/tmp/tmpmodfer6_/prophet_modelam0m36rv/prophet_model-20221205205034.csv', 'method=optimize', 'algorithm=newton', 'iter=10000']\n",
            "20:50:34 - cmdstanpy - INFO - Chain [1] start processing\n",
            "INFO:cmdstanpy:Chain [1] start processing\n"
          ]
        },
        {
          "output_type": "stream",
          "name": "stdout",
          "text": [
            "Model Number: 694 with model FBProphet in generation 4 of 10\n"
          ]
        },
        {
          "output_type": "stream",
          "name": "stderr",
          "text": [
            "20:50:34 - cmdstanpy - INFO - Chain [1] done processing\n",
            "INFO:cmdstanpy:Chain [1] done processing\n"
          ]
        },
        {
          "output_type": "stream",
          "name": "stdout",
          "text": [
            "Model Number: 695 with model UnobservedComponents in generation 4 of 10\n",
            "Model Number: 696 with model AverageValueNaive in generation 4 of 10\n",
            "Model Number: 697 with model WindowRegression in generation 4 of 10\n",
            "Template Eval Error: ValueError('Found array with 0 sample(s) (shape=(0, 0)) while a minimum of 1 is required.') in model 697: WindowRegression\n",
            "Model Number: 698 with model UnobservedComponents in generation 4 of 10\n",
            "Template Eval Error: Exception('Transformer BTCD failed on fit') in model 698: UnobservedComponents\n",
            "Model Number: 699 with model LastValueNaive in generation 4 of 10\n",
            "Model Number: 700 with model GLS in generation 4 of 10\n",
            "Model Number: 701 with model UnobservedComponents in generation 4 of 10\n",
            "Model Number: 702 with model SeasonalNaive in generation 4 of 10\n",
            "Model Number: 703 with model ETS in generation 4 of 10\n",
            "Template Eval Error: Exception('Transformer Cointegration failed on fit') in model 703: ETS\n",
            "New Generation: 5 of 10\n",
            "Model Number: 704 with model WindowRegression in generation 5 of 10\n",
            "Template Eval Error: ValueError('Found array with 0 sample(s) (shape=(0, 0)) while a minimum of 1 is required.') in model 704: WindowRegression\n",
            "Model Number: 705 with model NVAR in generation 5 of 10\n",
            "Model Number: 706 with model UnobservedComponents in generation 5 of 10\n",
            "Model Number: 707 with model ETS in generation 5 of 10\n",
            "ETS error ValueError('endog must be strictly positive when usingmultiplicative trend or seasonal components.')\n",
            "ETS failed on followers_gained with ValueError('endog must be strictly positive when usingmultiplicative trend or seasonal components.')\n",
            "Model Number: 708 with model LastValueNaive in generation 5 of 10\n",
            "Model Number: 709 with model UnivariateRegression in generation 5 of 10\n",
            "Template Eval Error: ValueError(\"regression_type='User' but not future_regressor supplied.\") in model 709: UnivariateRegression\n",
            "Model Number: 710 with model ETS in generation 5 of 10\n",
            "Model Number: 711 with model SeasonalNaive in generation 5 of 10\n",
            "Model Number: 712 with model UnobservedComponents in generation 5 of 10\n",
            "Model Number: 713 with model ARIMA in generation 5 of 10\n",
            "Model Number: 714 with model AverageValueNaive in generation 5 of 10\n",
            "Model Number: 715 with model FBProphet in generation 5 of 10\n",
            "No anomalies detected.\n"
          ]
        },
        {
          "output_type": "stream",
          "name": "stderr",
          "text": [
            "INFO:prophet:Disabling yearly seasonality. Run prophet with yearly_seasonality=True to override this.\n",
            "INFO:prophet:Disabling weekly seasonality. Run prophet with weekly_seasonality=True to override this.\n",
            "INFO:prophet:Disabling daily seasonality. Run prophet with daily_seasonality=True to override this.\n",
            "INFO:prophet:n_changepoints greater than number of observations. Using 7.\n",
            "DEBUG:cmdstanpy:input tempfile: /tmp/tmpmodfer6_/xjw7oaf8.json\n",
            "DEBUG:cmdstanpy:input tempfile: /tmp/tmpmodfer6_/6yq5bfe8.json\n",
            "DEBUG:cmdstanpy:idx 0\n",
            "DEBUG:cmdstanpy:running CmdStan, num_threads: None\n",
            "DEBUG:cmdstanpy:CmdStan args: ['/usr/local/lib/python3.8/dist-packages/prophet/stan_model/prophet_model.bin', 'random', 'seed=5097', 'data', 'file=/tmp/tmpmodfer6_/xjw7oaf8.json', 'init=/tmp/tmpmodfer6_/6yq5bfe8.json', 'output', 'file=/tmp/tmpmodfer6_/prophet_modelx8r2hh2s/prophet_model-20221205205038.csv', 'method=optimize', 'algorithm=newton', 'iter=10000']\n",
            "20:50:38 - cmdstanpy - INFO - Chain [1] start processing\n",
            "INFO:cmdstanpy:Chain [1] start processing\n",
            "20:50:39 - cmdstanpy - INFO - Chain [1] done processing\n",
            "INFO:cmdstanpy:Chain [1] done processing\n"
          ]
        },
        {
          "output_type": "stream",
          "name": "stdout",
          "text": [
            "Model Number: 716 with model Theta in generation 5 of 10\n",
            "No anomalies detected.\n",
            "Model Number: 717 with model DatepartRegression in generation 5 of 10\n",
            "Model Number: 718 with model Theta in generation 5 of 10\n",
            "Model Number: 719 with model ETS in generation 5 of 10\n",
            "Model Number: 720 with model ARIMA in generation 5 of 10\n",
            "Template Eval Error: ValueError(\"regression_type='User' but future_regressor not supplied\") in model 720: ARIMA\n",
            "Model Number: 721 with model SeasonalNaive in generation 5 of 10\n",
            "Model Number: 722 with model MultivariateRegression in generation 5 of 10\n"
          ]
        },
        {
          "output_type": "stream",
          "name": "stderr",
          "text": [
            "/usr/local/lib/python3.8/dist-packages/autots/tools/probabilistic.py:67: RuntimeWarning: invalid value encountered in true_divide\n",
            "  (prior_mu / prior_sigma**2) + ((n * data_mu) / prior_sigma**2)\n",
            "/usr/local/lib/python3.8/dist-packages/autots/tools/probabilistic.py:68: RuntimeWarning: divide by zero encountered in true_divide\n",
            "  ) / ((1 / prior_sigma**2) + (n / prior_sigma**2))\n"
          ]
        },
        {
          "output_type": "stream",
          "name": "stdout",
          "text": [
            "Model Number: 723 with model SeasonalNaive in generation 5 of 10\n",
            "Model Number: 724 with model UnobservedComponents in generation 5 of 10\n",
            "Template Eval Error: ValueError(\"regression_type='User' but no future_regressor supplied\") in model 724: UnobservedComponents\n",
            "Model Number: 725 with model AverageValueNaive in generation 5 of 10\n",
            "Model Number: 726 with model ETS in generation 5 of 10\n",
            "Model Number: 727 with model SeasonalNaive in generation 5 of 10\n",
            "Model Number: 728 with model NVAR in generation 5 of 10\n",
            "Template Eval Error: IndexError('index -6 is out of bounds for axis 1 with size 5') in model 728: NVAR\n",
            "Model Number: 729 with model Theta in generation 5 of 10\n",
            "Model Number: 730 with model WindowRegression in generation 5 of 10\n",
            "Template Eval Error: ValueError('Expected n_neighbors <= n_samples,  but n_samples = 3, n_neighbors = 5') in model 730: WindowRegression\n",
            "Model Number: 731 with model LastValueNaive in generation 5 of 10\n",
            "Model Number: 732 with model UnivariateRegression in generation 5 of 10\n",
            "Model Number: 733 with model DatepartRegression in generation 5 of 10\n",
            "Model Number: 734 with model MultivariateRegression in generation 5 of 10\n",
            "Model Number: 735 with model LastValueNaive in generation 5 of 10\n",
            "Model Number: 736 with model ConstantNaive in generation 5 of 10\n",
            "Model Number: 737 with model AverageValueNaive in generation 5 of 10\n",
            "Model Number: 738 with model Theta in generation 5 of 10\n",
            "Model Number: 739 with model AverageValueNaive in generation 5 of 10\n",
            "Model Number: 740 with model LastValueNaive in generation 5 of 10\n",
            "Model Number: 741 with model AverageValueNaive in generation 5 of 10\n",
            "Model Number: 742 with model UnobservedComponents in generation 5 of 10\n",
            "Model Number: 743 with model UnobservedComponents in generation 5 of 10\n",
            "Model Number: 744 with model UnobservedComponents in generation 5 of 10\n"
          ]
        },
        {
          "output_type": "stream",
          "name": "stderr",
          "text": [
            "/usr/local/lib/python3.8/dist-packages/sklearn/base.py:450: UserWarning: X does not have valid feature names, but MLPRegressor was fitted with feature names\n",
            "  warnings.warn(\n",
            "/usr/local/lib/python3.8/dist-packages/sklearn/base.py:450: UserWarning: X does not have valid feature names, but MLPRegressor was fitted with feature names\n",
            "  warnings.warn(\n",
            "/usr/local/lib/python3.8/dist-packages/sklearn/base.py:450: UserWarning: X does not have valid feature names, but MLPRegressor was fitted with feature names\n",
            "  warnings.warn(\n",
            "/usr/local/lib/python3.8/dist-packages/sklearn/base.py:450: UserWarning: X does not have valid feature names, but MLPRegressor was fitted with feature names\n",
            "  warnings.warn(\n",
            "/usr/local/lib/python3.8/dist-packages/sklearn/metrics/_regression.py:805: RuntimeWarning: overflow encountered in square\n",
            "  numerator = (weight * (y_true - y_pred) ** 2).sum(axis=0, dtype=np.float64)\n",
            "/usr/local/lib/python3.8/dist-packages/sklearn/neural_network/_base.py:174: RuntimeWarning: overflow encountered in square\n",
            "  return ((y_true - y_pred) ** 2).mean() / 2\n",
            "/usr/local/lib/python3.8/dist-packages/sklearn/utils/extmath.py:153: RuntimeWarning: overflow encountered in matmul\n",
            "  ret = a @ b\n",
            "/usr/local/lib/python3.8/dist-packages/sklearn/base.py:450: UserWarning: X does not have valid feature names, but MLPRegressor was fitted with feature names\n",
            "  warnings.warn(\n",
            "/usr/local/lib/python3.8/dist-packages/sklearn/utils/extmath.py:153: RuntimeWarning: overflow encountered in matmul\n",
            "  ret = a @ b\n",
            "INFO:prophet:Disabling yearly seasonality. Run prophet with yearly_seasonality=True to override this.\n",
            "INFO:prophet:Disabling weekly seasonality. Run prophet with weekly_seasonality=True to override this.\n",
            "INFO:prophet:Disabling daily seasonality. Run prophet with daily_seasonality=True to override this.\n",
            "INFO:prophet:n_changepoints greater than number of observations. Using 7.\n",
            "DEBUG:cmdstanpy:input tempfile: /tmp/tmpmodfer6_/5u3j50ym.json\n",
            "DEBUG:cmdstanpy:input tempfile: /tmp/tmpmodfer6_/nzfkh8gu.json\n",
            "DEBUG:cmdstanpy:idx 0\n",
            "DEBUG:cmdstanpy:running CmdStan, num_threads: None\n",
            "DEBUG:cmdstanpy:CmdStan args: ['/usr/local/lib/python3.8/dist-packages/prophet/stan_model/prophet_model.bin', 'random', 'seed=88517', 'data', 'file=/tmp/tmpmodfer6_/5u3j50ym.json', 'init=/tmp/tmpmodfer6_/nzfkh8gu.json', 'output', 'file=/tmp/tmpmodfer6_/prophet_model5cx4xl3q/prophet_model-20221205205043.csv', 'method=optimize', 'algorithm=newton', 'iter=10000']\n",
            "20:50:43 - cmdstanpy - INFO - Chain [1] start processing\n",
            "INFO:cmdstanpy:Chain [1] start processing\n"
          ]
        },
        {
          "output_type": "stream",
          "name": "stdout",
          "text": [
            "Model Number: 745 with model DatepartRegression in generation 5 of 10\n",
            "Template Eval Error: ValueError(\"Input contains NaN, infinity or a value too large for dtype('float64').\") in model 745: DatepartRegression\n",
            "Model Number: 746 with model FBProphet in generation 5 of 10\n"
          ]
        },
        {
          "output_type": "stream",
          "name": "stderr",
          "text": [
            "20:50:43 - cmdstanpy - INFO - Chain [1] done processing\n",
            "INFO:cmdstanpy:Chain [1] done processing\n"
          ]
        },
        {
          "output_type": "stream",
          "name": "stdout",
          "text": [
            "Model Number: 747 with model UnobservedComponents in generation 5 of 10\n",
            "Model Number: 748 with model LastValueNaive in generation 5 of 10\n",
            "Model Number: 749 with model WindowRegression in generation 5 of 10\n",
            "Model Number: 750 with model ARIMA in generation 5 of 10\n",
            "Model Number: 751 with model Theta in generation 5 of 10\n",
            "Model Number: 752 with model NVAR in generation 5 of 10\n",
            "Model Number: 753 with model LastValueNaive in generation 5 of 10\n",
            "Model Number: 754 with model Theta in generation 5 of 10\n",
            "Model Number: 755 with model DatepartRegression in generation 5 of 10\n",
            "Template Eval Error: ValueError('Model DatepartRegression returned NaN for one or more series. fail_on_forecast_nan=True') in model 755: DatepartRegression\n",
            "Model Number: 756 with model UnobservedComponents in generation 5 of 10\n",
            "Template Eval Error: ValueError(\"Model returned NaN due to a preprocessing transformer {'fillna': 'ffill', 'transformations': {'0': 'LocalLinearTrend', '1': 'Round', '2': 'IntermittentOccurrence'}, 'transformation_params': {'0': {'rolling_window': 0.1, 'n_tails': 360, 'n_future': 0.05, 'method': 'median'}, '1': {'decimals': -1, 'on_transform': True, 'on_inverse': True}, '2': {'center': 'midhinge'}}}. fail_on_forecast_nan=True\") in model 756: UnobservedComponents\n",
            "Model Number: 757 with model AverageValueNaive in generation 5 of 10\n",
            "Model Number: 758 with model ARIMA in generation 5 of 10\n"
          ]
        },
        {
          "output_type": "stream",
          "name": "stderr",
          "text": [
            "/usr/local/lib/python3.8/dist-packages/sklearn/neighbors/_regression.py:470: UserWarning: One or more samples have no neighbors within specified radius; predicting NaN.\n",
            "  warnings.warn(empty_warning_msg)\n",
            "/usr/local/lib/python3.8/dist-packages/autots/tools/window_functions.py:478: RuntimeWarning: invalid value encountered in true_divide\n",
            "  slope = (sxy - sx * sy) / (sx2 - sx**2)\n",
            "/usr/local/lib/python3.8/dist-packages/numpy/core/fromnumeric.py:3440: RuntimeWarning: Mean of empty slice.\n",
            "  return _methods._mean(a, axis=axis, dtype=dtype,\n",
            "/usr/local/lib/python3.8/dist-packages/numpy/core/_methods.py:181: RuntimeWarning: invalid value encountered in true_divide\n",
            "  ret = um.true_divide(\n"
          ]
        },
        {
          "output_type": "stream",
          "name": "stdout",
          "text": [
            "Model Number: 759 with model UnobservedComponents in generation 5 of 10\n",
            "Model Number: 760 with model Theta in generation 5 of 10\n",
            "Model Number: 761 with model DatepartRegression in generation 5 of 10\n",
            "Model Number: 762 with model AverageValueNaive in generation 5 of 10\n",
            "Model Number: 763 with model ConstantNaive in generation 5 of 10\n",
            "Model Number: 764 with model UnobservedComponents in generation 5 of 10\n",
            "Model Number: 765 with model DatepartRegression in generation 5 of 10\n",
            "Model Number: 766 with model AverageValueNaive in generation 5 of 10\n"
          ]
        },
        {
          "output_type": "stream",
          "name": "stderr",
          "text": [
            "INFO:prophet:Disabling yearly seasonality. Run prophet with yearly_seasonality=True to override this.\n",
            "INFO:prophet:Disabling weekly seasonality. Run prophet with weekly_seasonality=True to override this.\n",
            "INFO:prophet:Disabling daily seasonality. Run prophet with daily_seasonality=True to override this.\n",
            "INFO:prophet:n_changepoints greater than number of observations. Using 7.\n",
            "DEBUG:cmdstanpy:input tempfile: /tmp/tmpmodfer6_/cormv0xb.json\n",
            "DEBUG:cmdstanpy:input tempfile: /tmp/tmpmodfer6_/cznd9jsu.json\n",
            "DEBUG:cmdstanpy:idx 0\n",
            "DEBUG:cmdstanpy:running CmdStan, num_threads: None\n",
            "DEBUG:cmdstanpy:CmdStan args: ['/usr/local/lib/python3.8/dist-packages/prophet/stan_model/prophet_model.bin', 'random', 'seed=78162', 'data', 'file=/tmp/tmpmodfer6_/cormv0xb.json', 'init=/tmp/tmpmodfer6_/cznd9jsu.json', 'output', 'file=/tmp/tmpmodfer6_/prophet_modelycu2bomb/prophet_model-20221205205046.csv', 'method=optimize', 'algorithm=newton', 'iter=10000']\n",
            "20:50:46 - cmdstanpy - INFO - Chain [1] start processing\n",
            "INFO:cmdstanpy:Chain [1] start processing\n"
          ]
        },
        {
          "output_type": "stream",
          "name": "stdout",
          "text": [
            "Model Number: 767 with model FBProphet in generation 5 of 10\n"
          ]
        },
        {
          "output_type": "stream",
          "name": "stderr",
          "text": [
            "20:50:46 - cmdstanpy - INFO - Chain [1] done processing\n",
            "INFO:cmdstanpy:Chain [1] done processing\n"
          ]
        },
        {
          "output_type": "stream",
          "name": "stdout",
          "text": [
            "Model Number: 768 with model NVAR in generation 5 of 10\n",
            "Model Number: 769 with model DatepartRegression in generation 5 of 10\n",
            "Model Number: 770 with model ETS in generation 5 of 10\n",
            "Model Number: 771 with model MultivariateRegression in generation 5 of 10\n",
            "Template Eval Error: Exception('Transformer ScipyFilter failed on fit') in model 771: MultivariateRegression\n",
            "Model Number: 772 with model GLS in generation 5 of 10\n"
          ]
        },
        {
          "output_type": "stream",
          "name": "stderr",
          "text": [
            "INFO:prophet:Disabling yearly seasonality. Run prophet with yearly_seasonality=True to override this.\n",
            "INFO:prophet:Disabling weekly seasonality. Run prophet with weekly_seasonality=True to override this.\n",
            "INFO:prophet:Disabling daily seasonality. Run prophet with daily_seasonality=True to override this.\n"
          ]
        },
        {
          "output_type": "stream",
          "name": "stdout",
          "text": [
            "Model Number: 773 with model FBProphet in generation 5 of 10\n"
          ]
        },
        {
          "output_type": "stream",
          "name": "stderr",
          "text": [
            "INFO:prophet:n_changepoints greater than number of observations. Using 7.\n",
            "DEBUG:cmdstanpy:input tempfile: /tmp/tmpmodfer6_/sxgn213k.json\n",
            "DEBUG:cmdstanpy:input tempfile: /tmp/tmpmodfer6_/s78kxa1o.json\n",
            "DEBUG:cmdstanpy:idx 0\n",
            "DEBUG:cmdstanpy:running CmdStan, num_threads: None\n",
            "DEBUG:cmdstanpy:CmdStan args: ['/usr/local/lib/python3.8/dist-packages/prophet/stan_model/prophet_model.bin', 'random', 'seed=32631', 'data', 'file=/tmp/tmpmodfer6_/sxgn213k.json', 'init=/tmp/tmpmodfer6_/s78kxa1o.json', 'output', 'file=/tmp/tmpmodfer6_/prophet_modelfdnc_xlr/prophet_model-20221205205047.csv', 'method=optimize', 'algorithm=newton', 'iter=10000']\n",
            "20:50:47 - cmdstanpy - INFO - Chain [1] start processing\n",
            "INFO:cmdstanpy:Chain [1] start processing\n",
            "20:50:47 - cmdstanpy - INFO - Chain [1] done processing\n",
            "INFO:cmdstanpy:Chain [1] done processing\n"
          ]
        },
        {
          "output_type": "stream",
          "name": "stdout",
          "text": [
            "Model Number: 774 with model GLS in generation 5 of 10\n",
            "Model Number: 775 with model UnobservedComponents in generation 5 of 10\n",
            "Model Number: 776 with model NVAR in generation 5 of 10\n",
            "Template Eval Error: IndexError('index -6 is out of bounds for axis 1 with size 5') in model 776: NVAR\n",
            "Model Number: 777 with model Theta in generation 5 of 10\n",
            "Model Number: 778 with model SeasonalNaive in generation 5 of 10\n",
            "Model Number: 779 with model ETS in generation 5 of 10\n",
            "Model Number: 780 with model ETS in generation 5 of 10\n",
            "Template Eval Error: Exception('Transformer ScipyFilter failed on fit') in model 780: ETS\n",
            "Model Number: 781 with model MultivariateRegression in generation 5 of 10\n",
            "Template Eval Error: Exception('Transformer LocalLinearTrend failed on fit') in model 781: MultivariateRegression\n",
            "Model Number: 782 with model DatepartRegression in generation 5 of 10\n",
            "Model Number: 783 with model ConstantNaive in generation 5 of 10\n"
          ]
        },
        {
          "output_type": "stream",
          "name": "stderr",
          "text": [
            "/usr/local/lib/python3.8/dist-packages/autots/tools/probabilistic.py:67: RuntimeWarning: invalid value encountered in true_divide\n",
            "  (prior_mu / prior_sigma**2) + ((n * data_mu) / prior_sigma**2)\n",
            "/usr/local/lib/python3.8/dist-packages/autots/tools/probabilistic.py:68: RuntimeWarning: divide by zero encountered in true_divide\n",
            "  ) / ((1 / prior_sigma**2) + (n / prior_sigma**2))\n"
          ]
        },
        {
          "output_type": "stream",
          "name": "stdout",
          "text": [
            "Model Number: 784 with model Theta in generation 5 of 10\n",
            "Model Number: 785 with model SeasonalNaive in generation 5 of 10\n",
            "Template Eval Error: Exception('Transformer Detrend failed on fit') in model 785: SeasonalNaive\n",
            "Model Number: 786 with model LastValueNaive in generation 5 of 10\n",
            "Model Number: 787 with model SeasonalNaive in generation 5 of 10\n",
            "Model Number: 788 with model SeasonalNaive in generation 5 of 10\n",
            "Model Number: 789 with model GLS in generation 5 of 10\n",
            "Model Number: 790 with model ETS in generation 5 of 10\n",
            "Model Number: 791 with model WindowRegression in generation 5 of 10\n",
            "Template Eval Error: Exception('Transformer ScipyFilter failed on fit') in model 791: WindowRegression\n",
            "Model Number: 792 with model DatepartRegression in generation 5 of 10\n",
            "Model Number: 793 with model FBProphet in generation 5 of 10\n"
          ]
        },
        {
          "output_type": "stream",
          "name": "stderr",
          "text": [
            "INFO:prophet:Disabling yearly seasonality. Run prophet with yearly_seasonality=True to override this.\n",
            "INFO:prophet:Disabling weekly seasonality. Run prophet with weekly_seasonality=True to override this.\n",
            "INFO:prophet:Disabling daily seasonality. Run prophet with daily_seasonality=True to override this.\n",
            "INFO:prophet:n_changepoints greater than number of observations. Using 7.\n",
            "DEBUG:cmdstanpy:input tempfile: /tmp/tmpmodfer6_/qr3h8cyu.json\n",
            "DEBUG:cmdstanpy:input tempfile: /tmp/tmpmodfer6_/tw86dqp8.json\n",
            "DEBUG:cmdstanpy:idx 0\n",
            "DEBUG:cmdstanpy:running CmdStan, num_threads: None\n",
            "DEBUG:cmdstanpy:CmdStan args: ['/usr/local/lib/python3.8/dist-packages/prophet/stan_model/prophet_model.bin', 'random', 'seed=93342', 'data', 'file=/tmp/tmpmodfer6_/qr3h8cyu.json', 'init=/tmp/tmpmodfer6_/tw86dqp8.json', 'output', 'file=/tmp/tmpmodfer6_/prophet_modelo_73bpep/prophet_model-20221205205049.csv', 'method=optimize', 'algorithm=newton', 'iter=10000']\n",
            "20:50:49 - cmdstanpy - INFO - Chain [1] start processing\n",
            "INFO:cmdstanpy:Chain [1] start processing\n",
            "20:50:49 - cmdstanpy - INFO - Chain [1] done processing\n",
            "INFO:cmdstanpy:Chain [1] done processing\n"
          ]
        },
        {
          "output_type": "stream",
          "name": "stdout",
          "text": [
            "Model Number: 794 with model LastValueNaive in generation 5 of 10\n",
            "No anomalies detected.\n",
            "Model Number: 795 with model LastValueNaive in generation 5 of 10\n",
            "Model Number: 796 with model SeasonalNaive in generation 5 of 10\n"
          ]
        },
        {
          "output_type": "stream",
          "name": "stderr",
          "text": [
            "INFO:prophet:Disabling yearly seasonality. Run prophet with yearly_seasonality=True to override this.\n",
            "INFO:prophet:Disabling weekly seasonality. Run prophet with weekly_seasonality=True to override this.\n",
            "INFO:prophet:Disabling daily seasonality. Run prophet with daily_seasonality=True to override this.\n",
            "INFO:prophet:n_changepoints greater than number of observations. Using 7.\n",
            "DEBUG:cmdstanpy:input tempfile: /tmp/tmpmodfer6_/ayzdc9kp.json\n",
            "DEBUG:cmdstanpy:input tempfile: /tmp/tmpmodfer6_/voi0z0kc.json\n",
            "DEBUG:cmdstanpy:idx 0\n",
            "DEBUG:cmdstanpy:running CmdStan, num_threads: None\n",
            "DEBUG:cmdstanpy:CmdStan args: ['/usr/local/lib/python3.8/dist-packages/prophet/stan_model/prophet_model.bin', 'random', 'seed=6814', 'data', 'file=/tmp/tmpmodfer6_/ayzdc9kp.json', 'init=/tmp/tmpmodfer6_/voi0z0kc.json', 'output', 'file=/tmp/tmpmodfer6_/prophet_model03v7f8iu/prophet_model-20221205205050.csv', 'method=optimize', 'algorithm=newton', 'iter=10000']\n",
            "20:50:50 - cmdstanpy - INFO - Chain [1] start processing\n",
            "INFO:cmdstanpy:Chain [1] start processing\n"
          ]
        },
        {
          "output_type": "stream",
          "name": "stdout",
          "text": [
            "Model Number: 797 with model FBProphet in generation 5 of 10\n"
          ]
        },
        {
          "output_type": "stream",
          "name": "stderr",
          "text": [
            "20:50:50 - cmdstanpy - INFO - Chain [1] done processing\n",
            "INFO:cmdstanpy:Chain [1] done processing\n"
          ]
        },
        {
          "output_type": "stream",
          "name": "stdout",
          "text": [
            "Model Number: 798 with model NVAR in generation 5 of 10\n",
            "Model Number: 799 with model NVAR in generation 5 of 10\n",
            "Model Number: 800 with model SeasonalNaive in generation 5 of 10\n",
            "Model Number: 801 with model DatepartRegression in generation 5 of 10\n",
            "Epoch 1/50\n",
            "1/1 [==============================] - 4s 4s/step - loss: 1660313.7500 - val_loss: 238733.3906\n",
            "Epoch 2/50\n",
            "1/1 [==============================] - 0s 60ms/step - loss: 1107517.7500 - val_loss: 161848.2031\n",
            "Epoch 3/50\n",
            "1/1 [==============================] - 0s 54ms/step - loss: 1348106.5000 - val_loss: 10846.3291\n",
            "Epoch 4/50\n",
            "1/1 [==============================] - 0s 58ms/step - loss: 1518591.0000 - val_loss: 319211.4688\n",
            "Epoch 5/50\n",
            "1/1 [==============================] - 0s 71ms/step - loss: 759124.8750 - val_loss: 619721.9375\n",
            "Epoch 6/50\n",
            "1/1 [==============================] - 0s 55ms/step - loss: 1858477.0000 - val_loss: 225948.4844\n",
            "Epoch 7/50\n",
            "1/1 [==============================] - 0s 50ms/step - loss: 1444561.8750 - val_loss: 76502.6250\n",
            "Epoch 8/50\n",
            "1/1 [==============================] - 0s 60ms/step - loss: 1396349.7500 - val_loss: 421503.2812\n",
            "Epoch 9/50\n",
            "1/1 [==============================] - 0s 53ms/step - loss: 796084.3125 - val_loss: 187939.0000\n",
            "Epoch 10/50\n",
            "1/1 [==============================] - 0s 55ms/step - loss: 2226989.5000 - val_loss: 67129.3125\n",
            "Epoch 11/50\n",
            "1/1 [==============================] - 0s 54ms/step - loss: 1539778.3750 - val_loss: 78979.7109\n",
            "Epoch 12/50\n",
            "1/1 [==============================] - 0s 52ms/step - loss: 1438441.6250 - val_loss: 148052.4375\n",
            "Epoch 13/50\n",
            "1/1 [==============================] - 0s 68ms/step - loss: 1998677.6250 - val_loss: 238340.6875\n",
            "1/1 [==============================] - 0s 250ms/step\n",
            "Template Eval Error: ValueError('Model DatepartRegression returned NaN for one or more series. fail_on_forecast_nan=True') in model 801: DatepartRegression\n",
            "Model Number: 802 with model MultivariateRegression in generation 5 of 10\n",
            "Model Number: 803 with model AverageValueNaive in generation 5 of 10\n"
          ]
        },
        {
          "output_type": "stream",
          "name": "stderr",
          "text": [
            "/usr/local/lib/python3.8/dist-packages/sklearn/svm/_base.py:1206: ConvergenceWarning: Liblinear failed to converge, increase the number of iterations.\n",
            "  warnings.warn(\n"
          ]
        },
        {
          "output_type": "stream",
          "name": "stdout",
          "text": [
            "Model Number: 804 with model LastValueNaive in generation 5 of 10\n",
            "Model Number: 805 with model WindowRegression in generation 5 of 10\n",
            "Epoch 1/50\n",
            "Template Eval Error: ValueError('Unexpected result of `train_function` (Empty logs). Please use `Model.compile(..., run_eagerly=True)`, or `tf.config.run_functions_eagerly(True)` for more information of where went wrong, or file a issue/bug to `tf.keras`.') in model 805: WindowRegression\n",
            "Model Number: 806 with model GLS in generation 5 of 10\n",
            "Model Number: 807 with model UnobservedComponents in generation 5 of 10\n",
            "Template Eval Error: Exception('Transformer STLFilter failed on fit') in model 807: UnobservedComponents\n",
            "New Generation: 6 of 10\n",
            "Model Number: 808 with model UnobservedComponents in generation 6 of 10\n",
            "Model Number: 809 with model Theta in generation 6 of 10\n",
            "Model Number: 810 with model UnobservedComponents in generation 6 of 10\n",
            "Model Number: 811 with model UnobservedComponents in generation 6 of 10\n",
            "Model Number: 812 with model UnobservedComponents in generation 6 of 10\n",
            "Model Number: 813 with model DatepartRegression in generation 6 of 10\n"
          ]
        },
        {
          "output_type": "stream",
          "name": "stderr",
          "text": [
            "[Parallel(n_jobs=-2)]: Using backend SequentialBackend with 1 concurrent workers.\n"
          ]
        },
        {
          "output_type": "stream",
          "name": "stdout",
          "text": [
            "Model Number: 814 with model Theta in generation 6 of 10\n"
          ]
        },
        {
          "output_type": "stream",
          "name": "stderr",
          "text": [
            "[Parallel(n_jobs=-2)]: Done 300 out of 300 | elapsed:    0.2s finished\n",
            "[Parallel(n_jobs=1)]: Using backend SequentialBackend with 1 concurrent workers.\n",
            "[Parallel(n_jobs=1)]: Done 300 out of 300 | elapsed:    0.0s finished\n"
          ]
        },
        {
          "output_type": "stream",
          "name": "stdout",
          "text": [
            "Model Number: 815 with model UnobservedComponents in generation 6 of 10\n",
            "Model Number: 816 with model LastValueNaive in generation 6 of 10\n",
            "Template Eval Error: Exception('Transformer Cointegration failed on fit') in model 816: LastValueNaive\n",
            "Model Number: 817 with model FBProphet in generation 6 of 10\n",
            "Template Eval Error: Exception('Transformer LocalLinearTrend failed on fit') in model 817: FBProphet\n",
            "Model Number: 818 with model AverageValueNaive in generation 6 of 10\n",
            "Model Number: 819 with model DatepartRegression in generation 6 of 10\n",
            "Model Number: 820 with model DatepartRegression in generation 6 of 10\n",
            "Model Number: 821 with model WindowRegression in generation 6 of 10\n",
            "Template Eval Error: ValueError('Found array with 0 sample(s) (shape=(0, 0)) while a minimum of 1 is required.') in model 821: WindowRegression\n",
            "Model Number: 822 with model NVAR in generation 6 of 10\n",
            "Model Number: 823 with model MultivariateRegression in generation 6 of 10\n",
            "Model Number: 824 with model ETS in generation 6 of 10\n",
            "Model Number: 825 with model MultivariateRegression in generation 6 of 10\n",
            "Model Number: 826 with model Theta in generation 6 of 10\n"
          ]
        },
        {
          "output_type": "stream",
          "name": "stderr",
          "text": [
            "/usr/local/lib/python3.8/dist-packages/autots/tools/window_functions.py:478: RuntimeWarning: invalid value encountered in true_divide\n",
            "  slope = (sxy - sx * sy) / (sx2 - sx**2)\n",
            "/usr/local/lib/python3.8/dist-packages/numpy/lib/nanfunctions.py:1119: RuntimeWarning: All-NaN slice encountered\n",
            "  r, k = function_base._ureduce(a, func=_nanmedian, axis=axis, out=out,\n",
            "/usr/local/lib/python3.8/dist-packages/numpy/lib/nanfunctions.py:1374: RuntimeWarning: All-NaN slice encountered\n",
            "  r, k = function_base._ureduce(\n",
            "INFO:prophet:Disabling yearly seasonality. Run prophet with yearly_seasonality=True to override this.\n",
            "INFO:prophet:Disabling weekly seasonality. Run prophet with weekly_seasonality=True to override this.\n",
            "INFO:prophet:Disabling daily seasonality. Run prophet with daily_seasonality=True to override this.\n",
            "INFO:prophet:n_changepoints greater than number of observations. Using 7.\n",
            "DEBUG:cmdstanpy:input tempfile: /tmp/tmpmodfer6_/r2qu6riy.json\n",
            "DEBUG:cmdstanpy:input tempfile: /tmp/tmpmodfer6_/owq8vr33.json\n",
            "DEBUG:cmdstanpy:idx 0\n",
            "DEBUG:cmdstanpy:running CmdStan, num_threads: None\n",
            "DEBUG:cmdstanpy:CmdStan args: ['/usr/local/lib/python3.8/dist-packages/prophet/stan_model/prophet_model.bin', 'random', 'seed=8759', 'data', 'file=/tmp/tmpmodfer6_/r2qu6riy.json', 'init=/tmp/tmpmodfer6_/owq8vr33.json', 'output', 'file=/tmp/tmpmodfer6_/prophet_modelu1ah3kne/prophet_model-20221205205101.csv', 'method=optimize', 'algorithm=newton', 'iter=10000']\n",
            "20:51:01 - cmdstanpy - INFO - Chain [1] start processing\n",
            "INFO:cmdstanpy:Chain [1] start processing\n"
          ]
        },
        {
          "output_type": "stream",
          "name": "stdout",
          "text": [
            "Template Eval Error: ValueError('Model Theta returned NaN for one or more series. fail_on_forecast_nan=True') in model 826: Theta\n",
            "Model Number: 827 with model FBProphet in generation 6 of 10\n"
          ]
        },
        {
          "output_type": "stream",
          "name": "stderr",
          "text": [
            "20:51:01 - cmdstanpy - INFO - Chain [1] done processing\n",
            "INFO:cmdstanpy:Chain [1] done processing\n"
          ]
        },
        {
          "output_type": "stream",
          "name": "stdout",
          "text": [
            "Model Number: 828 with model LastValueNaive in generation 6 of 10\n",
            "Template Eval Error: ValueError('Model LastValueNaive returned NaN for one or more series. fail_on_forecast_nan=True') in model 828: LastValueNaive\n",
            "Model Number: 829 with model ETS in generation 6 of 10\n",
            "Model Number: 830 with model GLS in generation 6 of 10\n",
            "Model Number: 831 with model SeasonalNaive in generation 6 of 10\n"
          ]
        },
        {
          "output_type": "stream",
          "name": "stderr",
          "text": [
            "/usr/local/lib/python3.8/dist-packages/autots/tools/window_functions.py:478: RuntimeWarning: invalid value encountered in true_divide\n",
            "  slope = (sxy - sx * sy) / (sx2 - sx**2)\n",
            "/usr/local/lib/python3.8/dist-packages/autots/tools/percentile.py:47: RuntimeWarning: All-NaN slice encountered\n",
            "  max_val = np.nanmax(arr)\n"
          ]
        },
        {
          "output_type": "stream",
          "name": "stdout",
          "text": [
            "Model Number: 832 with model UnivariateRegression in generation 6 of 10\n",
            "Template Eval Error: ValueError(\"Input contains NaN, infinity or a value too large for dtype('float32').\") in model 832: UnivariateRegression\n",
            "Model Number: 833 with model ETS in generation 6 of 10\n",
            "Model Number: 834 with model ETS in generation 6 of 10\n",
            "Model Number: 835 with model UnobservedComponents in generation 6 of 10\n",
            "Model Number: 836 with model MultivariateRegression in generation 6 of 10\n",
            "Model Number: 837 with model DatepartRegression in generation 6 of 10\n",
            "Template Eval Error: ValueError(\"regression_type='User' but no future_regressor passed\") in model 837: DatepartRegression\n",
            "Model Number: 838 with model MultivariateRegression in generation 6 of 10\n",
            "Model Number: 839 with model Theta in generation 6 of 10\n",
            "Model Number: 840 with model ConstantNaive in generation 6 of 10\n",
            "Template Eval Error: Exception('Transformer BTCD failed on fit') in model 840: ConstantNaive\n",
            "Model Number: 841 with model WindowRegression in generation 6 of 10\n",
            "Model Number: 842 with model SeasonalNaive in generation 6 of 10\n",
            "Template Eval Error: Exception('Transformer LocalLinearTrend failed on fit') in model 842: SeasonalNaive\n",
            "Model Number: 843 with model NVAR in generation 6 of 10\n",
            "Model Number: 844 with model LastValueNaive in generation 6 of 10\n",
            "Model Number: 845 with model SeasonalNaive in generation 6 of 10\n",
            "Model Number: 846 with model ETS in generation 6 of 10\n",
            "Model Number: 847 with model ETS in generation 6 of 10\n"
          ]
        },
        {
          "output_type": "stream",
          "name": "stderr",
          "text": [
            "/usr/local/lib/python3.8/dist-packages/numpy/core/fromnumeric.py:3440: RuntimeWarning: Mean of empty slice.\n",
            "  return _methods._mean(a, axis=axis, dtype=dtype,\n",
            "/usr/local/lib/python3.8/dist-packages/numpy/core/_methods.py:189: RuntimeWarning: invalid value encountered in double_scalars\n",
            "  ret = ret.dtype.type(ret / rcount)\n",
            "/usr/local/lib/python3.8/dist-packages/numpy/core/_methods.py:262: RuntimeWarning: Degrees of freedom <= 0 for slice\n",
            "  ret = _var(a, axis=axis, dtype=dtype, out=out, ddof=ddof,\n",
            "/usr/local/lib/python3.8/dist-packages/numpy/core/_methods.py:222: RuntimeWarning: invalid value encountered in true_divide\n",
            "  arrmean = um.true_divide(arrmean, div, out=arrmean, casting='unsafe',\n",
            "/usr/local/lib/python3.8/dist-packages/numpy/core/_methods.py:254: RuntimeWarning: invalid value encountered in double_scalars\n",
            "  ret = ret.dtype.type(ret / rcount)\n",
            "/usr/local/lib/python3.8/dist-packages/autots/tools/thresholding.py:359: RuntimeWarning: invalid value encountered in true_divide\n",
            "  return abs(self.e_s - self.epsilon) / (self.mean_e_s + self.sd_e_s)\n",
            "/usr/local/lib/python3.8/dist-packages/autots/tools/probabilistic.py:67: RuntimeWarning: invalid value encountered in true_divide\n",
            "  (prior_mu / prior_sigma**2) + ((n * data_mu) / prior_sigma**2)\n",
            "/usr/local/lib/python3.8/dist-packages/autots/tools/probabilistic.py:68: RuntimeWarning: divide by zero encountered in true_divide\n",
            "  ) / ((1 / prior_sigma**2) + (n / prior_sigma**2))\n"
          ]
        },
        {
          "output_type": "stream",
          "name": "stdout",
          "text": [
            "Model Number: 848 with model ConstantNaive in generation 6 of 10\n",
            "Model Number: 849 with model UnobservedComponents in generation 6 of 10\n",
            "Model Number: 850 with model DatepartRegression in generation 6 of 10\n",
            "Template Eval Error: ValueError('Model DatepartRegression returned NaN for one or more series. fail_on_forecast_nan=True') in model 850: DatepartRegression\n",
            "Model Number: 851 with model LastValueNaive in generation 6 of 10\n",
            "Model Number: 852 with model AverageValueNaive in generation 6 of 10\n",
            "Model Number: 853 with model Theta in generation 6 of 10\n"
          ]
        },
        {
          "output_type": "stream",
          "name": "stderr",
          "text": [
            "/usr/local/lib/python3.8/dist-packages/sklearn/neighbors/_regression.py:470: UserWarning: One or more samples have no neighbors within specified radius; predicting NaN.\n",
            "  warnings.warn(empty_warning_msg)\n",
            "/usr/local/lib/python3.8/dist-packages/autots/tools/probabilistic.py:67: RuntimeWarning: invalid value encountered in true_divide\n",
            "  (prior_mu / prior_sigma**2) + ((n * data_mu) / prior_sigma**2)\n",
            "/usr/local/lib/python3.8/dist-packages/autots/tools/probabilistic.py:68: RuntimeWarning: divide by zero encountered in true_divide\n",
            "  ) / ((1 / prior_sigma**2) + (n / prior_sigma**2))\n"
          ]
        },
        {
          "output_type": "stream",
          "name": "stdout",
          "text": [
            "Model Number: 854 with model NVAR in generation 6 of 10\n",
            "Model Number: 855 with model Theta in generation 6 of 10\n",
            "Model Number: 856 with model AverageValueNaive in generation 6 of 10\n",
            "Model Number: 857 with model UnobservedComponents in generation 6 of 10\n",
            "Model Number: 858 with model UnobservedComponents in generation 6 of 10\n",
            "Model Number: 859 with model SeasonalNaive in generation 6 of 10\n",
            "Model Number: 860 with model NVAR in generation 6 of 10\n",
            "Model Number: 861 with model FBProphet in generation 6 of 10\n"
          ]
        },
        {
          "output_type": "stream",
          "name": "stderr",
          "text": [
            "INFO:prophet:Disabling yearly seasonality. Run prophet with yearly_seasonality=True to override this.\n",
            "INFO:prophet:Disabling weekly seasonality. Run prophet with weekly_seasonality=True to override this.\n",
            "INFO:prophet:Disabling daily seasonality. Run prophet with daily_seasonality=True to override this.\n",
            "INFO:prophet:n_changepoints greater than number of observations. Using 7.\n",
            "DEBUG:cmdstanpy:input tempfile: /tmp/tmpmodfer6_/jbozm5_c.json\n",
            "DEBUG:cmdstanpy:input tempfile: /tmp/tmpmodfer6_/v4yozxar.json\n",
            "DEBUG:cmdstanpy:idx 0\n",
            "DEBUG:cmdstanpy:running CmdStan, num_threads: None\n",
            "DEBUG:cmdstanpy:CmdStan args: ['/usr/local/lib/python3.8/dist-packages/prophet/stan_model/prophet_model.bin', 'random', 'seed=68426', 'data', 'file=/tmp/tmpmodfer6_/jbozm5_c.json', 'init=/tmp/tmpmodfer6_/v4yozxar.json', 'output', 'file=/tmp/tmpmodfer6_/prophet_modelo7zq56z4/prophet_model-20221205205104.csv', 'method=optimize', 'algorithm=newton', 'iter=10000']\n",
            "20:51:04 - cmdstanpy - INFO - Chain [1] start processing\n",
            "INFO:cmdstanpy:Chain [1] start processing\n",
            "20:51:04 - cmdstanpy - INFO - Chain [1] done processing\n",
            "INFO:cmdstanpy:Chain [1] done processing\n"
          ]
        },
        {
          "output_type": "stream",
          "name": "stdout",
          "text": [
            "Model Number: 862 with model AverageValueNaive in generation 6 of 10\n",
            "Model Number: 863 with model UnobservedComponents in generation 6 of 10\n",
            "Model Number: 864 with model Theta in generation 6 of 10\n",
            "Model Number: 865 with model MultivariateRegression in generation 6 of 10\n",
            "Model Number: 866 with model MultivariateRegression in generation 6 of 10\n",
            "Model Number: 867 with model FBProphet in generation 6 of 10\n"
          ]
        },
        {
          "output_type": "stream",
          "name": "stderr",
          "text": [
            "INFO:prophet:Disabling yearly seasonality. Run prophet with yearly_seasonality=True to override this.\n",
            "INFO:prophet:Disabling weekly seasonality. Run prophet with weekly_seasonality=True to override this.\n",
            "INFO:prophet:Disabling daily seasonality. Run prophet with daily_seasonality=True to override this.\n",
            "INFO:prophet:n_changepoints greater than number of observations. Using 7.\n",
            "DEBUG:cmdstanpy:input tempfile: /tmp/tmpmodfer6_/3qa2k6nt.json\n",
            "DEBUG:cmdstanpy:input tempfile: /tmp/tmpmodfer6_/v7jm4srz.json\n",
            "DEBUG:cmdstanpy:idx 0\n",
            "DEBUG:cmdstanpy:running CmdStan, num_threads: None\n",
            "DEBUG:cmdstanpy:CmdStan args: ['/usr/local/lib/python3.8/dist-packages/prophet/stan_model/prophet_model.bin', 'random', 'seed=48574', 'data', 'file=/tmp/tmpmodfer6_/3qa2k6nt.json', 'init=/tmp/tmpmodfer6_/v7jm4srz.json', 'output', 'file=/tmp/tmpmodfer6_/prophet_model4bk5bmoa/prophet_model-20221205205106.csv', 'method=optimize', 'algorithm=newton', 'iter=10000']\n",
            "20:51:06 - cmdstanpy - INFO - Chain [1] start processing\n",
            "INFO:cmdstanpy:Chain [1] start processing\n",
            "20:51:06 - cmdstanpy - INFO - Chain [1] done processing\n",
            "INFO:cmdstanpy:Chain [1] done processing\n"
          ]
        },
        {
          "output_type": "stream",
          "name": "stdout",
          "text": [
            "Model Number: 868 with model LastValueNaive in generation 6 of 10\n",
            "Model Number: 869 with model MultivariateRegression in generation 6 of 10\n",
            "Model Number: 870 with model NVAR in generation 6 of 10\n"
          ]
        },
        {
          "output_type": "stream",
          "name": "stderr",
          "text": [
            "INFO:prophet:Disabling yearly seasonality. Run prophet with yearly_seasonality=True to override this.\n",
            "INFO:prophet:Disabling weekly seasonality. Run prophet with weekly_seasonality=True to override this.\n",
            "INFO:prophet:Disabling daily seasonality. Run prophet with daily_seasonality=True to override this.\n",
            "INFO:prophet:n_changepoints greater than number of observations. Using 7.\n"
          ]
        },
        {
          "output_type": "stream",
          "name": "stdout",
          "text": [
            "Model Number: 871 with model FBProphet in generation 6 of 10\n",
            "Model Number: 872 with model DatepartRegression in generation 6 of 10\n",
            "Model Number: 873 with model AverageValueNaive in generation 6 of 10\n",
            "Model Number: 874 with model SeasonalNaive in generation 6 of 10\n",
            "Model Number: 875 with model LastValueNaive in generation 6 of 10\n"
          ]
        },
        {
          "output_type": "stream",
          "name": "stderr",
          "text": [
            "/usr/local/lib/python3.8/dist-packages/sklearn/svm/_base.py:1206: ConvergenceWarning: Liblinear failed to converge, increase the number of iterations.\n",
            "  warnings.warn(\n"
          ]
        },
        {
          "output_type": "stream",
          "name": "stdout",
          "text": [
            "Model Number: 876 with model SeasonalNaive in generation 6 of 10\n",
            "Model Number: 877 with model UnobservedComponents in generation 6 of 10\n",
            "Model Number: 878 with model Theta in generation 6 of 10\n",
            "Template Eval Error: Exception('Transformer Cointegration failed on fit') in model 878: Theta\n",
            "Model Number: 879 with model ARIMA in generation 6 of 10\n",
            "Model Number: 880 with model ConstantNaive in generation 6 of 10\n",
            "Model Number: 881 with model AverageValueNaive in generation 6 of 10\n",
            "Model Number: 882 with model UnobservedComponents in generation 6 of 10\n",
            "Model Number: 883 with model MultivariateRegression in generation 6 of 10\n",
            "Model Number: 884 with model MultivariateRegression in generation 6 of 10\n",
            "Model Number: 885 with model DatepartRegression in generation 6 of 10\n"
          ]
        },
        {
          "output_type": "stream",
          "name": "stderr",
          "text": [
            "INFO:prophet:Disabling yearly seasonality. Run prophet with yearly_seasonality=True to override this.\n",
            "INFO:prophet:Disabling weekly seasonality. Run prophet with weekly_seasonality=True to override this.\n"
          ]
        },
        {
          "output_type": "stream",
          "name": "stdout",
          "text": [
            "Model Number: 886 with model AverageValueNaive in generation 6 of 10\n",
            "Template Eval Error: Exception('Transformer Cointegration failed on fit') in model 886: AverageValueNaive\n",
            "Model Number: 887 with model AverageValueNaive in generation 6 of 10\n",
            "Template Eval Error: Exception('Transformer ScipyFilter failed on fit') in model 887: AverageValueNaive\n",
            "Model Number: 888 with model FBProphet in generation 6 of 10\n"
          ]
        },
        {
          "output_type": "stream",
          "name": "stderr",
          "text": [
            "INFO:prophet:Disabling daily seasonality. Run prophet with daily_seasonality=True to override this.\n",
            "INFO:prophet:n_changepoints greater than number of observations. Using 7.\n",
            "DEBUG:cmdstanpy:input tempfile: /tmp/tmpmodfer6_/3b3f19ja.json\n",
            "DEBUG:cmdstanpy:input tempfile: /tmp/tmpmodfer6_/fxban8w_.json\n",
            "DEBUG:cmdstanpy:idx 0\n",
            "DEBUG:cmdstanpy:running CmdStan, num_threads: None\n",
            "DEBUG:cmdstanpy:CmdStan args: ['/usr/local/lib/python3.8/dist-packages/prophet/stan_model/prophet_model.bin', 'random', 'seed=92992', 'data', 'file=/tmp/tmpmodfer6_/3b3f19ja.json', 'init=/tmp/tmpmodfer6_/fxban8w_.json', 'output', 'file=/tmp/tmpmodfer6_/prophet_modelezv5mi99/prophet_model-20221205205109.csv', 'method=optimize', 'algorithm=newton', 'iter=10000']\n",
            "20:51:09 - cmdstanpy - INFO - Chain [1] start processing\n",
            "INFO:cmdstanpy:Chain [1] start processing\n",
            "20:51:09 - cmdstanpy - INFO - Chain [1] done processing\n",
            "INFO:cmdstanpy:Chain [1] done processing\n"
          ]
        },
        {
          "output_type": "stream",
          "name": "stdout",
          "text": [
            "Model Number: 889 with model SeasonalNaive in generation 6 of 10\n",
            "Model Number: 890 with model ETS in generation 6 of 10\n",
            "Model Number: 891 with model ETS in generation 6 of 10\n"
          ]
        },
        {
          "output_type": "stream",
          "name": "stderr",
          "text": [
            "/usr/local/lib/python3.8/dist-packages/autots/tools/probabilistic.py:67: RuntimeWarning: invalid value encountered in true_divide\n",
            "  (prior_mu / prior_sigma**2) + ((n * data_mu) / prior_sigma**2)\n",
            "/usr/local/lib/python3.8/dist-packages/autots/tools/probabilistic.py:68: RuntimeWarning: divide by zero encountered in true_divide\n",
            "  ) / ((1 / prior_sigma**2) + (n / prior_sigma**2))\n",
            "/usr/local/lib/python3.8/dist-packages/autots/tools/probabilistic.py:67: RuntimeWarning: invalid value encountered in true_divide\n",
            "  (prior_mu / prior_sigma**2) + ((n * data_mu) / prior_sigma**2)\n",
            "/usr/local/lib/python3.8/dist-packages/autots/tools/probabilistic.py:68: RuntimeWarning: divide by zero encountered in true_divide\n",
            "  ) / ((1 / prior_sigma**2) + (n / prior_sigma**2))\n"
          ]
        },
        {
          "output_type": "stream",
          "name": "stdout",
          "text": [
            "Model Number: 892 with model Theta in generation 6 of 10\n",
            "Model Number: 893 with model NVAR in generation 6 of 10\n",
            "Template Eval Error: Exception('Transformer BTCD failed on fit') in model 893: NVAR\n"
          ]
        },
        {
          "output_type": "stream",
          "name": "stderr",
          "text": [
            "INFO:prophet:Disabling yearly seasonality. Run prophet with yearly_seasonality=True to override this.\n",
            "INFO:prophet:Disabling weekly seasonality. Run prophet with weekly_seasonality=True to override this.\n",
            "INFO:prophet:Disabling daily seasonality. Run prophet with daily_seasonality=True to override this.\n",
            "INFO:prophet:n_changepoints greater than number of observations. Using 7.\n",
            "DEBUG:cmdstanpy:input tempfile: /tmp/tmpmodfer6_/i_ga_f_l.json\n",
            "DEBUG:cmdstanpy:input tempfile: /tmp/tmpmodfer6_/sgnwmond.json\n",
            "DEBUG:cmdstanpy:idx 0\n",
            "DEBUG:cmdstanpy:running CmdStan, num_threads: None\n",
            "DEBUG:cmdstanpy:CmdStan args: ['/usr/local/lib/python3.8/dist-packages/prophet/stan_model/prophet_model.bin', 'random', 'seed=9142', 'data', 'file=/tmp/tmpmodfer6_/i_ga_f_l.json', 'init=/tmp/tmpmodfer6_/sgnwmond.json', 'output', 'file=/tmp/tmpmodfer6_/prophet_modely81nlv28/prophet_model-20221205205110.csv', 'method=optimize', 'algorithm=newton', 'iter=10000']\n",
            "20:51:10 - cmdstanpy - INFO - Chain [1] start processing\n",
            "INFO:cmdstanpy:Chain [1] start processing\n"
          ]
        },
        {
          "output_type": "stream",
          "name": "stdout",
          "text": [
            "Model Number: 894 with model FBProphet in generation 6 of 10\n"
          ]
        },
        {
          "output_type": "stream",
          "name": "stderr",
          "text": [
            "20:51:11 - cmdstanpy - INFO - Chain [1] done processing\n",
            "INFO:cmdstanpy:Chain [1] done processing\n"
          ]
        },
        {
          "output_type": "stream",
          "name": "stdout",
          "text": [
            "Model Number: 895 with model AverageValueNaive in generation 6 of 10\n",
            "Model Number: 896 with model LastValueNaive in generation 6 of 10\n"
          ]
        },
        {
          "output_type": "stream",
          "name": "stderr",
          "text": [
            "INFO:prophet:Disabling yearly seasonality. Run prophet with yearly_seasonality=True to override this.\n",
            "INFO:prophet:Disabling weekly seasonality. Run prophet with weekly_seasonality=True to override this.\n",
            "INFO:prophet:Disabling daily seasonality. Run prophet with daily_seasonality=True to override this.\n",
            "INFO:prophet:n_changepoints greater than number of observations. Using 7.\n",
            "DEBUG:cmdstanpy:input tempfile: /tmp/tmpmodfer6_/5v6gxg48.json\n",
            "DEBUG:cmdstanpy:input tempfile: /tmp/tmpmodfer6_/vjpc7izg.json\n",
            "DEBUG:cmdstanpy:idx 0\n",
            "DEBUG:cmdstanpy:running CmdStan, num_threads: None\n",
            "DEBUG:cmdstanpy:CmdStan args: ['/usr/local/lib/python3.8/dist-packages/prophet/stan_model/prophet_model.bin', 'random', 'seed=27703', 'data', 'file=/tmp/tmpmodfer6_/5v6gxg48.json', 'init=/tmp/tmpmodfer6_/vjpc7izg.json', 'output', 'file=/tmp/tmpmodfer6_/prophet_modelrc30_scy/prophet_model-20221205205111.csv', 'method=optimize', 'algorithm=newton', 'iter=10000']\n",
            "20:51:11 - cmdstanpy - INFO - Chain [1] start processing\n",
            "INFO:cmdstanpy:Chain [1] start processing\n"
          ]
        },
        {
          "output_type": "stream",
          "name": "stdout",
          "text": [
            "Model Number: 897 with model FBProphet in generation 6 of 10\n"
          ]
        },
        {
          "output_type": "stream",
          "name": "stderr",
          "text": [
            "20:51:11 - cmdstanpy - INFO - Chain [1] done processing\n",
            "INFO:cmdstanpy:Chain [1] done processing\n"
          ]
        },
        {
          "output_type": "stream",
          "name": "stdout",
          "text": [
            "Model Number: 898 with model LastValueNaive in generation 6 of 10\n",
            "Model Number: 899 with model AverageValueNaive in generation 6 of 10\n",
            "Model Number: 900 with model ETS in generation 6 of 10\n",
            "Model Number: 901 with model GLM in generation 6 of 10\n",
            "Template Eval Error: Exception('Transformer DifferencedTransformer failed on inverse') in model 901: GLM\n",
            "Model Number: 902 with model UnobservedComponents in generation 6 of 10\n"
          ]
        },
        {
          "output_type": "stream",
          "name": "stderr",
          "text": [
            "/usr/local/lib/python3.8/dist-packages/autots/tools/window_functions.py:478: RuntimeWarning: invalid value encountered in true_divide\n",
            "  slope = (sxy - sx * sy) / (sx2 - sx**2)\n",
            "/usr/local/lib/python3.8/dist-packages/autots/tools/probabilistic.py:67: RuntimeWarning: divide by zero encountered in true_divide\n",
            "  (prior_mu / prior_sigma**2) + ((n * data_mu) / prior_sigma**2)\n",
            "/usr/local/lib/python3.8/dist-packages/autots/tools/probabilistic.py:68: RuntimeWarning: divide by zero encountered in true_divide\n",
            "  ) / ((1 / prior_sigma**2) + (n / prior_sigma**2))\n",
            "/usr/local/lib/python3.8/dist-packages/autots/tools/probabilistic.py:66: RuntimeWarning: invalid value encountered in true_divide\n",
            "  post_mu = (\n"
          ]
        },
        {
          "output_type": "stream",
          "name": "stdout",
          "text": [
            "Model Number: 903 with model UnivariateRegression in generation 6 of 10\n"
          ]
        },
        {
          "output_type": "stream",
          "name": "stderr",
          "text": [
            "/usr/local/lib/python3.8/dist-packages/autots/tools/probabilistic.py:67: RuntimeWarning: invalid value encountered in true_divide\n",
            "  (prior_mu / prior_sigma**2) + ((n * data_mu) / prior_sigma**2)\n",
            "/usr/local/lib/python3.8/dist-packages/autots/tools/probabilistic.py:68: RuntimeWarning: divide by zero encountered in true_divide\n",
            "  ) / ((1 / prior_sigma**2) + (n / prior_sigma**2))\n",
            "INFO:prophet:Disabling yearly seasonality. Run prophet with yearly_seasonality=True to override this.\n",
            "INFO:prophet:Disabling weekly seasonality. Run prophet with weekly_seasonality=True to override this.\n",
            "INFO:prophet:Disabling daily seasonality. Run prophet with daily_seasonality=True to override this.\n",
            "INFO:prophet:n_changepoints greater than number of observations. Using 7.\n",
            "DEBUG:cmdstanpy:input tempfile: /tmp/tmpmodfer6_/q4mr2gie.json\n",
            "DEBUG:cmdstanpy:input tempfile: /tmp/tmpmodfer6_/6027oo42.json\n",
            "DEBUG:cmdstanpy:idx 0\n",
            "DEBUG:cmdstanpy:running CmdStan, num_threads: None\n",
            "DEBUG:cmdstanpy:CmdStan args: ['/usr/local/lib/python3.8/dist-packages/prophet/stan_model/prophet_model.bin', 'random', 'seed=22614', 'data', 'file=/tmp/tmpmodfer6_/q4mr2gie.json', 'init=/tmp/tmpmodfer6_/6027oo42.json', 'output', 'file=/tmp/tmpmodfer6_/prophet_modelv1wzp5o3/prophet_model-20221205205113.csv', 'method=optimize', 'algorithm=newton', 'iter=10000']\n",
            "20:51:13 - cmdstanpy - INFO - Chain [1] start processing\n",
            "INFO:cmdstanpy:Chain [1] start processing\n"
          ]
        },
        {
          "output_type": "stream",
          "name": "stdout",
          "text": [
            "Model Number: 904 with model FBProphet in generation 6 of 10\n"
          ]
        },
        {
          "output_type": "stream",
          "name": "stderr",
          "text": [
            "20:51:13 - cmdstanpy - INFO - Chain [1] done processing\n",
            "INFO:cmdstanpy:Chain [1] done processing\n"
          ]
        },
        {
          "output_type": "stream",
          "name": "stdout",
          "text": [
            "Model Number: 905 with model DatepartRegression in generation 6 of 10\n",
            "Template Eval Error: ValueError('Model DatepartRegression returned NaN for one or more series. fail_on_forecast_nan=True') in model 905: DatepartRegression\n",
            "Model Number: 906 with model WindowRegression in generation 6 of 10\n",
            "Model Number: 907 with model SeasonalNaive in generation 6 of 10\n"
          ]
        },
        {
          "output_type": "stream",
          "name": "stderr",
          "text": [
            "/usr/local/lib/python3.8/dist-packages/sklearn/neighbors/_regression.py:470: UserWarning: One or more samples have no neighbors within specified radius; predicting NaN.\n",
            "  warnings.warn(empty_warning_msg)\n",
            "/usr/local/lib/python3.8/dist-packages/autots/tools/probabilistic.py:67: RuntimeWarning: divide by zero encountered in true_divide\n",
            "  (prior_mu / prior_sigma**2) + ((n * data_mu) / prior_sigma**2)\n",
            "/usr/local/lib/python3.8/dist-packages/autots/tools/probabilistic.py:68: RuntimeWarning: divide by zero encountered in true_divide\n",
            "  ) / ((1 / prior_sigma**2) + (n / prior_sigma**2))\n",
            "/usr/local/lib/python3.8/dist-packages/autots/tools/probabilistic.py:66: RuntimeWarning: invalid value encountered in true_divide\n",
            "  post_mu = (\n"
          ]
        },
        {
          "output_type": "stream",
          "name": "stdout",
          "text": [
            "Model Number: 908 with model UnobservedComponents in generation 6 of 10\n",
            "Template Eval Error: ValueError(\"regression_type='User' but no future_regressor supplied\") in model 908: UnobservedComponents\n",
            "Model Number: 909 with model WindowRegression in generation 6 of 10\n",
            "Model Number: 910 with model ConstantNaive in generation 6 of 10\n",
            "Model Number: 911 with model ARIMA in generation 6 of 10\n",
            "New Generation: 7 of 10\n",
            "Model Number: 912 with model ARIMA in generation 7 of 10\n",
            "Template Eval Error: Exception('Transformer Cointegration failed on fit') in model 912: ARIMA\n",
            "Model Number: 913 with model Theta in generation 7 of 10\n",
            "Model Number: 914 with model Theta in generation 7 of 10\n",
            "Model Number: 915 with model DatepartRegression in generation 7 of 10\n",
            "Template Eval Error: Exception('Transformer Cointegration failed on fit') in model 915: DatepartRegression\n",
            "Model Number: 916 with model Theta in generation 7 of 10\n",
            "Model Number: 917 with model UnobservedComponents in generation 7 of 10\n",
            "Model Number: 918 with model ETS in generation 7 of 10\n",
            "Model Number: 919 with model LastValueNaive in generation 7 of 10\n",
            "Model Number: 920 with model Theta in generation 7 of 10\n",
            "Model Number: 921 with model UnobservedComponents in generation 7 of 10\n",
            "Model Number: 922 with model SeasonalNaive in generation 7 of 10\n",
            "Model Number: 923 with model SeasonalNaive in generation 7 of 10\n",
            "Model Number: 924 with model UnivariateRegression in generation 7 of 10\n",
            "Model Number: 925 with model AverageValueNaive in generation 7 of 10\n",
            "Model Number: 926 with model Theta in generation 7 of 10\n"
          ]
        },
        {
          "output_type": "stream",
          "name": "stderr",
          "text": [
            "/usr/local/lib/python3.8/dist-packages/autots/tools/probabilistic.py:67: RuntimeWarning: invalid value encountered in true_divide\n",
            "  (prior_mu / prior_sigma**2) + ((n * data_mu) / prior_sigma**2)\n",
            "/usr/local/lib/python3.8/dist-packages/autots/tools/probabilistic.py:68: RuntimeWarning: divide by zero encountered in true_divide\n",
            "  ) / ((1 / prior_sigma**2) + (n / prior_sigma**2))\n"
          ]
        },
        {
          "output_type": "stream",
          "name": "stdout",
          "text": [
            "Model Number: 927 with model UnobservedComponents in generation 7 of 10\n",
            "Model Number: 928 with model NVAR in generation 7 of 10\n",
            "Model Number: 929 with model Theta in generation 7 of 10\n",
            "Model Number: 930 with model UnobservedComponents in generation 7 of 10\n"
          ]
        },
        {
          "output_type": "stream",
          "name": "stderr",
          "text": [
            "INFO:prophet:Disabling yearly seasonality. Run prophet with yearly_seasonality=True to override this.\n",
            "INFO:prophet:Disabling weekly seasonality. Run prophet with weekly_seasonality=True to override this.\n",
            "INFO:prophet:Disabling daily seasonality. Run prophet with daily_seasonality=True to override this.\n",
            "INFO:prophet:n_changepoints greater than number of observations. Using 7.\n",
            "DEBUG:cmdstanpy:input tempfile: /tmp/tmpmodfer6_/onzkmt3x.json\n"
          ]
        },
        {
          "output_type": "stream",
          "name": "stdout",
          "text": [
            "Model Number: 931 with model FBProphet in generation 7 of 10\n"
          ]
        },
        {
          "output_type": "stream",
          "name": "stderr",
          "text": [
            "DEBUG:cmdstanpy:input tempfile: /tmp/tmpmodfer6_/n64q1lw4.json\n",
            "DEBUG:cmdstanpy:idx 0\n",
            "DEBUG:cmdstanpy:running CmdStan, num_threads: None\n",
            "DEBUG:cmdstanpy:CmdStan args: ['/usr/local/lib/python3.8/dist-packages/prophet/stan_model/prophet_model.bin', 'random', 'seed=80432', 'data', 'file=/tmp/tmpmodfer6_/onzkmt3x.json', 'init=/tmp/tmpmodfer6_/n64q1lw4.json', 'output', 'file=/tmp/tmpmodfer6_/prophet_model_8bgx_nx/prophet_model-20221205205117.csv', 'method=optimize', 'algorithm=newton', 'iter=10000']\n",
            "20:51:17 - cmdstanpy - INFO - Chain [1] start processing\n",
            "INFO:cmdstanpy:Chain [1] start processing\n",
            "20:51:17 - cmdstanpy - INFO - Chain [1] done processing\n",
            "INFO:cmdstanpy:Chain [1] done processing\n"
          ]
        },
        {
          "output_type": "stream",
          "name": "stdout",
          "text": [
            "Model Number: 932 with model DatepartRegression in generation 7 of 10\n",
            "Model Number: 933 with model ETS in generation 7 of 10\n",
            "Model Number: 934 with model LastValueNaive in generation 7 of 10\n",
            "Model Number: 935 with model AverageValueNaive in generation 7 of 10\n",
            "Model Number: 936 with model AverageValueNaive in generation 7 of 10\n"
          ]
        },
        {
          "output_type": "stream",
          "name": "stderr",
          "text": [
            "/usr/local/lib/python3.8/dist-packages/autots/tools/probabilistic.py:67: RuntimeWarning: invalid value encountered in true_divide\n",
            "  (prior_mu / prior_sigma**2) + ((n * data_mu) / prior_sigma**2)\n",
            "/usr/local/lib/python3.8/dist-packages/autots/tools/probabilistic.py:68: RuntimeWarning: divide by zero encountered in true_divide\n",
            "  ) / ((1 / prior_sigma**2) + (n / prior_sigma**2))\n"
          ]
        },
        {
          "output_type": "stream",
          "name": "stdout",
          "text": [
            "Model Number: 937 with model ETS in generation 7 of 10\n",
            "Model Number: 938 with model DatepartRegression in generation 7 of 10\n"
          ]
        },
        {
          "output_type": "stream",
          "name": "stderr",
          "text": [
            "/usr/local/lib/python3.8/dist-packages/autots/tools/probabilistic.py:67: RuntimeWarning: invalid value encountered in true_divide\n",
            "  (prior_mu / prior_sigma**2) + ((n * data_mu) / prior_sigma**2)\n",
            "/usr/local/lib/python3.8/dist-packages/autots/tools/probabilistic.py:68: RuntimeWarning: divide by zero encountered in true_divide\n",
            "  ) / ((1 / prior_sigma**2) + (n / prior_sigma**2))\n",
            "[Parallel(n_jobs=-2)]: Using backend SequentialBackend with 1 concurrent workers.\n"
          ]
        },
        {
          "output_type": "stream",
          "name": "stdout",
          "text": [
            "Model Number: 939 with model NVAR in generation 7 of 10\n",
            "Template Eval Error: Exception('Transformer Detrend failed on fit') in model 939: NVAR\n",
            "Model Number: 940 with model UnobservedComponents in generation 7 of 10\n",
            "Model Number: 941 with model ETS in generation 7 of 10\n"
          ]
        },
        {
          "output_type": "stream",
          "name": "stderr",
          "text": [
            "[Parallel(n_jobs=-2)]: Done 300 out of 300 | elapsed:    0.3s finished\n",
            "[Parallel(n_jobs=1)]: Using backend SequentialBackend with 1 concurrent workers.\n",
            "[Parallel(n_jobs=1)]: Done 300 out of 300 | elapsed:    0.0s finished\n"
          ]
        },
        {
          "output_type": "stream",
          "name": "stdout",
          "text": [
            "Model Number: 942 with model FBProphet in generation 7 of 10\n",
            "Template Eval Error: Exception('Transformer Detrend failed on fit') in model 942: FBProphet\n",
            "Model Number: 943 with model NVAR in generation 7 of 10\n",
            "Model Number: 944 with model GLS in generation 7 of 10\n",
            "Model Number: 945 with model FBProphet in generation 7 of 10\n"
          ]
        },
        {
          "output_type": "stream",
          "name": "stderr",
          "text": [
            "INFO:prophet:Disabling yearly seasonality. Run prophet with yearly_seasonality=True to override this.\n",
            "INFO:prophet:Disabling weekly seasonality. Run prophet with weekly_seasonality=True to override this.\n",
            "INFO:prophet:Disabling daily seasonality. Run prophet with daily_seasonality=True to override this.\n",
            "INFO:prophet:n_changepoints greater than number of observations. Using 8.\n",
            "DEBUG:cmdstanpy:input tempfile: /tmp/tmpmodfer6_/tpynk_ev.json\n",
            "DEBUG:cmdstanpy:input tempfile: /tmp/tmpmodfer6_/3nobqajt.json\n",
            "DEBUG:cmdstanpy:idx 0\n",
            "DEBUG:cmdstanpy:running CmdStan, num_threads: None\n",
            "DEBUG:cmdstanpy:CmdStan args: ['/usr/local/lib/python3.8/dist-packages/prophet/stan_model/prophet_model.bin', 'random', 'seed=49065', 'data', 'file=/tmp/tmpmodfer6_/tpynk_ev.json', 'init=/tmp/tmpmodfer6_/3nobqajt.json', 'output', 'file=/tmp/tmpmodfer6_/prophet_modelumhjocnm/prophet_model-20221205205119.csv', 'method=optimize', 'algorithm=newton', 'iter=10000']\n",
            "20:51:19 - cmdstanpy - INFO - Chain [1] start processing\n",
            "INFO:cmdstanpy:Chain [1] start processing\n",
            "20:51:19 - cmdstanpy - INFO - Chain [1] done processing\n",
            "INFO:cmdstanpy:Chain [1] done processing\n"
          ]
        },
        {
          "output_type": "stream",
          "name": "stdout",
          "text": [
            "Model Number: 946 with model LastValueNaive in generation 7 of 10\n",
            "Template Eval Error: Exception('Transformer BTCD failed on fit') in model 946: LastValueNaive\n",
            "Model Number: 947 with model UnobservedComponents in generation 7 of 10\n",
            "Template Eval Error: Exception('Transformer BTCD failed on fit') in model 947: UnobservedComponents\n",
            "Model Number: 948 with model Theta in generation 7 of 10\n",
            "Model Number: 949 with model UnobservedComponents in generation 7 of 10\n",
            "Model Number: 950 with model MultivariateRegression in generation 7 of 10\n",
            "Model Number: 951 with model SeasonalNaive in generation 7 of 10\n",
            "Model Number: 952 with model MultivariateRegression in generation 7 of 10\n"
          ]
        },
        {
          "output_type": "stream",
          "name": "stderr",
          "text": [
            "/usr/local/lib/python3.8/dist-packages/sklearn/svm/_base.py:1206: ConvergenceWarning: Liblinear failed to converge, increase the number of iterations.\n",
            "  warnings.warn(\n"
          ]
        },
        {
          "output_type": "stream",
          "name": "stdout",
          "text": [
            "Model Number: 953 with model Theta in generation 7 of 10\n",
            "Model Number: 954 with model LastValueNaive in generation 7 of 10\n",
            "Model Number: 955 with model SeasonalNaive in generation 7 of 10\n",
            "Model Number: 956 with model UnobservedComponents in generation 7 of 10\n",
            "Model Number: 957 with model NVAR in generation 7 of 10\n"
          ]
        },
        {
          "output_type": "stream",
          "name": "stderr",
          "text": [
            "INFO:prophet:Disabling yearly seasonality. Run prophet with yearly_seasonality=True to override this.\n",
            "INFO:prophet:Disabling weekly seasonality. Run prophet with weekly_seasonality=True to override this.\n",
            "INFO:prophet:Disabling daily seasonality. Run prophet with daily_seasonality=True to override this.\n"
          ]
        },
        {
          "output_type": "stream",
          "name": "stdout",
          "text": [
            "Model Number: 958 with model AverageValueNaive in generation 7 of 10\n",
            "Template Eval Error: Exception('Transformer Detrend failed on fit') in model 958: AverageValueNaive\n",
            "Model Number: 959 with model FBProphet in generation 7 of 10\n"
          ]
        },
        {
          "output_type": "stream",
          "name": "stderr",
          "text": [
            "INFO:prophet:n_changepoints greater than number of observations. Using 7.\n",
            "DEBUG:cmdstanpy:input tempfile: /tmp/tmpmodfer6_/8938kl9n.json\n",
            "DEBUG:cmdstanpy:input tempfile: /tmp/tmpmodfer6_/ibckava4.json\n",
            "DEBUG:cmdstanpy:idx 0\n",
            "DEBUG:cmdstanpy:running CmdStan, num_threads: None\n",
            "DEBUG:cmdstanpy:CmdStan args: ['/usr/local/lib/python3.8/dist-packages/prophet/stan_model/prophet_model.bin', 'random', 'seed=82708', 'data', 'file=/tmp/tmpmodfer6_/8938kl9n.json', 'init=/tmp/tmpmodfer6_/ibckava4.json', 'output', 'file=/tmp/tmpmodfer6_/prophet_modeldmscwuco/prophet_model-20221205205121.csv', 'method=optimize', 'algorithm=newton', 'iter=10000']\n",
            "20:51:21 - cmdstanpy - INFO - Chain [1] start processing\n",
            "INFO:cmdstanpy:Chain [1] start processing\n",
            "20:51:21 - cmdstanpy - INFO - Chain [1] done processing\n",
            "INFO:cmdstanpy:Chain [1] done processing\n"
          ]
        },
        {
          "output_type": "stream",
          "name": "stdout",
          "text": [
            "Model Number: 960 with model LastValueNaive in generation 7 of 10\n",
            "Model Number: 961 with model GLS in generation 7 of 10\n",
            "Model Number: 962 with model ConstantNaive in generation 7 of 10\n",
            "Template Eval Error: Exception('Transformer ScipyFilter failed on fit') in model 962: ConstantNaive\n",
            "Model Number: 963 with model GLM in generation 7 of 10\n",
            "Template Eval Error: PerfectSeparationError('Perfect separation detected, results not available') in model 963: GLM\n",
            "Model Number: 964 with model ConstantNaive in generation 7 of 10\n",
            "No anomalies detected.\n"
          ]
        },
        {
          "output_type": "stream",
          "name": "stderr",
          "text": [
            "/usr/local/lib/python3.8/dist-packages/statsmodels/genmod/generalized_linear_model.py:798: RuntimeWarning: divide by zero encountered in double_scalars\n",
            "  return np.sum(resid / self.family.variance(mu)) / self.df_resid\n",
            "INFO:prophet:Disabling yearly seasonality. Run prophet with yearly_seasonality=True to override this.\n",
            "INFO:prophet:Disabling weekly seasonality. Run prophet with weekly_seasonality=True to override this.\n",
            "INFO:prophet:Disabling daily seasonality. Run prophet with daily_seasonality=True to override this.\n",
            "INFO:prophet:n_changepoints greater than number of observations. Using 7.\n",
            "DEBUG:cmdstanpy:input tempfile: /tmp/tmpmodfer6_/_iklf9hp.json\n",
            "DEBUG:cmdstanpy:input tempfile: /tmp/tmpmodfer6_/yhymnyx8.json\n",
            "DEBUG:cmdstanpy:idx 0\n",
            "DEBUG:cmdstanpy:running CmdStan, num_threads: None\n",
            "DEBUG:cmdstanpy:CmdStan args: ['/usr/local/lib/python3.8/dist-packages/prophet/stan_model/prophet_model.bin', 'random', 'seed=62236', 'data', 'file=/tmp/tmpmodfer6_/_iklf9hp.json', 'init=/tmp/tmpmodfer6_/yhymnyx8.json', 'output', 'file=/tmp/tmpmodfer6_/prophet_model60tnpjwm/prophet_model-20221205205122.csv', 'method=optimize', 'algorithm=newton', 'iter=10000']\n",
            "20:51:22 - cmdstanpy - INFO - Chain [1] start processing\n",
            "INFO:cmdstanpy:Chain [1] start processing\n",
            "20:51:22 - cmdstanpy - INFO - Chain [1] done processing\n",
            "INFO:cmdstanpy:Chain [1] done processing\n"
          ]
        },
        {
          "output_type": "stream",
          "name": "stdout",
          "text": [
            "Model Number: 965 with model FBProphet in generation 7 of 10\n",
            "Model Number: 966 with model LastValueNaive in generation 7 of 10\n",
            "Model Number: 967 with model UnobservedComponents in generation 7 of 10\n",
            "Model Number: 968 with model Theta in generation 7 of 10\n",
            "Model Number: 969 with model AverageValueNaive in generation 7 of 10\n",
            "Model Number: 970 with model ETS in generation 7 of 10\n",
            "Model Number: 971 with model ETS in generation 7 of 10\n",
            "Template Eval Error: Exception('Transformer Cointegration failed on fit') in model 971: ETS\n",
            "Model Number: 972 with model LastValueNaive in generation 7 of 10\n",
            "Model Number: 973 with model DatepartRegression in generation 7 of 10\n",
            "Epoch 1/50\n",
            "1/1 [==============================] - 8s 8s/step - loss: 150486.6406 - val_loss: 15604.5889\n",
            "Epoch 2/50\n",
            "1/1 [==============================] - 0s 126ms/step - loss: 125487.7891 - val_loss: 52576.2461\n",
            "Epoch 3/50\n",
            "1/1 [==============================] - 0s 139ms/step - loss: 175274.3281 - val_loss: 11440.5039\n",
            "Epoch 4/50\n",
            "1/1 [==============================] - 0s 122ms/step - loss: 122270.6875 - val_loss: 11820.3916\n",
            "Epoch 5/50\n",
            "1/1 [==============================] - 0s 124ms/step - loss: 95248.5703 - val_loss: 19089.7285\n",
            "Epoch 6/50\n",
            "1/1 [==============================] - 0s 119ms/step - loss: 120827.3438 - val_loss: 12767.1172\n",
            "Epoch 7/50\n",
            "1/1 [==============================] - 0s 120ms/step - loss: 87645.6406 - val_loss: 40636.0781\n",
            "Epoch 8/50\n",
            "1/1 [==============================] - 0s 119ms/step - loss: 184998.8906 - val_loss: 38486.0586\n",
            "Epoch 9/50\n",
            "1/1 [==============================] - 0s 128ms/step - loss: 97853.2891 - val_loss: 63507.7383\n",
            "Epoch 10/50\n",
            "1/1 [==============================] - 0s 119ms/step - loss: 150262.8438 - val_loss: 11506.1729\n",
            "Epoch 11/50\n",
            "1/1 [==============================] - 0s 139ms/step - loss: 116951.7734 - val_loss: 37609.9531\n",
            "Epoch 12/50\n",
            "1/1 [==============================] - 0s 126ms/step - loss: 130339.1094 - val_loss: 35324.7070\n",
            "Epoch 13/50\n",
            "1/1 [==============================] - 0s 138ms/step - loss: 169137.5625 - val_loss: 10119.4805\n",
            "Epoch 14/50\n",
            "1/1 [==============================] - 0s 130ms/step - loss: 107532.3594 - val_loss: 9901.8818\n",
            "Epoch 15/50\n",
            "1/1 [==============================] - 0s 131ms/step - loss: 102228.6641 - val_loss: 35904.7188\n",
            "Epoch 16/50\n",
            "1/1 [==============================] - 0s 123ms/step - loss: 73152.5469 - val_loss: 13672.8623\n",
            "Epoch 17/50\n",
            "1/1 [==============================] - 0s 133ms/step - loss: 123615.0312 - val_loss: 37399.6680\n",
            "Epoch 18/50\n",
            "1/1 [==============================] - 0s 128ms/step - loss: 195674.0469 - val_loss: 15975.6875\n",
            "Epoch 19/50\n",
            "1/1 [==============================] - 0s 132ms/step - loss: 94244.8594 - val_loss: 4571.6504\n",
            "Epoch 20/50\n",
            "1/1 [==============================] - 0s 140ms/step - loss: 99185.1641 - val_loss: 19511.7832\n",
            "Epoch 21/50\n",
            "1/1 [==============================] - 0s 142ms/step - loss: 110174.3281 - val_loss: 24744.7871\n",
            "Epoch 22/50\n",
            "1/1 [==============================] - 0s 126ms/step - loss: 104589.0234 - val_loss: 83371.3359\n",
            "Epoch 23/50\n",
            "1/1 [==============================] - 0s 134ms/step - loss: 187835.3438 - val_loss: 19129.5508\n",
            "Epoch 24/50\n",
            "1/1 [==============================] - 0s 126ms/step - loss: 113820.8359 - val_loss: 12870.0664\n",
            "Epoch 25/50\n",
            "1/1 [==============================] - 0s 128ms/step - loss: 94444.8750 - val_loss: 13312.9619\n",
            "Epoch 26/50\n",
            "1/1 [==============================] - 0s 125ms/step - loss: 103236.9688 - val_loss: 12123.1025\n",
            "Epoch 27/50\n",
            "1/1 [==============================] - 0s 124ms/step - loss: 111217.1719 - val_loss: 22490.0781\n",
            "Epoch 28/50\n",
            "1/1 [==============================] - 0s 139ms/step - loss: 88879.9219 - val_loss: 10939.4600\n",
            "Epoch 29/50\n",
            "1/1 [==============================] - 0s 136ms/step - loss: 187749.7812 - val_loss: 13454.6025\n",
            "1/1 [==============================] - 1s 522ms/step\n",
            "Template Eval Error: ValueError('Model DatepartRegression returned NaN for one or more series. fail_on_forecast_nan=True') in model 973: DatepartRegression\n",
            "Model Number: 974 with model NVAR in generation 7 of 10\n"
          ]
        },
        {
          "output_type": "stream",
          "name": "stderr",
          "text": [
            "INFO:prophet:Disabling yearly seasonality. Run prophet with yearly_seasonality=True to override this.\n",
            "INFO:prophet:Disabling weekly seasonality. Run prophet with weekly_seasonality=True to override this.\n",
            "INFO:prophet:Disabling daily seasonality. Run prophet with daily_seasonality=True to override this.\n"
          ]
        },
        {
          "output_type": "stream",
          "name": "stdout",
          "text": [
            "Model Number: 975 with model FBProphet in generation 7 of 10\n",
            "No anomalies detected.\n"
          ]
        },
        {
          "output_type": "stream",
          "name": "stderr",
          "text": [
            "INFO:prophet:n_changepoints greater than number of observations. Using 7.\n",
            "DEBUG:cmdstanpy:input tempfile: /tmp/tmpmodfer6_/mtbpszfb.json\n",
            "DEBUG:cmdstanpy:input tempfile: /tmp/tmpmodfer6_/01j5vbho.json\n",
            "DEBUG:cmdstanpy:idx 0\n",
            "DEBUG:cmdstanpy:running CmdStan, num_threads: None\n",
            "DEBUG:cmdstanpy:CmdStan args: ['/usr/local/lib/python3.8/dist-packages/prophet/stan_model/prophet_model.bin', 'random', 'seed=23072', 'data', 'file=/tmp/tmpmodfer6_/mtbpszfb.json', 'init=/tmp/tmpmodfer6_/01j5vbho.json', 'output', 'file=/tmp/tmpmodfer6_/prophet_model694p0t3b/prophet_model-20221205205136.csv', 'method=optimize', 'algorithm=newton', 'iter=10000']\n",
            "20:51:36 - cmdstanpy - INFO - Chain [1] start processing\n",
            "INFO:cmdstanpy:Chain [1] start processing\n",
            "20:51:36 - cmdstanpy - INFO - Chain [1] done processing\n",
            "INFO:cmdstanpy:Chain [1] done processing\n",
            "INFO:prophet:Disabling yearly seasonality. Run prophet with yearly_seasonality=True to override this.\n",
            "INFO:prophet:Disabling weekly seasonality. Run prophet with weekly_seasonality=True to override this.\n",
            "INFO:prophet:Disabling daily seasonality. Run prophet with daily_seasonality=True to override this.\n",
            "INFO:prophet:n_changepoints greater than number of observations. Using 7.\n",
            "DEBUG:cmdstanpy:input tempfile: /tmp/tmpmodfer6_/ajyq1a1e.json\n",
            "DEBUG:cmdstanpy:input tempfile: /tmp/tmpmodfer6_/qokzkipp.json\n",
            "DEBUG:cmdstanpy:idx 0\n",
            "DEBUG:cmdstanpy:running CmdStan, num_threads: None\n",
            "DEBUG:cmdstanpy:CmdStan args: ['/usr/local/lib/python3.8/dist-packages/prophet/stan_model/prophet_model.bin', 'random', 'seed=78259', 'data', 'file=/tmp/tmpmodfer6_/ajyq1a1e.json', 'init=/tmp/tmpmodfer6_/qokzkipp.json', 'output', 'file=/tmp/tmpmodfer6_/prophet_model_4wn5cnr/prophet_model-20221205205137.csv', 'method=optimize', 'algorithm=newton', 'iter=10000']\n",
            "20:51:37 - cmdstanpy - INFO - Chain [1] start processing\n",
            "INFO:cmdstanpy:Chain [1] start processing\n",
            "20:51:37 - cmdstanpy - INFO - Chain [1] done processing\n",
            "INFO:cmdstanpy:Chain [1] done processing\n"
          ]
        },
        {
          "output_type": "stream",
          "name": "stdout",
          "text": [
            "Model Number: 976 with model FBProphet in generation 7 of 10\n",
            "Model Number: 977 with model SeasonalNaive in generation 7 of 10\n",
            "Model Number: 978 with model LastValueNaive in generation 7 of 10\n",
            "Model Number: 979 with model WindowRegression in generation 7 of 10\n",
            "Template Eval Error: Exception('Transformer STLFilter failed on fit') in model 979: WindowRegression\n",
            "Model Number: 980 with model WindowRegression in generation 7 of 10\n",
            "Template Eval Error: ValueError(\"regression_type='User' but no future_regressor passed\") in model 980: WindowRegression\n",
            "Model Number: 981 with model Theta in generation 7 of 10\n"
          ]
        },
        {
          "output_type": "stream",
          "name": "stderr",
          "text": [
            "/usr/local/lib/python3.8/dist-packages/autots/tools/probabilistic.py:67: RuntimeWarning: invalid value encountered in true_divide\n",
            "  (prior_mu / prior_sigma**2) + ((n * data_mu) / prior_sigma**2)\n",
            "/usr/local/lib/python3.8/dist-packages/autots/tools/probabilistic.py:68: RuntimeWarning: divide by zero encountered in true_divide\n",
            "  ) / ((1 / prior_sigma**2) + (n / prior_sigma**2))\n"
          ]
        },
        {
          "output_type": "stream",
          "name": "stdout",
          "text": [
            "Model Number: 982 with model Theta in generation 7 of 10\n",
            "Model Number: 983 with model AverageValueNaive in generation 7 of 10\n",
            "Model Number: 984 with model LastValueNaive in generation 7 of 10\n",
            "Model Number: 985 with model MultivariateRegression in generation 7 of 10\n",
            "Model Number: 986 with model MultivariateRegression in generation 7 of 10\n",
            "Template Eval Error: ValueError(\"regression_type='User' but not future_regressor supplied.\") in model 986: MultivariateRegression\n",
            "Model Number: 987 with model DatepartRegression in generation 7 of 10\n",
            "Epoch 1/50\n",
            "1/1 [==============================] - 6s 6s/step - loss: 142.1943 - val_loss: 202.5767\n",
            "Epoch 2/50\n",
            "1/1 [==============================] - 0s 122ms/step - loss: 148.1166 - val_loss: 201.3848\n",
            "Epoch 3/50\n",
            "1/1 [==============================] - 0s 127ms/step - loss: 138.3127 - val_loss: 200.2116\n",
            "Epoch 4/50\n",
            "1/1 [==============================] - 0s 133ms/step - loss: 185.7646 - val_loss: 199.0212\n",
            "Epoch 5/50\n",
            "1/1 [==============================] - 0s 136ms/step - loss: 153.6873 - val_loss: 197.8304\n",
            "Epoch 6/50\n",
            "1/1 [==============================] - 0s 135ms/step - loss: 177.4829 - val_loss: 196.6433\n",
            "Epoch 7/50\n",
            "1/1 [==============================] - 0s 134ms/step - loss: 139.1973 - val_loss: 195.4540\n",
            "Epoch 8/50\n",
            "1/1 [==============================] - 0s 155ms/step - loss: 185.2020 - val_loss: 194.2716\n",
            "Epoch 9/50\n",
            "1/1 [==============================] - 0s 124ms/step - loss: 166.6962 - val_loss: 193.0732\n",
            "Epoch 10/50\n",
            "1/1 [==============================] - 0s 126ms/step - loss: 172.9123 - val_loss: 191.8802\n",
            "Epoch 11/50\n",
            "1/1 [==============================] - 0s 140ms/step - loss: 187.1974 - val_loss: 190.6987\n",
            "Epoch 12/50\n",
            "1/1 [==============================] - 0s 136ms/step - loss: 163.7390 - val_loss: 189.5303\n",
            "Epoch 13/50\n",
            "1/1 [==============================] - 0s 136ms/step - loss: 171.3198 - val_loss: 188.3857\n",
            "Epoch 14/50\n",
            "1/1 [==============================] - 0s 123ms/step - loss: 152.1125 - val_loss: 187.2675\n",
            "Epoch 15/50\n",
            "1/1 [==============================] - 0s 133ms/step - loss: 146.0844 - val_loss: 186.1334\n",
            "Epoch 16/50\n",
            "1/1 [==============================] - 0s 123ms/step - loss: 149.3760 - val_loss: 185.0876\n",
            "Epoch 17/50\n",
            "1/1 [==============================] - 0s 125ms/step - loss: 105.7627 - val_loss: 184.4281\n",
            "Epoch 18/50\n",
            "1/1 [==============================] - 0s 125ms/step - loss: 141.0591 - val_loss: 184.0767\n",
            "Epoch 19/50\n",
            "1/1 [==============================] - 0s 152ms/step - loss: 147.1745 - val_loss: 183.7601\n",
            "Epoch 20/50\n",
            "1/1 [==============================] - 0s 128ms/step - loss: 143.0265 - val_loss: 183.4496\n",
            "Epoch 21/50\n",
            "1/1 [==============================] - 0s 138ms/step - loss: 126.4791 - val_loss: 183.1458\n",
            "Epoch 22/50\n",
            "1/1 [==============================] - 0s 128ms/step - loss: 116.5254 - val_loss: 182.8460\n",
            "Epoch 23/50\n",
            "1/1 [==============================] - 0s 145ms/step - loss: 142.0862 - val_loss: 182.5489\n",
            "Epoch 24/50\n",
            "1/1 [==============================] - 0s 128ms/step - loss: 134.4369 - val_loss: 182.2421\n",
            "Epoch 25/50\n",
            "1/1 [==============================] - 0s 139ms/step - loss: 160.4208 - val_loss: 181.9346\n",
            "Epoch 26/50\n",
            "1/1 [==============================] - 0s 136ms/step - loss: 116.1755 - val_loss: 181.6288\n",
            "Epoch 27/50\n",
            "1/1 [==============================] - 0s 136ms/step - loss: 83.9771 - val_loss: 181.3202\n",
            "Epoch 28/50\n",
            "1/1 [==============================] - 0s 141ms/step - loss: 137.8494 - val_loss: 181.0022\n",
            "Epoch 29/50\n",
            "1/1 [==============================] - 0s 130ms/step - loss: 134.7912 - val_loss: 180.6885\n",
            "Epoch 30/50\n",
            "1/1 [==============================] - 0s 133ms/step - loss: 142.9283 - val_loss: 180.3571\n",
            "Epoch 31/50\n",
            "1/1 [==============================] - 0s 154ms/step - loss: 135.4218 - val_loss: 180.0256\n",
            "Epoch 32/50\n",
            "1/1 [==============================] - 0s 136ms/step - loss: 147.1386 - val_loss: 179.6895\n",
            "Epoch 33/50\n",
            "1/1 [==============================] - 0s 148ms/step - loss: 127.1721 - val_loss: 179.3595\n",
            "Epoch 34/50\n",
            "1/1 [==============================] - 0s 127ms/step - loss: 112.4969 - val_loss: 179.0358\n",
            "Epoch 35/50\n",
            "1/1 [==============================] - 0s 133ms/step - loss: 113.6141 - val_loss: 178.7222\n",
            "Epoch 36/50\n",
            "1/1 [==============================] - 0s 145ms/step - loss: 121.9109 - val_loss: 178.4222\n",
            "Epoch 37/50\n",
            "1/1 [==============================] - 0s 132ms/step - loss: 114.4218 - val_loss: 178.1272\n",
            "Epoch 38/50\n",
            "1/1 [==============================] - 0s 128ms/step - loss: 143.1941 - val_loss: 177.8478\n",
            "Epoch 39/50\n",
            "1/1 [==============================] - 0s 126ms/step - loss: 143.3741 - val_loss: 177.5640\n",
            "Epoch 40/50\n",
            "1/1 [==============================] - 0s 139ms/step - loss: 118.1165 - val_loss: 177.3135\n",
            "Epoch 41/50\n",
            "1/1 [==============================] - 0s 136ms/step - loss: 125.3130 - val_loss: 177.0619\n",
            "Epoch 42/50\n",
            "1/1 [==============================] - 0s 133ms/step - loss: 127.0406 - val_loss: 176.8103\n",
            "Epoch 43/50\n",
            "1/1 [==============================] - 0s 131ms/step - loss: 108.0653 - val_loss: 176.5685\n",
            "Epoch 44/50\n",
            "1/1 [==============================] - 0s 137ms/step - loss: 128.7724 - val_loss: 176.3361\n",
            "Epoch 45/50\n",
            "1/1 [==============================] - 0s 126ms/step - loss: 123.6685 - val_loss: 176.2504\n",
            "Epoch 46/50\n",
            "1/1 [==============================] - 0s 121ms/step - loss: 96.2316 - val_loss: 176.3507\n",
            "Epoch 47/50\n",
            "1/1 [==============================] - 0s 123ms/step - loss: 123.5676 - val_loss: 176.5729\n",
            "Epoch 48/50\n",
            "1/1 [==============================] - 0s 136ms/step - loss: 77.6783 - val_loss: 176.8035\n",
            "Epoch 49/50\n",
            "1/1 [==============================] - 0s 127ms/step - loss: 102.0227 - val_loss: 177.0190\n",
            "Epoch 50/50\n",
            "1/1 [==============================] - 0s 131ms/step - loss: 112.9618 - val_loss: 177.2335\n",
            "1/1 [==============================] - 0s 495ms/step\n",
            "Template Eval Error: ValueError('Model DatepartRegression returned NaN for one or more series. fail_on_forecast_nan=True') in model 987: DatepartRegression\n",
            "Model Number: 988 with model MultivariateRegression in generation 7 of 10\n",
            "Model Number: 989 with model NVAR in generation 7 of 10\n",
            "Model Number: 990 with model ARIMA in generation 7 of 10\n",
            "Model Number: 991 with model ETS in generation 7 of 10\n",
            "Model Number: 992 with model ETS in generation 7 of 10\n"
          ]
        },
        {
          "output_type": "stream",
          "name": "stderr",
          "text": [
            "INFO:prophet:Disabling yearly seasonality. Run prophet with yearly_seasonality=True to override this.\n",
            "INFO:prophet:Disabling weekly seasonality. Run prophet with weekly_seasonality=True to override this.\n"
          ]
        },
        {
          "output_type": "stream",
          "name": "stdout",
          "text": [
            "Model Number: 993 with model FBProphet in generation 7 of 10\n"
          ]
        },
        {
          "output_type": "stream",
          "name": "stderr",
          "text": [
            "INFO:prophet:Disabling daily seasonality. Run prophet with daily_seasonality=True to override this.\n",
            "INFO:prophet:n_changepoints greater than number of observations. Using 7.\n",
            "DEBUG:cmdstanpy:input tempfile: /tmp/tmpmodfer6_/q9miebyn.json\n",
            "DEBUG:cmdstanpy:input tempfile: /tmp/tmpmodfer6_/_w9neepo.json\n",
            "DEBUG:cmdstanpy:idx 0\n",
            "DEBUG:cmdstanpy:running CmdStan, num_threads: None\n",
            "DEBUG:cmdstanpy:CmdStan args: ['/usr/local/lib/python3.8/dist-packages/prophet/stan_model/prophet_model.bin', 'random', 'seed=45781', 'data', 'file=/tmp/tmpmodfer6_/q9miebyn.json', 'init=/tmp/tmpmodfer6_/_w9neepo.json', 'output', 'file=/tmp/tmpmodfer6_/prophet_modelmyvtzxcj/prophet_model-20221205205156.csv', 'method=optimize', 'algorithm=newton', 'iter=10000']\n",
            "20:51:56 - cmdstanpy - INFO - Chain [1] start processing\n",
            "INFO:cmdstanpy:Chain [1] start processing\n",
            "20:51:56 - cmdstanpy - INFO - Chain [1] done processing\n",
            "INFO:cmdstanpy:Chain [1] done processing\n"
          ]
        },
        {
          "output_type": "stream",
          "name": "stdout",
          "text": [
            "Model Number: 994 with model SeasonalNaive in generation 7 of 10\n",
            "Model Number: 995 with model DatepartRegression in generation 7 of 10\n",
            "Template Eval Error: Exception('Transformer Detrend failed on fit') in model 995: DatepartRegression\n",
            "Model Number: 996 with model Theta in generation 7 of 10\n",
            "Template Eval Error: ValueError('x must have 2 complete cycles requires 24 observations. x only has 11 observation(s)') in model 996: Theta\n",
            "Model Number: 997 with model ARIMA in generation 7 of 10\n"
          ]
        },
        {
          "output_type": "stream",
          "name": "stderr",
          "text": [
            "INFO:prophet:Disabling yearly seasonality. Run prophet with yearly_seasonality=True to override this.\n",
            "INFO:prophet:Disabling weekly seasonality. Run prophet with weekly_seasonality=True to override this.\n",
            "INFO:prophet:Disabling daily seasonality. Run prophet with daily_seasonality=True to override this.\n",
            "INFO:prophet:n_changepoints greater than number of observations. Using 7.\n",
            "DEBUG:cmdstanpy:input tempfile: /tmp/tmpmodfer6_/_j4fply8.json\n",
            "DEBUG:cmdstanpy:input tempfile: /tmp/tmpmodfer6_/bss0r3l9.json\n",
            "DEBUG:cmdstanpy:idx 0\n",
            "DEBUG:cmdstanpy:running CmdStan, num_threads: None\n",
            "DEBUG:cmdstanpy:CmdStan args: ['/usr/local/lib/python3.8/dist-packages/prophet/stan_model/prophet_model.bin', 'random', 'seed=50420', 'data', 'file=/tmp/tmpmodfer6_/_j4fply8.json', 'init=/tmp/tmpmodfer6_/bss0r3l9.json', 'output', 'file=/tmp/tmpmodfer6_/prophet_modelwojv8xqn/prophet_model-20221205205157.csv', 'method=optimize', 'algorithm=newton', 'iter=10000']\n",
            "20:51:57 - cmdstanpy - INFO - Chain [1] start processing\n",
            "INFO:cmdstanpy:Chain [1] start processing\n"
          ]
        },
        {
          "output_type": "stream",
          "name": "stdout",
          "text": [
            "Model Number: 998 with model FBProphet in generation 7 of 10\n"
          ]
        },
        {
          "output_type": "stream",
          "name": "stderr",
          "text": [
            "20:51:57 - cmdstanpy - INFO - Chain [1] done processing\n",
            "INFO:cmdstanpy:Chain [1] done processing\n"
          ]
        },
        {
          "output_type": "stream",
          "name": "stdout",
          "text": [
            "Model Number: 999 with model MultivariateRegression in generation 7 of 10\n",
            "Model Number: 1000 with model NVAR in generation 7 of 10\n",
            "Model Number: 1001 with model WindowRegression in generation 7 of 10\n",
            "Template Eval Error: ValueError('Found array with 0 sample(s) (shape=(0, 0)) while a minimum of 1 is required.') in model 1001: WindowRegression\n",
            "Model Number: 1002 with model SeasonalNaive in generation 7 of 10\n",
            "Template Eval Error: Exception('Transformer HolidayTransformer failed on fit') in model 1002: SeasonalNaive\n",
            "Model Number: 1003 with model Theta in generation 7 of 10\n",
            "Template Eval Error: ValueError('x must have 2 complete cycles requires 24 observations. x only has 11 observation(s)') in model 1003: Theta\n",
            "Model Number: 1004 with model MultivariateRegression in generation 7 of 10\n"
          ]
        },
        {
          "output_type": "stream",
          "name": "stderr",
          "text": [
            "/usr/local/lib/python3.8/dist-packages/sklearn/svm/_base.py:1206: ConvergenceWarning: Liblinear failed to converge, increase the number of iterations.\n",
            "  warnings.warn(\n"
          ]
        },
        {
          "output_type": "stream",
          "name": "stdout",
          "text": [
            "Model Number: 1005 with model LastValueNaive in generation 7 of 10\n",
            "Model Number: 1006 with model NVAR in generation 7 of 10\n",
            "Model Number: 1007 with model DatepartRegression in generation 7 of 10\n",
            "Model Number: 1008 with model SeasonalNaive in generation 7 of 10\n",
            "Model Number: 1009 with model SeasonalNaive in generation 7 of 10\n",
            "Model Number: 1010 with model AverageValueNaive in generation 7 of 10\n"
          ]
        },
        {
          "output_type": "stream",
          "name": "stderr",
          "text": [
            "/usr/local/lib/python3.8/dist-packages/sklearn/svm/_base.py:1206: ConvergenceWarning: Liblinear failed to converge, increase the number of iterations.\n",
            "  warnings.warn(\n"
          ]
        },
        {
          "output_type": "stream",
          "name": "stdout",
          "text": [
            "Model Number: 1011 with model NVAR in generation 7 of 10\n",
            "Model Number: 1012 with model MultivariateRegression in generation 7 of 10\n",
            "Model Number: 1013 with model MultivariateRegression in generation 7 of 10\n",
            "Model Number: 1014 with model DatepartRegression in generation 7 of 10\n",
            "Template Eval Error: ValueError(\"regression_type='User' but no future_regressor passed\") in model 1014: DatepartRegression\n",
            "Model Number: 1015 with model ETS in generation 7 of 10\n",
            "New Generation: 8 of 10\n",
            "Model Number: 1016 with model NVAR in generation 8 of 10\n",
            "Template Eval Error: Exception('Transformer LocalLinearTrend failed on fit') in model 1016: NVAR\n",
            "Model Number: 1017 with model ARIMA in generation 8 of 10\n",
            "Model Number: 1018 with model LastValueNaive in generation 8 of 10\n",
            "Model Number: 1019 with model DatepartRegression in generation 8 of 10\n",
            "Epoch 1/200\n",
            "1/1 [==============================] - 11s 11s/step - loss: nan - val_loss: nan\n",
            "Epoch 2/200\n",
            "1/1 [==============================] - 2s 2s/step - loss: nan - val_loss: nan\n",
            "Epoch 3/200\n",
            "1/1 [==============================] - 1s 1s/step - loss: nan - val_loss: nan\n",
            "Epoch 4/200\n",
            "1/1 [==============================] - 1s 800ms/step - loss: nan - val_loss: nan\n",
            "Epoch 5/200\n",
            "1/1 [==============================] - 1s 767ms/step - loss: nan - val_loss: nan\n",
            "Epoch 6/200\n",
            "1/1 [==============================] - 1s 778ms/step - loss: nan - val_loss: nan\n",
            "Epoch 7/200\n",
            "1/1 [==============================] - 1s 839ms/step - loss: nan - val_loss: nan\n",
            "Epoch 8/200\n",
            "1/1 [==============================] - 1s 780ms/step - loss: nan - val_loss: nan\n",
            "Epoch 9/200\n",
            "1/1 [==============================] - 1s 809ms/step - loss: nan - val_loss: nan\n",
            "Epoch 10/200\n",
            "1/1 [==============================] - 1s 778ms/step - loss: nan - val_loss: nan\n",
            "1/1 [==============================] - 1s 604ms/step\n",
            "Template Eval Error: ValueError('Model DatepartRegression returned NaN for one or more series. fail_on_forecast_nan=True') in model 1019: DatepartRegression\n",
            "Model Number: 1020 with model SeasonalNaive in generation 8 of 10\n",
            "Model Number: 1021 with model SeasonalNaive in generation 8 of 10\n",
            "Model Number: 1022 with model LastValueNaive in generation 8 of 10\n",
            "Model Number: 1023 with model LastValueNaive in generation 8 of 10\n",
            "Model Number: 1024 with model LastValueNaive in generation 8 of 10\n",
            "Model Number: 1025 with model MultivariateRegression in generation 8 of 10\n",
            "Model Number: 1026 with model Theta in generation 8 of 10\n",
            "Model Number: 1027 with model UnobservedComponents in generation 8 of 10\n",
            "Template Eval Error: Exception('Transformer Cointegration failed on fit') in model 1027: UnobservedComponents\n",
            "Model Number: 1028 with model ETS in generation 8 of 10\n",
            "Model Number: 1029 with model DatepartRegression in generation 8 of 10\n",
            "Model Number: 1030 with model Theta in generation 8 of 10\n",
            "Model Number: 1031 with model FBProphet in generation 8 of 10\n"
          ]
        },
        {
          "output_type": "stream",
          "name": "stderr",
          "text": [
            "/usr/local/lib/python3.8/dist-packages/sklearn/linear_model/_coordinate_descent.py:647: ConvergenceWarning: Objective did not converge. You might want to increase the number of iterations, check the scale of the features or consider increasing regularisation. Duality gap: 1.433e-01, tolerance: 2.788e-04\n",
            "  model = cd_fast.enet_coordinate_descent(\n",
            "INFO:prophet:Disabling yearly seasonality. Run prophet with yearly_seasonality=True to override this.\n",
            "INFO:prophet:Disabling weekly seasonality. Run prophet with weekly_seasonality=True to override this.\n",
            "INFO:prophet:Disabling daily seasonality. Run prophet with daily_seasonality=True to override this.\n",
            "INFO:prophet:n_changepoints greater than number of observations. Using 7.\n",
            "DEBUG:cmdstanpy:input tempfile: /tmp/tmpmodfer6_/gpohzf1f.json\n",
            "DEBUG:cmdstanpy:input tempfile: /tmp/tmpmodfer6_/c2ktx11p.json\n",
            "DEBUG:cmdstanpy:idx 0\n",
            "DEBUG:cmdstanpy:running CmdStan, num_threads: None\n",
            "DEBUG:cmdstanpy:CmdStan args: ['/usr/local/lib/python3.8/dist-packages/prophet/stan_model/prophet_model.bin', 'random', 'seed=80821', 'data', 'file=/tmp/tmpmodfer6_/gpohzf1f.json', 'init=/tmp/tmpmodfer6_/c2ktx11p.json', 'output', 'file=/tmp/tmpmodfer6_/prophet_modell6tvmmi6/prophet_model-20221205205222.csv', 'method=optimize', 'algorithm=newton', 'iter=10000']\n",
            "20:52:22 - cmdstanpy - INFO - Chain [1] start processing\n",
            "INFO:cmdstanpy:Chain [1] start processing\n",
            "20:52:22 - cmdstanpy - INFO - Chain [1] done processing\n",
            "INFO:cmdstanpy:Chain [1] done processing\n"
          ]
        },
        {
          "output_type": "stream",
          "name": "stdout",
          "text": [
            "Model Number: 1032 with model UnobservedComponents in generation 8 of 10\n",
            "Model Number: 1033 with model AverageValueNaive in generation 8 of 10\n",
            "Model Number: 1034 with model LastValueNaive in generation 8 of 10\n",
            "Model Number: 1035 with model ETS in generation 8 of 10\n",
            "Model Number: 1036 with model GLM in generation 8 of 10\n",
            "Template Eval Error: ValueError('regression_type=user and no future_regressor passed') in model 1036: GLM\n",
            "Model Number: 1037 with model GLS in generation 8 of 10\n",
            "Model Number: 1038 with model FBProphet in generation 8 of 10\n"
          ]
        },
        {
          "output_type": "stream",
          "name": "stderr",
          "text": [
            "INFO:prophet:Disabling yearly seasonality. Run prophet with yearly_seasonality=True to override this.\n",
            "INFO:prophet:Disabling weekly seasonality. Run prophet with weekly_seasonality=True to override this.\n",
            "INFO:prophet:Disabling daily seasonality. Run prophet with daily_seasonality=True to override this.\n",
            "INFO:prophet:n_changepoints greater than number of observations. Using 7.\n",
            "INFO:prophet:Disabling yearly seasonality. Run prophet with yearly_seasonality=True to override this.\n",
            "INFO:prophet:Disabling weekly seasonality. Run prophet with weekly_seasonality=True to override this.\n",
            "INFO:prophet:Disabling daily seasonality. Run prophet with daily_seasonality=True to override this.\n",
            "INFO:prophet:n_changepoints greater than number of observations. Using 7.\n"
          ]
        },
        {
          "output_type": "stream",
          "name": "stdout",
          "text": [
            "Model Number: 1039 with model FBProphet in generation 8 of 10\n",
            "Model Number: 1040 with model LastValueNaive in generation 8 of 10\n",
            "Model Number: 1041 with model UnobservedComponents in generation 8 of 10\n"
          ]
        },
        {
          "output_type": "stream",
          "name": "stderr",
          "text": [
            "INFO:prophet:Disabling yearly seasonality. Run prophet with yearly_seasonality=True to override this.\n",
            "INFO:prophet:Disabling weekly seasonality. Run prophet with weekly_seasonality=True to override this.\n",
            "INFO:prophet:Disabling daily seasonality. Run prophet with daily_seasonality=True to override this.\n",
            "INFO:prophet:n_changepoints greater than number of observations. Using 7.\n",
            "DEBUG:cmdstanpy:input tempfile: /tmp/tmpmodfer6_/n0p4n480.json\n",
            "DEBUG:cmdstanpy:input tempfile: /tmp/tmpmodfer6_/uf734xpn.json\n",
            "DEBUG:cmdstanpy:idx 0\n",
            "DEBUG:cmdstanpy:running CmdStan, num_threads: None\n",
            "DEBUG:cmdstanpy:CmdStan args: ['/usr/local/lib/python3.8/dist-packages/prophet/stan_model/prophet_model.bin', 'random', 'seed=95506', 'data', 'file=/tmp/tmpmodfer6_/n0p4n480.json', 'init=/tmp/tmpmodfer6_/uf734xpn.json', 'output', 'file=/tmp/tmpmodfer6_/prophet_model8bi6u38k/prophet_model-20221205205225.csv', 'method=optimize', 'algorithm=newton', 'iter=10000']\n",
            "20:52:25 - cmdstanpy - INFO - Chain [1] start processing\n",
            "INFO:cmdstanpy:Chain [1] start processing\n"
          ]
        },
        {
          "output_type": "stream",
          "name": "stdout",
          "text": [
            "Model Number: 1042 with model FBProphet in generation 8 of 10\n"
          ]
        },
        {
          "output_type": "stream",
          "name": "stderr",
          "text": [
            "20:52:25 - cmdstanpy - INFO - Chain [1] done processing\n",
            "INFO:cmdstanpy:Chain [1] done processing\n"
          ]
        },
        {
          "output_type": "stream",
          "name": "stdout",
          "text": [
            "Model Number: 1043 with model SeasonalNaive in generation 8 of 10\n",
            "Model Number: 1044 with model NVAR in generation 8 of 10\n",
            "Model Number: 1045 with model DatepartRegression in generation 8 of 10\n"
          ]
        },
        {
          "output_type": "stream",
          "name": "stderr",
          "text": [
            "[Parallel(n_jobs=-2)]: Using backend SequentialBackend with 1 concurrent workers.\n",
            "[Parallel(n_jobs=-2)]: Done 300 out of 300 | elapsed:    0.3s finished\n",
            "[Parallel(n_jobs=1)]: Using backend SequentialBackend with 1 concurrent workers.\n",
            "[Parallel(n_jobs=1)]: Done 300 out of 300 | elapsed:    0.0s finished\n",
            "INFO:prophet:Disabling yearly seasonality. Run prophet with yearly_seasonality=True to override this.\n",
            "INFO:prophet:Disabling weekly seasonality. Run prophet with weekly_seasonality=True to override this.\n",
            "INFO:prophet:Disabling daily seasonality. Run prophet with daily_seasonality=True to override this.\n",
            "INFO:prophet:n_changepoints greater than number of observations. Using 7.\n",
            "DEBUG:cmdstanpy:input tempfile: /tmp/tmpmodfer6_/aiiz5upw.json\n",
            "DEBUG:cmdstanpy:input tempfile: /tmp/tmpmodfer6_/7l8w13ke.json\n",
            "DEBUG:cmdstanpy:idx 0\n",
            "DEBUG:cmdstanpy:running CmdStan, num_threads: None\n",
            "DEBUG:cmdstanpy:CmdStan args: ['/usr/local/lib/python3.8/dist-packages/prophet/stan_model/prophet_model.bin', 'random', 'seed=67072', 'data', 'file=/tmp/tmpmodfer6_/aiiz5upw.json', 'init=/tmp/tmpmodfer6_/7l8w13ke.json', 'output', 'file=/tmp/tmpmodfer6_/prophet_modelwdumfhvt/prophet_model-20221205205226.csv', 'method=optimize', 'algorithm=newton', 'iter=10000']\n",
            "20:52:26 - cmdstanpy - INFO - Chain [1] start processing\n",
            "INFO:cmdstanpy:Chain [1] start processing\n"
          ]
        },
        {
          "output_type": "stream",
          "name": "stdout",
          "text": [
            "Model Number: 1046 with model FBProphet in generation 8 of 10\n"
          ]
        },
        {
          "output_type": "stream",
          "name": "stderr",
          "text": [
            "20:52:27 - cmdstanpy - INFO - Chain [1] done processing\n",
            "INFO:cmdstanpy:Chain [1] done processing\n"
          ]
        },
        {
          "output_type": "stream",
          "name": "stdout",
          "text": [
            "Model Number: 1047 with model UnobservedComponents in generation 8 of 10\n",
            "Model Number: 1048 with model MultivariateRegression in generation 8 of 10\n",
            "Model Number: 1049 with model UnobservedComponents in generation 8 of 10\n",
            "Template Eval Error: ValueError(\"regression_type='User' but no future_regressor supplied\") in model 1049: UnobservedComponents\n",
            "Model Number: 1050 with model Theta in generation 8 of 10\n",
            "Model Number: 1051 with model Theta in generation 8 of 10\n",
            "Model Number: 1052 with model MultivariateRegression in generation 8 of 10\n",
            "Template Eval Error: ValueError(\"Input contains NaN, infinity or a value too large for dtype('float64').\") in model 1052: MultivariateRegression\n",
            "Model Number: 1053 with model MultivariateRegression in generation 8 of 10\n",
            "Template Eval Error: ValueError(\"regression_type='User' but not future_regressor supplied.\") in model 1053: MultivariateRegression\n",
            "Model Number: 1054 with model ETS in generation 8 of 10\n",
            "Model Number: 1055 with model SeasonalNaive in generation 8 of 10\n",
            "Model Number: 1056 with model NVAR in generation 8 of 10\n"
          ]
        },
        {
          "output_type": "stream",
          "name": "stderr",
          "text": [
            "/usr/local/lib/python3.8/dist-packages/sklearn/neighbors/_regression.py:470: UserWarning: One or more samples have no neighbors within specified radius; predicting NaN.\n",
            "  warnings.warn(empty_warning_msg)\n"
          ]
        },
        {
          "output_type": "stream",
          "name": "stdout",
          "text": [
            "Model Number: 1057 with model LastValueNaive in generation 8 of 10\n",
            "Model Number: 1058 with model DatepartRegression in generation 8 of 10\n",
            "Template Eval Error: ValueError(\"regression_type='User' but no future_regressor passed\") in model 1058: DatepartRegression\n",
            "Model Number: 1059 with model NVAR in generation 8 of 10\n",
            "Template Eval Error: Exception('Transformer LocalLinearTrend failed on fit') in model 1059: NVAR\n",
            "Model Number: 1060 with model MultivariateRegression in generation 8 of 10\n",
            "Model Number: 1061 with model MultivariateRegression in generation 8 of 10\n",
            "Template Eval Error: Exception('Transformer ScipyFilter failed on fit') in model 1061: MultivariateRegression\n",
            "Model Number: 1062 with model LastValueNaive in generation 8 of 10\n",
            "Template Eval Error: Exception('Transformer Cointegration failed on fit') in model 1062: LastValueNaive\n",
            "Model Number: 1063 with model LastValueNaive in generation 8 of 10\n",
            "Template Eval Error: Exception('Transformer Detrend failed on fit') in model 1063: LastValueNaive\n",
            "Model Number: 1064 with model SeasonalNaive in generation 8 of 10\n",
            "Model Number: 1065 with model AverageValueNaive in generation 8 of 10\n",
            "Model Number: 1066 with model ETS in generation 8 of 10\n"
          ]
        },
        {
          "output_type": "stream",
          "name": "stderr",
          "text": [
            "/usr/local/lib/python3.8/dist-packages/autots/tools/probabilistic.py:67: RuntimeWarning: invalid value encountered in true_divide\n",
            "  (prior_mu / prior_sigma**2) + ((n * data_mu) / prior_sigma**2)\n",
            "/usr/local/lib/python3.8/dist-packages/autots/tools/probabilistic.py:68: RuntimeWarning: divide by zero encountered in true_divide\n",
            "  ) / ((1 / prior_sigma**2) + (n / prior_sigma**2))\n"
          ]
        },
        {
          "output_type": "stream",
          "name": "stdout",
          "text": [
            "Model Number: 1067 with model FBProphet in generation 8 of 10\n"
          ]
        },
        {
          "output_type": "stream",
          "name": "stderr",
          "text": [
            "INFO:prophet:Disabling yearly seasonality. Run prophet with yearly_seasonality=True to override this.\n",
            "INFO:prophet:Disabling weekly seasonality. Run prophet with weekly_seasonality=True to override this.\n",
            "INFO:prophet:Disabling daily seasonality. Run prophet with daily_seasonality=True to override this.\n",
            "INFO:prophet:n_changepoints greater than number of observations. Using 7.\n",
            "DEBUG:cmdstanpy:input tempfile: /tmp/tmpmodfer6_/07buewzj.json\n",
            "DEBUG:cmdstanpy:input tempfile: /tmp/tmpmodfer6_/d06nf_hd.json\n",
            "DEBUG:cmdstanpy:idx 0\n",
            "DEBUG:cmdstanpy:running CmdStan, num_threads: None\n",
            "DEBUG:cmdstanpy:CmdStan args: ['/usr/local/lib/python3.8/dist-packages/prophet/stan_model/prophet_model.bin', 'random', 'seed=72784', 'data', 'file=/tmp/tmpmodfer6_/07buewzj.json', 'init=/tmp/tmpmodfer6_/d06nf_hd.json', 'output', 'file=/tmp/tmpmodfer6_/prophet_modelkctgb3ft/prophet_model-20221205205229.csv', 'method=optimize', 'algorithm=newton', 'iter=10000']\n",
            "20:52:29 - cmdstanpy - INFO - Chain [1] start processing\n",
            "INFO:cmdstanpy:Chain [1] start processing\n",
            "20:52:29 - cmdstanpy - INFO - Chain [1] done processing\n",
            "INFO:cmdstanpy:Chain [1] done processing\n"
          ]
        },
        {
          "output_type": "stream",
          "name": "stdout",
          "text": [
            "Model Number: 1068 with model AverageValueNaive in generation 8 of 10\n",
            "Template Eval Error: Exception('Transformer AlignLastValue failed on fit') in model 1068: AverageValueNaive\n",
            "Model Number: 1069 with model NVAR in generation 8 of 10\n"
          ]
        },
        {
          "output_type": "stream",
          "name": "stderr",
          "text": [
            "INFO:prophet:Disabling yearly seasonality. Run prophet with yearly_seasonality=True to override this.\n",
            "INFO:prophet:Disabling weekly seasonality. Run prophet with weekly_seasonality=True to override this.\n",
            "INFO:prophet:Disabling daily seasonality. Run prophet with daily_seasonality=True to override this.\n",
            "INFO:prophet:n_changepoints greater than number of observations. Using 7.\n",
            "DEBUG:cmdstanpy:input tempfile: /tmp/tmpmodfer6_/oh4fyrvn.json\n",
            "DEBUG:cmdstanpy:input tempfile: /tmp/tmpmodfer6_/q1wn7ht4.json\n",
            "DEBUG:cmdstanpy:idx 0\n",
            "DEBUG:cmdstanpy:running CmdStan, num_threads: None\n",
            "DEBUG:cmdstanpy:CmdStan args: ['/usr/local/lib/python3.8/dist-packages/prophet/stan_model/prophet_model.bin', 'random', 'seed=71530', 'data', 'file=/tmp/tmpmodfer6_/oh4fyrvn.json', 'init=/tmp/tmpmodfer6_/q1wn7ht4.json', 'output', 'file=/tmp/tmpmodfer6_/prophet_modell1dnhcv0/prophet_model-20221205205230.csv', 'method=optimize', 'algorithm=newton', 'iter=10000']\n",
            "20:52:30 - cmdstanpy - INFO - Chain [1] start processing\n",
            "INFO:cmdstanpy:Chain [1] start processing\n"
          ]
        },
        {
          "output_type": "stream",
          "name": "stdout",
          "text": [
            "Model Number: 1070 with model FBProphet in generation 8 of 10\n"
          ]
        },
        {
          "output_type": "stream",
          "name": "stderr",
          "text": [
            "20:52:30 - cmdstanpy - INFO - Chain [1] done processing\n",
            "INFO:cmdstanpy:Chain [1] done processing\n"
          ]
        },
        {
          "output_type": "stream",
          "name": "stdout",
          "text": [
            "Model Number: 1071 with model Theta in generation 8 of 10\n",
            "Model Number: 1072 with model AverageValueNaive in generation 8 of 10\n",
            "Model Number: 1073 with model AverageValueNaive in generation 8 of 10\n",
            "Model Number: 1074 with model NVAR in generation 8 of 10\n",
            "Model Number: 1075 with model GLS in generation 8 of 10\n",
            "Model Number: 1076 with model FBProphet in generation 8 of 10\n",
            "No anomalies detected.\n"
          ]
        },
        {
          "output_type": "stream",
          "name": "stderr",
          "text": [
            "INFO:prophet:Disabling yearly seasonality. Run prophet with yearly_seasonality=True to override this.\n",
            "INFO:prophet:Disabling weekly seasonality. Run prophet with weekly_seasonality=True to override this.\n",
            "INFO:prophet:Disabling daily seasonality. Run prophet with daily_seasonality=True to override this.\n",
            "INFO:prophet:n_changepoints greater than number of observations. Using 7.\n",
            "DEBUG:cmdstanpy:input tempfile: /tmp/tmpmodfer6_/fm6tfrb8.json\n",
            "DEBUG:cmdstanpy:input tempfile: /tmp/tmpmodfer6_/8swgrz1m.json\n",
            "DEBUG:cmdstanpy:idx 0\n",
            "DEBUG:cmdstanpy:running CmdStan, num_threads: None\n",
            "DEBUG:cmdstanpy:CmdStan args: ['/usr/local/lib/python3.8/dist-packages/prophet/stan_model/prophet_model.bin', 'random', 'seed=36827', 'data', 'file=/tmp/tmpmodfer6_/fm6tfrb8.json', 'init=/tmp/tmpmodfer6_/8swgrz1m.json', 'output', 'file=/tmp/tmpmodfer6_/prophet_modelpzddamrc/prophet_model-20221205205231.csv', 'method=optimize', 'algorithm=newton', 'iter=10000']\n",
            "20:52:31 - cmdstanpy - INFO - Chain [1] start processing\n",
            "INFO:cmdstanpy:Chain [1] start processing\n",
            "20:52:31 - cmdstanpy - INFO - Chain [1] done processing\n",
            "INFO:cmdstanpy:Chain [1] done processing\n"
          ]
        },
        {
          "output_type": "stream",
          "name": "stdout",
          "text": [
            "Model Number: 1077 with model ETS in generation 8 of 10\n",
            "Model Number: 1078 with model ConstantNaive in generation 8 of 10\n",
            "Model Number: 1079 with model ETS in generation 8 of 10\n",
            "Model Number: 1080 with model NVAR in generation 8 of 10\n"
          ]
        },
        {
          "output_type": "stream",
          "name": "stderr",
          "text": [
            "/usr/local/lib/python3.8/dist-packages/autots/tools/probabilistic.py:67: RuntimeWarning: invalid value encountered in true_divide\n",
            "  (prior_mu / prior_sigma**2) + ((n * data_mu) / prior_sigma**2)\n",
            "/usr/local/lib/python3.8/dist-packages/autots/tools/probabilistic.py:68: RuntimeWarning: divide by zero encountered in true_divide\n",
            "  ) / ((1 / prior_sigma**2) + (n / prior_sigma**2))\n"
          ]
        },
        {
          "output_type": "stream",
          "name": "stdout",
          "text": [
            "Model Number: 1081 with model UnobservedComponents in generation 8 of 10\n",
            "Model Number: 1082 with model MultivariateRegression in generation 8 of 10\n",
            "Model Number: 1083 with model MultivariateRegression in generation 8 of 10\n"
          ]
        },
        {
          "output_type": "stream",
          "name": "stderr",
          "text": [
            "/usr/local/lib/python3.8/dist-packages/autots/tools/probabilistic.py:67: RuntimeWarning: invalid value encountered in true_divide\n",
            "  (prior_mu / prior_sigma**2) + ((n * data_mu) / prior_sigma**2)\n",
            "/usr/local/lib/python3.8/dist-packages/autots/tools/probabilistic.py:68: RuntimeWarning: divide by zero encountered in true_divide\n",
            "  ) / ((1 / prior_sigma**2) + (n / prior_sigma**2))\n"
          ]
        },
        {
          "output_type": "stream",
          "name": "stdout",
          "text": [
            "Model Number: 1084 with model FBProphet in generation 8 of 10\n"
          ]
        },
        {
          "output_type": "stream",
          "name": "stderr",
          "text": [
            "INFO:prophet:Disabling yearly seasonality. Run prophet with yearly_seasonality=True to override this.\n",
            "INFO:prophet:Disabling weekly seasonality. Run prophet with weekly_seasonality=True to override this.\n",
            "INFO:prophet:Disabling daily seasonality. Run prophet with daily_seasonality=True to override this.\n",
            "INFO:prophet:n_changepoints greater than number of observations. Using 7.\n",
            "DEBUG:cmdstanpy:input tempfile: /tmp/tmpmodfer6_/b81omcho.json\n",
            "DEBUG:cmdstanpy:input tempfile: /tmp/tmpmodfer6_/18k3s99u.json\n",
            "DEBUG:cmdstanpy:idx 0\n",
            "DEBUG:cmdstanpy:running CmdStan, num_threads: None\n",
            "DEBUG:cmdstanpy:CmdStan args: ['/usr/local/lib/python3.8/dist-packages/prophet/stan_model/prophet_model.bin', 'random', 'seed=66491', 'data', 'file=/tmp/tmpmodfer6_/b81omcho.json', 'init=/tmp/tmpmodfer6_/18k3s99u.json', 'output', 'file=/tmp/tmpmodfer6_/prophet_modelev2p3t54/prophet_model-20221205205233.csv', 'method=optimize', 'algorithm=newton', 'iter=10000']\n",
            "20:52:33 - cmdstanpy - INFO - Chain [1] start processing\n",
            "INFO:cmdstanpy:Chain [1] start processing\n",
            "20:52:33 - cmdstanpy - INFO - Chain [1] done processing\n",
            "INFO:cmdstanpy:Chain [1] done processing\n"
          ]
        },
        {
          "output_type": "stream",
          "name": "stdout",
          "text": [
            "Model Number: 1085 with model GLS in generation 8 of 10\n",
            "Model Number: 1086 with model Theta in generation 8 of 10\n",
            "Model Number: 1087 with model DatepartRegression in generation 8 of 10\n",
            "Model Number: 1088 with model ETS in generation 8 of 10\n",
            "Model Number: 1089 with model NVAR in generation 8 of 10\n",
            "Model Number: 1090 with model ETS in generation 8 of 10\n",
            "Model Number: 1091 with model UnobservedComponents in generation 8 of 10\n",
            "Model Number: 1092 with model LastValueNaive in generation 8 of 10\n",
            "Model Number: 1093 with model MetricMotif in generation 8 of 10\n",
            "Template Eval Error: ValueError('window shape cannot be larger than input array shape') in model 1093: MetricMotif\n",
            "Model Number: 1094 with model MultivariateRegression in generation 8 of 10\n",
            "Template Eval Error: ValueError(\"regression_type='User' but not future_regressor supplied.\") in model 1094: MultivariateRegression\n",
            "Model Number: 1095 with model UnobservedComponents in generation 8 of 10\n",
            "Model Number: 1096 with model DatepartRegression in generation 8 of 10\n",
            "Epoch 1/50\n",
            "1/1 [==============================] - 10s 10s/step - loss: 295577321472.0000 - val_loss: 69882576896.0000\n",
            "Epoch 2/50\n"
          ]
        }
      ]
    }
  ]
}